{
 "cells": [
  {
   "cell_type": "markdown",
   "metadata": {
    "id": "t_yvQBKrD8Se"
   },
   "source": [
    "# **ECS 7001 - NN & NNLP**\n",
    "\n",
    "## **Lab 2: LSTM for Text Classification**\n",
    "\n",
    "<br>\n",
    "\n",
    "**February 2nd and 3rd**\n",
    "\n",
    "In Lab 2, you trained word embeddings by casting the unsupervised learning problem as a binary classification problem (i.e. using the skip-gram model). This week, you will build an LSTM model to classify movie reviews as either positive or negative. After training, you will extract the word embeddings learned by the model.\n",
    "\n"
   ]
  },
  {
   "cell_type": "markdown",
   "metadata": {
    "id": "Ep2X91YdJpkG"
   },
   "source": [
    "### **0. Prepare the environment**\n",
    "\n",
    "Open Google Colab or activate the virtual environment you’ve created"
   ]
  },
  {
   "cell_type": "markdown",
   "metadata": {
    "id": "w6Pi5uvTLRCo"
   },
   "source": [
    "### **1. Getting the Dataset**\n",
    "\n",
    "You will be using the imdb dataset from Lab 0. This is a dataset of 25,000 movie reviews from IMDB, labeled by sentiment - positive (1) or negative (0). \n",
    "<br>\n",
    "\n",
    "The reviews have been preprocessed, and each review is encoded as a list of word indices. Last week, you assigned the indices to the word randomly (or in order of their first appearance in the corpus) but in this preprocessed corpus, the words are indexed by overall frequency in the dataset, such that a word with index 3 occurs more frequently than a word with index 10.\n",
    "<br>\n",
    "\n",
    "In the following blocks of code in this section, we will load and visualize the data.\n"
   ]
  },
  {
   "cell_type": "code",
   "execution_count": null,
   "metadata": {
    "id": "xn7sWMG-KoBV"
   },
   "outputs": [],
   "source": [
    "from tensorflow.keras import datasets\n",
    "\n",
    "imdb = datasets.imdb"
   ]
  },
  {
   "cell_type": "code",
   "execution_count": null,
   "metadata": {
    "id": "yCH0PmPcL83f"
   },
   "outputs": [],
   "source": [
    "%%capture\n",
    "\n",
    "# we'll use the most frequent 10000 words in the vocabulary\n",
    "VOCAB_SIZE = 10000\n",
    "\n",
    "# 0 is reserved for ‘<PAD>’, 1 for ‘<START>’ and 2 for ‘<UNK>’ i.e. words not in vocabulary\n",
    "# the documentation says index_from = 3 but actually uses the value as an offset. The words\n",
    "# in the dictionary are indexed from 1 by default so, saying index_from=3 means any actual\n",
    "# words would start from 4 (1+3) and index 3 will be left unused. We use index_from=offset=2 to avoid this\n",
    "# If you want to explore this further, you may look up the source_code for load_data here\n",
    "# https://github.com/tensorflow/tensorflow/blob/v2.4.1/tensorflow/python/keras/datasets/imdb.py#L31-L162\n",
    "OFFSET = 2\n",
    "\n",
    "# for more information on the load_data method, type(help(load_data))\n",
    "(train_data,train_labels),(test_data,test_labels) = imdb.load_data(num_words=VOCAB_SIZE, index_from=OFFSET)"
   ]
  },
  {
   "cell_type": "markdown",
   "metadata": {
    "id": "lVgaL5JIYBRm"
   },
   "source": [
    "***Sanity Check***\n",
    "\n",
    "Each instance in the training data is a list of word indices representing the words in a movie review.\n",
    "\n",
    "Each label is 1 if that review is positive, else 0."
   ]
  },
  {
   "cell_type": "code",
   "execution_count": null,
   "metadata": {
    "colab": {
     "base_uri": "https://localhost:8080/"
    },
    "id": "APFWiEejv9i5",
    "outputId": "f4612289-914d-4109-922e-97441ebc10b9"
   },
   "outputs": [
    {
     "name": "stdout",
     "output_type": "stream",
     "text": [
      "Sample review: [1, 13, 21, 15, 42, 529, 972, 1621, 1384, 64, 457, 4467, 65, 3940, 3, 172, 35, 255, 4, 24, 99, 42, 837, 111, 49, 669, 2, 8, 34, 479, 283, 4, 149, 3, 171, 111, 166, 2, 335, 384, 38, 3, 171, 4535, 1110, 16, 545, 37, 12, 446, 3, 191, 49, 15, 5, 146, 2024, 18, 13, 21, 3, 1919, 4612, 468, 3, 21, 70, 86, 11, 15, 42, 529, 37, 75, 14, 12, 1246, 3, 21, 16, 514, 16, 11, 15, 625, 17, 2, 4, 61, 385, 11, 7, 315, 7, 105, 4, 3, 2222, 5243, 15, 479, 65, 3784, 32, 3, 129, 11, 15, 37, 618, 4, 24, 123, 50, 35, 134, 47, 24, 1414, 32, 5, 21, 11, 214, 27, 76, 51, 4, 13, 406, 15, 81, 2, 7, 3, 106, 116, 5951, 14, 255, 3, 2, 6, 3765, 4, 722, 35, 70, 42, 529, 475, 25, 399, 316, 45, 6, 3, 2, 1028, 12, 103, 87, 3, 380, 14, 296, 97, 31, 2070, 55, 25, 140, 5, 193, 7485, 17, 3, 225, 21, 20, 133, 475, 25, 479, 4, 143, 29, 5534, 17, 50, 35, 27, 223, 91, 24, 103, 3, 225, 64, 15, 37, 1333, 87, 11, 15, 282, 4, 15, 4471, 112, 102, 31, 14, 15, 5344, 18, 177, 31]\n"
     ]
    }
   ],
   "source": [
    "print('Sample review:', train_data[0])"
   ]
  },
  {
   "cell_type": "code",
   "execution_count": null,
   "metadata": {
    "colab": {
     "base_uri": "https://localhost:8080/"
    },
    "id": "CwgeiaF7n_lX",
    "outputId": "56ae5372-a688-41cf-b524-849d9d610734"
   },
   "outputs": [
    {
     "name": "stdout",
     "output_type": "stream",
     "text": [
      "\n",
      " Sample label: 1\n"
     ]
    }
   ],
   "source": [
    "print('\\n Sample label:', train_labels[0])"
   ]
  },
  {
   "cell_type": "markdown",
   "metadata": {
    "id": "4c14vElNvMGX"
   },
   "source": [
    "### **2. Readying the Inputs for the LSTM**\n",
    "\n",
    "The movie reviews are of different lengths. The standard way of dealing with varying length inputs is to ***pad*** or ***truncate*** each sentence to a fixed length (which we choose heuristically). \n",
    "\n",
    "Keras provides a way to do this.  In this section, you will use the keras.preprocessing.sequence method <pad_sequences> handle padding and truncating.\n",
    "\n",
    "**Hints**\n",
    "\n",
    "*  help(pad_sequences) will give you more information about how this works.\n",
    "*  You can experiment with 'pre' vs 'post' padding/truncating. In practice, 'pre' padding is more effective for our purposes; can you hypothesize about why this is?\n",
    "*  Since we have reserved 0 for \\<PAD\\>, your pad value should be set to 0.\n",
    "*  The maximum length has been specified below as MAX_LENGTH."
   ]
  },
  {
   "cell_type": "code",
   "execution_count": null,
   "metadata": {
    "id": "7XPwN_COagT9"
   },
   "outputs": [],
   "source": [
    "from keras.preprocessing.sequence import pad_sequences\n",
    "import tensorflow as tf\n",
    "\n",
    "\n",
    "MAX_LENGHT = 500\n",
    "\n",
    "\n",
    "padded_train_data = tf.keras.preprocessing.sequence.pad_sequences(\n",
    "    train_data, padding=\"pre\",truncating='pre',maxlen=MAX_LENGHT)\n",
    "padded_test_data = tf.keras.preprocessing.sequence.pad_sequences(\n",
    "    test_data, padding=\"pre\",truncating='pre',maxlen=MAX_LENGHT)"
   ]
  },
  {
   "cell_type": "markdown",
   "metadata": {
    "id": "RhrUvhC2dO87"
   },
   "source": [
    "***Sanity Check***\n",
    "\n",
    "For the first training example, print its length and the padded sequence to see the effect of your padding process. \n",
    "\n",
    "PS: Pre-padding was used for the output you see below."
   ]
  },
  {
   "cell_type": "code",
   "execution_count": null,
   "metadata": {
    "colab": {
     "base_uri": "https://localhost:8080/"
    },
    "id": "tThZ61FNSlLl",
    "outputId": "a2739487-9444-44fd-dcf2-ba600efee421"
   },
   "outputs": [
    {
     "data": {
      "text/plain": [
       "(25000, 500)"
      ]
     },
     "execution_count": 6,
     "metadata": {},
     "output_type": "execute_result"
    }
   ],
   "source": [
    "padded_train_data.shape"
   ]
  },
  {
   "cell_type": "code",
   "execution_count": null,
   "metadata": {
    "colab": {
     "base_uri": "https://localhost:8080/"
    },
    "id": "DZb7keBfdKc_",
    "outputId": "850007f5-d355-43ad-8b84-59be4535dfa1"
   },
   "outputs": [
    {
     "name": "stdout",
     "output_type": "stream",
     "text": [
      "Length of sample train_data before preprocessing: 218\n",
      "Length of sample train_data after preprocessing: 500\n",
      "Sample train data: [   0    0    0    0    0    0    0    0    0    0    0    0    0    0\n",
      "    0    0    0    0    0    0    0    0    0    0    0    0    0    0\n",
      "    0    0    0    0    0    0    0    0    0    0    0    0    0    0\n",
      "    0    0    0    0    0    0    0    0    0    0    0    0    0    0\n",
      "    0    0    0    0    0    0    0    0    0    0    0    0    0    0\n",
      "    0    0    0    0    0    0    0    0    0    0    0    0    0    0\n",
      "    0    0    0    0    0    0    0    0    0    0    0    0    0    0\n",
      "    0    0    0    0    0    0    0    0    0    0    0    0    0    0\n",
      "    0    0    0    0    0    0    0    0    0    0    0    0    0    0\n",
      "    0    0    0    0    0    0    0    0    0    0    0    0    0    0\n",
      "    0    0    0    0    0    0    0    0    0    0    0    0    0    0\n",
      "    0    0    0    0    0    0    0    0    0    0    0    0    0    0\n",
      "    0    0    0    0    0    0    0    0    0    0    0    0    0    0\n",
      "    0    0    0    0    0    0    0    0    0    0    0    0    0    0\n",
      "    0    0    0    0    0    0    0    0    0    0    0    0    0    0\n",
      "    0    0    0    0    0    0    0    0    0    0    0    0    0    0\n",
      "    0    0    0    0    0    0    0    0    0    0    0    0    0    0\n",
      "    0    0    0    0    0    0    0    0    0    0    0    0    0    0\n",
      "    0    0    0    0    0    0    0    0    0    0    0    0    0    0\n",
      "    0    0    0    0    0    0    0    0    0    0    0    0    0    0\n",
      "    0    0    1   13   21   15   42  529  972 1621 1384   64  457 4467\n",
      "   65 3940    3  172   35  255    4   24   99   42  837  111   49  669\n",
      "    2    8   34  479  283    4  149    3  171  111  166    2  335  384\n",
      "   38    3  171 4535 1110   16  545   37   12  446    3  191   49   15\n",
      "    5  146 2024   18   13   21    3 1919 4612  468    3   21   70   86\n",
      "   11   15   42  529   37   75   14   12 1246    3   21   16  514   16\n",
      "   11   15  625   17    2    4   61  385   11    7  315    7  105    4\n",
      "    3 2222 5243   15  479   65 3784   32    3  129   11   15   37  618\n",
      "    4   24  123   50   35  134   47   24 1414   32    5   21   11  214\n",
      "   27   76   51    4   13  406   15   81    2    7    3  106  116 5951\n",
      "   14  255    3    2    6 3765    4  722   35   70   42  529  475   25\n",
      "  399  316   45    6    3    2 1028   12  103   87    3  380   14  296\n",
      "   97   31 2070   55   25  140    5  193 7485   17    3  225   21   20\n",
      "  133  475   25  479    4  143   29 5534   17   50   35   27  223   91\n",
      "   24  103    3  225   64   15   37 1333   87   11   15  282    4   15\n",
      " 4471  112  102   31   14   15 5344   18  177   31]\n"
     ]
    }
   ],
   "source": [
    "print('Length of sample train_data before preprocessing:', len(train_data[0]))\n",
    "print('Length of sample train_data after preprocessing:', len(padded_train_data[0]))\n",
    "print('Sample train data:', padded_train_data[0])"
   ]
  },
  {
   "cell_type": "markdown",
   "metadata": {
    "id": "rghchHA66d-V"
   },
   "source": [
    "### **3. Building the Model**\n",
    "\n",
    "In this section, you will use the keras Model API to build a classification model.\n",
    "\n",
    "*   The first step is to tell the model what sort of input to expect using the keras \\<Input\\> layer \n",
    "*   The second step is to add an embedding layer like we did last week. \n",
    "This embedding layer creates a lookup table of the form {word:embedding} for each of the unique words in our corpus. Use EMBED_SIZE = 100 (i.e each word is represented by a 100D vector such that each movie review is 500 X 100 in dimension.  Don't forget to set mask_zero=True since we are using 0 index as out padding.\n",
    "*  The third step is to add an LSTM with 100 units. By leaving 'return_sequences' as False, the output of this model will be the output of the final time step of the LSTM. https://keras.io/api/layers/recurrent_layers/lstm/ \n",
    "*  The final layer of the model is a fully connected (Dense) layer. Can you figure out what activation function would be appropriate for this layer given the binary nature of the task?\n",
    "*  The model should be compiled with a 'binary_crossentropy' loss function, an 'adam' optimizer. We also want to visualize the model accuracy during training so the 'metrics' parameter of the compile method should be set to ['accuracy']."
   ]
  },
  {
   "cell_type": "code",
   "execution_count": null,
   "metadata": {
    "colab": {
     "base_uri": "https://localhost:8080/"
    },
    "id": "aLUQJFYADlnT",
    "outputId": "986f9f8f-0dfa-49af-963b-14f0f2b74abd"
   },
   "outputs": [
    {
     "data": {
      "text/plain": [
       "array([   0,    0,    0,    0,    0,    0,    0,    0,    0,    0,    0,\n",
       "          0,    0,    0,    0,    0,    0,    0,    0,    0,    0,    0,\n",
       "          0,    0,    0,    0,    0,    0,    0,    0,    0,    0,    0,\n",
       "          0,    0,    0,    0,    0,    0,    0,    0,    0,    0,    0,\n",
       "          0,    0,    0,    0,    0,    0,    0,    0,    0,    0,    0,\n",
       "          0,    0,    0,    0,    0,    0,    0,    0,    0,    0,    0,\n",
       "          0,    0,    0,    0,    0,    0,    0,    0,    0,    0,    0,\n",
       "          0,    0,    0,    0,    0,    0,    0,    0,    0,    0,    0,\n",
       "          0,    0,    0,    0,    0,    0,    0,    0,    0,    0,    0,\n",
       "          0,    0,    0,    0,    0,    0,    0,    0,    0,    0,    0,\n",
       "          0,    0,    0,    0,    0,    0,    0,    0,    0,    0,    0,\n",
       "          0,    0,    0,    0,    0,    0,    0,    0,    0,    0,    0,\n",
       "          0,    0,    0,    0,    0,    0,    0,    0,    0,    0,    0,\n",
       "          0,    0,    0,    0,    0,    0,    0,    0,    0,    0,    0,\n",
       "          0,    0,    0,    0,    0,    0,    0,    0,    0,    0,    0,\n",
       "          0,    0,    0,    0,    0,    0,    0,    0,    0,    0,    0,\n",
       "          0,    0,    0,    0,    0,    0,    0,    0,    0,    0,    0,\n",
       "          0,    0,    0,    0,    0,    0,    0,    0,    0,    0,    0,\n",
       "          0,    0,    0,    0,    0,    0,    0,    0,    0,    0,    0,\n",
       "          0,    0,    0,    0,    0,    0,    0,    0,    0,    0,    0,\n",
       "          0,    0,    0,    0,    0,    0,    0,    0,    0,    0,    0,\n",
       "          0,    0,    0,    0,    0,    0,    0,    0,    0,    0,    0,\n",
       "          0,    0,    0,    0,    0,    0,    0,    0,    0,    0,    0,\n",
       "          0,    0,    0,    0,    0,    0,    0,    0,    0,    0,    0,\n",
       "          0,    0,    0,    0,    0,    0,    0,    0,    0,    0,    0,\n",
       "          0,    0,    0,    0,    0,    0,    0,    0,    0,    0,    0,\n",
       "          0,    0,    0,    0,    0,    0,    0,    0,    0,    0,    0,\n",
       "          0,    0,    0,    0,    0,    0,    0,    0,    0,    0,    0,\n",
       "          0,    0,    0,    1,  193, 1152,  193, 8254,   77,  227,    4,\n",
       "          5, 1462, 4368, 5011,  133,   25,    3,  714,    7,  117, 1633,\n",
       "         13,  393,   19,   12,  118,  953,  188,  101,    4,  206,  109,\n",
       "       3102,   20,   13,   68,  187,    7,   29,   22,    6,    3,  248,\n",
       "        125,   92,    3,  113,    8, 2299, 1522,    4,  646,    3,  115,\n",
       "          8,   34, 8162,    3,  228,    8,  339, 1321,    3,  117,    8,\n",
       "          3,  129, 4900,   18,    3, 1001,    4,   88,   28,  951,   45,\n",
       "         36,    3,  454,    8,   44,   42,   37, 1542, 1904,  397,    3,\n",
       "       1648,   25, 6852,    4,  162,   10, 3214,    2,    3, 1152,    8,\n",
       "        193,  774,    6, 8254,    2,  348, 2636,  147,  604,    2, 8002,\n",
       "         14,  122,  124,   67,    2, 6852,   14,  348,  164, 4361,   97,\n",
       "          4,    3,  227,    8,   42,    2, 1156,   14,  298,  119,    4,\n",
       "        119,  173,   10,  219,  174,  135,   49,    8, 4372,  227, 8254,\n",
       "          4,    2,  655,  244, 2349,    4,    3, 9836,  130,  151,  490,\n",
       "         17,    2,   31, 7463, 1211,   13,    8,    5,  370,   77,   21,\n",
       "        624,   63, 1381,    8,    7,  167,  144,   22,    3, 1689,   14,\n",
       "         15,    3, 1354,    4,   27,    5,   51,  153,  461,   32,   88,\n",
       "         77,  284,   15,  144,   94], dtype=int32)"
      ]
     },
     "execution_count": 8,
     "metadata": {},
     "output_type": "execute_result"
    }
   ],
   "source": [
    "padded_train_data[1]"
   ]
  },
  {
   "cell_type": "code",
   "execution_count": null,
   "metadata": {
    "id": "L1EHilHl1l2m"
   },
   "outputs": [],
   "source": [
    "from tensorflow.keras import Sequential\n",
    "from keras.layers import Input, Embedding, Dense, LSTM,Reshape\n",
    "from keras.models import Model\n",
    "\n",
    "EMBED_SIZE = 100\n",
    "\n",
    "target_word = Input((500,), dtype='int32')\n",
    "target_embedding = Embedding(VOCAB_SIZE, EMBED_SIZE, name='target_embed_layer',\n",
    "                        \tembeddings_initializer='glorot_uniform',mask_zero=True,\n",
    "                         \tinput_length=500)(target_word)\n",
    "\n"
   ]
  },
  {
   "cell_type": "code",
   "execution_count": null,
   "metadata": {
    "colab": {
     "base_uri": "https://localhost:8080/"
    },
    "id": "kxUGHtVSPCvE",
    "outputId": "ddfb7f6d-4724-4e36-9ec8-d3c10b2071db"
   },
   "outputs": [
    {
     "data": {
      "text/plain": [
       "500"
      ]
     },
     "execution_count": 10,
     "metadata": {},
     "output_type": "execute_result"
    }
   ],
   "source": [
    "target_embedding.shape[1]"
   ]
  },
  {
   "cell_type": "code",
   "execution_count": null,
   "metadata": {
    "id": "gpBJofdUG0Nn"
   },
   "outputs": [],
   "source": [
    "LSTM_layer=LSTM(units=100,activation='tanh',return_sequences=False)(target_embedding)\n",
    "output_layer = Dense(1,activation = 'relu')(LSTM_layer)\n",
    "model = Model(inputs=[target_word], outputs=output_layer)\n",
    "model.compile(loss='binary_crossentropy', optimizer = 'adam', metrics = ['accuracy'])"
   ]
  },
  {
   "cell_type": "markdown",
   "metadata": {
    "id": "6OMqaFQusbp-"
   },
   "source": [
    "***Sanity Check***\n",
    "\n",
    "Print the model summary and visualize it using vis_utils."
   ]
  },
  {
   "cell_type": "code",
   "execution_count": null,
   "metadata": {
    "colab": {
     "base_uri": "https://localhost:8080/"
    },
    "id": "8AMt6b2eQTF-",
    "outputId": "6f10fdc2-9ce2-4577-a5c9-7111953cd48e"
   },
   "outputs": [
    {
     "name": "stdout",
     "output_type": "stream",
     "text": [
      "Model: \"model\"\n",
      "_________________________________________________________________\n",
      " Layer (type)                Output Shape              Param #   \n",
      "=================================================================\n",
      " input_1 (InputLayer)        [(None, 500)]             0         \n",
      "                                                                 \n",
      " target_embed_layer (Embeddi  (None, 500, 100)         1000000   \n",
      " ng)                                                             \n",
      "                                                                 \n",
      " lstm (LSTM)                 (None, 100)               80400     \n",
      "                                                                 \n",
      " dense (Dense)               (None, 1)                 101       \n",
      "                                                                 \n",
      "=================================================================\n",
      "Total params: 1,080,501\n",
      "Trainable params: 1,080,501\n",
      "Non-trainable params: 0\n",
      "_________________________________________________________________\n"
     ]
    }
   ],
   "source": [
    "model.summary()"
   ]
  },
  {
   "cell_type": "code",
   "execution_count": null,
   "metadata": {
    "colab": {
     "base_uri": "https://localhost:8080/",
     "height": 358
    },
    "id": "ZTq8GsWgsqCe",
    "outputId": "c564ab50-9ed1-4039-95bc-334ca7eea0a9"
   },
   "outputs": [
    {
     "data": {
      "image/svg+xml": [
       "<svg height=\"253pt\" viewBox=\"0.00 0.00 399.00 304.00\" width=\"332pt\" xmlns=\"http://www.w3.org/2000/svg\" xmlns:xlink=\"http://www.w3.org/1999/xlink\">\n",
       "<g class=\"graph\" id=\"graph0\" transform=\"scale(.8333 .8333) rotate(0) translate(4 300)\">\n",
       "<title>G</title>\n",
       "<polygon fill=\"#ffffff\" points=\"-4,4 -4,-300 395,-300 395,4 -4,4\" stroke=\"transparent\"/>\n",
       "<!-- 139710486585872 -->\n",
       "<g class=\"node\" id=\"node1\">\n",
       "<title>139710486585872</title>\n",
       "<polygon fill=\"none\" points=\"30.5,-249.5 30.5,-295.5 360.5,-295.5 360.5,-249.5 30.5,-249.5\" stroke=\"#000000\"/>\n",
       "<text fill=\"#000000\" font-family=\"Times,serif\" font-size=\"14.00\" text-anchor=\"middle\" x=\"70.5\" y=\"-280.3\">input_1</text>\n",
       "<polyline fill=\"none\" points=\"30.5,-272.5 110.5,-272.5 \" stroke=\"#000000\"/>\n",
       "<text fill=\"#000000\" font-family=\"Times,serif\" font-size=\"14.00\" text-anchor=\"middle\" x=\"70.5\" y=\"-257.3\">InputLayer</text>\n",
       "<polyline fill=\"none\" points=\"110.5,-249.5 110.5,-295.5 \" stroke=\"#000000\"/>\n",
       "<text fill=\"#000000\" font-family=\"Times,serif\" font-size=\"14.00\" text-anchor=\"middle\" x=\"139.5\" y=\"-280.3\">input:</text>\n",
       "<polyline fill=\"none\" points=\"110.5,-272.5 168.5,-272.5 \" stroke=\"#000000\"/>\n",
       "<text fill=\"#000000\" font-family=\"Times,serif\" font-size=\"14.00\" text-anchor=\"middle\" x=\"139.5\" y=\"-257.3\">output:</text>\n",
       "<polyline fill=\"none\" points=\"168.5,-249.5 168.5,-295.5 \" stroke=\"#000000\"/>\n",
       "<text fill=\"#000000\" font-family=\"Times,serif\" font-size=\"14.00\" text-anchor=\"middle\" x=\"216.5\" y=\"-268.8\">[(None, 500)]</text>\n",
       "<polyline fill=\"none\" points=\"264.5,-249.5 264.5,-295.5 \" stroke=\"#000000\"/>\n",
       "<text fill=\"#000000\" font-family=\"Times,serif\" font-size=\"14.00\" text-anchor=\"middle\" x=\"312.5\" y=\"-268.8\">[(None, 500)]</text>\n",
       "</g>\n",
       "<!-- 139710486760528 -->\n",
       "<g class=\"node\" id=\"node2\">\n",
       "<title>139710486760528</title>\n",
       "<polygon fill=\"none\" points=\"0,-166.5 0,-212.5 391,-212.5 391,-166.5 0,-166.5\" stroke=\"#000000\"/>\n",
       "<text fill=\"#000000\" font-family=\"Times,serif\" font-size=\"14.00\" text-anchor=\"middle\" x=\"64.5\" y=\"-197.3\">target_embed_layer</text>\n",
       "<polyline fill=\"none\" points=\"0,-189.5 129,-189.5 \" stroke=\"#000000\"/>\n",
       "<text fill=\"#000000\" font-family=\"Times,serif\" font-size=\"14.00\" text-anchor=\"middle\" x=\"64.5\" y=\"-174.3\">Embedding</text>\n",
       "<polyline fill=\"none\" points=\"129,-166.5 129,-212.5 \" stroke=\"#000000\"/>\n",
       "<text fill=\"#000000\" font-family=\"Times,serif\" font-size=\"14.00\" text-anchor=\"middle\" x=\"158\" y=\"-197.3\">input:</text>\n",
       "<polyline fill=\"none\" points=\"129,-189.5 187,-189.5 \" stroke=\"#000000\"/>\n",
       "<text fill=\"#000000\" font-family=\"Times,serif\" font-size=\"14.00\" text-anchor=\"middle\" x=\"158\" y=\"-174.3\">output:</text>\n",
       "<polyline fill=\"none\" points=\"187,-166.5 187,-212.5 \" stroke=\"#000000\"/>\n",
       "<text fill=\"#000000\" font-family=\"Times,serif\" font-size=\"14.00\" text-anchor=\"middle\" x=\"230.5\" y=\"-185.8\">(None, 500)</text>\n",
       "<polyline fill=\"none\" points=\"274,-166.5 274,-212.5 \" stroke=\"#000000\"/>\n",
       "<text fill=\"#000000\" font-family=\"Times,serif\" font-size=\"14.00\" text-anchor=\"middle\" x=\"332.5\" y=\"-185.8\">(None, 500, 100)</text>\n",
       "</g>\n",
       "<!-- 139710486585872&#45;&gt;139710486760528 -->\n",
       "<g class=\"edge\" id=\"edge1\">\n",
       "<title>139710486585872-&gt;139710486760528</title>\n",
       "<path d=\"M195.5,-249.3799C195.5,-241.1745 195.5,-231.7679 195.5,-222.8786\" fill=\"none\" stroke=\"#000000\"/>\n",
       "<polygon fill=\"#000000\" points=\"199.0001,-222.784 195.5,-212.784 192.0001,-222.784 199.0001,-222.784\" stroke=\"#000000\"/>\n",
       "</g>\n",
       "<!-- 139710458545104 -->\n",
       "<g class=\"node\" id=\"node3\">\n",
       "<title>139710458545104</title>\n",
       "<polygon fill=\"none\" points=\"36.5,-83.5 36.5,-129.5 354.5,-129.5 354.5,-83.5 36.5,-83.5\" stroke=\"#000000\"/>\n",
       "<text fill=\"#000000\" font-family=\"Times,serif\" font-size=\"14.00\" text-anchor=\"middle\" x=\"64.5\" y=\"-114.3\">lstm</text>\n",
       "<polyline fill=\"none\" points=\"36.5,-106.5 92.5,-106.5 \" stroke=\"#000000\"/>\n",
       "<text fill=\"#000000\" font-family=\"Times,serif\" font-size=\"14.00\" text-anchor=\"middle\" x=\"64.5\" y=\"-91.3\">LSTM</text>\n",
       "<polyline fill=\"none\" points=\"92.5,-83.5 92.5,-129.5 \" stroke=\"#000000\"/>\n",
       "<text fill=\"#000000\" font-family=\"Times,serif\" font-size=\"14.00\" text-anchor=\"middle\" x=\"121.5\" y=\"-114.3\">input:</text>\n",
       "<polyline fill=\"none\" points=\"92.5,-106.5 150.5,-106.5 \" stroke=\"#000000\"/>\n",
       "<text fill=\"#000000\" font-family=\"Times,serif\" font-size=\"14.00\" text-anchor=\"middle\" x=\"121.5\" y=\"-91.3\">output:</text>\n",
       "<polyline fill=\"none\" points=\"150.5,-83.5 150.5,-129.5 \" stroke=\"#000000\"/>\n",
       "<text fill=\"#000000\" font-family=\"Times,serif\" font-size=\"14.00\" text-anchor=\"middle\" x=\"209\" y=\"-102.8\">(None, 500, 100)</text>\n",
       "<polyline fill=\"none\" points=\"267.5,-83.5 267.5,-129.5 \" stroke=\"#000000\"/>\n",
       "<text fill=\"#000000\" font-family=\"Times,serif\" font-size=\"14.00\" text-anchor=\"middle\" x=\"311\" y=\"-102.8\">(None, 100)</text>\n",
       "</g>\n",
       "<!-- 139710486760528&#45;&gt;139710458545104 -->\n",
       "<g class=\"edge\" id=\"edge2\">\n",
       "<title>139710486760528-&gt;139710458545104</title>\n",
       "<path d=\"M195.5,-166.3799C195.5,-158.1745 195.5,-148.7679 195.5,-139.8786\" fill=\"none\" stroke=\"#000000\"/>\n",
       "<polygon fill=\"#000000\" points=\"199.0001,-139.784 195.5,-129.784 192.0001,-139.784 199.0001,-139.784\" stroke=\"#000000\"/>\n",
       "</g>\n",
       "<!-- 139710458545040 -->\n",
       "<g class=\"node\" id=\"node4\">\n",
       "<title>139710458545040</title>\n",
       "<polygon fill=\"none\" points=\"61,-.5 61,-46.5 330,-46.5 330,-.5 61,-.5\" stroke=\"#000000\"/>\n",
       "<text fill=\"#000000\" font-family=\"Times,serif\" font-size=\"14.00\" text-anchor=\"middle\" x=\"87\" y=\"-31.3\">dense</text>\n",
       "<polyline fill=\"none\" points=\"61,-23.5 113,-23.5 \" stroke=\"#000000\"/>\n",
       "<text fill=\"#000000\" font-family=\"Times,serif\" font-size=\"14.00\" text-anchor=\"middle\" x=\"87\" y=\"-8.3\">Dense</text>\n",
       "<polyline fill=\"none\" points=\"113,-.5 113,-46.5 \" stroke=\"#000000\"/>\n",
       "<text fill=\"#000000\" font-family=\"Times,serif\" font-size=\"14.00\" text-anchor=\"middle\" x=\"142\" y=\"-31.3\">input:</text>\n",
       "<polyline fill=\"none\" points=\"113,-23.5 171,-23.5 \" stroke=\"#000000\"/>\n",
       "<text fill=\"#000000\" font-family=\"Times,serif\" font-size=\"14.00\" text-anchor=\"middle\" x=\"142\" y=\"-8.3\">output:</text>\n",
       "<polyline fill=\"none\" points=\"171,-.5 171,-46.5 \" stroke=\"#000000\"/>\n",
       "<text fill=\"#000000\" font-family=\"Times,serif\" font-size=\"14.00\" text-anchor=\"middle\" x=\"214.5\" y=\"-19.8\">(None, 100)</text>\n",
       "<polyline fill=\"none\" points=\"258,-.5 258,-46.5 \" stroke=\"#000000\"/>\n",
       "<text fill=\"#000000\" font-family=\"Times,serif\" font-size=\"14.00\" text-anchor=\"middle\" x=\"294\" y=\"-19.8\">(None, 1)</text>\n",
       "</g>\n",
       "<!-- 139710458545104&#45;&gt;139710458545040 -->\n",
       "<g class=\"edge\" id=\"edge3\">\n",
       "<title>139710458545104-&gt;139710458545040</title>\n",
       "<path d=\"M195.5,-83.3799C195.5,-75.1745 195.5,-65.7679 195.5,-56.8786\" fill=\"none\" stroke=\"#000000\"/>\n",
       "<polygon fill=\"#000000\" points=\"199.0001,-56.784 195.5,-46.784 192.0001,-56.784 199.0001,-56.784\" stroke=\"#000000\"/>\n",
       "</g>\n",
       "</g>\n",
       "</svg>"
      ],
      "text/plain": [
       "<IPython.core.display.SVG object>"
      ]
     },
     "execution_count": 13,
     "metadata": {},
     "output_type": "execute_result"
    }
   ],
   "source": [
    "from IPython.display import SVG\n",
    "from keras.utils import vis_utils\n",
    "SVG(vis_utils.model_to_dot(model, show_shapes=True, show_layer_names=True, dpi=60).create(prog='dot', format='svg'))  \n"
   ]
  },
  {
   "cell_type": "markdown",
   "metadata": {
    "id": "WXhJNdf9TIed"
   },
   "source": [
    "### **4. Training the Model**\n",
    "\n",
    "A model can memorize the training data (this is called 'overfitting' and when it does so, it's training accuracy can continue to go up but it's accuracy on previously unseen (i.e. non-training) examples can be very poor. To ensure that this doesn't happen, researchers often intermittently check the performance of a model being trained on a held back dataset called the ***validation dataset***. This way, 'early stopping' or 'random search' can be used to select the model that will generalize best to unseen data. \n",
    "<br>\n",
    "\n",
    "\n",
    "In this lab, you will just plot training accuracy against validation accuracy to monitor the progress of your model. And, using the plot, you will theorize about what the optimal stopping point for your model should have been.\n"
   ]
  },
  {
   "cell_type": "markdown",
   "metadata": {
    "id": "LFJtD1EgvPND"
   },
   "source": [
    "**Step 1: Getting a validation dataset**\n",
    "\n",
    "Before we begin training, you will split the padded training data into training and validation data. To avoid losing too much training data, use 2000 samples (i.e 8%) for validation and the other 23000 for training.\n",
    "\n",
    "We will do this using the sklearn train_test_split function. "
   ]
  },
  {
   "cell_type": "code",
   "execution_count": null,
   "metadata": {
    "id": "zqHSAlOev6kB"
   },
   "outputs": [],
   "source": [
    "from sklearn.model_selection import train_test_split\n",
    "\n",
    "train_x, validation_x, train_y, validation_y = train_test_split(padded_train_data, train_labels, test_size=0.08) "
   ]
  },
  {
   "cell_type": "markdown",
   "metadata": {
    "id": "xArEfNkX0DnN"
   },
   "source": [
    "Alternatively, we could have chosen to set validation_size=0.08 in our model.fit() function below instead of passing in a separate validation dataset."
   ]
  },
  {
   "cell_type": "markdown",
   "metadata": {
    "id": "3oXtkSBuyiWt"
   },
   "source": [
    "**Step 2: Training the model**\n",
    "\n",
    "We will use model.fit() to train the model. We will set our batch_size to 1000, which means the model will train int(23000/1000) batches each epoch. In other words, at each epoch the model will train 23 batches, each one consisting of 1000 movie reviews."
   ]
  },
  {
   "cell_type": "code",
   "execution_count": null,
   "metadata": {
    "colab": {
     "base_uri": "https://localhost:8080/"
    },
    "id": "R_Sv7q_XttGf",
    "outputId": "ca34d8cf-8abd-4298-8263-673fb902962d"
   },
   "outputs": [
    {
     "data": {
      "text/plain": [
       "array([1, 1, 0, ..., 0, 1, 1])"
      ]
     },
     "execution_count": 15,
     "metadata": {},
     "output_type": "execute_result"
    }
   ],
   "source": [
    "train_y"
   ]
  },
  {
   "cell_type": "code",
   "execution_count": null,
   "metadata": {
    "colab": {
     "base_uri": "https://localhost:8080/"
    },
    "id": "Fgp3GWqiySHB",
    "outputId": "57ed9c09-85e1-4fa1-f519-c4373fbc61b7"
   },
   "outputs": [
    {
     "name": "stdout",
     "output_type": "stream",
     "text": [
      "Epoch 1/6\n",
      "23/23 [==============================] - 207s 9s/step - loss: 1.3212 - accuracy: 0.5039 - val_loss: 1.0580 - val_accuracy: 0.4945\n",
      "Epoch 2/6\n",
      "23/23 [==============================] - 194s 8s/step - loss: 1.0089 - accuracy: 0.5005 - val_loss: 0.9185 - val_accuracy: 0.4945\n",
      "Epoch 3/6\n",
      "23/23 [==============================] - 193s 8s/step - loss: 0.7633 - accuracy: 0.5117 - val_loss: 0.6269 - val_accuracy: 0.6455\n",
      "Epoch 4/6\n",
      "23/23 [==============================] - 190s 8s/step - loss: 0.5578 - accuracy: 0.7549 - val_loss: 0.5533 - val_accuracy: 0.7285\n",
      "Epoch 5/6\n",
      "23/23 [==============================] - 192s 8s/step - loss: 0.4650 - accuracy: 0.8172 - val_loss: 0.5258 - val_accuracy: 0.7345\n",
      "Epoch 6/6\n",
      "23/23 [==============================] - 191s 8s/step - loss: 0.4141 - accuracy: 0.8484 - val_loss: 0.5255 - val_accuracy: 0.8095\n"
     ]
    }
   ],
   "source": [
    "history = model.fit(train_x, train_y, epochs=6, batch_size=1000, validation_data=(validation_x, validation_y))"
   ]
  },
  {
   "cell_type": "markdown",
   "metadata": {
    "id": "2OaWng6v835A"
   },
   "source": [
    "**Step 3: Visualize the model plot**"
   ]
  },
  {
   "cell_type": "code",
   "execution_count": null,
   "metadata": {
    "colab": {
     "base_uri": "https://localhost:8080/"
    },
    "id": "R6xASJOM897O",
    "outputId": "e2bd45a3-ef75-4217-ca87-28bddc1f1e1e"
   },
   "outputs": [
    {
     "name": "stdout",
     "output_type": "stream",
     "text": [
      "Collecting plot_keras_history\n",
      "  Downloading plot_keras_history-1.1.30.tar.gz (8.6 kB)\n",
      "Requirement already satisfied: matplotlib in /usr/local/lib/python3.7/dist-packages (from plot_keras_history) (3.2.2)\n",
      "Requirement already satisfied: pandas in /usr/local/lib/python3.7/dist-packages (from plot_keras_history) (1.3.5)\n",
      "Requirement already satisfied: scipy in /usr/local/lib/python3.7/dist-packages (from plot_keras_history) (1.4.1)\n",
      "Collecting sanitize_ml_labels>=1.0.28\n",
      "  Downloading sanitize_ml_labels-1.0.29.tar.gz (7.4 kB)\n",
      "Collecting compress_json\n",
      "  Downloading compress_json-1.0.4.tar.gz (4.7 kB)\n",
      "Requirement already satisfied: kiwisolver>=1.0.1 in /usr/local/lib/python3.7/dist-packages (from matplotlib->plot_keras_history) (1.3.2)\n",
      "Requirement already satisfied: numpy>=1.11 in /usr/local/lib/python3.7/dist-packages (from matplotlib->plot_keras_history) (1.21.5)\n",
      "Requirement already satisfied: cycler>=0.10 in /usr/local/lib/python3.7/dist-packages (from matplotlib->plot_keras_history) (0.11.0)\n",
      "Requirement already satisfied: python-dateutil>=2.1 in /usr/local/lib/python3.7/dist-packages (from matplotlib->plot_keras_history) (2.8.2)\n",
      "Requirement already satisfied: pyparsing!=2.0.4,!=2.1.2,!=2.1.6,>=2.0.1 in /usr/local/lib/python3.7/dist-packages (from matplotlib->plot_keras_history) (3.0.7)\n",
      "Requirement already satisfied: six>=1.5 in /usr/local/lib/python3.7/dist-packages (from python-dateutil>=2.1->matplotlib->plot_keras_history) (1.15.0)\n",
      "Requirement already satisfied: pytz>=2017.3 in /usr/local/lib/python3.7/dist-packages (from pandas->plot_keras_history) (2018.9)\n",
      "Building wheels for collected packages: plot-keras-history, sanitize-ml-labels, compress-json\n",
      "  Building wheel for plot-keras-history (setup.py) ... \u001b[?25l\u001b[?25hdone\n",
      "  Created wheel for plot-keras-history: filename=plot_keras_history-1.1.30-py3-none-any.whl size=8794 sha256=67ec0ea025ffa8dbd2231186944a3c522bfa2ed78dcf2ac64238a2b21a3f9ec6\n",
      "  Stored in directory: /root/.cache/pip/wheels/b0/60/47/8c5aa37c06be5e97879ec467bc2e6a30b315d95f662c63a503\n",
      "  Building wheel for sanitize-ml-labels (setup.py) ... \u001b[?25l\u001b[?25hdone\n",
      "  Created wheel for sanitize-ml-labels: filename=sanitize_ml_labels-1.0.29-py3-none-any.whl size=7878 sha256=d9fa8f8f2601707be6b5f5b2cb078794838aadc52d9ef9074c4ccdab03a55e1c\n",
      "  Stored in directory: /root/.cache/pip/wheels/c2/f5/71/d1c459da10abec864a1979b449edbf37d4a82ab3e38a3625a8\n",
      "  Building wheel for compress-json (setup.py) ... \u001b[?25l\u001b[?25hdone\n",
      "  Created wheel for compress-json: filename=compress_json-1.0.4-py3-none-any.whl size=4588 sha256=9096738a2786333057d7101c49ab3585ecaee993e8fe387d2c4ef6286de2470e\n",
      "  Stored in directory: /root/.cache/pip/wheels/1e/ef/1e/5d403c5632b0462471a8d26049d0c138134d0255ec60ce4c14\n",
      "Successfully built plot-keras-history sanitize-ml-labels compress-json\n",
      "Installing collected packages: compress-json, sanitize-ml-labels, plot-keras-history\n",
      "Successfully installed compress-json-1.0.4 plot-keras-history-1.1.30 sanitize-ml-labels-1.0.29\n"
     ]
    }
   ],
   "source": [
    "pip install plot_keras_history"
   ]
  },
  {
   "cell_type": "code",
   "execution_count": null,
   "metadata": {
    "id": "0-Qq9lwGDHVl"
   },
   "outputs": [],
   "source": [
    "from plot_keras_history import plot_history\n",
    "import matplotlib.pyplot as plt"
   ]
  },
  {
   "cell_type": "code",
   "execution_count": null,
   "metadata": {
    "colab": {
     "base_uri": "https://localhost:8080/",
     "height": 385
    },
    "id": "6jS3_xzmDJmk",
    "outputId": "ba40b011-f8e3-4bf2-b19b-2000014fd04b"
   },
   "outputs": [
    {
     "data": {
      "image/png": "[encoded data removed]",
      "text/plain": [
       "<Figure size 720x360 with 2 Axes>"
      ]
     },
     "metadata": {
      "needs_background": "light"
     },
     "output_type": "display_data"
    }
   ],
   "source": [
    "plot_history(history.history, path=\"standard.png\")\n",
    "plt.show()"
   ]
  },
  {
   "cell_type": "markdown",
   "metadata": {
    "id": "8Xy45WzGCkFJ"
   },
   "source": [
    "**Based on the accuracy plot, what do you think the optimal stopping point for your model should\n",
    "have been?**"
   ]
  },
  {
   "cell_type": "markdown",
   "metadata": {
    "id": "uMQJAolZWVLx"
   },
   "source": [
    "### **5. Evaluating the Model on the Test Data**\n",
    "\n",
    "Evaluate the model on the padded test data using the code in the following cell block."
   ]
  },
  {
   "cell_type": "code",
   "execution_count": null,
   "metadata": {
    "colab": {
     "base_uri": "https://localhost:8080/"
    },
    "id": "P0_eAfKVHPHN",
    "outputId": "35b699ef-034e-4417-b50c-2a47638fbb25"
   },
   "outputs": [
    {
     "name": "stdout",
     "output_type": "stream",
     "text": [
      "782/782 [==============================] - 100s 126ms/step - loss: 0.5054 - accuracy: 0.8070\n",
      "test_loss: 0.5054377317428589 test_accuracy: 0.8070399761199951\n"
     ]
    }
   ],
   "source": [
    "# YOUR CODE TO EVALUATE THE MODEL ON TEST DATA GOES HERE\n",
    "results=model.evaluate(padded_test_data,test_labels)\n",
    "print('test_loss:', results[0], 'test_accuracy:', results[1])"
   ]
  },
  {
   "cell_type": "markdown",
   "metadata": {
    "id": "zbOcZD6igpxy"
   },
   "source": [
    "###**6. Extracting the Word Embeddings**\n",
    "\n",
    "Extract the word embeddings from the embedding layer model like we did in the last lab. \n",
    "\n",
    "**Hints**\n",
    "\n",
    "*  You can use model.get_layer(layer_name).get_weights()[0] or model.layers[layer_number].get_weights()[0].  The layer number indicates the order in which the layers were added to the model.\n",
    "\n",
    "*  If you didn't explicitly name your layers, you can check layer names and numbers about the order from model.summary() or by calling model.layers"
   ]
  },
  {
   "cell_type": "code",
   "execution_count": null,
   "metadata": {
    "colab": {
     "base_uri": "https://localhost:8080/"
    },
    "id": "dVG1le_LWBtq",
    "outputId": "e139d958-6f64-4c9c-f17b-7015283aa5aa"
   },
   "outputs": [
    {
     "name": "stdout",
     "output_type": "stream",
     "text": [
      "(10000, 100)\n"
     ]
    }
   ],
   "source": [
    "# YOUR CODE GOES HERE\n",
    "word_embeddings = model.get_layer('target_embed_layer').get_weights()[0] \n",
    "\n",
    "# should return (VOCAB_SIZE, EMBED_SIZE)\n",
    "print(word_embeddings.shape)"
   ]
  },
  {
   "cell_type": "markdown",
   "metadata": {
    "id": "fXzDQ-7IE5Ou"
   },
   "source": [
    "***Sanity Check***\n",
    "\n",
    "Print the shape of the word embeddings using the line of code below. It should return (VOCAB_SIZE, EMBED_SIZE)"
   ]
  },
  {
   "cell_type": "code",
   "execution_count": null,
   "metadata": {
    "colab": {
     "base_uri": "https://localhost:8080/"
    },
    "id": "eL6IZLkhE5jr",
    "outputId": "c9475f84-3e57-4d94-8390-646e4a930577"
   },
   "outputs": [
    {
     "data": {
      "text/plain": [
       "array([[-0.01904705, -0.0027265 , -0.02350598, ...,  0.01209533,\n",
       "        -0.01043965, -0.00165554],\n",
       "       [-0.02345503,  0.02290316,  0.01557908, ..., -0.00821818,\n",
       "         0.00249657,  0.01660905],\n",
       "       [-0.01874419, -0.01338932,  0.01542433, ...,  0.0168003 ,\n",
       "        -0.0042566 ,  0.0183716 ],\n",
       "       ...,\n",
       "       [-0.00381319, -0.00777474, -0.00262611, ..., -0.02051652,\n",
       "         0.00635136, -0.02006126],\n",
       "       [-0.05107548, -0.05612506,  0.00450263, ...,  0.03216454,\n",
       "         0.04766121,  0.04888736],\n",
       "       [-0.04665054, -0.02150022,  0.00535526, ...,  0.02982018,\n",
       "         0.0130703 ,  0.01605515]], dtype=float32)"
      ]
     },
     "execution_count": 22,
     "metadata": {},
     "output_type": "execute_result"
    }
   ],
   "source": [
    "word_embeddings"
   ]
  },
  {
   "cell_type": "markdown",
   "metadata": {
    "id": "Bwz_8kTZ6UVF"
   },
   "source": [
    "###**7. Visualizing the Reviews**\n",
    "\n",
    "In this section, we will view the effects of padding the dataset. \n",
    "\n",
    "As mentioned before, Keras already preprocessed the corpus. In this preprocessed corpus, all the words have already been mapped to indices and were assigned these numbers in order of their frequency such that index 2 is the 2nd most frequent word in the dataset, and so on. However, when we loaded our training dataset, we reserved the first 3 indices - 0, 1, 2 - for \\<PAD\\>, \\<START\\> and \\<UNK\\>. Additionally, we limited our vocabulary to only the top 10000 most frequent words (9997 if you exclude the padding). We will now visualize what a movie review will look like with these changes\n",
    "\n"
   ]
  },
  {
   "cell_type": "markdown",
   "metadata": {
    "id": "lOmorAwXGZS9"
   },
   "source": [
    "\n",
    "**Step 1: Create a word2idx dictionary**\n",
    "\n",
    "Create the word2idx dictionary using the following lines of code."
   ]
  },
  {
   "cell_type": "code",
   "execution_count": null,
   "metadata": {
    "colab": {
     "base_uri": "https://localhost:8080/"
    },
    "id": "AtU7lOD6GYtB",
    "outputId": "0668ca86-1506-4f28-b123-b9b764c5f2df"
   },
   "outputs": [
    {
     "name": "stdout",
     "output_type": "stream",
     "text": [
      "Downloading data from https://storage.googleapis.com/tensorflow/tf-keras-datasets/imdb_word_index.json\n",
      "1646592/1641221 [==============================] - 0s 0us/step\n",
      "1654784/1641221 [==============================] - 0s 0us/step\n"
     ]
    }
   ],
   "source": [
    "# in this dictionary, the words start from 1, 0 is reserved for padding but \n",
    "# <start> and <unknown> are not accounted for.\n",
    "word_indices = imdb.get_word_index()\n",
    "\n",
    "# so we shift each original word two places to make room for the two new tokens\n",
    "offset = 2\n",
    "word2idx = {k:(v+offset) for k,v in word_indices.items() if v < 9998}\n",
    "word2idx[\"<PAD>\"] = 0\n",
    "word2idx[\"<START>\"] = 1\n",
    "word2idx[\"<UNK>\"] = 2"
   ]
  },
  {
   "cell_type": "markdown",
   "metadata": {
    "id": "H3oZeE74HCvL"
   },
   "source": [
    "\n",
    "**Step 2: Create a the idx2word dictionary**"
   ]
  },
  {
   "cell_type": "code",
   "execution_count": null,
   "metadata": {
    "id": "F0sWRDRIHIzp"
   },
   "outputs": [],
   "source": [
    "idx2word = dict(zip(word2idx.values(), word2idx.keys()))"
   ]
  },
  {
   "cell_type": "markdown",
   "metadata": {
    "id": "p7aGrCU1HTN0"
   },
   "source": [
    "\n",
    "**Step 3: Visualize sample review**\n",
    "\n",
    "View a sample review text using the lines of code below:"
   ]
  },
  {
   "cell_type": "code",
   "execution_count": null,
   "metadata": {
    "colab": {
     "base_uri": "https://localhost:8080/"
    },
    "id": "m6EoSoAsKd8d",
    "outputId": "587e7578-23a7-41e9-8efe-68f7ae29bd1c"
   },
   "outputs": [
    {
     "data": {
      "text/plain": [
       "{1410: 'woods',\n",
       " 2347: 'hanging',\n",
       " 2291: 'woody',\n",
       " 6748: 'arranged',\n",
       " 2340: 'bringing',\n",
       " 1638: 'wooden',\n",
       " 4012: 'errors',\n",
       " 3232: 'dialogs',\n",
       " 361: 'kids',\n",
       " 5036: 'uplifting',\n",
       " 7095: 'controversy',\n",
       " 9880: 'projection',\n",
       " 7182: 'stern',\n",
       " 5623: 'morally',\n",
       " 5285: 'wang',\n",
       " 180: 'want',\n",
       " 2105: 'travel',\n",
       " 6704: 'barbra',\n",
       " 3932: 'dinosaurs',\n",
       " 354: 'wrong',\n",
       " 4762: 'subplots',\n",
       " 9094: 'welcomed',\n",
       " 6705: 'butcher',\n",
       " 1182: 'fit',\n",
       " 1929: 'screaming',\n",
       " 4289: 'fix',\n",
       " 9656: 'hurting',\n",
       " 301: 'effects',\n",
       " 8777: 'barton',\n",
       " 6194: 'ingrid',\n",
       " 7918: 'adapt',\n",
       " 4013: 'disturbed',\n",
       " 1287: 'purpose',\n",
       " 6794: 'olds',\n",
       " 886: 'needed',\n",
       " 1299: 'master',\n",
       " 5401: 'positively',\n",
       " 9838: 'zatoichi',\n",
       " 546: 'feeling',\n",
       " 5624: 'affairs',\n",
       " 7801: 'wholesome',\n",
       " 1359: 'cinematic',\n",
       " 4990: 'tech',\n",
       " 659: 'saying',\n",
       " 8424: 'padded',\n",
       " 5747: 'tempted',\n",
       " 7478: 'plate',\n",
       " 3901: 'altogether',\n",
       " 8778: 'lds',\n",
       " 1779: 'nicely',\n",
       " 4590: 'mummy',\n",
       " 774: 'lots',\n",
       " 9261: 'lotr',\n",
       " 9881: 'irs',\n",
       " 6889: 'ira',\n",
       " 7695: 'discipline',\n",
       " 875: 'nature',\n",
       " 3902: 'superficial',\n",
       " 2825: 'extent',\n",
       " 8779: 'bothers',\n",
       " 75: 'much',\n",
       " 6261: 'spit',\n",
       " 7366: 'arkin',\n",
       " 4991: 'doubts',\n",
       " 3086: 'spin',\n",
       " 2578: 'hong',\n",
       " 9096: 'academic',\n",
       " 4451: 'corporate',\n",
       " 4313: 'hal',\n",
       " 4894: 'ham',\n",
       " 68: 'had',\n",
       " 46: 'has',\n",
       " 2403: 'hat',\n",
       " 2292: 'crowd',\n",
       " 6629: 'crown',\n",
       " 1323: 'bottom',\n",
       " 1183: 'starring',\n",
       " 5342: 'marshall',\n",
       " 9097: 'honeymoon',\n",
       " 3233: 'shoots',\n",
       " 8291: 'fabric',\n",
       " 3539: 'raped',\n",
       " 8928: 'rapes',\n",
       " 5926: \"else's\",\n",
       " 7255: 'martian',\n",
       " 9459: 'passenger',\n",
       " 6043: 'disgrace',\n",
       " 5122: 'barrymore',\n",
       " 9882: 'cambodia',\n",
       " 5560: 'palma',\n",
       " 3977: 'explosions',\n",
       " 8061: 'loren',\n",
       " 6706: 'shootout',\n",
       " 3628: 'chain',\n",
       " 2499: 'whoever',\n",
       " 3038: 'chair',\n",
       " 4519: 'ballet',\n",
       " 5625: 'macho',\n",
       " 3398: 'jerk',\n",
       " 7367: 'gloomy',\n",
       " 2896: 'locked',\n",
       " 2590: 'exact',\n",
       " 785: 'minute',\n",
       " 6540: 'celebrated',\n",
       " 3385: 'unintentionally',\n",
       " 9098: 'climbs',\n",
       " 9657: 'honour',\n",
       " 5516: 'address',\n",
       " 9460: 'benson',\n",
       " 3842: 'cusack',\n",
       " 3629: 'opposed',\n",
       " 1044: 'following',\n",
       " 4520: 'convincingly',\n",
       " 4254: 'surfing',\n",
       " 1239: 'jim',\n",
       " 6541: 'quarter',\n",
       " 6262: 'entering',\n",
       " 614: 'seriously',\n",
       " 7819: 'raunchy',\n",
       " 7096: 'grandma',\n",
       " 6110: 'modest',\n",
       " 2849: 'spoken',\n",
       " 3251: 'concert',\n",
       " 8426: 'lingering',\n",
       " 9099: 'snatch',\n",
       " 9262: \"miyazaki's\",\n",
       " 4634: 'wandering',\n",
       " 678: 'turned',\n",
       " 3767: 'turner',\n",
       " 1960: 'opposite',\n",
       " 6088: 'grateful',\n",
       " 5561: 'inconsistent',\n",
       " 3791: 'imagined',\n",
       " 9883: 'enthralled',\n",
       " 8598: 'tsui',\n",
       " 3540: 'menacing',\n",
       " 3659: 'convoluted',\n",
       " 5287: 'millionaire',\n",
       " 1262: 'west',\n",
       " 4203: 'motives',\n",
       " 4452: 'photos',\n",
       " 6111: 'unlikeable',\n",
       " 2130: 'technology',\n",
       " 6987: 'otto',\n",
       " 2008: 'visually',\n",
       " 111: 'being',\n",
       " 9354: 'grounded',\n",
       " 6877: 'excuses',\n",
       " 5288: 'sums',\n",
       " 5846: 'traffic',\n",
       " 8427: 'sensational',\n",
       " 8780: 'satisfactory',\n",
       " 2326: 'substance',\n",
       " 7696: 'thailand',\n",
       " 5676: 'hopkins',\n",
       " 9658: 'sealed',\n",
       " 8062: 'brazilian',\n",
       " 6707: 'bubble',\n",
       " 9263: 'wits',\n",
       " 9659: 'societal',\n",
       " 18: 'with',\n",
       " 5232: 'abused',\n",
       " 3979: 'rage',\n",
       " 5173: 'tripe',\n",
       " 1640: 'dirty',\n",
       " 3630: 'watches',\n",
       " 7578: 'watcher',\n",
       " 9884: 'ensuing',\n",
       " 295: 'watched',\n",
       " 5233: 'cream',\n",
       " 9264: 'waving',\n",
       " 6263: 'natalie',\n",
       " 3350: 'tricks',\n",
       " 2163: 'caused',\n",
       " 5517: 'beware',\n",
       " 2905: 'causes',\n",
       " 8781: 'nora',\n",
       " 5796: 'norm',\n",
       " 9461: 'sans',\n",
       " 6795: 'sang',\n",
       " 6438: 'sand',\n",
       " 7920: 'sane',\n",
       " 9885: 'leia',\n",
       " 2234: 'portrays',\n",
       " 9265: 'traumatized',\n",
       " 52: 'more',\n",
       " 1168: 'company',\n",
       " 849: 'learn',\n",
       " 5289: 'knocked',\n",
       " 665: 'huge',\n",
       " 7921: 'hugo',\n",
       " 3933: 'hugh',\n",
       " 6195: 'scifi',\n",
       " 7579: 'brett',\n",
       " 5123: 'resemble',\n",
       " 2299: 'paper',\n",
       " 1090: 'scott',\n",
       " 7697: 'colleague',\n",
       " 4314: 'gadget',\n",
       " 9462: \"victoria's\",\n",
       " 1620: 'shocking',\n",
       " 7580: 'ernie',\n",
       " 2300: 'research',\n",
       " 5973: '1990s',\n",
       " 5562: 'saint',\n",
       " 9980: \"paul's\",\n",
       " 680: 'word',\n",
       " 4383: 'blond',\n",
       " 5626: 'understands',\n",
       " 9100: 'overwhelmed',\n",
       " 9660: 'indifference',\n",
       " 9661: 'lombard',\n",
       " 8793: 'pleasures',\n",
       " 3434: 'exercise',\n",
       " 2139: 'insane',\n",
       " 9463: 'callahan',\n",
       " 5343: 'objects',\n",
       " 2999: 'retarded',\n",
       " 9266: 'illiterate',\n",
       " 4014: 'bell',\n",
       " 4678: 'bela',\n",
       " 1252: 'adaptation',\n",
       " 6044: 'luis',\n",
       " 5847: 'belt',\n",
       " 2005: 'satire',\n",
       " 8452: 'geoffrey',\n",
       " 2198: 'treatment',\n",
       " 4140: 'awake',\n",
       " 9632: '33',\n",
       " 7368: 'pressed',\n",
       " 1087: '30',\n",
       " 8171: 'tin',\n",
       " 845: 'parents',\n",
       " 377: 'couple',\n",
       " 5677: 'pounds',\n",
       " 4315: 'chorus',\n",
       " 4485: 'behave',\n",
       " 1641: 'mouth',\n",
       " 4846: 'terrorists',\n",
       " 82: 'into',\n",
       " 8366: 'katie',\n",
       " 4015: 'atlantis',\n",
       " 1949: 'singer',\n",
       " 8063: 'atlantic',\n",
       " 8599: 'paired',\n",
       " 9267: \"chan's\",\n",
       " 7369: 'haunt',\n",
       " 9268: 'puzzling',\n",
       " 7922: 'creasy',\n",
       " 5927: 'detectives',\n",
       " 7480: 'turkish',\n",
       " 8930: 'dickinson',\n",
       " 3768: \"show's\",\n",
       " 8600: 'cannibals',\n",
       " 373: 'video',\n",
       " 6890: 'dynamics',\n",
       " 2272: 'victor',\n",
       " 8064: 'flowing',\n",
       " 5096: 'orleans',\n",
       " 165: 'makes',\n",
       " 3010: 'maker',\n",
       " 4453: 'confidence',\n",
       " 211: 'comedy',\n",
       " 1088: 'intelligent',\n",
       " 9430: 'democracy',\n",
       " 2617: 'insight',\n",
       " 5077: \"wife's\",\n",
       " 6276: 'derivative',\n",
       " 4016: 'snake',\n",
       " 3386: 'denzel',\n",
       " 1150: 'books',\n",
       " 8429: 'bigfoot',\n",
       " 2412: 'witness',\n",
       " 757: \"'\",\n",
       " 4635: 'greedy',\n",
       " 5402: 'prepare',\n",
       " 99: 'could',\n",
       " 4847: 'lumet',\n",
       " 4992: 'interests',\n",
       " 9101: 'gays',\n",
       " 2555: 'false',\n",
       " 4486: 'tonight',\n",
       " 6356: 'depict',\n",
       " 2389: 'sinatra',\n",
       " 8292: 'placement',\n",
       " 2213: 'tape',\n",
       " 3052: 'riding',\n",
       " 537: 'stuff',\n",
       " 3098: 'guessing',\n",
       " 2121: 'frame',\n",
       " 4204: 'destiny',\n",
       " 3477: 'nuclear',\n",
       " 6891: 'preminger',\n",
       " 4487: 'staring',\n",
       " 4896: 'marty',\n",
       " 6542: 'boyer',\n",
       " 630: 'english',\n",
       " 8782: 'genetic',\n",
       " 6797: 'hateful',\n",
       " 2797: 'greater',\n",
       " 124: 'off',\n",
       " 4079: 'crack',\n",
       " 412: 'become',\n",
       " 4636: 'recognition',\n",
       " 4848: 'morris',\n",
       " 1796: 'passion',\n",
       " 7264: 'imaginary',\n",
       " 3616: 'union',\n",
       " 4418: 'swimming',\n",
       " 4454: 'letters',\n",
       " 8172: 'pairing',\n",
       " 5037: 'peters',\n",
       " 5563: 'stopping',\n",
       " 8783: 'moonstruck',\n",
       " 6264: 'tossed',\n",
       " 3522: 'evident',\n",
       " 2317: 'excitement',\n",
       " 4941: 'garbo',\n",
       " 438: 'problem',\n",
       " 2934: 'nonetheless',\n",
       " 1372: 'details',\n",
       " 4993: 'exposure',\n",
       " 3832: 'dave',\n",
       " 5848: 'strings',\n",
       " 6112: 'compete',\n",
       " 7581: 'villainous',\n",
       " 7682: 'madsen',\n",
       " 5038: 'integrity',\n",
       " 4384: 'stinks',\n",
       " 4521: 'porno',\n",
       " 289: 'worth',\n",
       " 8065: 'progression',\n",
       " 3631: 'samurai',\n",
       " 3868: 'machines',\n",
       " 4718: 'viewings',\n",
       " 9537: 'equals',\n",
       " 2714: 'achieve',\n",
       " 6046: '1991',\n",
       " 4522: '1990',\n",
       " 5039: '1993',\n",
       " 7370: '1992',\n",
       " 5124: '1995',\n",
       " 6113: '1994',\n",
       " 6283: 'divorced',\n",
       " 4141: '1996',\n",
       " 4205: '1999',\n",
       " 6630: '1998',\n",
       " 998: 'era',\n",
       " 4764: 'nuts',\n",
       " 5403: 'ladder',\n",
       " 7108: 'vera',\n",
       " 7265: 'schneider',\n",
       " 3769: 'davies',\n",
       " 3971: 'innovative',\n",
       " 364: 'production',\n",
       " 4637: 'understated',\n",
       " 3715: 'reasonably',\n",
       " 6708: 'routines',\n",
       " 3792: 'reasonable',\n",
       " 2273: 'daniel',\n",
       " 1729: \"character's\",\n",
       " 3561: 'flawless',\n",
       " 159: 'another',\n",
       " 8784: 'illustrate',\n",
       " 9886: \"o'toole\",\n",
       " 9271: 'seduction',\n",
       " 2514: 'dogs',\n",
       " 2815: 'cabin',\n",
       " 1378: 'historical',\n",
       " 7371: 'enchanted',\n",
       " 7698: 'convenient',\n",
       " 4045: 'subjects',\n",
       " 9465: 'swamp',\n",
       " 2964: 'aunt',\n",
       " 2367: 'haunted',\n",
       " 1128: 'runs',\n",
       " 3387: 'horrendous',\n",
       " 3770: 'draws',\n",
       " 1308: 'drawn',\n",
       " 3266: 'encounters',\n",
       " 3515: 'handful',\n",
       " 3903: 'kitchen',\n",
       " 2026: 'essentially',\n",
       " 8060: 'han',\n",
       " 1162: 'tone',\n",
       " 3267: 'imaginative',\n",
       " 9272: 'condescending',\n",
       " 3399: 'tons',\n",
       " 2556: 'massive',\n",
       " 1222: 'tony',\n",
       " 2387: 'unlikely',\n",
       " 2104: 'brilliantly',\n",
       " 683: 'apparently',\n",
       " 4097: 'survival',\n",
       " 8601: 'fuss',\n",
       " 6631: 'quentin',\n",
       " 4488: 'humble',\n",
       " 1695: 'mid',\n",
       " 1215: 'thanks',\n",
       " 4350: 'similarities',\n",
       " 9466: 'sparse',\n",
       " 313: 'night',\n",
       " 6989: 'jacques',\n",
       " 4816: 'attorney',\n",
       " 7699: 'rendering',\n",
       " 8425: 'czech',\n",
       " 8430: 'captive',\n",
       " 2180: 'test',\n",
       " 8066: 'tess',\n",
       " 689: 'songs',\n",
       " 1119: 'concept',\n",
       " 984: 'battle',\n",
       " 8604: 'hurry',\n",
       " 9273: 'rebecca',\n",
       " 7097: 'cunningham',\n",
       " 504: 'turns',\n",
       " 1055: 'gun',\n",
       " 7266: 'gus',\n",
       " 5564: 'gut',\n",
       " 231: 'guy',\n",
       " 5748: 'rapist',\n",
       " 5518: 'shares',\n",
       " 5344: 'shared',\n",
       " 1868: \"hadn't\",\n",
       " 5290: 'teaches',\n",
       " 1749: 'teacher',\n",
       " 5678: 'sending',\n",
       " 6892: 'franklin',\n",
       " 8431: 'plotted',\n",
       " 3562: 'regardless',\n",
       " 1726: 'extra',\n",
       " 8173: 'woefully',\n",
       " 8174: 'chip',\n",
       " 1502: 'lacks',\n",
       " 3771: 'discussion',\n",
       " 3198: 'kurt',\n",
       " 7923: 'chops',\n",
       " 1223: 'brain',\n",
       " 130: 'still',\n",
       " 2439: 'drop',\n",
       " 5234: 'challenged',\n",
       " 1242: 'yeah',\n",
       " 5458: 'challenges',\n",
       " 290: 'year',\n",
       " 8293: 'gibson',\n",
       " 4591: 'transition',\n",
       " 4916: 'suffice',\n",
       " 8605: 'romania',\n",
       " 8953: 'flipping',\n",
       " 5519: 'tomorrow',\n",
       " 6758: 'seymour',\n",
       " 4080: 'brains',\n",
       " 7098: 'professionals',\n",
       " 9887: 'transferred',\n",
       " 3516: 'importantly',\n",
       " 8432: 'premiered',\n",
       " 9662: 'teamed',\n",
       " 5565: 'burst',\n",
       " 6266: 'colours',\n",
       " 3000: 'madness',\n",
       " 8606: 'foreboding',\n",
       " 5749: 'inexplicable',\n",
       " 6470: 'exploit',\n",
       " 3388: 'charismatic',\n",
       " 8433: 'dictator',\n",
       " 3478: 'elvis',\n",
       " 6357: 'offbeat',\n",
       " 2060: 'develop',\n",
       " 1643: 'food',\n",
       " 340: 'death',\n",
       " 6358: 'earnest',\n",
       " 3199: 'fortune',\n",
       " 1313: 'fully',\n",
       " 6893: 'verbal',\n",
       " 3772: 'exposed',\n",
       " 9888: 'exposes',\n",
       " 4803: 'francis',\n",
       " 217: \"isn't\",\n",
       " 7924: 'pitched',\n",
       " 2280: 'freddy',\n",
       " 6798: 'fools',\n",
       " 337: 'poor',\n",
       " 3072: 'pool',\n",
       " 7183: 'corey',\n",
       " 9468: 'overseas',\n",
       " 669: 'robert',\n",
       " 4352: 'thoughtful',\n",
       " 1735: 'religious',\n",
       " 1196: 'decide',\n",
       " 1994: 'ass',\n",
       " 1985: 'streets',\n",
       " 9469: 'bass',\n",
       " 5849: 'excess',\n",
       " 4592: 'advertising',\n",
       " 9663: 'cathy',\n",
       " 3817: 'heroic',\n",
       " 6440: 'budgets',\n",
       " 7969: 'reject',\n",
       " 9470: 'surpasses',\n",
       " 7099: 'criticize',\n",
       " 6799: 'anytime',\n",
       " 9102: 'roommates',\n",
       " 3818: 'absence',\n",
       " 773: \"haven't\",\n",
       " 4849: 'ninja',\n",
       " 8294: 'bless',\n",
       " 2446: 'fairy',\n",
       " 1184: 'heavy',\n",
       " 9103: 'jolly',\n",
       " 1634: 'lord',\n",
       " 8608: 'earns',\n",
       " 5679: 'hapless',\n",
       " 297: 'american',\n",
       " 5566: 'visions',\n",
       " 2604: 'trapped',\n",
       " 1840: 'toward',\n",
       " 4850: 'randomly',\n",
       " 9471: 'organs',\n",
       " 4897: 'caliber',\n",
       " 5680: 'physics',\n",
       " 7184: 'stalked',\n",
       " 5681: 'phenomenon',\n",
       " 5850: 'stalker',\n",
       " 9104: 'heavens',\n",
       " 9889: 'competing',\n",
       " 9155: 'imitating',\n",
       " 5627: 'fluff',\n",
       " 3400: 'hype',\n",
       " 8434: 'locale',\n",
       " 3212: 'portrait',\n",
       " 5750: 'locals',\n",
       " 6196: 'abruptly',\n",
       " 2755: 'league',\n",
       " 585: \"wouldn't\",\n",
       " 1895: 'empty',\n",
       " 7925: 'juice',\n",
       " 1013: 'match',\n",
       " 2106: 'grant',\n",
       " 8076: 'sensual',\n",
       " 1757: 'grand',\n",
       " 7268: 'composition',\n",
       " 8175: 'classmates',\n",
       " 539: 'obviously',\n",
       " 3934: 'synopsis',\n",
       " 6800: 'reviewed',\n",
       " 2214: 'reviewer',\n",
       " 799: 'showing',\n",
       " 5404: 'sketch',\n",
       " 4046: 'lips',\n",
       " 948: 'towards',\n",
       " 3541: 'silence',\n",
       " 5405: 'alison',\n",
       " 9105: 'placing',\n",
       " 7842: 'ideals',\n",
       " 728: 'similar',\n",
       " 5174: 'ordered',\n",
       " 3563: 'fears',\n",
       " 2549: 'department',\n",
       " 5851: 'smiles',\n",
       " 1959: 'unfunny',\n",
       " 8233: 'riders',\n",
       " 978: 'telling',\n",
       " 9890: 'yourselves',\n",
       " 9106: 'watered',\n",
       " 1782: 'jump',\n",
       " 8785: 'notwithstanding',\n",
       " 1361: 'vampire',\n",
       " 2783: 'lugosi',\n",
       " 2594: 'clark',\n",
       " 1920: 'manage',\n",
       " 6543: 'clara',\n",
       " 369: 'camera',\n",
       " 8295: 'boards',\n",
       " 8067: 'meek',\n",
       " 6359: 'servants',\n",
       " 908: 'meet',\n",
       " 3660: 'pulling',\n",
       " 6441: 'sought',\n",
       " 4419: 'orson',\n",
       " 9472: 'rohmer',\n",
       " 9891: 'sentiments',\n",
       " 6267: 'ronald',\n",
       " 6442: 'scoop',\n",
       " 7481: 'favourites',\n",
       " 9664: \"its'\",\n",
       " 3435: 'university',\n",
       " 6443: 'slide',\n",
       " 317: 'special',\n",
       " 6444: 'butch',\n",
       " 6632: 'obsessive',\n",
       " 8068: 'darkly',\n",
       " 6360: 'jill',\n",
       " 210: 'times',\n",
       " 8176: 'timed',\n",
       " 5459: 'bitch',\n",
       " 4560: 'wrapped',\n",
       " 7700: 'hines',\n",
       " 8435: 'bastard',\n",
       " 3352: 'battles',\n",
       " 3024: 'mansion',\n",
       " 2447: 'repeated',\n",
       " 8436: 'manga',\n",
       " 9665: 'unfinished',\n",
       " 2248: 'sheriff',\n",
       " 9163: 'hector',\n",
       " 1198: 'won',\n",
       " 3200: 'cameos',\n",
       " 9274: 'inherited',\n",
       " 671: 'episodes',\n",
       " 3661: 'ken',\n",
       " 4561: 'kicking',\n",
       " 1316: 'key',\n",
       " 4316: 'limits',\n",
       " 7701: 'cena',\n",
       " 8296: 'troopers',\n",
       " 5406: 'controlled',\n",
       " 2557: 'surface',\n",
       " 8931: 'examined',\n",
       " 5751: 'http',\n",
       " 7926: 'riff',\n",
       " 9473: 'montages',\n",
       " 3436: 'increasingly',\n",
       " 3608: 'distant',\n",
       " 9834: 'gamut',\n",
       " 8069: 'disappearance',\n",
       " 5628: 'demonstrates',\n",
       " 8932: 'cradle',\n",
       " 6709: 'demonstrated',\n",
       " 6197: 'limitations',\n",
       " 7618: 'unhinged',\n",
       " 6445: 'nightclub',\n",
       " 1148: 'pointless',\n",
       " 5460: 'additional',\n",
       " 3234: 'gain',\n",
       " 4081: 'highest',\n",
       " 9892: 'kisses',\n",
       " 3935: 'beats',\n",
       " 4420: 'education',\n",
       " 8929: 'disasters',\n",
       " 7185: 'foil',\n",
       " 3201: 'consists',\n",
       " 805: 'sorry',\n",
       " 6990: 'void',\n",
       " 2569: 'suspenseful',\n",
       " 6991: 'herbert',\n",
       " 5683: 'unrelated',\n",
       " 6801: 'enhance',\n",
       " 7372: 'iturbi',\n",
       " 7100: 'kidnap',\n",
       " 7927: 'blandings',\n",
       " 5798: 'meg',\n",
       " 3773: 'mel',\n",
       " 348: 'men',\n",
       " 3716: 'mitchell',\n",
       " 7269: 'robertson',\n",
       " 4455: 'berlin',\n",
       " 7732: 'shahid',\n",
       " 672: 'room',\n",
       " 5369: 'roof',\n",
       " 101: 'movies',\n",
       " 5629: 'exceptions',\n",
       " 3662: 'root',\n",
       " 7802: 'titular',\n",
       " 2235: 'gordon',\n",
       " 3838: 'vicious',\n",
       " 839: 'third',\n",
       " 9107: 'fable',\n",
       " 8177: 'budding',\n",
       " 964: 'personal',\n",
       " 1050: 'crew',\n",
       " 6300: 'anil',\n",
       " 2220: 'combination',\n",
       " 30: 'one',\n",
       " 2737: 'forgot',\n",
       " 4421: 'aids',\n",
       " 1289: 'comedies',\n",
       " 7702: 'mandy',\n",
       " 1076: 'uses',\n",
       " 9666: 'floors',\n",
       " 9667: 'downside',\n",
       " 8178: 'gandolfini',\n",
       " 777: 'begins',\n",
       " 4385: 'mario',\n",
       " 2906: 'maria',\n",
       " 9108: 'zealand',\n",
       " 4048: 'mildred',\n",
       " 7703: 'testing',\n",
       " 6992: 'narrated',\n",
       " 5522: 'guaranteed',\n",
       " 4358: 'represented',\n",
       " 5799: 'quinn',\n",
       " 6268: 'mathieu',\n",
       " 1642: 'asks',\n",
       " 5977: 'entered',\n",
       " 1333: 'lovely',\n",
       " 1978: 'locations',\n",
       " 6993: 'lionel',\n",
       " 1557: 'ugly',\n",
       " 2487: 'cant',\n",
       " 4353: 'realizing',\n",
       " 9475: 'ella',\n",
       " 5871: 'programs',\n",
       " 3717: 'failing',\n",
       " 8297: 'reese',\n",
       " 6446: 'yours',\n",
       " 4942: 'assigned',\n",
       " 8437: 'fighters',\n",
       " 8298: 'goodman',\n",
       " 3288: 'stunts',\n",
       " 2515: 'nude',\n",
       " 2642: 'dean',\n",
       " 854: 'deal',\n",
       " 5079: 'deaf',\n",
       " 3213: 'dear',\n",
       " 2281: 'shakespeare',\n",
       " 5126: 'confrontation',\n",
       " 2654: 'afternoon',\n",
       " 5346: 'automatically',\n",
       " 179: 'down',\n",
       " 2558: 'narration',\n",
       " 3793: 'editor',\n",
       " 3564: 'creation',\n",
       " 1353: 'batman',\n",
       " 5127: 'landing',\n",
       " 6894: 'feminine',\n",
       " 5235: 'awhile',\n",
       " 1447: 'happening',\n",
       " 3904: 'pseudo',\n",
       " 4638: 'restored',\n",
       " 335: 'father',\n",
       " 9894: 'turgid',\n",
       " 3542: 'talked',\n",
       " 6994: 'targets',\n",
       " 1780: 'suspect',\n",
       " 952: 'box',\n",
       " 429: 'boy',\n",
       " 9476: 'maguire',\n",
       " 5630: 'bow',\n",
       " 8609: 'bon',\n",
       " 7803: 'boo',\n",
       " 2045: 'bob',\n",
       " 1666: 'teenage',\n",
       " 8299: 'transplant',\n",
       " 3464: 'drags',\n",
       " 2800: 'dennis',\n",
       " 4489: 'snl',\n",
       " 6447: 'blooded',\n",
       " 567: 'police',\n",
       " 6895: 'policy',\n",
       " 9668: 'tucker',\n",
       " 6802: 'lunch',\n",
       " 8786: 'elephants',\n",
       " 7482: 'ajay',\n",
       " 3333: 'stanwyck',\n",
       " 9109: 'carnival',\n",
       " 4851: 'frequent',\n",
       " 85: 'first',\n",
       " 8933: 'fleeing',\n",
       " 1385: 'speaking',\n",
       " 1841: 'kevin',\n",
       " 4639: 'complexity',\n",
       " 2413: 'shocked',\n",
       " 8300: 'shocker',\n",
       " 6304: '200',\n",
       " 6544: 'arguing',\n",
       " 5567: 'angst',\n",
       " 4354: 'harvey',\n",
       " 1765: 'russian',\n",
       " 2527: 'treasure',\n",
       " 4994: 'travesty',\n",
       " 4804: 'enthusiasm',\n",
       " 78: 'get',\n",
       " 9110: 'gee',\n",
       " 8610: 'gen',\n",
       " 1527: 'gem',\n",
       " 1315: 'london',\n",
       " 2223: 'seat',\n",
       " 9895: 'declares',\n",
       " 9275: 'seal',\n",
       " 593: 'wonder',\n",
       " 2348: 'satisfying',\n",
       " 6048: 'label',\n",
       " 7483: 'boundaries',\n",
       " 637: 'across',\n",
       " 6995: 'august',\n",
       " 1068: 'considering',\n",
       " 2249: 'capable',\n",
       " 431: 'sort',\n",
       " 3289: 'wake',\n",
       " 4207: 'hardcore',\n",
       " 2427: 'promising',\n",
       " 7284: 'rupert',\n",
       " 7804: \"o'brien\",\n",
       " 3843: 'extended',\n",
       " 9365: 'concentrates',\n",
       " 7484: 'northam',\n",
       " 9276: 'consisted',\n",
       " 6896: 'flavor',\n",
       " 5752: 'clueless',\n",
       " 4600: 'adams',\n",
       " 4386: 'passionate',\n",
       " 256: 'each',\n",
       " 5978: 'demonic',\n",
       " 7135: 'distracted',\n",
       " 6710: 'spice',\n",
       " 1855: 'vhs',\n",
       " 8301: 'examine',\n",
       " 6448: \"she'd\",\n",
       " 1399: 'hey',\n",
       " 441: \"she's\",\n",
       " 1205: 'u',\n",
       " 7704: 'motel',\n",
       " 7186: 'plodding',\n",
       " 1137: 'former',\n",
       " 9669: 'paperhouse',\n",
       " 7582: 'strung',\n",
       " 1455: 'zero',\n",
       " 3993: 'newspaper',\n",
       " 990: 'masterpiece',\n",
       " 4898: 'mentions',\n",
       " 2414: 'africa',\n",
       " 5236: 'tacky',\n",
       " 3952: 'engaged',\n",
       " 4208: 'mill',\n",
       " 533: 'hour',\n",
       " 2282: 'recall',\n",
       " 1869: 'sucks',\n",
       " 2415: 'remain',\n",
       " 9277: 'stubborn',\n",
       " 2107: 'ford',\n",
       " 8070: 'colman',\n",
       " 5040: 'biography',\n",
       " 6070: 'homicide',\n",
       " 737: 'needs',\n",
       " 1420: 'acts',\n",
       " 9787: 'sacred',\n",
       " 5684: 'kitty',\n",
       " 8438: 'sophistication',\n",
       " 4142: 'brady',\n",
       " 2784: 'dragon',\n",
       " 5347: 'heartfelt',\n",
       " 6449: 'appeals',\n",
       " 1716: 'comedic',\n",
       " 9670: 'compound',\n",
       " 796: 'viewers',\n",
       " 735: 'mystery',\n",
       " 5685: 'repeating',\n",
       " 9477: 'rhys',\n",
       " 1727: 'engaging',\n",
       " 9998: 'edged',\n",
       " 4049: 'perry',\n",
       " 3663: \"they'll\",\n",
       " 2801: 'extraordinary',\n",
       " 6711: 'backed',\n",
       " 349: 'top',\n",
       " 6996: 'razor',\n",
       " 9897: 'mercilessly',\n",
       " 5852: 'ton',\n",
       " 826: 'tom',\n",
       " 8439: 'lifts',\n",
       " 3517: 'godfather',\n",
       " 9671: 'eggs',\n",
       " 1381: 'charm',\n",
       " 7271: 'services',\n",
       " 7583: 'rebels',\n",
       " 8302: 'chock',\n",
       " 6450: 'ebert',\n",
       " 862: 'premise',\n",
       " 2188: 'foreign',\n",
       " 212: 'point',\n",
       " 3268: 'expensive',\n",
       " 7929: 'screened',\n",
       " 8021: 'variation',\n",
       " 5853: 'politician',\n",
       " 5632: 'widescreen',\n",
       " 1116: 'century',\n",
       " 7930: 'tashan',\n",
       " 8911: '1965',\n",
       " 7169: '1967',\n",
       " 3295: 'knock',\n",
       " 6392: 'foolish',\n",
       " 7584: 'candle',\n",
       " 150: 'though',\n",
       " 8802: 'manipulate',\n",
       " 4594: 'abusive',\n",
       " 9672: 'underused',\n",
       " 2692: 'murphy',\n",
       " 9479: 'stripped',\n",
       " 8303: 'scarlet',\n",
       " 4317: 'cure',\n",
       " 8787: 'stripper',\n",
       " 1253: 'utterly',\n",
       " 6269: 'implied',\n",
       " 2264: 'portraying',\n",
       " 5291: 'literary',\n",
       " 5753: 'pleasing',\n",
       " 435: 'entire',\n",
       " 6997: 'rivers',\n",
       " 1921: 'fat',\n",
       " 9111: 'archer',\n",
       " 8934: 'healing',\n",
       " 3953: 'escaped',\n",
       " 2721: 'closing',\n",
       " 9278: 'didnt',\n",
       " 2385: 'continuity',\n",
       " 7187: 'varied',\n",
       " 1776: 'holds',\n",
       " 4983: 'suspend',\n",
       " 7485: 'profile',\n",
       " 105: 'watch',\n",
       " 9368: 'incompetence',\n",
       " 3186: 'chasing',\n",
       " 7705: 'subsequently',\n",
       " 8788: 'grendel',\n",
       " 5080: 'grayson',\n",
       " 4143: 'blatant',\n",
       " 4763: 'lively',\n",
       " 860: 'sexual',\n",
       " 5041: 'yard',\n",
       " 8440: 'yarn',\n",
       " 4230: 'reaches',\n",
       " 3819: 'reached',\n",
       " 8441: 'spelling',\n",
       " 7188: 'sweden',\n",
       " 27: 'have',\n",
       " 4765: 'prisoner',\n",
       " 3496: 'disease',\n",
       " 4082: 'occasion',\n",
       " 3419: 'hamlet',\n",
       " 1856: 'knowledge',\n",
       " 3202: 'perfection',\n",
       " 6270: 'teams',\n",
       " 4900: 'showdown',\n",
       " 6361: 'bruno',\n",
       " 9673: 'incarnation',\n",
       " 3870: 'antics',\n",
       " 7486: 'russ',\n",
       " 974: 'joke',\n",
       " 3214: 'equal',\n",
       " 7706: 'fassbinder',\n",
       " 44: \"it's\",\n",
       " 9898: \"it'd\",\n",
       " 9112: 'locales',\n",
       " 7931: 'meredith',\n",
       " 5128: 'frustrating',\n",
       " 2591: 'powell',\n",
       " 9899: 'exceedingly',\n",
       " 5686: 'stores',\n",
       " 5177: 'griffith',\n",
       " 6271: 'resolved',\n",
       " 7932: 'doyle',\n",
       " 39: 'like',\n",
       " 5754: 'vibrant',\n",
       " 6998: 'admitted',\n",
       " 2283: 'chick',\n",
       " 1152: 'hair',\n",
       " 5491: 'recommendation',\n",
       " 7272: 'hysterically',\n",
       " 9279: 'lieutenant',\n",
       " 8442: 'uptight',\n",
       " 4318: 'introduces',\n",
       " 3311: 'rushed',\n",
       " 9480: 'rushes',\n",
       " 7422: \"'80s\",\n",
       " 6803: 'coke',\n",
       " 7807: 'flip',\n",
       " 9113: 'thorn',\n",
       " 5600: 'circus',\n",
       " 1809: 'dressed',\n",
       " 1588: 'detail',\n",
       " 5349: 'dresses',\n",
       " 5568: \"daughter's\",\n",
       " 9900: \"ted's\",\n",
       " 6451: 'harriet',\n",
       " 1503: 'direct',\n",
       " 4422: 'nail',\n",
       " 823: 'doubt',\n",
       " 6545: 'selected',\n",
       " 3053: 'revolves',\n",
       " 8179: 'revolver',\n",
       " 8180: 'liberty',\n",
       " 888: 'leaves',\n",
       " 320: 'excellent',\n",
       " 7808: 'salvage',\n",
       " 3518: 'estate',\n",
       " 5687: 'attract',\n",
       " 8470: 'ceremony',\n",
       " 5854: 'keen',\n",
       " 8444: 'drummer',\n",
       " 2785: 'description',\n",
       " 9901: 'insecure',\n",
       " 4679: 'parallel',\n",
       " 8445: 'amid',\n",
       " 6804: 'upside',\n",
       " 2879: 'succeeds',\n",
       " 7189: 'detroit',\n",
       " 4699: 'newly',\n",
       " 5755: 'independence',\n",
       " 8181: 'associate',\n",
       " 503: 'days',\n",
       " ...}"
      ]
     },
     "execution_count": 25,
     "metadata": {},
     "output_type": "execute_result"
    }
   ],
   "source": [
    "idx2word"
   ]
  },
  {
   "cell_type": "code",
   "execution_count": null,
   "metadata": {
    "colab": {
     "base_uri": "https://localhost:8080/"
    },
    "id": "dRnFdmyrMSv0",
    "outputId": "a2ecd146-c7a8-44dc-e9bc-05cf1faaf6c9"
   },
   "outputs": [
    {
     "name": "stdout",
     "output_type": "stream",
     "text": [
      "<START> this film was just brilliant casting location scenery story direction everyone's really suited the part they played and you could just imagine being there robert <UNK> is an amazing actor and now the same being director <UNK> father came from the same scottish island as myself so i loved the fact there was a real connection with this film the witty remarks throughout the film were great it was just brilliant so much that i bought the film as soon as it was released for <UNK> and would recommend it to everyone to watch and the fly fishing was amazing really cried at the end it was so sad and you know what they say if you cry at a film it must have been good and this definitely was also <UNK> to the two little boy's that played the <UNK> of norman and paul they were just brilliant children are often left out of the <UNK> list i think because the stars that play them all grown up are such a big profile for the whole film but these children are amazing and should be praised for what they have done don't you think the whole story was so lovely because it was true and was someone's life after all that was shared with us all\n"
     ]
    }
   ],
   "source": [
    "print(' '.join(idx2word[idx] for idx in train_data[0]))"
   ]
  },
  {
   "cell_type": "markdown",
   "metadata": {
    "id": "TFs4QSdFJrWL"
   },
   "source": [
    "###**8. Visualizing the Word_Embeddings**\n",
    "\n",
    "Visualize the word embeddings for 10 of the words using pandas DataFrame like we did in lab 3"
   ]
  },
  {
   "cell_type": "code",
   "execution_count": null,
   "metadata": {
    "colab": {
     "base_uri": "https://localhost:8080/"
    },
    "id": "WBKQU5KmMnsx",
    "outputId": "6050381b-6389-48b9-b58c-762a2d00c90e"
   },
   "outputs": [
    {
     "data": {
      "text/plain": [
       "array([[-0.01904705, -0.0027265 , -0.02350598, ...,  0.01209533,\n",
       "        -0.01043965, -0.00165554],\n",
       "       [-0.02345503,  0.02290316,  0.01557908, ..., -0.00821818,\n",
       "         0.00249657,  0.01660905],\n",
       "       [-0.01874419, -0.01338932,  0.01542433, ...,  0.0168003 ,\n",
       "        -0.0042566 ,  0.0183716 ],\n",
       "       ...,\n",
       "       [-0.00381319, -0.00777474, -0.00262611, ..., -0.02051652,\n",
       "         0.00635136, -0.02006126],\n",
       "       [-0.05107548, -0.05612506,  0.00450263, ...,  0.03216454,\n",
       "         0.04766121,  0.04888736],\n",
       "       [-0.04665054, -0.02150022,  0.00535526, ...,  0.02982018,\n",
       "         0.0130703 ,  0.01605515]], dtype=float32)"
      ]
     },
     "execution_count": 27,
     "metadata": {},
     "output_type": "execute_result"
    }
   ],
   "source": [
    "word_embeddings"
   ]
  },
  {
   "cell_type": "code",
   "execution_count": null,
   "metadata": {
    "colab": {
     "base_uri": "https://localhost:8080/"
    },
    "id": "gXIKCNvKNikI",
    "outputId": "ee9030ce-cbd8-4e6c-8c95-8084c3e4dc42"
   },
   "outputs": [
    {
     "data": {
      "text/plain": [
       "10000"
      ]
     },
     "execution_count": 28,
     "metadata": {},
     "output_type": "execute_result"
    }
   ],
   "source": [
    "len(idx2word)"
   ]
  },
  {
   "cell_type": "code",
   "execution_count": null,
   "metadata": {
    "id": "EFJ706FOM2wo"
   },
   "outputs": [],
   "source": [
    "import pandas as pd\n",
    "df = pd.DataFrame(word_embeddings)"
   ]
  },
  {
   "cell_type": "code",
   "execution_count": null,
   "metadata": {
    "id": "KTaj4de3M-58"
   },
   "outputs": [],
   "source": [
    "df_word=pd.DataFrame(idx2word.values(), columns=['word'])"
   ]
  },
  {
   "cell_type": "code",
   "execution_count": null,
   "metadata": {
    "id": "_GNzC_blOsDS"
   },
   "outputs": [],
   "source": [
    "full_df=pd.concat([df_word, df],axis=1)"
   ]
  },
  {
   "cell_type": "code",
   "execution_count": null,
   "metadata": {
    "colab": {
     "base_uri": "https://localhost:8080/",
     "height": 436
    },
    "id": "lb3iCG_qOYH_",
    "outputId": "3c18fcd0-f9ac-4701-99e8-40507ee6e2c5"
   },
   "outputs": [
    {
     "data": {
      "text/html": [
       "\n",
       "  <div id=\"df-0d16ded6-45c0-47e7-997a-802f93ebe2b6\">\n",
       "    <div class=\"colab-df-container\">\n",
       "      <div>\n",
       "<style scoped>\n",
       "    .dataframe tbody tr th:only-of-type {\n",
       "        vertical-align: middle;\n",
       "    }\n",
       "\n",
       "    .dataframe tbody tr th {\n",
       "        vertical-align: top;\n",
       "    }\n",
       "\n",
       "    .dataframe thead th {\n",
       "        text-align: right;\n",
       "    }\n",
       "</style>\n",
       "<table border=\"1\" class=\"dataframe\">\n",
       "  <thead>\n",
       "    <tr style=\"text-align: right;\">\n",
       "      <th></th>\n",
       "      <th>word</th>\n",
       "      <th>0</th>\n",
       "      <th>1</th>\n",
       "      <th>2</th>\n",
       "      <th>3</th>\n",
       "      <th>4</th>\n",
       "      <th>5</th>\n",
       "      <th>6</th>\n",
       "      <th>7</th>\n",
       "      <th>8</th>\n",
       "      <th>...</th>\n",
       "      <th>90</th>\n",
       "      <th>91</th>\n",
       "      <th>92</th>\n",
       "      <th>93</th>\n",
       "      <th>94</th>\n",
       "      <th>95</th>\n",
       "      <th>96</th>\n",
       "      <th>97</th>\n",
       "      <th>98</th>\n",
       "      <th>99</th>\n",
       "    </tr>\n",
       "  </thead>\n",
       "  <tbody>\n",
       "    <tr>\n",
       "      <th>0</th>\n",
       "      <td>woods</td>\n",
       "      <td>-0.019047</td>\n",
       "      <td>-0.002726</td>\n",
       "      <td>-0.023506</td>\n",
       "      <td>-0.012242</td>\n",
       "      <td>0.018512</td>\n",
       "      <td>-0.004842</td>\n",
       "      <td>-0.001334</td>\n",
       "      <td>0.023618</td>\n",
       "      <td>0.018694</td>\n",
       "      <td>...</td>\n",
       "      <td>0.020619</td>\n",
       "      <td>-0.021203</td>\n",
       "      <td>-0.003388</td>\n",
       "      <td>-0.006076</td>\n",
       "      <td>0.010034</td>\n",
       "      <td>0.020930</td>\n",
       "      <td>0.017838</td>\n",
       "      <td>0.012095</td>\n",
       "      <td>-0.010440</td>\n",
       "      <td>-0.001656</td>\n",
       "    </tr>\n",
       "    <tr>\n",
       "      <th>1</th>\n",
       "      <td>hanging</td>\n",
       "      <td>-0.023455</td>\n",
       "      <td>0.022903</td>\n",
       "      <td>0.015579</td>\n",
       "      <td>0.024484</td>\n",
       "      <td>-0.028078</td>\n",
       "      <td>0.004645</td>\n",
       "      <td>-0.011594</td>\n",
       "      <td>-0.006102</td>\n",
       "      <td>0.021463</td>\n",
       "      <td>...</td>\n",
       "      <td>0.007411</td>\n",
       "      <td>0.013870</td>\n",
       "      <td>0.004521</td>\n",
       "      <td>0.007414</td>\n",
       "      <td>0.005756</td>\n",
       "      <td>-0.004162</td>\n",
       "      <td>0.008085</td>\n",
       "      <td>-0.008218</td>\n",
       "      <td>0.002497</td>\n",
       "      <td>0.016609</td>\n",
       "    </tr>\n",
       "    <tr>\n",
       "      <th>2</th>\n",
       "      <td>woody</td>\n",
       "      <td>-0.018744</td>\n",
       "      <td>-0.013389</td>\n",
       "      <td>0.015424</td>\n",
       "      <td>-0.009389</td>\n",
       "      <td>-0.007300</td>\n",
       "      <td>-0.013153</td>\n",
       "      <td>-0.012117</td>\n",
       "      <td>-0.001019</td>\n",
       "      <td>-0.006265</td>\n",
       "      <td>...</td>\n",
       "      <td>-0.002932</td>\n",
       "      <td>0.003509</td>\n",
       "      <td>0.008756</td>\n",
       "      <td>-0.006475</td>\n",
       "      <td>0.009486</td>\n",
       "      <td>-0.001705</td>\n",
       "      <td>0.000385</td>\n",
       "      <td>0.016800</td>\n",
       "      <td>-0.004257</td>\n",
       "      <td>0.018372</td>\n",
       "    </tr>\n",
       "    <tr>\n",
       "      <th>3</th>\n",
       "      <td>arranged</td>\n",
       "      <td>-0.002259</td>\n",
       "      <td>-0.007126</td>\n",
       "      <td>0.016470</td>\n",
       "      <td>0.011843</td>\n",
       "      <td>0.010162</td>\n",
       "      <td>-0.006637</td>\n",
       "      <td>0.004898</td>\n",
       "      <td>-0.003348</td>\n",
       "      <td>-0.015230</td>\n",
       "      <td>...</td>\n",
       "      <td>0.014097</td>\n",
       "      <td>0.013031</td>\n",
       "      <td>0.014674</td>\n",
       "      <td>-0.004024</td>\n",
       "      <td>-0.024447</td>\n",
       "      <td>-0.004249</td>\n",
       "      <td>0.010542</td>\n",
       "      <td>0.008678</td>\n",
       "      <td>-0.008957</td>\n",
       "      <td>0.019900</td>\n",
       "    </tr>\n",
       "    <tr>\n",
       "      <th>4</th>\n",
       "      <td>bringing</td>\n",
       "      <td>-0.026006</td>\n",
       "      <td>0.005137</td>\n",
       "      <td>0.020172</td>\n",
       "      <td>0.032875</td>\n",
       "      <td>-0.012804</td>\n",
       "      <td>-0.013644</td>\n",
       "      <td>0.010825</td>\n",
       "      <td>-0.006213</td>\n",
       "      <td>0.003700</td>\n",
       "      <td>...</td>\n",
       "      <td>-0.002371</td>\n",
       "      <td>-0.005895</td>\n",
       "      <td>-0.024197</td>\n",
       "      <td>0.003256</td>\n",
       "      <td>-0.014065</td>\n",
       "      <td>-0.016816</td>\n",
       "      <td>-0.014207</td>\n",
       "      <td>-0.015323</td>\n",
       "      <td>0.000157</td>\n",
       "      <td>-0.012180</td>\n",
       "    </tr>\n",
       "    <tr>\n",
       "      <th>5</th>\n",
       "      <td>wooden</td>\n",
       "      <td>0.010720</td>\n",
       "      <td>-0.012827</td>\n",
       "      <td>0.015667</td>\n",
       "      <td>0.000669</td>\n",
       "      <td>-0.003770</td>\n",
       "      <td>-0.004345</td>\n",
       "      <td>-0.025865</td>\n",
       "      <td>-0.008908</td>\n",
       "      <td>0.027886</td>\n",
       "      <td>...</td>\n",
       "      <td>0.010232</td>\n",
       "      <td>-0.007770</td>\n",
       "      <td>0.007727</td>\n",
       "      <td>0.022760</td>\n",
       "      <td>0.003314</td>\n",
       "      <td>-0.024586</td>\n",
       "      <td>0.002035</td>\n",
       "      <td>-0.013008</td>\n",
       "      <td>0.018921</td>\n",
       "      <td>0.010646</td>\n",
       "    </tr>\n",
       "    <tr>\n",
       "      <th>6</th>\n",
       "      <td>errors</td>\n",
       "      <td>-0.005711</td>\n",
       "      <td>0.016372</td>\n",
       "      <td>-0.008042</td>\n",
       "      <td>0.017728</td>\n",
       "      <td>-0.017253</td>\n",
       "      <td>-0.007973</td>\n",
       "      <td>0.015858</td>\n",
       "      <td>0.012899</td>\n",
       "      <td>-0.005173</td>\n",
       "      <td>...</td>\n",
       "      <td>0.001101</td>\n",
       "      <td>-0.026779</td>\n",
       "      <td>-0.014976</td>\n",
       "      <td>0.002464</td>\n",
       "      <td>0.015370</td>\n",
       "      <td>-0.019347</td>\n",
       "      <td>-0.004184</td>\n",
       "      <td>-0.006851</td>\n",
       "      <td>0.006859</td>\n",
       "      <td>-0.008376</td>\n",
       "    </tr>\n",
       "    <tr>\n",
       "      <th>7</th>\n",
       "      <td>dialogs</td>\n",
       "      <td>-0.020183</td>\n",
       "      <td>0.007457</td>\n",
       "      <td>-0.019386</td>\n",
       "      <td>0.032144</td>\n",
       "      <td>0.023949</td>\n",
       "      <td>0.006002</td>\n",
       "      <td>0.016384</td>\n",
       "      <td>-0.008352</td>\n",
       "      <td>0.029656</td>\n",
       "      <td>...</td>\n",
       "      <td>-0.014323</td>\n",
       "      <td>0.009991</td>\n",
       "      <td>0.002567</td>\n",
       "      <td>0.031275</td>\n",
       "      <td>-0.003118</td>\n",
       "      <td>-0.010924</td>\n",
       "      <td>-0.006789</td>\n",
       "      <td>0.003200</td>\n",
       "      <td>0.011572</td>\n",
       "      <td>0.021074</td>\n",
       "    </tr>\n",
       "    <tr>\n",
       "      <th>8</th>\n",
       "      <td>kids</td>\n",
       "      <td>0.008666</td>\n",
       "      <td>-0.017093</td>\n",
       "      <td>-0.005807</td>\n",
       "      <td>0.004040</td>\n",
       "      <td>-0.011783</td>\n",
       "      <td>0.000798</td>\n",
       "      <td>-0.025670</td>\n",
       "      <td>-0.022568</td>\n",
       "      <td>-0.002256</td>\n",
       "      <td>...</td>\n",
       "      <td>0.003039</td>\n",
       "      <td>-0.024170</td>\n",
       "      <td>-0.000361</td>\n",
       "      <td>-0.015800</td>\n",
       "      <td>0.016455</td>\n",
       "      <td>0.003849</td>\n",
       "      <td>-0.005937</td>\n",
       "      <td>0.017247</td>\n",
       "      <td>0.013366</td>\n",
       "      <td>0.027088</td>\n",
       "    </tr>\n",
       "    <tr>\n",
       "      <th>9</th>\n",
       "      <td>uplifting</td>\n",
       "      <td>-0.018160</td>\n",
       "      <td>-0.007608</td>\n",
       "      <td>-0.011009</td>\n",
       "      <td>0.006236</td>\n",
       "      <td>0.016880</td>\n",
       "      <td>-0.011226</td>\n",
       "      <td>0.018973</td>\n",
       "      <td>-0.013647</td>\n",
       "      <td>-0.011022</td>\n",
       "      <td>...</td>\n",
       "      <td>0.018039</td>\n",
       "      <td>-0.001280</td>\n",
       "      <td>-0.001686</td>\n",
       "      <td>-0.000118</td>\n",
       "      <td>-0.024261</td>\n",
       "      <td>0.005970</td>\n",
       "      <td>-0.007267</td>\n",
       "      <td>-0.001252</td>\n",
       "      <td>-0.013261</td>\n",
       "      <td>0.007336</td>\n",
       "    </tr>\n",
       "  </tbody>\n",
       "</table>\n",
       "<p>10 rows × 101 columns</p>\n",
       "</div>\n",
       "      <button class=\"colab-df-convert\" onclick=\"convertToInteractive('df-0d16ded6-45c0-47e7-997a-802f93ebe2b6')\"\n",
       "              title=\"Convert this dataframe to an interactive table.\"\n",
       "              style=\"display:none;\">\n",
       "        \n",
       "  <svg xmlns=\"http://www.w3.org/2000/svg\" height=\"24px\"viewBox=\"0 0 24 24\"\n",
       "       width=\"24px\">\n",
       "    <path d=\"M0 0h24v24H0V0z\" fill=\"none\"/>\n",
       "    <path d=\"M18.56 5.44l.94 2.06.94-2.06 2.06-.94-2.06-.94-.94-2.06-.94 2.06-2.06.94zm-11 1L8.5 8.5l.94-2.06 2.06-.94-2.06-.94L8.5 2.5l-.94 2.06-2.06.94zm10 10l.94 2.06.94-2.06 2.06-.94-2.06-.94-.94-2.06-.94 2.06-2.06.94z\"/><path d=\"M17.41 7.96l-1.37-1.37c-.4-.4-.92-.59-1.43-.59-.52 0-1.04.2-1.43.59L10.3 9.45l-7.72 7.72c-.78.78-.78 2.05 0 2.83L4 21.41c.39.39.9.59 1.41.59.51 0 1.02-.2 1.41-.59l7.78-7.78 2.81-2.81c.8-.78.8-2.07 0-2.86zM5.41 20L4 18.59l7.72-7.72 1.47 1.35L5.41 20z\"/>\n",
       "  </svg>\n",
       "      </button>\n",
       "      \n",
       "  <style>\n",
       "    .colab-df-container {\n",
       "      display:flex;\n",
       "      flex-wrap:wrap;\n",
       "      gap: 12px;\n",
       "    }\n",
       "\n",
       "    .colab-df-convert {\n",
       "      background-color: #E8F0FE;\n",
       "      border: none;\n",
       "      border-radius: 50%;\n",
       "      cursor: pointer;\n",
       "      display: none;\n",
       "      fill: #1967D2;\n",
       "      height: 32px;\n",
       "      padding: 0 0 0 0;\n",
       "      width: 32px;\n",
       "    }\n",
       "\n",
       "    .colab-df-convert:hover {\n",
       "      background-color: #E2EBFA;\n",
       "      box-shadow: 0px 1px 2px rgba(60, 64, 67, 0.3), 0px 1px 3px 1px rgba(60, 64, 67, 0.15);\n",
       "      fill: #174EA6;\n",
       "    }\n",
       "\n",
       "    [theme=dark] .colab-df-convert {\n",
       "      background-color: #3B4455;\n",
       "      fill: #D2E3FC;\n",
       "    }\n",
       "\n",
       "    [theme=dark] .colab-df-convert:hover {\n",
       "      background-color: #434B5C;\n",
       "      box-shadow: 0px 1px 3px 1px rgba(0, 0, 0, 0.15);\n",
       "      filter: drop-shadow(0px 1px 2px rgba(0, 0, 0, 0.3));\n",
       "      fill: #FFFFFF;\n",
       "    }\n",
       "  </style>\n",
       "\n",
       "      <script>\n",
       "        const buttonEl =\n",
       "          document.querySelector('#df-0d16ded6-45c0-47e7-997a-802f93ebe2b6 button.colab-df-convert');\n",
       "        buttonEl.style.display =\n",
       "          google.colab.kernel.accessAllowed ? 'block' : 'none';\n",
       "\n",
       "        async function convertToInteractive(key) {\n",
       "          const element = document.querySelector('#df-0d16ded6-45c0-47e7-997a-802f93ebe2b6');\n",
       "          const dataTable =\n",
       "            await google.colab.kernel.invokeFunction('convertToInteractive',\n",
       "                                                     [key], {});\n",
       "          if (!dataTable) return;\n",
       "\n",
       "          const docLinkHtml = 'Like what you see? Visit the ' +\n",
       "            '<a target=\"_blank\" href=https://colab.research.google.com/notebooks/data_table.ipynb>data table notebook</a>'\n",
       "            + ' to learn more about interactive tables.';\n",
       "          element.innerHTML = '';\n",
       "          dataTable['output_type'] = 'display_data';\n",
       "          await google.colab.output.renderOutput(dataTable, element);\n",
       "          const docLink = document.createElement('div');\n",
       "          docLink.innerHTML = docLinkHtml;\n",
       "          element.appendChild(docLink);\n",
       "        }\n",
       "      </script>\n",
       "    </div>\n",
       "  </div>\n",
       "  "
      ],
      "text/plain": [
       "        word         0         1         2         3         4         5  \\\n",
       "0      woods -0.019047 -0.002726 -0.023506 -0.012242  0.018512 -0.004842   \n",
       "1    hanging -0.023455  0.022903  0.015579  0.024484 -0.028078  0.004645   \n",
       "2      woody -0.018744 -0.013389  0.015424 -0.009389 -0.007300 -0.013153   \n",
       "3   arranged -0.002259 -0.007126  0.016470  0.011843  0.010162 -0.006637   \n",
       "4   bringing -0.026006  0.005137  0.020172  0.032875 -0.012804 -0.013644   \n",
       "5     wooden  0.010720 -0.012827  0.015667  0.000669 -0.003770 -0.004345   \n",
       "6     errors -0.005711  0.016372 -0.008042  0.017728 -0.017253 -0.007973   \n",
       "7    dialogs -0.020183  0.007457 -0.019386  0.032144  0.023949  0.006002   \n",
       "8       kids  0.008666 -0.017093 -0.005807  0.004040 -0.011783  0.000798   \n",
       "9  uplifting -0.018160 -0.007608 -0.011009  0.006236  0.016880 -0.011226   \n",
       "\n",
       "          6         7         8  ...        90        91        92        93  \\\n",
       "0 -0.001334  0.023618  0.018694  ...  0.020619 -0.021203 -0.003388 -0.006076   \n",
       "1 -0.011594 -0.006102  0.021463  ...  0.007411  0.013870  0.004521  0.007414   \n",
       "2 -0.012117 -0.001019 -0.006265  ... -0.002932  0.003509  0.008756 -0.006475   \n",
       "3  0.004898 -0.003348 -0.015230  ...  0.014097  0.013031  0.014674 -0.004024   \n",
       "4  0.010825 -0.006213  0.003700  ... -0.002371 -0.005895 -0.024197  0.003256   \n",
       "5 -0.025865 -0.008908  0.027886  ...  0.010232 -0.007770  0.007727  0.022760   \n",
       "6  0.015858  0.012899 -0.005173  ...  0.001101 -0.026779 -0.014976  0.002464   \n",
       "7  0.016384 -0.008352  0.029656  ... -0.014323  0.009991  0.002567  0.031275   \n",
       "8 -0.025670 -0.022568 -0.002256  ...  0.003039 -0.024170 -0.000361 -0.015800   \n",
       "9  0.018973 -0.013647 -0.011022  ...  0.018039 -0.001280 -0.001686 -0.000118   \n",
       "\n",
       "         94        95        96        97        98        99  \n",
       "0  0.010034  0.020930  0.017838  0.012095 -0.010440 -0.001656  \n",
       "1  0.005756 -0.004162  0.008085 -0.008218  0.002497  0.016609  \n",
       "2  0.009486 -0.001705  0.000385  0.016800 -0.004257  0.018372  \n",
       "3 -0.024447 -0.004249  0.010542  0.008678 -0.008957  0.019900  \n",
       "4 -0.014065 -0.016816 -0.014207 -0.015323  0.000157 -0.012180  \n",
       "5  0.003314 -0.024586  0.002035 -0.013008  0.018921  0.010646  \n",
       "6  0.015370 -0.019347 -0.004184 -0.006851  0.006859 -0.008376  \n",
       "7 -0.003118 -0.010924 -0.006789  0.003200  0.011572  0.021074  \n",
       "8  0.016455  0.003849 -0.005937  0.017247  0.013366  0.027088  \n",
       "9 -0.024261  0.005970 -0.007267 -0.001252 -0.013261  0.007336  \n",
       "\n",
       "[10 rows x 101 columns]"
      ]
     },
     "execution_count": 32,
     "metadata": {},
     "output_type": "execute_result"
    }
   ],
   "source": [
    "full_df.head(10)"
   ]
  },
  {
   "cell_type": "markdown",
   "metadata": {
    "id": "k0fyfgvB90G5"
   },
   "source": [
    "###**9. Plot your Word Embeddings using t-SNE**\n"
   ]
  },
  {
   "cell_type": "code",
   "execution_count": null,
   "metadata": {
    "colab": {
     "base_uri": "https://localhost:8080/",
     "height": 576
    },
    "id": "aM6rUsSaP7A5",
    "outputId": "909fdf71-c2ad-4135-ddc2-1c563c24aa50"
   },
   "outputs": [
    {
     "name": "stderr",
     "output_type": "stream",
     "text": [
      "/usr/local/lib/python3.7/dist-packages/sklearn/manifold/_t_sne.py:793: FutureWarning: The default learning rate in TSNE will change from 200.0 to 'auto' in 1.2.\n",
      "  FutureWarning,\n",
      "/usr/local/lib/python3.7/dist-packages/sklearn/manifold/_t_sne.py:986: FutureWarning: The PCA initialization in TSNE will change to have the standard deviation of PC1 equal to 1e-4 in 1.2. This will ensure better convergence.\n",
      "  FutureWarning,\n"
     ]
    },
    {
     "data": {
      "image/png": "[encoded data removed]",
      "text/plain": [
       "<Figure size 1008x576 with 1 Axes>"
      ]
     },
     "metadata": {
      "needs_background": "light"
     },
     "output_type": "display_data"
    }
   ],
   "source": [
    "import numpy as np\n",
    "from sklearn.manifold import TSNE\n",
    "import matplotlib.pyplot as plt\n",
    "\n",
    "tsne = TSNE(perplexity=3, n_components=2, init='pca', n_iter=5000, method='exact')\n",
    "np.set_printoptions(suppress=True)\n",
    "plot_only = 50\n",
    "\n",
    "# don't plot the special tokens\n",
    "start = 3\n",
    "T = tsne.fit_transform(word_embeddings[start:plot_only, :])\n",
    "labels = [idx2word[i] for i in range(start, plot_only)]\n",
    "plt.figure(figsize=(14, 8))\n",
    "plt.scatter(T[:, 0], T[:, 1])\n",
    "for label, x, y in zip(labels, T[:, 0], T[:, 1]):\n",
    "    plt.annotate(label, xy=(x+1, y+1), xytext=(0, 0), textcoords='offset points', ha='right', va='bottom')                      \t                        \n"
   ]
  },
  {
   "cell_type": "markdown",
   "metadata": {
    "id": "sHdy4PDVO8TN"
   },
   "source": [
    "###**10. Questions**\n",
    "\n",
    "1. Create a new model that is a copy of the model step 3. To this new model,add two dropout layers, one between the embedding layer and the LSTM layer and another between the LSTM layer and the output layer. Repeat steps 4 and 5 for this model. What do you observe?\n",
    "\n",
    "2. Experiment with training the model with batch sizes of 1, 32, len(training_data). What do you observe?\n",
    "\n",
    "3. (optional) Can you retrain with a Bidirectional LSTM instead of an LSTM? What do you observe about the Bi-LSTM model?\n"
   ]
  },
  {
   "cell_type": "markdown",
   "metadata": {
    "id": "1s2UX1xJKF8p"
   },
   "source": [
    "## 1"
   ]
  },
  {
   "cell_type": "code",
   "execution_count": null,
   "metadata": {
    "id": "EM8uDlvBlIgz"
   },
   "outputs": [],
   "source": [
    "from keras.layers import Dropout"
   ]
  },
  {
   "cell_type": "code",
   "execution_count": null,
   "metadata": {
    "id": "LMbGytL9jeJj"
   },
   "outputs": [],
   "source": [
    "dropout_1=Dropout(0.2)(target_embedding) #Adding dropout layer 1\n",
    "LSTM_layer=LSTM(units=100,activation='tanh',return_sequences=False)(dropout_1)\n",
    "dropout_2=Dropout(0.2)(LSTM_layer) #Adding dropout layer 2\n",
    "output_layer = Dense(1,activation = 'relu')(dropout_2)\n",
    "model2 = Model(inputs=[target_word], outputs=output_layer)\n",
    "model2.compile(loss='binary_crossentropy', optimizer = 'adam', metrics = ['accuracy'])"
   ]
  },
  {
   "cell_type": "code",
   "execution_count": null,
   "metadata": {
    "colab": {
     "base_uri": "https://localhost:8080/"
    },
    "id": "GkO9QgkvjeGF",
    "outputId": "53603b10-bc1e-46c7-c616-112807d12dca"
   },
   "outputs": [
    {
     "name": "stdout",
     "output_type": "stream",
     "text": [
      "Model: \"model_1\"\n",
      "_________________________________________________________________\n",
      " Layer (type)                Output Shape              Param #   \n",
      "=================================================================\n",
      " input_1 (InputLayer)        [(None, 500)]             0         \n",
      "                                                                 \n",
      " target_embed_layer (Embeddi  (None, 500, 100)         1000000   \n",
      " ng)                                                             \n",
      "                                                                 \n",
      " dropout (Dropout)           (None, 500, 100)          0         \n",
      "                                                                 \n",
      " lstm_1 (LSTM)               (None, 100)               80400     \n",
      "                                                                 \n",
      " dropout_1 (Dropout)         (None, 100)               0         \n",
      "                                                                 \n",
      " dense_1 (Dense)             (None, 1)                 101       \n",
      "                                                                 \n",
      "=================================================================\n",
      "Total params: 1,080,501\n",
      "Trainable params: 1,080,501\n",
      "Non-trainable params: 0\n",
      "_________________________________________________________________\n"
     ]
    }
   ],
   "source": [
    "model2.summary()"
   ]
  },
  {
   "cell_type": "code",
   "execution_count": null,
   "metadata": {
    "colab": {
     "base_uri": "https://localhost:8080/"
    },
    "id": "GvJkW6U1jd6-",
    "outputId": "c1cb4912-8a26-4432-986a-512c15a70e2b"
   },
   "outputs": [
    {
     "name": "stdout",
     "output_type": "stream",
     "text": [
      "Epoch 1/6\n",
      "23/23 [==============================] - 208s 9s/step - loss: 0.9604 - accuracy: 0.5595 - val_loss: 0.7271 - val_accuracy: 0.4965\n",
      "Epoch 2/6\n",
      "23/23 [==============================] - 195s 8s/step - loss: 0.6564 - accuracy: 0.5396 - val_loss: 0.6017 - val_accuracy: 0.6385\n",
      "Epoch 3/6\n",
      "23/23 [==============================] - 194s 8s/step - loss: 0.4965 - accuracy: 0.7781 - val_loss: 0.4926 - val_accuracy: 0.7715\n",
      "Epoch 4/6\n",
      "23/23 [==============================] - 195s 8s/step - loss: 0.4108 - accuracy: 0.8404 - val_loss: 0.5275 - val_accuracy: 0.7955\n",
      "Epoch 5/6\n",
      "23/23 [==============================] - 193s 8s/step - loss: 0.3557 - accuracy: 0.8754 - val_loss: 0.5336 - val_accuracy: 0.8275\n",
      "Epoch 6/6\n",
      "23/23 [==============================] - 193s 8s/step - loss: 0.3786 - accuracy: 0.8445 - val_loss: 0.5756 - val_accuracy: 0.8140\n"
     ]
    }
   ],
   "source": [
    "history = model2.fit(train_x, train_y, epochs=6, batch_size=1000, validation_data=(validation_x, validation_y))"
   ]
  },
  {
   "cell_type": "code",
   "execution_count": null,
   "metadata": {
    "colab": {
     "base_uri": "https://localhost:8080/",
     "height": 385
    },
    "id": "56I7XHPOjd3e",
    "outputId": "aa6bdd06-cf65-4d30-c7e7-691e3d5322c1"
   },
   "outputs": [
    {
     "data": {
      "image/png": "[encoded data removed]",
      "text/plain": [
       "<Figure size 720x360 with 2 Axes>"
      ]
     },
     "metadata": {
      "needs_background": "light"
     },
     "output_type": "display_data"
    }
   ],
   "source": [
    "plot_history(history.history, path=\"standard2.png\")\n",
    "plt.show()"
   ]
  },
  {
   "cell_type": "code",
   "execution_count": null,
   "metadata": {
    "colab": {
     "base_uri": "https://localhost:8080/"
    },
    "id": "xStn3lAsjd0t",
    "outputId": "e6e3eb3b-f217-4d70-be35-1ee67e58d00d"
   },
   "outputs": [
    {
     "name": "stdout",
     "output_type": "stream",
     "text": [
      "782/782 [==============================] - 96s 123ms/step - loss: 1.4527 - accuracy: 0.7649\n",
      "test_loss: 1.452707052230835 test_accuracy: 0.7648800015449524\n"
     ]
    }
   ],
   "source": [
    "results=model.evaluate(padded_test_data,test_labels)\n",
    "print('test_loss:', results[0], 'test_accuracy:', results[1])"
   ]
  },
  {
   "cell_type": "markdown",
   "metadata": {
    "id": "EPJhM3JKrWqU"
   },
   "source": [
    "## 2 "
   ]
  },
  {
   "cell_type": "markdown",
   "metadata": {
    "id": "pOceF5nmrcPW"
   },
   "source": [
    "#### batch size 1"
   ]
  },
  {
   "cell_type": "code",
   "execution_count": null,
   "metadata": {
    "id": "jT2iKRSxrWPr"
   },
   "outputs": [],
   "source": [
    "history = model2.fit(train_x, train_y, epochs=6, batch_size=1, validation_data=(validation_x, validation_y))"
   ]
  },
  {
   "cell_type": "markdown",
   "metadata": {
    "id": "MIxqid7oIY0D"
   },
   "source": [
    "#### batch size 32"
   ]
  },
  {
   "cell_type": "code",
   "execution_count": null,
   "metadata": {
    "id": "8Oo1FF1zxXOR"
   },
   "outputs": [],
   "source": [
    "history = model2.fit(train_x, train_y, epochs=6, batch_size=32, validation_data=(validation_x, validation_y))"
   ]
  },
  {
   "cell_type": "markdown",
   "metadata": {},
   "source": [
    "#### batch size len(data)"
   ]
  },
  {
   "cell_type": "code",
   "execution_count": null,
   "metadata": {},
   "outputs": [],
   "source": [
    "history = model2.fit(train_x, train_y, epochs=6, batch_size=len(data), validation_data=(validation_x, validation_y))"
   ]
  },
  {
   "cell_type": "markdown",
   "metadata": {
    "id": "PwEmTwqqxXmG"
   },
   "source": [
    "## 3"
   ]
  },
  {
   "cell_type": "code",
   "execution_count": null,
   "metadata": {
    "id": "TmCwPbqWjdyB"
   },
   "outputs": [],
   "source": [
    "from keras.layers import Bidirectional\n",
    "dropout_1=Dropout(0.2)(target_embedding)\n",
    "LSTM_layer=Bidirectional(LSTM(100, return_sequences=False),name = 'BiLSTM')(dropout_1) \n",
    "dropout_2=Dropout(0.2)(LSTM_layer)\n",
    "output_layer = Dense(1,activation = 'relu')(dropout_2)\n",
    "model3 = Model(inputs=[target_word], outputs=output_layer)\n",
    "model3.compile(loss='binary_crossentropy', optimizer = 'adam', metrics = ['accuracy'])"
   ]
  },
  {
   "cell_type": "code",
   "execution_count": null,
   "metadata": {
    "colab": {
     "base_uri": "https://localhost:8080/"
    },
    "id": "AiM9v8lOjdvM",
    "outputId": "0ba679c6-c881-48d4-ec38-cb32e4a48c57"
   },
   "outputs": [
    {
     "name": "stdout",
     "output_type": "stream",
     "text": [
      "Model: \"model_2\"\n",
      "_________________________________________________________________\n",
      " Layer (type)                Output Shape              Param #   \n",
      "=================================================================\n",
      " input_1 (InputLayer)        [(None, 500)]             0         \n",
      "                                                                 \n",
      " target_embed_layer (Embeddi  (None, 500, 100)         1000000   \n",
      " ng)                                                             \n",
      "                                                                 \n",
      " dropout_2 (Dropout)         (None, 500, 100)          0         \n",
      "                                                                 \n",
      " BiLSTM (Bidirectional)      (None, 200)               160800    \n",
      "                                                                 \n",
      " dropout_3 (Dropout)         (None, 200)               0         \n",
      "                                                                 \n",
      " dense_2 (Dense)             (None, 1)                 201       \n",
      "                                                                 \n",
      "=================================================================\n",
      "Total params: 1,161,001\n",
      "Trainable params: 1,161,001\n",
      "Non-trainable params: 0\n",
      "_________________________________________________________________\n"
     ]
    }
   ],
   "source": [
    "model3.summary()"
   ]
  },
  {
   "cell_type": "code",
   "execution_count": 42,
   "metadata": {
    "colab": {
     "base_uri": "https://localhost:8080/"
    },
    "id": "9RzsGgSzjdsS",
    "outputId": "35bad883-0cc4-48c8-ad7a-66a783896f93"
   },
   "outputs": [
    {
     "name": "stdout",
     "output_type": "stream",
     "text": [
      "Epoch 1/6\n",
      "23/23 [==============================] - 348s 15s/step - loss: 0.8814 - accuracy: 0.6183 - val_loss: 0.5111 - val_accuracy: 0.7570\n",
      "Epoch 2/6\n",
      "23/23 [==============================] - 339s 15s/step - loss: 0.4432 - accuracy: 0.8416 - val_loss: 0.4461 - val_accuracy: 0.8305\n",
      "Epoch 3/6\n",
      "23/23 [==============================] - 339s 15s/step - loss: 0.3860 - accuracy: 0.8627 - val_loss: 0.6409 - val_accuracy: 0.8025\n",
      "Epoch 4/6\n",
      "23/23 [==============================] - 338s 15s/step - loss: 0.3113 - accuracy: 0.8882 - val_loss: 0.4706 - val_accuracy: 0.8345\n",
      "Epoch 5/6\n",
      "23/23 [==============================] - 339s 15s/step - loss: 0.3525 - accuracy: 0.8561 - val_loss: 0.4579 - val_accuracy: 0.8380\n",
      "Epoch 6/6\n",
      "23/23 [==============================] - 339s 15s/step - loss: 0.2929 - accuracy: 0.8935 - val_loss: 0.5599 - val_accuracy: 0.8375\n"
     ]
    }
   ],
   "source": [
    "history = model3.fit(train_x, train_y, epochs=6, batch_size=1000, validation_data=(validation_x, validation_y))"
   ]
  },
  {
   "cell_type": "code",
   "execution_count": null,
   "metadata": {
    "id": "xNEcoNvJjdpb"
   },
   "outputs": [],
   "source": []
  },
  {
   "cell_type": "code",
   "execution_count": null,
   "metadata": {
    "id": "DiXi4vxNjdmg"
   },
   "outputs": [],
   "source": []
  },
  {
   "cell_type": "code",
   "execution_count": null,
   "metadata": {
    "id": "dxvb_lmHZ0Qm"
   },
   "outputs": [],
   "source": []
  }
 ],
 "metadata": {
  "colab": {
   "collapsed_sections": [],
   "name": "7001_2021_22_lab2_TextClassificationWithLSTMs_without_answers.ipynb",
   "provenance": []
  },
  "kernelspec": {
   "display_name": "Python 3 (ipykernel)",
   "language": "python",
   "name": "python3"
  },
  "language_info": {
   "codemirror_mode": {
    "name": "ipython",
    "version": 3
   },
   "file_extension": ".py",
   "mimetype": "text/x-python",
   "name": "python",
   "nbconvert_exporter": "python",
   "pygments_lexer": "ipython3",
   "version": "3.7.1"
  }
 },
 "nbformat": 4,
 "nbformat_minor": 1
}
