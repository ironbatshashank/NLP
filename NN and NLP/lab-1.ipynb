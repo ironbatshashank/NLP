{
  "cells": [
    {
      "cell_type": "markdown",
      "metadata": {
        "id": "t_yvQBKrD8Se"
      },
      "source": [
        "# **ECS 7001 - NN & NNLP**\n",
        "\n",
        "## **2021/22 Lab 1: Skip-gram Model for Word2Vec**\n",
        "\n",
        "<br>\n",
        "\n",
        "**26th and 27th January**\n",
        "\n",
        "There are two Word2Vec architectures for creating word embeddings: the Continuous Bag of Words (CBOW) architecture and the Skip Gram architecture . In this lab, we will obtain our own word embeddings by training a skip-gram neural network model. Some of the code for this will be supplied here but in some sections, you will be required to implement the code yourself. Hints and\n",
        "tips will be provided.\n",
        "\n",
        "\n",
        "The skip gram model is essentially a feedforward neural network with one hidden layer, trained to predict the context word given a target word. There are two ways to train this model: (1) using a hierarchical softmax function and/or (2) by negative sampling. In this lab, we will be training using\n",
        "negative sampling. To train with negative sampling, the model is cast as a binary classification problem. The dataset would consist of positive and negative examples of the form:\n",
        "\n",
        "Input | label\n",
        "--| --\n",
        "(target_word, word_in_its_context)       |  1 \n",
        "(target_word, word_not_in_its_context)   |  0\n",
        "\n",
        "created from the sentences in a corpus. The exact number of positive and negative examples will depend on the window size, and the balance ratio of positive:negative examples.  \n",
        "\n",
        "As an example, consider the sentence: “ **The quick brown\n",
        "fox jumped over the lazy dog** ”. For the target word ' **fox** ' and a window size of 2, all the positive and negative examples drawn from this sentence would be:\n",
        "\n",
        "Input | label\n",
        "--| --\n",
        "(fox, the) | 0\n",
        "(fox, quick) | 1\n",
        "(fox, brown) | 1\n",
        "(fox, jumped) | 1\n",
        "(fox, over) |1\n",
        "(fox, lazy) | 0\n",
        "(fox, dog) | 0\n",
        "\n",
        "The model is trained to learn to predict 1 when a word is in the context of the target word (i.e.in the window of the target word) and 0 otherwise. The model thus learns the statistics of the given corpus: the frequency with two words appear together would determine how similar they are (similarity is usually measured using cosine distance). After training, the trained hidden layer weights are the word embeddings.\n",
        "\n"
      ]
    },
    {
      "cell_type": "markdown",
      "metadata": {
        "id": "Ep2X91YdJpkG"
      },
      "source": [
        "### **0. Prepare the environment**\n",
        "\n",
        "Open Google Colab or activate the virtual environment you’ve created"
      ]
    },
    {
      "cell_type": "markdown",
      "metadata": {
        "id": "w6Pi5uvTLRCo"
      },
      "source": [
        "### **1. Downloading the Corpus**\n",
        "\n",
        "Our training data will be comprised of 3 documents from the Gutenberg corpus. We can find this and other corpora in nltk https://www.nltk.org/book/ch02.html"
      ]
    },
    {
      "cell_type": "code",
      "execution_count": null,
      "metadata": {
        "colab": {
          "base_uri": "https://localhost:8080/"
        },
        "id": "xn7sWMG-KoBV",
        "outputId": "2a97e309-0177-4031-827f-0a96b62ec426"
      },
      "outputs": [
        {
          "output_type": "stream",
          "name": "stdout",
          "text": [
            "[nltk_data] Downloading package punkt to /root/nltk_data...\n",
            "[nltk_data]   Unzipping tokenizers/punkt.zip.\n",
            "[nltk_data] Downloading package gutenberg to /root/nltk_data...\n",
            "[nltk_data]   Unzipping corpora/gutenberg.zip.\n"
          ]
        }
      ],
      "source": [
        "import nltk\n",
        "\n",
        "nltk.download('punkt')\n",
        "nltk.download('gutenberg')\n",
        "from nltk.corpus import gutenberg\n",
        "austen = gutenberg.sents('austen-sense.txt') + gutenberg.sents('austen-emma.txt') + gutenberg.sents('austen-persuasion.txt') #what exactly is happening here?"
      ]
    },
    {
      "cell_type": "markdown",
      "metadata": {
        "id": "PYD16ST1MIOf"
      },
      "source": [
        "**Sanity check:**\n",
        "\n",
        "This training corpus contains 16498 sentences. The following print statement should return 16498."
      ]
    },
    {
      "cell_type": "code",
      "execution_count": null,
      "metadata": {
        "colab": {
          "base_uri": "https://localhost:8080/"
        },
        "id": "yCH0PmPcL83f",
        "outputId": "ca60c930-a478-4e43-e705-6283b6c6e4a9"
      },
      "outputs": [
        {
          "output_type": "stream",
          "name": "stdout",
          "text": [
            "length before the preprocessed output: 16498\n"
          ]
        }
      ],
      "source": [
        "print(\"length before the preprocessed output:\",len(austen))"
      ]
    },
    {
      "cell_type": "code",
      "execution_count": null,
      "metadata": {
        "colab": {
          "base_uri": "https://localhost:8080/"
        },
        "id": "APFWiEejv9i5",
        "outputId": "41e064f8-00f9-44a7-9add-59b59767705a"
      },
      "outputs": [
        {
          "output_type": "execute_result",
          "data": {
            "text/plain": [
              "['[', 'Sense', 'and', 'Sensibility', 'by', 'Jane', 'Austen', '1811', ']']"
            ]
          },
          "metadata": {},
          "execution_count": 3
        }
      ],
      "source": [
        "austen[0]"
      ]
    },
    {
      "cell_type": "markdown",
      "metadata": {
        "id": "4c14vElNvMGX"
      },
      "source": [
        "### **2. Preprocessing the Training Corpus**\n",
        "\n",
        "In this section, you will write code to remove special characters, empty strings, digits and\n",
        "stopwords from the sentences and put all the words into lower cases. You might also consider removing sentences with fewer than 3 words or at least empty sentences.\n",
        "\n",
        "\n",
        "**Hints:**\n",
        "*   The corpus can be accessed as you would a tokenized list, a list of lists, each inner list contains all the tokens in the sentence. Eg:\n",
        "\\>> austen[0] =['[', 'Sense', 'and', 'Sensibility', 'by','Jane', 'Austen', '1811', ']']\n",
        "\n",
        "*   the python <string> library contains a variable “punctuation”, a string containing all\n",
        "the special characters.\n",
        "\n",
        "*   You might want to write a function that takes the corpus as an argument and returns the preprocessed corpus as a list of lists.\n",
        "\n",
        " Alternatively, you can use the keras preprocessing library to preprocess the text. More information on the library can be found here:\n",
        "https://keras.io/preprocessing/text/\n",
        "\n",
        "\n",
        "**Sanity check:**\n",
        "\n",
        "After preprocessing the corpus, as a sanity check, print the following line of code. If you chose removed sentences of length with fewer than 3 words, it should be about 13651. \n",
        "\n",
        "As a test for your preprocessing function, preprocess the sample below and print the output of your function."
      ]
    },
    {
      "cell_type": "code",
      "source": [
        "import nltk\n",
        "nltk.download('stopwords')\n",
        "nltk.download('punkt')\n",
        "nltk.download('wordnet')\n",
        "nltk.download('averaged_perceptron_tagger')"
      ],
      "metadata": {
        "colab": {
          "base_uri": "https://localhost:8080/"
        },
        "id": "d0EvVLjlAqRF",
        "outputId": "20379d39-ba23-4959-e96e-39dbbbfca6c3"
      },
      "execution_count": null,
      "outputs": [
        {
          "output_type": "stream",
          "name": "stdout",
          "text": [
            "[nltk_data] Downloading package stopwords to /root/nltk_data...\n",
            "[nltk_data]   Unzipping corpora/stopwords.zip.\n",
            "[nltk_data] Downloading package punkt to /root/nltk_data...\n",
            "[nltk_data]   Package punkt is already up-to-date!\n",
            "[nltk_data] Downloading package wordnet to /root/nltk_data...\n",
            "[nltk_data]   Unzipping corpora/wordnet.zip.\n",
            "[nltk_data] Downloading package averaged_perceptron_tagger to\n",
            "[nltk_data]     /root/nltk_data...\n",
            "[nltk_data]   Unzipping taggers/averaged_perceptron_tagger.zip.\n"
          ]
        },
        {
          "output_type": "execute_result",
          "data": {
            "text/plain": [
              "True"
            ]
          },
          "metadata": {},
          "execution_count": 4
        }
      ]
    },
    {
      "cell_type": "code",
      "source": [
        "!pip install iteration_utilities"
      ],
      "metadata": {
        "colab": {
          "base_uri": "https://localhost:8080/"
        },
        "id": "JWxgQSelq37L",
        "outputId": "078c26c1-6302-4f70-ee35-b032959fe567"
      },
      "execution_count": null,
      "outputs": [
        {
          "output_type": "stream",
          "name": "stdout",
          "text": [
            "Collecting iteration_utilities\n",
            "  Downloading iteration_utilities-0.11.0-cp37-cp37m-manylinux2014_x86_64.whl (283 kB)\n",
            "\u001b[?25l\r\u001b[K     |█▏                              | 10 kB 14.5 MB/s eta 0:00:01\r\u001b[K     |██▎                             | 20 kB 16.6 MB/s eta 0:00:01\r\u001b[K     |███▌                            | 30 kB 11.6 MB/s eta 0:00:01\r\u001b[K     |████▋                           | 40 kB 9.7 MB/s eta 0:00:01\r\u001b[K     |█████▊                          | 51 kB 7.5 MB/s eta 0:00:01\r\u001b[K     |███████                         | 61 kB 8.6 MB/s eta 0:00:01\r\u001b[K     |████████                        | 71 kB 9.3 MB/s eta 0:00:01\r\u001b[K     |█████████▎                      | 81 kB 9.6 MB/s eta 0:00:01\r\u001b[K     |██████████▍                     | 92 kB 10.4 MB/s eta 0:00:01\r\u001b[K     |███████████▌                    | 102 kB 10.6 MB/s eta 0:00:01\r\u001b[K     |████████████▊                   | 112 kB 10.6 MB/s eta 0:00:01\r\u001b[K     |█████████████▉                  | 122 kB 10.6 MB/s eta 0:00:01\r\u001b[K     |███████████████                 | 133 kB 10.6 MB/s eta 0:00:01\r\u001b[K     |████████████████▏               | 143 kB 10.6 MB/s eta 0:00:01\r\u001b[K     |█████████████████▎              | 153 kB 10.6 MB/s eta 0:00:01\r\u001b[K     |██████████████████▌             | 163 kB 10.6 MB/s eta 0:00:01\r\u001b[K     |███████████████████▋            | 174 kB 10.6 MB/s eta 0:00:01\r\u001b[K     |████████████████████▉           | 184 kB 10.6 MB/s eta 0:00:01\r\u001b[K     |██████████████████████          | 194 kB 10.6 MB/s eta 0:00:01\r\u001b[K     |███████████████████████         | 204 kB 10.6 MB/s eta 0:00:01\r\u001b[K     |████████████████████████▎       | 215 kB 10.6 MB/s eta 0:00:01\r\u001b[K     |█████████████████████████▍      | 225 kB 10.6 MB/s eta 0:00:01\r\u001b[K     |██████████████████████████▋     | 235 kB 10.6 MB/s eta 0:00:01\r\u001b[K     |███████████████████████████▊    | 245 kB 10.6 MB/s eta 0:00:01\r\u001b[K     |████████████████████████████▉   | 256 kB 10.6 MB/s eta 0:00:01\r\u001b[K     |██████████████████████████████  | 266 kB 10.6 MB/s eta 0:00:01\r\u001b[K     |███████████████████████████████▏| 276 kB 10.6 MB/s eta 0:00:01\r\u001b[K     |████████████████████████████████| 283 kB 10.6 MB/s \n",
            "\u001b[?25hInstalling collected packages: iteration-utilities\n",
            "Successfully installed iteration-utilities-0.11.0\n"
          ]
        }
      ]
    },
    {
      "cell_type": "code",
      "source": [
        "from nltk.stem import WordNetLemmatizer \n",
        "from nltk.corpus import stopwords \n",
        "from nltk.tokenize import word_tokenize \n",
        "import string\n",
        "from iteration_utilities import deepflatten"
      ],
      "metadata": {
        "id": "UeYX2C78AxJ5"
      },
      "execution_count": null,
      "outputs": []
    },
    {
      "cell_type": "code",
      "execution_count": null,
      "metadata": {
        "id": "V2SIxzvwybiv",
        "colab": {
          "base_uri": "https://localhost:8080/"
        },
        "outputId": "78417774-87d5-4fef-e79e-9839f1e5a751"
      },
      "outputs": [
        {
          "output_type": "stream",
          "name": "stdout",
          "text": [
            "The new length of the preprocessed output: 12716\n"
          ]
        }
      ],
      "source": [
        "def preprocess_corpus(corpus):\n",
        "    corpus = [[string.lower() for string in sublist] for sublist in corpus]\n",
        "    stop_words = stopwords.words('english') #usage of stopwords\n",
        "    punctuation=list(string.punctuation) #usage of punctuation to delete unwanted punctuation\n",
        "    stop=stop_words+punctuation #now all words excepted stopwords and unwanted punctuation will be ignored\n",
        "    stop.extend(['.\"',\"--\"]) #adding more punctuations\n",
        "    filtered_sentence= [[w for w in sublist if not w in stop] for sublist in corpus]\n",
        "    filtered_sentence=[[i for i in sublist if not i.isdigit()] for sublist in filtered_sentence]\n",
        "\n",
        "\n",
        "    filtered_sentence= [sublist for sublist in filtered_sentence if len(sublist) >= 4]\n",
        "    return filtered_sentence\n",
        "\n",
        "\n",
        "normalized_corpus = preprocess_corpus(austen)\n",
        "print('The new length of the preprocessed output:',len(normalized_corpus))"
      ]
    },
    {
      "cell_type": "code",
      "execution_count": null,
      "metadata": {
        "id": "tJ1qxoq-8Kob",
        "colab": {
          "base_uri": "https://localhost:8080/"
        },
        "outputId": "68f301e1-28cf-4885-a225-6821cdef26ee"
      },
      "outputs": [
        {
          "output_type": "stream",
          "name": "stdout",
          "text": [
            "4 [['[', 'Sense', 'and', 'Sensibility', 'by', 'Jane', 'Austen', '1811', ']'], ['CHAPTER', '1'], ['But', ',', 'then', ',', 'if', 'Mrs', '.', 'Dashwood', 'should', 'live', 'fifteen', 'years', 'we', 'shall', 'be', 'completely', 'taken', 'in', '.\"'], ['\"', 'Fifteen', 'years', '!']]\n",
            "\n",
            "2 [['sense', 'sensibility', 'jane', 'austen'], ['mrs', 'dashwood', 'live', 'fifteen', 'years', 'shall', 'completely', 'taken']]\n"
          ]
        }
      ],
      "source": [
        "sample = austen[:2] + austen[100:102]\n",
        "preprocessed_sample = preprocess_corpus(sample)\n",
        "\n",
        "\n",
        "print(len(sample), sample)\n",
        "print()\n",
        "print(len(preprocessed_sample), preprocessed_sample)"
      ]
    },
    {
      "cell_type": "markdown",
      "metadata": {
        "id": "rghchHA66d-V"
      },
      "source": [
        "### **3. Creating the Corpus Vocabulary and Preparing the Data**\n",
        "\n",
        "\n",
        "To prepare the data for machine learning, you will write code to prepare 3 variables:\n",
        "\n",
        "1. \\<word2idx>: a lookup table, a dictionary of (word index: word) pairs where **word index** is a unique integer assigned to every **unique word** in the corpus.\n",
        "2. \\<idx2word>: a dictionary of (token: token index), a reversal of \\<word2idx>. \n",
        "3. \\<sents_as_ids>: The input to the model cannot be text, rather, each word needs to be represented by a unique integer and each sentence an array of integers.\n",
        "\n",
        "\n",
        "The incomplete code provided below is just a guide. "
      ]
    },
    {
      "cell_type": "code",
      "source": [
        "normalized_corpus_single=[] #disolving the list of list into just one list\n",
        "for list1 in preprocess_corpus(normalized_corpus):\n",
        "  for i in list1:\n",
        "    normalized_corpus_single.append(i)"
      ],
      "metadata": {
        "id": "_P4KnlWwJd50"
      },
      "execution_count": null,
      "outputs": []
    },
    {
      "cell_type": "code",
      "source": [
        "normalized_corpus[0]"
      ],
      "metadata": {
        "colab": {
          "base_uri": "https://localhost:8080/"
        },
        "id": "sH9EQtB6XgIQ",
        "outputId": "64e5dc82-5522-4dfe-a92a-ce72df584b92"
      },
      "execution_count": null,
      "outputs": [
        {
          "output_type": "execute_result",
          "data": {
            "text/plain": [
              "['sense', 'sensibility', 'jane', 'austen']"
            ]
          },
          "metadata": {},
          "execution_count": 10
        }
      ]
    },
    {
      "cell_type": "code",
      "source": [
        "from collections import Counter, OrderedDict\n",
        "\n",
        "def prepareData(normalized_corpus):\n",
        "  normalized_corpus_dict={}\n",
        "  count=Counter(normalized_corpus)\n",
        "  count=dict(count)\n",
        "  k=0\n",
        "  for i,j in count.items():\n",
        "    normalized_corpus_dict[i]=k\n",
        "    k=k+1\n",
        "  return normalized_corpus_dict\n",
        "\n",
        "word2idx=prepareData(normalized_corpus_single)\n",
        "idx2word = dict(zip(word2idx.values(), word2idx.keys()))\n",
        "\n",
        "def prepareSentsAsId(normalized_corpus):\n",
        "  for list_inside in normalized_corpus:\n",
        "    for i in list_inside:\n",
        "      index = list_inside.index(i)\n",
        "      list_inside[index]=word2idx.get(i) \n",
        "  return normalized_corpus"
      ],
      "metadata": {
        "id": "YKviiChwlNri"
      },
      "execution_count": null,
      "outputs": []
    },
    {
      "cell_type": "markdown",
      "source": [
        "#### sents_as_ids "
      ],
      "metadata": {
        "id": "MPcDcCIAV6OF"
      }
    },
    {
      "cell_type": "code",
      "source": [
        "word2idx"
      ],
      "metadata": {
        "id": "4rAOpsIOXwsK",
        "colab": {
          "base_uri": "https://localhost:8080/"
        },
        "outputId": "569bd120-9e88-4554-d26c-717163f7f9e4"
      },
      "execution_count": null,
      "outputs": [
        {
          "output_type": "execute_result",
          "data": {
            "text/plain": [
              "{'sense': 0,\n",
              " 'sensibility': 1,\n",
              " 'jane': 2,\n",
              " 'austen': 3,\n",
              " 'family': 4,\n",
              " 'dashwood': 5,\n",
              " 'long': 6,\n",
              " 'settled': 7,\n",
              " 'sussex': 8,\n",
              " 'estate': 9,\n",
              " 'large': 10,\n",
              " 'residence': 11,\n",
              " 'norland': 12,\n",
              " 'park': 13,\n",
              " 'centre': 14,\n",
              " 'property': 15,\n",
              " 'many': 16,\n",
              " 'generations': 17,\n",
              " 'lived': 18,\n",
              " 'respectable': 19,\n",
              " 'manner': 20,\n",
              " 'engage': 21,\n",
              " 'general': 22,\n",
              " 'good': 23,\n",
              " 'opinion': 24,\n",
              " 'surrounding': 25,\n",
              " 'acquaintance': 26,\n",
              " 'late': 27,\n",
              " 'owner': 28,\n",
              " 'single': 29,\n",
              " 'man': 30,\n",
              " 'advanced': 31,\n",
              " 'age': 32,\n",
              " 'years': 33,\n",
              " 'life': 34,\n",
              " 'constant': 35,\n",
              " 'companion': 36,\n",
              " 'housekeeper': 37,\n",
              " 'sister': 38,\n",
              " 'death': 39,\n",
              " 'happened': 40,\n",
              " 'ten': 41,\n",
              " 'produced': 42,\n",
              " 'great': 43,\n",
              " 'alteration': 44,\n",
              " 'home': 45,\n",
              " 'supply': 46,\n",
              " 'loss': 47,\n",
              " 'invited': 48,\n",
              " 'received': 49,\n",
              " 'house': 50,\n",
              " 'nephew': 51,\n",
              " 'mr': 52,\n",
              " 'henry': 53,\n",
              " 'legal': 54,\n",
              " 'inheritor': 55,\n",
              " 'person': 56,\n",
              " 'intended': 57,\n",
              " 'bequeath': 58,\n",
              " 'society': 59,\n",
              " 'niece': 60,\n",
              " 'children': 61,\n",
              " 'old': 62,\n",
              " 'gentleman': 63,\n",
              " 'days': 64,\n",
              " 'comfortably': 65,\n",
              " 'spent': 66,\n",
              " 'attention': 67,\n",
              " 'mrs': 68,\n",
              " 'wishes': 69,\n",
              " 'proceeded': 70,\n",
              " 'merely': 71,\n",
              " 'interest': 72,\n",
              " 'goodness': 73,\n",
              " 'heart': 74,\n",
              " 'gave': 75,\n",
              " 'every': 76,\n",
              " 'degree': 77,\n",
              " 'solid': 78,\n",
              " 'comfort': 79,\n",
              " 'could': 80,\n",
              " 'receive': 81,\n",
              " 'cheerfulness': 82,\n",
              " 'added': 83,\n",
              " 'relish': 84,\n",
              " 'existence': 85,\n",
              " 'former': 86,\n",
              " 'marriage': 87,\n",
              " 'one': 88,\n",
              " 'son': 89,\n",
              " 'present': 90,\n",
              " 'lady': 91,\n",
              " 'three': 92,\n",
              " 'daughters': 93,\n",
              " 'steady': 94,\n",
              " 'young': 95,\n",
              " 'amply': 96,\n",
              " 'provided': 97,\n",
              " 'fortune': 98,\n",
              " 'mother': 99,\n",
              " 'half': 100,\n",
              " 'devolved': 101,\n",
              " 'coming': 102,\n",
              " 'likewise': 103,\n",
              " 'soon': 104,\n",
              " 'afterwards': 105,\n",
              " 'wealth': 106,\n",
              " 'therefore': 107,\n",
              " 'succession': 108,\n",
              " 'really': 109,\n",
              " 'important': 110,\n",
              " 'sisters': 111,\n",
              " 'independent': 112,\n",
              " 'might': 113,\n",
              " 'arise': 114,\n",
              " 'father': 115,\n",
              " 'inheriting': 116,\n",
              " 'small': 117,\n",
              " 'nothing': 118,\n",
              " 'seven': 119,\n",
              " 'thousand': 120,\n",
              " 'pounds': 121,\n",
              " 'disposal': 122,\n",
              " 'remaining': 123,\n",
              " 'moiety': 124,\n",
              " 'first': 125,\n",
              " 'wife': 126,\n",
              " 'also': 127,\n",
              " 'secured': 128,\n",
              " 'child': 129,\n",
              " 'died': 130,\n",
              " 'read': 131,\n",
              " 'like': 132,\n",
              " 'almost': 133,\n",
              " 'much': 134,\n",
              " 'disappointment': 135,\n",
              " 'pleasure': 136,\n",
              " 'neither': 137,\n",
              " 'unjust': 138,\n",
              " 'ungrateful': 139,\n",
              " 'leave': 140,\n",
              " ';--': 141,\n",
              " 'left': 142,\n",
              " 'terms': 143,\n",
              " 'destroyed': 144,\n",
              " 'value': 145,\n",
              " 'bequest': 146,\n",
              " 'wished': 147,\n",
              " 'sake': 148,\n",
              " 'four': 149,\n",
              " 'way': 150,\n",
              " 'power': 151,\n",
              " 'providing': 152,\n",
              " 'dear': 153,\n",
              " 'needed': 154,\n",
              " 'provision': 155,\n",
              " 'charge': 156,\n",
              " 'sale': 157,\n",
              " 'valuable': 158,\n",
              " 'woods': 159,\n",
              " 'whole': 160,\n",
              " 'tied': 161,\n",
              " 'benefit': 162,\n",
              " 'occasional': 163,\n",
              " 'visits': 164,\n",
              " 'far': 165,\n",
              " 'gained': 166,\n",
              " 'affections': 167,\n",
              " 'uncle': 168,\n",
              " 'attractions': 169,\n",
              " 'means': 170,\n",
              " 'unusual': 171,\n",
              " 'two': 172,\n",
              " 'imperfect': 173,\n",
              " 'articulation': 174,\n",
              " 'earnest': 175,\n",
              " 'desire': 176,\n",
              " 'cunning': 177,\n",
              " 'tricks': 178,\n",
              " 'deal': 179,\n",
              " 'noise': 180,\n",
              " 'outweigh': 181,\n",
              " 'meant': 182,\n",
              " 'unkind': 183,\n",
              " 'however': 184,\n",
              " 'mark': 185,\n",
              " 'affection': 186,\n",
              " 'girls': 187,\n",
              " 'piece': 188,\n",
              " 'severe': 189,\n",
              " 'temper': 190,\n",
              " 'cheerful': 191,\n",
              " 'sanguine': 192,\n",
              " 'reasonably': 193,\n",
              " 'hope': 194,\n",
              " 'live': 195,\n",
              " 'living': 196,\n",
              " 'economically': 197,\n",
              " 'lay': 198,\n",
              " 'considerable': 199,\n",
              " 'sum': 200,\n",
              " 'produce': 201,\n",
              " 'already': 202,\n",
              " 'capable': 203,\n",
              " 'immediate': 204,\n",
              " 'improvement': 205,\n",
              " 'tardy': 206,\n",
              " 'twelvemonth': 207,\n",
              " 'survived': 208,\n",
              " 'longer': 209,\n",
              " 'including': 210,\n",
              " 'legacies': 211,\n",
              " 'remained': 212,\n",
              " 'widow': 213,\n",
              " 'sent': 214,\n",
              " 'danger': 215,\n",
              " 'known': 216,\n",
              " 'recommended': 217,\n",
              " 'strength': 218,\n",
              " 'urgency': 219,\n",
              " 'illness': 220,\n",
              " 'command': 221,\n",
              " 'law': 222,\n",
              " 'john': 223,\n",
              " 'strong': 224,\n",
              " 'feelings': 225,\n",
              " 'rest': 226,\n",
              " 'affected': 227,\n",
              " 'recommendation': 228,\n",
              " 'nature': 229,\n",
              " 'time': 230,\n",
              " 'promised': 231,\n",
              " 'thing': 232,\n",
              " 'make': 233,\n",
              " 'comfortable': 234,\n",
              " 'rendered': 235,\n",
              " 'easy': 236,\n",
              " 'assurance': 237,\n",
              " 'leisure': 238,\n",
              " 'consider': 239,\n",
              " 'prudently': 240,\n",
              " 'ill': 241,\n",
              " 'disposed': 242,\n",
              " 'unless': 243,\n",
              " 'rather': 244,\n",
              " 'cold': 245,\n",
              " 'hearted': 246,\n",
              " 'selfish': 247,\n",
              " 'well': 248,\n",
              " 'respected': 249,\n",
              " 'conducted': 250,\n",
              " 'propriety': 251,\n",
              " 'discharge': 252,\n",
              " 'ordinary': 253,\n",
              " 'duties': 254,\n",
              " 'married': 255,\n",
              " 'amiable': 256,\n",
              " 'woman': 257,\n",
              " 'made': 258,\n",
              " 'still': 259,\n",
              " ':--': 260,\n",
              " 'even': 261,\n",
              " 'fond': 262,\n",
              " 'caricature': 263,\n",
              " 'narrow': 264,\n",
              " 'minded': 265,\n",
              " 'promise': 266,\n",
              " 'meditated': 267,\n",
              " 'within': 268,\n",
              " 'increase': 269,\n",
              " 'fortunes': 270,\n",
              " 'prospect': 271,\n",
              " 'year': 272,\n",
              " 'addition': 273,\n",
              " 'income': 274,\n",
              " 'besides': 275,\n",
              " 'warmed': 276,\n",
              " 'feel': 277,\n",
              " 'generosity': 278,\n",
              " '.--': 279,\n",
              " 'yes': 280,\n",
              " 'would': 281,\n",
              " 'give': 282,\n",
              " 'liberal': 283,\n",
              " 'handsome': 284,\n",
              " 'enough': 285,\n",
              " 'completely': 286,\n",
              " 'spare': 287,\n",
              " 'little': 288,\n",
              " 'inconvenience': 289,\n",
              " 'thought': 290,\n",
              " 'day': 291,\n",
              " 'successively': 292,\n",
              " 'repent': 293,\n",
              " 'sooner': 294,\n",
              " 'funeral': 295,\n",
              " 'without': 296,\n",
              " 'sending': 297,\n",
              " 'notice': 298,\n",
              " 'intention': 299,\n",
              " 'arrived': 300,\n",
              " 'attendants': 301,\n",
              " 'dispute': 302,\n",
              " 'right': 303,\n",
              " 'come': 304,\n",
              " 'husband': 305,\n",
              " 'moment': 306,\n",
              " 'decease': 307,\n",
              " 'indelicacy': 308,\n",
              " 'conduct': 309,\n",
              " 'greater': 310,\n",
              " 'situation': 311,\n",
              " 'common': 312,\n",
              " 'must': 313,\n",
              " 'highly': 314,\n",
              " 'unpleasing': 315,\n",
              " 'mind': 316,\n",
              " 'honor': 317,\n",
              " 'keen': 318,\n",
              " 'romantic': 319,\n",
              " 'offence': 320,\n",
              " 'kind': 321,\n",
              " 'whomsoever': 322,\n",
              " 'given': 323,\n",
              " 'source': 324,\n",
              " 'immoveable': 325,\n",
              " 'disgust': 326,\n",
              " 'never': 327,\n",
              " 'favourite': 328,\n",
              " 'opportunity': 329,\n",
              " 'till': 330,\n",
              " 'shewing': 331,\n",
              " 'people': 332,\n",
              " 'act': 333,\n",
              " 'occasion': 334,\n",
              " 'required': 335,\n",
              " 'acutely': 336,\n",
              " 'ungracious': 337,\n",
              " 'behaviour': 338,\n",
              " 'earnestly': 339,\n",
              " 'despise': 340,\n",
              " 'daughter': 341,\n",
              " 'arrival': 342,\n",
              " 'latter': 343,\n",
              " 'quitted': 344,\n",
              " 'ever': 345,\n",
              " 'entreaty': 346,\n",
              " 'eldest': 347,\n",
              " 'girl': 348,\n",
              " 'induced': 349,\n",
              " 'reflect': 350,\n",
              " 'going': 351,\n",
              " 'tender': 352,\n",
              " 'love': 353,\n",
              " 'determined': 354,\n",
              " 'stay': 355,\n",
              " 'sakes': 356,\n",
              " 'avoid': 357,\n",
              " 'breach': 358,\n",
              " 'brother': 359,\n",
              " 'elinor': 360,\n",
              " 'whose': 361,\n",
              " 'advice': 362,\n",
              " 'effectual': 363,\n",
              " 'possessed': 364,\n",
              " 'understanding': 365,\n",
              " 'coolness': 366,\n",
              " 'judgment': 367,\n",
              " 'qualified': 368,\n",
              " 'though': 369,\n",
              " 'nineteen': 370,\n",
              " 'counsellor': 371,\n",
              " 'enabled': 372,\n",
              " 'frequently': 373,\n",
              " 'counteract': 374,\n",
              " 'advantage': 375,\n",
              " 'eagerness': 376,\n",
              " 'generally': 377,\n",
              " 'led': 378,\n",
              " 'imprudence': 379,\n",
              " 'excellent': 380,\n",
              " 'disposition': 381,\n",
              " 'affectionate': 382,\n",
              " 'knew': 383,\n",
              " 'govern': 384,\n",
              " 'knowledge': 385,\n",
              " 'yet': 386,\n",
              " 'learn': 387,\n",
              " 'resolved': 388,\n",
              " 'taught': 389,\n",
              " 'marianne': 390,\n",
              " 'abilities': 391,\n",
              " 'respects': 392,\n",
              " 'quite': 393,\n",
              " 'equal': 394,\n",
              " 'sensible': 395,\n",
              " 'clever': 396,\n",
              " 'eager': 397,\n",
              " 'everything': 398,\n",
              " 'sorrows': 399,\n",
              " 'joys': 400,\n",
              " 'moderation': 401,\n",
              " 'generous': 402,\n",
              " 'interesting': 403,\n",
              " 'prudent': 404,\n",
              " 'resemblance': 405,\n",
              " 'strikingly': 406,\n",
              " 'saw': 407,\n",
              " 'concern': 408,\n",
              " 'excess': 409,\n",
              " 'valued': 410,\n",
              " 'cherished': 411,\n",
              " 'agony': 412,\n",
              " 'grief': 413,\n",
              " 'overpowered': 414,\n",
              " 'voluntarily': 415,\n",
              " 'renewed': 416,\n",
              " 'sought': 417,\n",
              " 'created': 418,\n",
              " 'wholly': 419,\n",
              " 'sorrow': 420,\n",
              " 'seeking': 421,\n",
              " 'wretchedness': 422,\n",
              " 'reflection': 423,\n",
              " 'afford': 424,\n",
              " 'admitting': 425,\n",
              " 'consolation': 426,\n",
              " 'future': 427,\n",
              " 'deeply': 428,\n",
              " 'afflicted': 429,\n",
              " 'struggle': 430,\n",
              " 'exert': 431,\n",
              " 'consult': 432,\n",
              " 'treat': 433,\n",
              " 'proper': 434,\n",
              " 'strive': 435,\n",
              " 'rouse': 436,\n",
              " 'similar': 437,\n",
              " 'exertion': 438,\n",
              " 'encourage': 439,\n",
              " 'forbearance': 440,\n",
              " 'margaret': 441,\n",
              " 'humored': 442,\n",
              " 'imbibed': 443,\n",
              " 'romance': 444,\n",
              " 'thirteen': 445,\n",
              " 'bid': 446,\n",
              " 'fair': 447,\n",
              " 'period': 448,\n",
              " 'installed': 449,\n",
              " 'mistress': 450,\n",
              " 'degraded': 451,\n",
              " 'condition': 452,\n",
              " 'visitors': 453,\n",
              " 'treated': 454,\n",
              " 'quiet': 455,\n",
              " 'civility': 456,\n",
              " 'kindness': 457,\n",
              " 'towards': 458,\n",
              " 'anybody': 459,\n",
              " 'beyond': 460,\n",
              " 'pressed': 461,\n",
              " 'earnestness': 462,\n",
              " 'plan': 463,\n",
              " 'appeared': 464,\n",
              " 'eligible': 465,\n",
              " 'accommodate': 466,\n",
              " 'neighbourhood': 467,\n",
              " 'invitation': 468,\n",
              " 'accepted': 469,\n",
              " 'continuance': 470,\n",
              " 'place': 471,\n",
              " 'reminded': 472,\n",
              " 'delight': 473,\n",
              " 'exactly': 474,\n",
              " 'suited': 475,\n",
              " 'seasons': 476,\n",
              " 'possess': 477,\n",
              " 'expectation': 478,\n",
              " 'happiness': 479,\n",
              " 'equally': 480,\n",
              " 'carried': 481,\n",
              " 'away': 482,\n",
              " 'fancy': 483,\n",
              " 'alloy': 484,\n",
              " 'approve': 485,\n",
              " 'take': 486,\n",
              " 'boy': 487,\n",
              " 'impoverishing': 488,\n",
              " 'dreadful': 489,\n",
              " 'answer': 490,\n",
              " 'rob': 491,\n",
              " 'possible': 492,\n",
              " 'claim': 493,\n",
              " 'miss': 494,\n",
              " 'dashwoods': 495,\n",
              " 'related': 496,\n",
              " 'blood': 497,\n",
              " 'considered': 498,\n",
              " 'relationship': 499,\n",
              " 'amount': 500,\n",
              " 'supposed': 501,\n",
              " 'exist': 502,\n",
              " 'different': 503,\n",
              " 'marriages': 504,\n",
              " 'ruin': 505,\n",
              " 'poor': 506,\n",
              " 'harry': 507,\n",
              " 'giving': 508,\n",
              " 'money': 509,\n",
              " 'last': 510,\n",
              " 'request': 511,\n",
              " ',\"': 512,\n",
              " 'replied': 513,\n",
              " 'assist': 514,\n",
              " 'know': 515,\n",
              " 'talking': 516,\n",
              " 'dare': 517,\n",
              " 'say': 518,\n",
              " 'light': 519,\n",
              " 'headed': 520,\n",
              " 'senses': 521,\n",
              " 'begging': 522,\n",
              " 'stipulate': 523,\n",
              " 'particular': 524,\n",
              " 'fanny': 525,\n",
              " 'requested': 526,\n",
              " 'perhaps': 527,\n",
              " 'hardly': 528,\n",
              " 'suppose': 529,\n",
              " 'neglect': 530,\n",
              " 'less': 531,\n",
              " 'least': 532,\n",
              " 'performed': 533,\n",
              " 'something': 534,\n",
              " 'done': 535,\n",
              " 'whenever': 536,\n",
              " 'settle': 537,\n",
              " 'new': 538,\n",
              " 'let': 539,\n",
              " 'need': 540,\n",
              " 'parted': 541,\n",
              " 'return': 542,\n",
              " 'marry': 543,\n",
              " 'gone': 544,\n",
              " 'indeed': 545,\n",
              " 'restored': 546,\n",
              " '--\"': 547,\n",
              " 'sure': 548,\n",
              " 'said': 549,\n",
              " 'gravely': 550,\n",
              " 'difference': 551,\n",
              " 'may': 552,\n",
              " 'regret': 553,\n",
              " 'numerous': 554,\n",
              " 'instance': 555,\n",
              " 'convenient': 556,\n",
              " 'better': 557,\n",
              " 'parties': 558,\n",
              " 'diminished': 559,\n",
              " 'five': 560,\n",
              " 'hundred': 561,\n",
              " 'prodigious': 562,\n",
              " '!\"': 563,\n",
              " 'earth': 564,\n",
              " '!--': 565,\n",
              " 'spirit': 566,\n",
              " 'wish': 567,\n",
              " 'mean': 568,\n",
              " 'occasions': 569,\n",
              " 'think': 570,\n",
              " 'expect': 571,\n",
              " 'knowing': 572,\n",
              " 'expectations': 573,\n",
              " 'question': 574,\n",
              " 'certainly': 575,\n",
              " 'mine': 576,\n",
              " 'strikes': 577,\n",
              " 'want': 578,\n",
              " 'divided': 579,\n",
              " 'amongst': 580,\n",
              " 'together': 581,\n",
              " 'true': 582,\n",
              " 'whether': 583,\n",
              " 'upon': 584,\n",
              " 'advisable': 585,\n",
              " 'lives': 586,\n",
              " 'annuity': 587,\n",
              " 'effects': 588,\n",
              " 'perfectly': 589,\n",
              " 'hesitated': 590,\n",
              " 'consent': 591,\n",
              " 'parting': 592,\n",
              " 'fifteen': 593,\n",
              " 'shall': 594,\n",
              " 'taken': 595,\n",
              " 'cannot': 596,\n",
              " 'worth': 597,\n",
              " 'purchase': 598,\n",
              " 'observe': 599,\n",
              " 'always': 600,\n",
              " 'paid': 601,\n",
              " 'stout': 602,\n",
              " 'healthy': 603,\n",
              " 'forty': 604,\n",
              " 'serious': 605,\n",
              " 'business': 606,\n",
              " 'comes': 607,\n",
              " 'getting': 608,\n",
              " 'rid': 609,\n",
              " 'trouble': 610,\n",
              " 'annuities': 611,\n",
              " 'clogged': 612,\n",
              " 'payment': 613,\n",
              " 'superannuated': 614,\n",
              " 'servants': 615,\n",
              " 'amazing': 616,\n",
              " 'disagreeable': 617,\n",
              " 'found': 618,\n",
              " 'twice': 619,\n",
              " 'turned': 620,\n",
              " 'perpetual': 621,\n",
              " 'claims': 622,\n",
              " 'otherwise': 623,\n",
              " 'entirely': 624,\n",
              " 'restriction': 625,\n",
              " 'whatever': 626,\n",
              " 'abhorrence': 627,\n",
              " 'pin': 628,\n",
              " 'world': 629,\n",
              " 'unpleasant': 630,\n",
              " 'yearly': 631,\n",
              " 'drains': 632,\n",
              " 'justly': 633,\n",
              " 'says': 634,\n",
              " 'regular': 635,\n",
              " 'rent': 636,\n",
              " 'desirable': 637,\n",
              " 'takes': 638,\n",
              " 'independence': 639,\n",
              " 'secure': 640,\n",
              " 'expected': 641,\n",
              " 'raises': 642,\n",
              " 'gratitude': 643,\n",
              " 'discretion': 644,\n",
              " 'bind': 645,\n",
              " 'allow': 646,\n",
              " 'inconvenient': 647,\n",
              " 'fifty': 648,\n",
              " 'expenses': 649,\n",
              " 'believe': 650,\n",
              " 'case': 651,\n",
              " 'occasionally': 652,\n",
              " 'assistance': 653,\n",
              " 'allowance': 654,\n",
              " 'enlarge': 655,\n",
              " 'style': 656,\n",
              " 'felt': 657,\n",
              " 'larger': 658,\n",
              " 'sixpence': 659,\n",
              " 'richer': 660,\n",
              " 'end': 661,\n",
              " 'best': 662,\n",
              " 'prevent': 663,\n",
              " 'distressed': 664,\n",
              " 'discharging': 665,\n",
              " 'truth': 666,\n",
              " 'convinced': 667,\n",
              " 'idea': 668,\n",
              " 'looking': 669,\n",
              " 'helping': 670,\n",
              " 'move': 671,\n",
              " 'things': 672,\n",
              " 'presents': 673,\n",
              " 'fish': 674,\n",
              " 'game': 675,\n",
              " 'forth': 676,\n",
              " 'season': 677,\n",
              " 'farther': 678,\n",
              " 'strange': 679,\n",
              " 'unreasonable': 680,\n",
              " 'excessively': 681,\n",
              " 'belonging': 682,\n",
              " 'brings': 683,\n",
              " 'course': 684,\n",
              " 'pay': 685,\n",
              " 'board': 686,\n",
              " 'altogether': 687,\n",
              " 'women': 688,\n",
              " '?--': 689,\n",
              " 'cheap': 690,\n",
              " 'carriage': 691,\n",
              " 'horses': 692,\n",
              " 'keep': 693,\n",
              " 'company': 694,\n",
              " 'imagine': 695,\n",
              " 'spend': 696,\n",
              " 'absurd': 697,\n",
              " 'able': 698,\n",
              " 'word': 699,\n",
              " 'clearly': 700,\n",
              " 'understand': 701,\n",
              " 'strictly': 702,\n",
              " 'fulfil': 703,\n",
              " 'engagement': 704,\n",
              " 'acts': 705,\n",
              " 'described': 706,\n",
              " 'removes': 707,\n",
              " 'another': 708,\n",
              " 'services': 709,\n",
              " 'readily': 710,\n",
              " 'furniture': 711,\n",
              " 'acceptable': 712,\n",
              " 'returned': 713,\n",
              " 'moved': 714,\n",
              " 'stanhill': 715,\n",
              " 'sold': 716,\n",
              " 'china': 717,\n",
              " 'plate': 718,\n",
              " 'linen': 719,\n",
              " 'saved': 720,\n",
              " 'fitted': 721,\n",
              " 'pleasant': 722,\n",
              " 'stock': 723,\n",
              " 'set': 724,\n",
              " 'breakfast': 725,\n",
              " 'belongs': 726,\n",
              " 'owe': 727,\n",
              " 'intentions': 728,\n",
              " 'decision': 729,\n",
              " 'wanting': 730,\n",
              " 'finally': 731,\n",
              " 'absolutely': 732,\n",
              " 'unnecessary': 733,\n",
              " 'indecorous': 734,\n",
              " 'neighbourly': 735,\n",
              " 'pointed': 736,\n",
              " 'several': 737,\n",
              " 'months': 738,\n",
              " 'disinclination': 739,\n",
              " 'sight': 740,\n",
              " 'spot': 741,\n",
              " 'ceased': 742,\n",
              " 'raise': 743,\n",
              " 'violent': 744,\n",
              " 'emotion': 745,\n",
              " 'spirits': 746,\n",
              " 'began': 747,\n",
              " 'revive': 748,\n",
              " 'became': 749,\n",
              " 'heightening': 750,\n",
              " 'affliction': 751,\n",
              " 'melancholy': 752,\n",
              " 'remembrances': 753,\n",
              " 'impatient': 754,\n",
              " 'indefatigable': 755,\n",
              " 'inquiries': 756,\n",
              " 'suitable': 757,\n",
              " 'dwelling': 758,\n",
              " 'remove': 759,\n",
              " 'beloved': 760,\n",
              " 'impossible': 761,\n",
              " 'hear': 762,\n",
              " 'answered': 763,\n",
              " 'notions': 764,\n",
              " 'ease': 765,\n",
              " 'prudence': 766,\n",
              " 'steadier': 767,\n",
              " 'rejected': 768,\n",
              " 'houses': 769,\n",
              " 'approved': 770,\n",
              " 'informed': 771,\n",
              " 'solemn': 772,\n",
              " 'part': 773,\n",
              " 'favour': 774,\n",
              " 'earthly': 775,\n",
              " 'reflections': 776,\n",
              " 'doubted': 777,\n",
              " 'sincerity': 778,\n",
              " 'satisfaction': 779,\n",
              " 'persuaded': 780,\n",
              " 'smaller': 781,\n",
              " '7000l': 782,\n",
              " 'support': 783,\n",
              " 'affluence': 784,\n",
              " 'rejoiced': 785,\n",
              " 'reproached': 786,\n",
              " 'merit': 787,\n",
              " 'believing': 788,\n",
              " 'incapable': 789,\n",
              " 'attentive': 790,\n",
              " 'welfare': 791,\n",
              " 'firmly': 792,\n",
              " 'relied': 793,\n",
              " 'liberality': 794,\n",
              " 'contempt': 795,\n",
              " 'early': 796,\n",
              " 'increased': 797,\n",
              " 'character': 798,\n",
              " 'afforded': 799,\n",
              " 'spite': 800,\n",
              " 'consideration': 801,\n",
              " 'politeness': 802,\n",
              " 'maternal': 803,\n",
              " 'side': 804,\n",
              " 'ladies': 805,\n",
              " 'circumstance': 806,\n",
              " 'occurred': 807,\n",
              " 'eligibility': 808,\n",
              " 'according': 809,\n",
              " 'opinions': 810,\n",
              " 'growing': 811,\n",
              " 'attachment': 812,\n",
              " 'pleasing': 813,\n",
              " 'introduced': 814,\n",
              " 'establishment': 815,\n",
              " 'since': 816,\n",
              " 'greatest': 817,\n",
              " 'mothers': 818,\n",
              " 'encouraged': 819,\n",
              " 'intimacy': 820,\n",
              " 'motives': 821,\n",
              " 'edward': 822,\n",
              " 'ferrars': 823,\n",
              " 'rich': 824,\n",
              " 'repressed': 825,\n",
              " 'except': 826,\n",
              " 'trifling': 827,\n",
              " 'depended': 828,\n",
              " 'alike': 829,\n",
              " 'uninfluenced': 830,\n",
              " 'either': 831,\n",
              " 'loved': 832,\n",
              " 'partiality': 833,\n",
              " 'contrary': 834,\n",
              " 'doctrine': 835,\n",
              " 'couple': 836,\n",
              " 'asunder': 837,\n",
              " 'attracted': 838,\n",
              " 'acknowledged': 839,\n",
              " 'comprehension': 840,\n",
              " 'peculiar': 841,\n",
              " 'graces': 842,\n",
              " 'address': 843,\n",
              " 'manners': 844,\n",
              " 'diffident': 845,\n",
              " 'justice': 846,\n",
              " 'natural': 847,\n",
              " 'shyness': 848,\n",
              " 'overcome': 849,\n",
              " 'indication': 850,\n",
              " 'open': 851,\n",
              " 'education': 852,\n",
              " 'longed': 853,\n",
              " 'see': 854,\n",
              " 'distinguished': 855,\n",
              " 'wanted': 856,\n",
              " 'fine': 857,\n",
              " 'figure': 858,\n",
              " 'political': 859,\n",
              " 'concerns': 860,\n",
              " 'get': 861,\n",
              " 'parliament': 862,\n",
              " 'connected': 863,\n",
              " 'men': 864,\n",
              " 'superior': 865,\n",
              " 'blessings': 866,\n",
              " 'attained': 867,\n",
              " 'quieted': 868,\n",
              " 'ambition': 869,\n",
              " 'driving': 870,\n",
              " 'barouche': 871,\n",
              " 'turn': 872,\n",
              " 'barouches': 873,\n",
              " 'centered': 874,\n",
              " 'domestic': 875,\n",
              " 'private': 876,\n",
              " 'fortunately': 877,\n",
              " 'younger': 878,\n",
              " 'promising': 879,\n",
              " 'staying': 880,\n",
              " 'weeks': 881,\n",
              " 'engaged': 882,\n",
              " 'careless': 883,\n",
              " 'objects': 884,\n",
              " 'unobtrusive': 885,\n",
              " 'liked': 886,\n",
              " 'disturb': 887,\n",
              " 'timed': 888,\n",
              " 'conversation': 889,\n",
              " 'called': 890,\n",
              " 'chanced': 891,\n",
              " 'contrast': 892,\n",
              " 'forcibly': 893,\n",
              " 'unlike': 894,\n",
              " 'sentiment': 895,\n",
              " 'approbation': 896,\n",
              " 'inferior': 897,\n",
              " 'separate': 898,\n",
              " 'esteem': 899,\n",
              " 'took': 900,\n",
              " 'pains': 901,\n",
              " 'acquainted': 902,\n",
              " 'attaching': 903,\n",
              " 'banished': 904,\n",
              " 'reserve': 905,\n",
              " 'speedily': 906,\n",
              " 'comprehended': 907,\n",
              " 'merits': 908,\n",
              " 'persuasion': 909,\n",
              " 'regard': 910,\n",
              " 'assisted': 911,\n",
              " 'penetration': 912,\n",
              " 'assured': 913,\n",
              " 'quietness': 914,\n",
              " 'militated': 915,\n",
              " 'established': 916,\n",
              " 'ideas': 917,\n",
              " 'ought': 918,\n",
              " 'uninteresting': 919,\n",
              " 'warm': 920,\n",
              " 'perceive': 921,\n",
              " 'symptom': 922,\n",
              " 'certain': 923,\n",
              " 'looked': 924,\n",
              " 'forward': 925,\n",
              " 'rapidly': 926,\n",
              " 'approaching': 927,\n",
              " 'probability': 928,\n",
              " 'mamma': 929,\n",
              " '?\"': 930,\n",
              " 'miles': 931,\n",
              " 'meet': 932,\n",
              " 'gain': 933,\n",
              " 'real': 934,\n",
              " 'highest': 935,\n",
              " 'look': 936,\n",
              " 'grave': 937,\n",
              " 'disapprove': 938,\n",
              " 'choice': 939,\n",
              " 'surprise': 940,\n",
              " 'tenderly': 941,\n",
              " 'striking': 942,\n",
              " 'none': 943,\n",
              " 'grace': 944,\n",
              " 'seriously': 945,\n",
              " 'attach': 946,\n",
              " 'eyes': 947,\n",
              " 'fire': 948,\n",
              " 'announce': 949,\n",
              " 'virtue': 950,\n",
              " 'intelligence': 951,\n",
              " 'afraid': 952,\n",
              " 'taste': 953,\n",
              " 'music': 954,\n",
              " 'seems': 955,\n",
              " 'scarcely': 956,\n",
              " 'attract': 957,\n",
              " 'admires': 958,\n",
              " 'drawings': 959,\n",
              " 'admiration': 960,\n",
              " 'evident': 961,\n",
              " 'frequent': 962,\n",
              " 'draws': 963,\n",
              " 'fact': 964,\n",
              " 'knows': 965,\n",
              " 'matter': 966,\n",
              " 'satisfy': 967,\n",
              " 'characters': 968,\n",
              " 'united': 969,\n",
              " 'happy': 970,\n",
              " 'point': 971,\n",
              " 'coincide': 972,\n",
              " 'enter': 973,\n",
              " 'books': 974,\n",
              " 'charm': 975,\n",
              " 'us': 976,\n",
              " 'mama': 977,\n",
              " 'spiritless': 978,\n",
              " 'tame': 979,\n",
              " 'reading': 980,\n",
              " 'night': 981,\n",
              " 'bore': 982,\n",
              " 'composure': 983,\n",
              " 'seemed': 984,\n",
              " 'seat': 985,\n",
              " 'beautiful': 986,\n",
              " 'lines': 987,\n",
              " 'driven': 988,\n",
              " 'wild': 989,\n",
              " 'pronounced': 990,\n",
              " 'impenetrable': 991,\n",
              " 'calmness': 992,\n",
              " 'indifference': 993,\n",
              " 'simple': 994,\n",
              " 'elegant': 995,\n",
              " 'prose': 996,\n",
              " 'cowper': 997,\n",
              " 'nay': 998,\n",
              " 'animated': 999,\n",
              " ...}"
            ]
          },
          "metadata": {},
          "execution_count": 12
        }
      ]
    },
    {
      "cell_type": "markdown",
      "source": [
        "### ---------------------"
      ],
      "metadata": {
        "id": "VH3dfzMrV9tK"
      }
    },
    {
      "cell_type": "code",
      "source": [
        "print('Number of unique words:', len(word2idx))"
      ],
      "metadata": {
        "colab": {
          "base_uri": "https://localhost:8080/"
        },
        "id": "2Rqami84Va1N",
        "outputId": "be064ba6-7e33-45ae-d207-1702fdb0155f"
      },
      "execution_count": null,
      "outputs": [
        {
          "output_type": "stream",
          "name": "stdout",
          "text": [
            "Number of unique words: 10285\n"
          ]
        }
      ]
    },
    {
      "cell_type": "code",
      "source": [
        "print('\\nSample word2idx: ', list(word2idx.items())[:10])"
      ],
      "metadata": {
        "colab": {
          "base_uri": "https://localhost:8080/"
        },
        "id": "5N0E7hwpVeKV",
        "outputId": "0497ba9f-193b-426f-d869-8fba17131861"
      },
      "execution_count": null,
      "outputs": [
        {
          "output_type": "stream",
          "name": "stdout",
          "text": [
            "\n",
            "Sample word2idx:  [('sense', 0), ('sensibility', 1), ('jane', 2), ('austen', 3), ('family', 4), ('dashwood', 5), ('long', 6), ('settled', 7), ('sussex', 8), ('estate', 9)]\n"
          ]
        }
      ]
    },
    {
      "cell_type": "code",
      "source": [
        "print('\\nSample idx2word:', list(idx2word.items())[:10])"
      ],
      "metadata": {
        "colab": {
          "base_uri": "https://localhost:8080/"
        },
        "id": "_-J1bZN1Vi3f",
        "outputId": "60a2e5b4-30a2-45f8-9467-e456a1b399e3"
      },
      "execution_count": null,
      "outputs": [
        {
          "output_type": "stream",
          "name": "stdout",
          "text": [
            "\n",
            "Sample idx2word: [(0, 'sense'), (1, 'sensibility'), (2, 'jane'), (3, 'austen'), (4, 'family'), (5, 'dashwood'), (6, 'long'), (7, 'settled'), (8, 'sussex'), (9, 'estate')]\n"
          ]
        }
      ]
    },
    {
      "cell_type": "code",
      "source": [
        "#sents_as_ids=normalized_corpus_test_1\n",
        "print('\\nSample sents_as_id:', prepareSentsAsId(preprocessed_sample))"
      ],
      "metadata": {
        "id": "Xk88em_5VoRi",
        "colab": {
          "base_uri": "https://localhost:8080/"
        },
        "outputId": "cc9c0fcc-2be0-4bc0-cc03-655ea512dc51"
      },
      "execution_count": null,
      "outputs": [
        {
          "output_type": "stream",
          "name": "stdout",
          "text": [
            "\n",
            "Sample sents_as_id: [[0, 1, 2, 3], [68, 5, 195, 593, 33, 594, 286, 595]]\n"
          ]
        }
      ]
    },
    {
      "cell_type": "markdown",
      "metadata": {
        "id": "DCa7VGc59bCD"
      },
      "source": [
        "**Sanity Check**\n",
        "\n",
        "Copy and run the following lines of code:\n",
        "\n",
        "```\n",
        "print('Number of unique words:', len(word2idx)**\n",
        "```\n",
        "Returns a number between 9800 and 1200, the exact number depends on your preprocessing step. \n",
        "\n",
        "```\n",
        "print('\\nSample word2idx: ', list(word2idx.items())[:10])\n",
        "```\n",
        "\n",
        "Sample word2idx:  [('sense', 0), ('sensibility', 1), ('jane', 2), ('austen', 3), ('the', 4), ('family', 5), ('dashwood', 6), ('long', 7), ('settled', 8), ('sussex', 9)]\n",
        "\n",
        "\n",
        "```\n",
        "print('\\nSample idx2word:', list(idx2word.items())[:10])**\n",
        "```\n",
        "\n",
        "Sample idx2word: [(1, 'could'), (2, 'would'), (3, 'mr'), (4, 'mrs'), (5, 'must'), (6, 'said'), (7, 'one'), (8, 'much'), (9, 'miss'), (10, 'every')]\n",
        "\n",
        "```\n",
        "print('\\nSample sents_as_id:', prepareSentsAsId(preprocessed_sample))\n",
        "```\n",
        "\n",
        "Sample sents_as_id: [[0, 1, 2, 3], [41, 72, 6, 201, 619, 35, 620, 296, 621]]\n",
        "\n"
      ]
    },
    {
      "cell_type": "markdown",
      "metadata": {
        "id": "Uqw71xzzeYSm"
      },
      "source": [
        "After you have created the three variables, set the <vocab_size> and <embed_size> variables with the following commands:"
      ]
    },
    {
      "cell_type": "code",
      "execution_count": null,
      "metadata": {
        "id": "WGsp5Lij8qUd"
      },
      "outputs": [],
      "source": [
        "VOCAB_SIZE = len(word2idx) \n",
        "EMBED_SIZE = 100 # We are creating 100D embeddings."
      ]
    },
    {
      "cell_type": "code",
      "execution_count": null,
      "metadata": {
        "id": "u_yjd5kgqiZi",
        "colab": {
          "base_uri": "https://localhost:8080/"
        },
        "outputId": "bda8a487-3f7f-46eb-9f42-82b2347cb5cc"
      },
      "outputs": [
        {
          "output_type": "stream",
          "name": "stdout",
          "text": [
            "Number of unique words: 10285\n"
          ]
        }
      ],
      "source": [
        "print('Number of unique words:', len(word2idx))"
      ]
    },
    {
      "cell_type": "markdown",
      "metadata": {
        "id": "WXhJNdf9TIed"
      },
      "source": [
        "### **4. Generating training instances**\n",
        "\n",
        "\n",
        "In this section we would generate the training examples of the format shown in introduction using the keras skip-gram generator https://keras.io/preprocessing/sequence/ "
      ]
    },
    {
      "cell_type": "code",
      "source": [
        "from keras.preprocessing.sequence import skipgrams\n",
        "\n",
        "# generate skip-grams\n",
        "wids = [[word2idx[w] for w in doc] for doc in normalized_corpus]\n",
        "skip_grams = [skipgrams(wid, vocabulary_size=VOCAB_SIZE, window_size=4) for wid in wids]\n",
        "pairs, labels = skip_grams[0][0], skip_grams[0][1]\n",
        "\n",
        "#view sample skip-grams\n",
        "pairs, labels = skip_grams[0][0], skip_grams[0][1]\n",
        "for i in range(len(pairs)):\n",
        "    print(\"({:s} ({:d}), {:s} ({:d})) -> {:d}\".format(\n",
        "          idx2word[pairs[i][0]], pairs[i][0], \n",
        "          idx2word[pairs[i][1]], pairs[i][1], \n",
        "          labels[i]))"
      ],
      "metadata": {
        "id": "4zC4c4lIJWxQ",
        "colab": {
          "base_uri": "https://localhost:8080/"
        },
        "outputId": "fbabe984-35e0-497c-e681-411cf7d1f0cd"
      },
      "execution_count": null,
      "outputs": [
        {
          "output_type": "stream",
          "name": "stdout",
          "text": [
            "(austen (3), sensibility (1)) -> 1\n",
            "(sensibility (1), jane (2)) -> 1\n",
            "(sensibility (1), estrangement (10224)) -> 0\n",
            "(austen (3), moonlight (1663)) -> 0\n",
            "(austen (3), jane (2)) -> 1\n",
            "(sensibility (1), intruder (6100)) -> 0\n",
            "(jane (2), steele (3544)) -> 0\n",
            "(sensibility (1), austen (3)) -> 1\n",
            "(austen (3), pages (6015)) -> 0\n",
            "(jane (2), austen (3)) -> 1\n",
            "(jane (2), inure (9371)) -> 0\n",
            "(jane (2), sensibility (1)) -> 1\n"
          ]
        }
      ]
    },
    {
      "cell_type": "markdown",
      "metadata": {
        "id": "EDyy65QlTyf2"
      },
      "source": [
        "**Sanity Check:**\n",
        "\n",
        "To view the skip_grams for the first sentence in the training data, run the line of code that follows. The output should look like:\n",
        "\n",
        "(austen (3), sensibility (1)) -> 1\n",
        "\n",
        "(austen (3), jane (2)) -> 1\n",
        "\n",
        "(jane (2), sensibility (1)) -> 1\n",
        "\n",
        "(jane (2), walked (2639)) -> 0\n",
        "\n",
        "(jane (2), partridge (7948)) -> 0\n",
        "\n",
        "(sensibility (1), austen (3)) -> 1\n",
        "\n",
        "(sensibility (1), beneficial (5587)) -> 0\n",
        "\n",
        "(sensibility (1), jane (2)) -> 1\n",
        "\n",
        "(sensibility (1), dreamt (8308)) -> 0\n",
        "\n",
        "(austen (3), perception (6543)) -> 0\n",
        "\n",
        "(jane (2), austen (3)) -> 1\n",
        "\n",
        "(austen (3), imposing (8622)) -> 0\n"
      ]
    },
    {
      "cell_type": "markdown",
      "metadata": {
        "id": "uMQJAolZWVLx"
      },
      "source": [
        "### **5. Building the Skip-gram Neural Network Architecture**\n",
        "\n",
        "In this section we would be building the skip-gram neural network architecture using the Keras Functional API and the Sequential model introduced in the previous lab. https://keras.io/getting-started/functional-api-guide/ "
      ]
    },
    {
      "cell_type": "code",
      "execution_count": null,
      "metadata": {
        "id": "fi0JmuY-Tlsp"
      },
      "outputs": [],
      "source": [
        "from keras.layers import Dot, Input\n",
        "from keras.layers.core import Dense, Reshape\n",
        "from keras.layers.embeddings import Embedding\n",
        "from keras.models import Model\n",
        "from keras.utils.vis_utils import plot_model\n"
      ]
    },
    {
      "cell_type": "markdown",
      "metadata": {
        "id": "22d8UIg-cBOc"
      },
      "source": [
        "The skip-gram model is two input one output feedforward neural network with one hidden layer and this will be built over a series of steps.\n",
        "\n",
        "####**A. The first step is to initialize and transform the first input using the following lines of code:**"
      ]
    },
    {
      "cell_type": "code",
      "execution_count": null,
      "metadata": {
        "id": "ggqykF7WUyGP"
      },
      "outputs": [],
      "source": [
        "# The input is an array of target indices e.g. [2, 45, 7, 23,...9]\n",
        "target_word = Input((1,), dtype='int32')\n",
        "\n",
        "\n",
        "# feed the words into the model using the Keras <Embedding> layer. This is the hidden layer \n",
        "# from whose weights we will get the word embeddings.\n",
        "target_embedding = Embedding(VOCAB_SIZE, EMBED_SIZE, name='target_embed_layer',\n",
        "                        \tembeddings_initializer='glorot_uniform',\n",
        "                         \tinput_length=1)(target_word)\n",
        "\n",
        "\n",
        "# at this point, the input would of the shape (num_inputs x 1 x embed_size) and has to be flattened \n",
        "# or reshaped into a (num_inputs x embed_size) tensor.\n",
        "target_input = Reshape((EMBED_SIZE, ))(target_embedding)"
      ]
    },
    {
      "cell_type": "markdown",
      "metadata": {
        "id": "GXn_SVjHckwL"
      },
      "source": [
        "####**B. Write similar code for the ‘context_word’ input.**"
      ]
    },
    {
      "cell_type": "code",
      "execution_count": null,
      "metadata": {
        "id": "vkCyRztYcMsp"
      },
      "outputs": [],
      "source": [
        "# your code for the context_word goes here\n",
        "# The input is an array of target indices e.g. [2, 45, 7, 23,...9]\n",
        "context_word = Input((1,), dtype='int32')\n",
        "\n",
        "\n",
        "# feed the words into the model using the Keras <Embedding> layer. This is the hidden layer \n",
        "# from whose weights we will get the word embeddings.\n",
        "context_embedding = Embedding(VOCAB_SIZE, EMBED_SIZE, name='context_embed_layer',\n",
        "                        \tembeddings_initializer='glorot_uniform',\n",
        "                         \tinput_length=1)(context_word)\n",
        "\n",
        "\n",
        "# at this point, the input would of the shape (num_inputs x 1 x embed_size) and has to be flattened \n",
        "# or reshaped into a (num_inputs x embed_size) tensor.\n",
        "context_input = Reshape((EMBED_SIZE, ))(context_embedding)"
      ]
    },
    {
      "cell_type": "markdown",
      "metadata": {
        "id": "btNWVWRqdBJV"
      },
      "source": [
        "####**C. Merge the inputs.**\n",
        "\n",
        "Recall, each training instance is a (target_word, context_word) combination. Since we are trying to learn the degree of closeness between the two words, the model will compute the cosine distance between the two inputs using the <Dot> layer. https://keras.io/layers/merge/, hence fusing the two inputs into one.\n"
      ]
    },
    {
      "cell_type": "code",
      "execution_count": null,
      "metadata": {
        "id": "WL0_IgA0cYBx"
      },
      "outputs": [],
      "source": [
        "merged_inputs = Dot(axes=-1, normalize=False)([target_input, context_input])"
      ]
    },
    {
      "cell_type": "markdown",
      "metadata": {
        "id": "vQEsxQ6We1Ob"
      },
      "source": [
        "####**D. The Output Layer**\n",
        "\n",
        "Pass the merged inputs (now a vector with a single number the cosine distance between the two input vectors for each word) into a sigmoid activated neuron. The output of this layer is the output of the model.\n",
        "\n",
        "**Hint**: Use the <Dense> layer ( https://keras.io/layers/core/ ), with a ‘sigmoid’ activation function."
      ]
    },
    {
      "cell_type": "code",
      "source": [
        "# your code for the output layer goes here\n",
        "import tensorflow as tf\n",
        "out_layer = tf.keras.layers.Dense(1, activation='sigmoid')(merged_inputs)"
      ],
      "metadata": {
        "id": "nM0jvCDtaL20"
      },
      "execution_count": null,
      "outputs": []
    },
    {
      "cell_type": "markdown",
      "metadata": {
        "id": "yQk1Yj8wfXrF"
      },
      "source": [
        "####**E. Initialize the model:**"
      ]
    },
    {
      "cell_type": "code",
      "execution_count": null,
      "metadata": {
        "id": "YHRICxY7cdBB"
      },
      "outputs": [],
      "source": [
        "# label is the output of step D.\n",
        "model = Model(inputs=[target_word, context_word], outputs=[out_layer])  "
      ]
    },
    {
      "cell_type": "markdown",
      "metadata": {
        "id": "DdbRI0TGVZIt"
      },
      "source": [
        "####**F. Compile the model using the <model.compile> command.** Use Loss = ‘mean_squared_error’, optimizer = ‘rmsprop’."
      ]
    },
    {
      "cell_type": "code",
      "execution_count": null,
      "metadata": {
        "id": "5LtWvavefueu"
      },
      "outputs": [],
      "source": [
        "model.compile(loss=\"mean_squared_error\", optimizer=\"rmsprop\")"
      ]
    },
    {
      "cell_type": "markdown",
      "metadata": {
        "id": "GC7IShG_fczC"
      },
      "source": [
        "**Sanity check:**\n",
        "\n",
        "Visualize the model and the model summary by running the following lines of code. \n",
        "view the model summary"
      ]
    },
    {
      "cell_type": "code",
      "source": [
        "model.summary()"
      ],
      "metadata": {
        "colab": {
          "base_uri": "https://localhost:8080/"
        },
        "id": "ribodvykcqTP",
        "outputId": "1401d970-633a-4d67-cc64-ed24ece22ca5"
      },
      "execution_count": null,
      "outputs": [
        {
          "output_type": "stream",
          "name": "stdout",
          "text": [
            "Model: \"model\"\n",
            "__________________________________________________________________________________________________\n",
            " Layer (type)                   Output Shape         Param #     Connected to                     \n",
            "==================================================================================================\n",
            " input_1 (InputLayer)           [(None, 1)]          0           []                               \n",
            "                                                                                                  \n",
            " input_2 (InputLayer)           [(None, 1)]          0           []                               \n",
            "                                                                                                  \n",
            " target_embed_layer (Embedding)  (None, 1, 100)      1028500     ['input_1[0][0]']                \n",
            "                                                                                                  \n",
            " context_embed_layer (Embedding  (None, 1, 100)      1028500     ['input_2[0][0]']                \n",
            " )                                                                                                \n",
            "                                                                                                  \n",
            " reshape (Reshape)              (None, 100)          0           ['target_embed_layer[0][0]']     \n",
            "                                                                                                  \n",
            " reshape_1 (Reshape)            (None, 100)          0           ['context_embed_layer[0][0]']    \n",
            "                                                                                                  \n",
            " dot (Dot)                      (None, 1)            0           ['reshape[0][0]',                \n",
            "                                                                  'reshape_1[0][0]']              \n",
            "                                                                                                  \n",
            " dense (Dense)                  (None, 1)            2           ['dot[0][0]']                    \n",
            "                                                                                                  \n",
            "==================================================================================================\n",
            "Total params: 2,057,002\n",
            "Trainable params: 2,057,002\n",
            "Non-trainable params: 0\n",
            "__________________________________________________________________________________________________\n"
          ]
        }
      ]
    },
    {
      "cell_type": "markdown",
      "metadata": {
        "id": "3VVPnyFhgVr9"
      },
      "source": [
        "####**G. Plot the model using ```vis utils```.**"
      ]
    },
    {
      "cell_type": "code",
      "source": [
        "from IPython.display import SVG\n",
        "from keras.utils import vis_utils\n",
        "SVG(vis_utils.model_to_dot(model, show_shapes=True, show_layer_names=True, dpi=60).create(prog='dot', format='svg'))  \n"
      ],
      "metadata": {
        "colab": {
          "base_uri": "https://localhost:8080/",
          "height": 450
        },
        "id": "xu9JrhY4mrND",
        "outputId": "131a2cd8-53b8-421a-a74a-a1b6610b5899"
      },
      "execution_count": null,
      "outputs": [
        {
          "output_type": "execute_result",
          "data": {
            "text/plain": [
              "<IPython.core.display.SVG object>"
            ],
            "image/svg+xml": "<svg height=\"322pt\" viewBox=\"0.00 0.00 758.50 387.00\" width=\"632pt\" xmlns=\"http://www.w3.org/2000/svg\" xmlns:xlink=\"http://www.w3.org/1999/xlink\">\n<g class=\"graph\" id=\"graph0\" transform=\"scale(.8333 .8333) rotate(0) translate(4 383)\">\n<title>G</title>\n<polygon fill=\"#ffffff\" points=\"-4,4 -4,-383 754.5,-383 754.5,4 -4,4\" stroke=\"transparent\"/>\n<!-- 139868074757200 -->\n<g class=\"node\" id=\"node1\">\n<title>139868074757200</title>\n<polygon fill=\"none\" points=\"30.5,-332.5 30.5,-378.5 330.5,-378.5 330.5,-332.5 30.5,-332.5\" stroke=\"#000000\"/>\n<text fill=\"#000000\" font-family=\"Times,serif\" font-size=\"14.00\" text-anchor=\"middle\" x=\"70.5\" y=\"-363.3\">input_1</text>\n<polyline fill=\"none\" points=\"30.5,-355.5 110.5,-355.5 \" stroke=\"#000000\"/>\n<text fill=\"#000000\" font-family=\"Times,serif\" font-size=\"14.00\" text-anchor=\"middle\" x=\"70.5\" y=\"-340.3\">InputLayer</text>\n<polyline fill=\"none\" points=\"110.5,-332.5 110.5,-378.5 \" stroke=\"#000000\"/>\n<text fill=\"#000000\" font-family=\"Times,serif\" font-size=\"14.00\" text-anchor=\"middle\" x=\"139.5\" y=\"-363.3\">input:</text>\n<polyline fill=\"none\" points=\"110.5,-355.5 168.5,-355.5 \" stroke=\"#000000\"/>\n<text fill=\"#000000\" font-family=\"Times,serif\" font-size=\"14.00\" text-anchor=\"middle\" x=\"139.5\" y=\"-340.3\">output:</text>\n<polyline fill=\"none\" points=\"168.5,-332.5 168.5,-378.5 \" stroke=\"#000000\"/>\n<text fill=\"#000000\" font-family=\"Times,serif\" font-size=\"14.00\" text-anchor=\"middle\" x=\"209\" y=\"-351.8\">[(None, 1)]</text>\n<polyline fill=\"none\" points=\"249.5,-332.5 249.5,-378.5 \" stroke=\"#000000\"/>\n<text fill=\"#000000\" font-family=\"Times,serif\" font-size=\"14.00\" text-anchor=\"middle\" x=\"290\" y=\"-351.8\">[(None, 1)]</text>\n</g>\n<!-- 139869899868752 -->\n<g class=\"node\" id=\"node3\">\n<title>139869899868752</title>\n<polygon fill=\"none\" points=\"0,-249.5 0,-295.5 361,-295.5 361,-249.5 0,-249.5\" stroke=\"#000000\"/>\n<text fill=\"#000000\" font-family=\"Times,serif\" font-size=\"14.00\" text-anchor=\"middle\" x=\"64.5\" y=\"-280.3\">target_embed_layer</text>\n<polyline fill=\"none\" points=\"0,-272.5 129,-272.5 \" stroke=\"#000000\"/>\n<text fill=\"#000000\" font-family=\"Times,serif\" font-size=\"14.00\" text-anchor=\"middle\" x=\"64.5\" y=\"-257.3\">Embedding</text>\n<polyline fill=\"none\" points=\"129,-249.5 129,-295.5 \" stroke=\"#000000\"/>\n<text fill=\"#000000\" font-family=\"Times,serif\" font-size=\"14.00\" text-anchor=\"middle\" x=\"158\" y=\"-280.3\">input:</text>\n<polyline fill=\"none\" points=\"129,-272.5 187,-272.5 \" stroke=\"#000000\"/>\n<text fill=\"#000000\" font-family=\"Times,serif\" font-size=\"14.00\" text-anchor=\"middle\" x=\"158\" y=\"-257.3\">output:</text>\n<polyline fill=\"none\" points=\"187,-249.5 187,-295.5 \" stroke=\"#000000\"/>\n<text fill=\"#000000\" font-family=\"Times,serif\" font-size=\"14.00\" text-anchor=\"middle\" x=\"223\" y=\"-268.8\">(None, 1)</text>\n<polyline fill=\"none\" points=\"259,-249.5 259,-295.5 \" stroke=\"#000000\"/>\n<text fill=\"#000000\" font-family=\"Times,serif\" font-size=\"14.00\" text-anchor=\"middle\" x=\"310\" y=\"-268.8\">(None, 1, 100)</text>\n</g>\n<!-- 139868074757200&#45;&gt;139869899868752 -->\n<g class=\"edge\" id=\"edge1\">\n<title>139868074757200-&gt;139869899868752</title>\n<path d=\"M180.5,-332.3799C180.5,-324.1745 180.5,-314.7679 180.5,-305.8786\" fill=\"none\" stroke=\"#000000\"/>\n<polygon fill=\"#000000\" points=\"184.0001,-305.784 180.5,-295.784 177.0001,-305.784 184.0001,-305.784\" stroke=\"#000000\"/>\n</g>\n<!-- 139869900359888 -->\n<g class=\"node\" id=\"node2\">\n<title>139869900359888</title>\n<polygon fill=\"none\" points=\"414.5,-332.5 414.5,-378.5 714.5,-378.5 714.5,-332.5 414.5,-332.5\" stroke=\"#000000\"/>\n<text fill=\"#000000\" font-family=\"Times,serif\" font-size=\"14.00\" text-anchor=\"middle\" x=\"454.5\" y=\"-363.3\">input_2</text>\n<polyline fill=\"none\" points=\"414.5,-355.5 494.5,-355.5 \" stroke=\"#000000\"/>\n<text fill=\"#000000\" font-family=\"Times,serif\" font-size=\"14.00\" text-anchor=\"middle\" x=\"454.5\" y=\"-340.3\">InputLayer</text>\n<polyline fill=\"none\" points=\"494.5,-332.5 494.5,-378.5 \" stroke=\"#000000\"/>\n<text fill=\"#000000\" font-family=\"Times,serif\" font-size=\"14.00\" text-anchor=\"middle\" x=\"523.5\" y=\"-363.3\">input:</text>\n<polyline fill=\"none\" points=\"494.5,-355.5 552.5,-355.5 \" stroke=\"#000000\"/>\n<text fill=\"#000000\" font-family=\"Times,serif\" font-size=\"14.00\" text-anchor=\"middle\" x=\"523.5\" y=\"-340.3\">output:</text>\n<polyline fill=\"none\" points=\"552.5,-332.5 552.5,-378.5 \" stroke=\"#000000\"/>\n<text fill=\"#000000\" font-family=\"Times,serif\" font-size=\"14.00\" text-anchor=\"middle\" x=\"593\" y=\"-351.8\">[(None, 1)]</text>\n<polyline fill=\"none\" points=\"633.5,-332.5 633.5,-378.5 \" stroke=\"#000000\"/>\n<text fill=\"#000000\" font-family=\"Times,serif\" font-size=\"14.00\" text-anchor=\"middle\" x=\"674\" y=\"-351.8\">[(None, 1)]</text>\n</g>\n<!-- 139868074762896 -->\n<g class=\"node\" id=\"node4\">\n<title>139868074762896</title>\n<polygon fill=\"none\" points=\"378.5,-249.5 378.5,-295.5 750.5,-295.5 750.5,-249.5 378.5,-249.5\" stroke=\"#000000\"/>\n<text fill=\"#000000\" font-family=\"Times,serif\" font-size=\"14.00\" text-anchor=\"middle\" x=\"448.5\" y=\"-280.3\">context_embed_layer</text>\n<polyline fill=\"none\" points=\"378.5,-272.5 518.5,-272.5 \" stroke=\"#000000\"/>\n<text fill=\"#000000\" font-family=\"Times,serif\" font-size=\"14.00\" text-anchor=\"middle\" x=\"448.5\" y=\"-257.3\">Embedding</text>\n<polyline fill=\"none\" points=\"518.5,-249.5 518.5,-295.5 \" stroke=\"#000000\"/>\n<text fill=\"#000000\" font-family=\"Times,serif\" font-size=\"14.00\" text-anchor=\"middle\" x=\"547.5\" y=\"-280.3\">input:</text>\n<polyline fill=\"none\" points=\"518.5,-272.5 576.5,-272.5 \" stroke=\"#000000\"/>\n<text fill=\"#000000\" font-family=\"Times,serif\" font-size=\"14.00\" text-anchor=\"middle\" x=\"547.5\" y=\"-257.3\">output:</text>\n<polyline fill=\"none\" points=\"576.5,-249.5 576.5,-295.5 \" stroke=\"#000000\"/>\n<text fill=\"#000000\" font-family=\"Times,serif\" font-size=\"14.00\" text-anchor=\"middle\" x=\"612.5\" y=\"-268.8\">(None, 1)</text>\n<polyline fill=\"none\" points=\"648.5,-249.5 648.5,-295.5 \" stroke=\"#000000\"/>\n<text fill=\"#000000\" font-family=\"Times,serif\" font-size=\"14.00\" text-anchor=\"middle\" x=\"699.5\" y=\"-268.8\">(None, 1, 100)</text>\n</g>\n<!-- 139869900359888&#45;&gt;139868074762896 -->\n<g class=\"edge\" id=\"edge2\">\n<title>139869900359888-&gt;139868074762896</title>\n<path d=\"M564.5,-332.3799C564.5,-324.1745 564.5,-314.7679 564.5,-305.8786\" fill=\"none\" stroke=\"#000000\"/>\n<polygon fill=\"#000000\" points=\"568.0001,-305.784 564.5,-295.784 561.0001,-305.784 568.0001,-305.784\" stroke=\"#000000\"/>\n</g>\n<!-- 139867776638928 -->\n<g class=\"node\" id=\"node5\">\n<title>139867776638928</title>\n<polygon fill=\"none\" points=\"48.5,-166.5 48.5,-212.5 360.5,-212.5 360.5,-166.5 48.5,-166.5\" stroke=\"#000000\"/>\n<text fill=\"#000000\" font-family=\"Times,serif\" font-size=\"14.00\" text-anchor=\"middle\" x=\"81\" y=\"-197.3\">reshape</text>\n<polyline fill=\"none\" points=\"48.5,-189.5 113.5,-189.5 \" stroke=\"#000000\"/>\n<text fill=\"#000000\" font-family=\"Times,serif\" font-size=\"14.00\" text-anchor=\"middle\" x=\"81\" y=\"-174.3\">Reshape</text>\n<polyline fill=\"none\" points=\"113.5,-166.5 113.5,-212.5 \" stroke=\"#000000\"/>\n<text fill=\"#000000\" font-family=\"Times,serif\" font-size=\"14.00\" text-anchor=\"middle\" x=\"142.5\" y=\"-197.3\">input:</text>\n<polyline fill=\"none\" points=\"113.5,-189.5 171.5,-189.5 \" stroke=\"#000000\"/>\n<text fill=\"#000000\" font-family=\"Times,serif\" font-size=\"14.00\" text-anchor=\"middle\" x=\"142.5\" y=\"-174.3\">output:</text>\n<polyline fill=\"none\" points=\"171.5,-166.5 171.5,-212.5 \" stroke=\"#000000\"/>\n<text fill=\"#000000\" font-family=\"Times,serif\" font-size=\"14.00\" text-anchor=\"middle\" x=\"222.5\" y=\"-185.8\">(None, 1, 100)</text>\n<polyline fill=\"none\" points=\"273.5,-166.5 273.5,-212.5 \" stroke=\"#000000\"/>\n<text fill=\"#000000\" font-family=\"Times,serif\" font-size=\"14.00\" text-anchor=\"middle\" x=\"317\" y=\"-185.8\">(None, 100)</text>\n</g>\n<!-- 139869899868752&#45;&gt;139867776638928 -->\n<g class=\"edge\" id=\"edge3\">\n<title>139869899868752-&gt;139867776638928</title>\n<path d=\"M187.1853,-249.3799C189.5838,-241.0854 192.3371,-231.5633 194.9321,-222.5889\" fill=\"none\" stroke=\"#000000\"/>\n<polygon fill=\"#000000\" points=\"198.3517,-223.3627 197.7673,-212.784 191.6272,-221.4182 198.3517,-223.3627\" stroke=\"#000000\"/>\n</g>\n<!-- 139867767822224 -->\n<g class=\"node\" id=\"node6\">\n<title>139867767822224</title>\n<polygon fill=\"none\" points=\"391,-166.5 391,-212.5 712,-212.5 712,-166.5 391,-166.5\" stroke=\"#000000\"/>\n<text fill=\"#000000\" font-family=\"Times,serif\" font-size=\"14.00\" text-anchor=\"middle\" x=\"428\" y=\"-197.3\">reshape_1</text>\n<polyline fill=\"none\" points=\"391,-189.5 465,-189.5 \" stroke=\"#000000\"/>\n<text fill=\"#000000\" font-family=\"Times,serif\" font-size=\"14.00\" text-anchor=\"middle\" x=\"428\" y=\"-174.3\">Reshape</text>\n<polyline fill=\"none\" points=\"465,-166.5 465,-212.5 \" stroke=\"#000000\"/>\n<text fill=\"#000000\" font-family=\"Times,serif\" font-size=\"14.00\" text-anchor=\"middle\" x=\"494\" y=\"-197.3\">input:</text>\n<polyline fill=\"none\" points=\"465,-189.5 523,-189.5 \" stroke=\"#000000\"/>\n<text fill=\"#000000\" font-family=\"Times,serif\" font-size=\"14.00\" text-anchor=\"middle\" x=\"494\" y=\"-174.3\">output:</text>\n<polyline fill=\"none\" points=\"523,-166.5 523,-212.5 \" stroke=\"#000000\"/>\n<text fill=\"#000000\" font-family=\"Times,serif\" font-size=\"14.00\" text-anchor=\"middle\" x=\"574\" y=\"-185.8\">(None, 1, 100)</text>\n<polyline fill=\"none\" points=\"625,-166.5 625,-212.5 \" stroke=\"#000000\"/>\n<text fill=\"#000000\" font-family=\"Times,serif\" font-size=\"14.00\" text-anchor=\"middle\" x=\"668.5\" y=\"-185.8\">(None, 100)</text>\n</g>\n<!-- 139868074762896&#45;&gt;139867767822224 -->\n<g class=\"edge\" id=\"edge4\">\n<title>139868074762896-&gt;139867767822224</title>\n<path d=\"M560.8788,-249.3799C559.5936,-241.1745 558.1203,-231.7679 556.728,-222.8786\" fill=\"none\" stroke=\"#000000\"/>\n<polygon fill=\"#000000\" points=\"560.1522,-222.1219 555.1469,-212.784 553.2365,-223.2052 560.1522,-222.1219\" stroke=\"#000000\"/>\n</g>\n<!-- 139867708447632 -->\n<g class=\"node\" id=\"node7\">\n<title>139867708447632</title>\n<polygon fill=\"none\" points=\"200.5,-83.5 200.5,-129.5 542.5,-129.5 542.5,-83.5 200.5,-83.5\" stroke=\"#000000\"/>\n<text fill=\"#000000\" font-family=\"Times,serif\" font-size=\"14.00\" text-anchor=\"middle\" x=\"219.5\" y=\"-114.3\">dot</text>\n<polyline fill=\"none\" points=\"200.5,-106.5 238.5,-106.5 \" stroke=\"#000000\"/>\n<text fill=\"#000000\" font-family=\"Times,serif\" font-size=\"14.00\" text-anchor=\"middle\" x=\"219.5\" y=\"-91.3\">Dot</text>\n<polyline fill=\"none\" points=\"238.5,-83.5 238.5,-129.5 \" stroke=\"#000000\"/>\n<text fill=\"#000000\" font-family=\"Times,serif\" font-size=\"14.00\" text-anchor=\"middle\" x=\"267.5\" y=\"-114.3\">input:</text>\n<polyline fill=\"none\" points=\"238.5,-106.5 296.5,-106.5 \" stroke=\"#000000\"/>\n<text fill=\"#000000\" font-family=\"Times,serif\" font-size=\"14.00\" text-anchor=\"middle\" x=\"267.5\" y=\"-91.3\">output:</text>\n<polyline fill=\"none\" points=\"296.5,-83.5 296.5,-129.5 \" stroke=\"#000000\"/>\n<text fill=\"#000000\" font-family=\"Times,serif\" font-size=\"14.00\" text-anchor=\"middle\" x=\"383.5\" y=\"-102.8\">[(None, 100), (None, 100)]</text>\n<polyline fill=\"none\" points=\"470.5,-83.5 470.5,-129.5 \" stroke=\"#000000\"/>\n<text fill=\"#000000\" font-family=\"Times,serif\" font-size=\"14.00\" text-anchor=\"middle\" x=\"506.5\" y=\"-102.8\">(None, 1)</text>\n</g>\n<!-- 139867776638928&#45;&gt;139867708447632 -->\n<g class=\"edge\" id=\"edge5\">\n<title>139867776638928-&gt;139867708447632</title>\n<path d=\"M251.0188,-166.3799C271.1117,-156.3936 294.7848,-144.6279 315.8043,-134.1811\" fill=\"none\" stroke=\"#000000\"/>\n<polygon fill=\"#000000\" points=\"317.5441,-137.2249 324.9413,-129.6399 314.4286,-130.9564 317.5441,-137.2249\" stroke=\"#000000\"/>\n</g>\n<!-- 139867767822224&#45;&gt;139867708447632 -->\n<g class=\"edge\" id=\"edge6\">\n<title>139867767822224-&gt;139867708447632</title>\n<path d=\"M501.36,-166.3799C479.5087,-156.304 453.729,-144.4167 430.9224,-133.9003\" fill=\"none\" stroke=\"#000000\"/>\n<polygon fill=\"#000000\" points=\"432.2297,-130.649 421.683,-129.6399 429.2985,-137.0058 432.2297,-130.649\" stroke=\"#000000\"/>\n</g>\n<!-- 139869900346640 -->\n<g class=\"node\" id=\"node8\">\n<title>139869900346640</title>\n<polygon fill=\"none\" points=\"244.5,-.5 244.5,-46.5 498.5,-46.5 498.5,-.5 244.5,-.5\" stroke=\"#000000\"/>\n<text fill=\"#000000\" font-family=\"Times,serif\" font-size=\"14.00\" text-anchor=\"middle\" x=\"270.5\" y=\"-31.3\">dense</text>\n<polyline fill=\"none\" points=\"244.5,-23.5 296.5,-23.5 \" stroke=\"#000000\"/>\n<text fill=\"#000000\" font-family=\"Times,serif\" font-size=\"14.00\" text-anchor=\"middle\" x=\"270.5\" y=\"-8.3\">Dense</text>\n<polyline fill=\"none\" points=\"296.5,-.5 296.5,-46.5 \" stroke=\"#000000\"/>\n<text fill=\"#000000\" font-family=\"Times,serif\" font-size=\"14.00\" text-anchor=\"middle\" x=\"325.5\" y=\"-31.3\">input:</text>\n<polyline fill=\"none\" points=\"296.5,-23.5 354.5,-23.5 \" stroke=\"#000000\"/>\n<text fill=\"#000000\" font-family=\"Times,serif\" font-size=\"14.00\" text-anchor=\"middle\" x=\"325.5\" y=\"-8.3\">output:</text>\n<polyline fill=\"none\" points=\"354.5,-.5 354.5,-46.5 \" stroke=\"#000000\"/>\n<text fill=\"#000000\" font-family=\"Times,serif\" font-size=\"14.00\" text-anchor=\"middle\" x=\"390.5\" y=\"-19.8\">(None, 1)</text>\n<polyline fill=\"none\" points=\"426.5,-.5 426.5,-46.5 \" stroke=\"#000000\"/>\n<text fill=\"#000000\" font-family=\"Times,serif\" font-size=\"14.00\" text-anchor=\"middle\" x=\"462.5\" y=\"-19.8\">(None, 1)</text>\n</g>\n<!-- 139867708447632&#45;&gt;139869900346640 -->\n<g class=\"edge\" id=\"edge7\">\n<title>139867708447632-&gt;139869900346640</title>\n<path d=\"M371.5,-83.3799C371.5,-75.1745 371.5,-65.7679 371.5,-56.8786\" fill=\"none\" stroke=\"#000000\"/>\n<polygon fill=\"#000000\" points=\"375.0001,-56.784 371.5,-46.784 368.0001,-56.784 375.0001,-56.784\" stroke=\"#000000\"/>\n</g>\n</g>\n</svg>"
          },
          "metadata": {},
          "execution_count": 28
        }
      ]
    },
    {
      "cell_type": "markdown",
      "metadata": {
        "id": "zbOcZD6igpxy"
      },
      "source": [
        "###**6.Training the Model**\n",
        "\n",
        "Run the following block of code to train the model for 5 epochs:"
      ]
    },
    {
      "cell_type": "code",
      "source": [
        "VOCAB_SIZE = len(word2idx) \n",
        "VOCAB_SIZE"
      ],
      "metadata": {
        "colab": {
          "base_uri": "https://localhost:8080/"
        },
        "id": "t4pMX1vVhBoJ",
        "outputId": "4c032c7b-e6fb-4bfc-ded3-66426a953886"
      },
      "execution_count": null,
      "outputs": [
        {
          "output_type": "execute_result",
          "data": {
            "text/plain": [
              "10285"
            ]
          },
          "metadata": {},
          "execution_count": 29
        }
      ]
    },
    {
      "cell_type": "code",
      "source": [
        "EMBED_SIZE"
      ],
      "metadata": {
        "colab": {
          "base_uri": "https://localhost:8080/"
        },
        "id": "JnvUs0NihDoW",
        "outputId": "ad9dd3b5-f280-46c5-d2ee-c937500b479a"
      },
      "execution_count": null,
      "outputs": [
        {
          "output_type": "execute_result",
          "data": {
            "text/plain": [
              "100"
            ]
          },
          "metadata": {},
          "execution_count": 30
        }
      ]
    },
    {
      "cell_type": "code",
      "execution_count": null,
      "metadata": {
        "colab": {
          "base_uri": "https://localhost:8080/"
        },
        "id": "RmQN4r52gmLR",
        "outputId": "c55fc39b-2a4e-4ce4-e999-ccdd8e9f8424"
      },
      "outputs": [
        {
          "output_type": "stream",
          "name": "stdout",
          "text": [
            "Processed all 12715 sentences\n",
            "Epoch: 1 Loss: 0.7499145418405533 \n",
            "\n",
            "Processed all 12715 sentences\n",
            "Epoch: 2 Loss: 0.7473815083503723 \n",
            "\n",
            "Processed all 12715 sentences\n",
            "Epoch: 3 Loss: 0.7450541406869888 \n",
            "\n",
            "Processed all 12715 sentences\n",
            "Epoch: 4 Loss: 0.7424442023038864 \n",
            "\n",
            "Processed all 12715 sentences\n",
            "Epoch: 5 Loss: 0.7394593507051468 \n",
            "\n"
          ]
        }
      ],
      "source": [
        "import numpy as np\n",
        "\n",
        "NUM_EPOCHS = 5\n",
        "\n",
        "for epoch in range(1, NUM_EPOCHS+1):\n",
        "    epoch_loss = 0\n",
        "    for i, sent_examples in enumerate(skip_grams):\n",
        "        #print(sent_examples)\n",
        "        target_wds = np.array([pair[0] for pair in sent_examples[0]], dtype='int32')\n",
        "        context_wds = np.array([pair[1] for pair in sent_examples[0]], dtype='int32')\n",
        "        labels = np.array(sent_examples[1], dtype='int32')\n",
        "        X = [target_wds, context_wds]\n",
        "        Y = labels\n",
        "        if i % 5000 == 0: \n",
        "        \t#print('Processed %d sentences' %i)\n",
        "          epoch_loss += model.train_on_batch(X, Y)\n",
        "    print('Processed all %d sentences' %i)\n",
        "    print('Epoch:', epoch, 'Loss:', epoch_loss, '\\n')\n",
        "\n"
      ]
    },
    {
      "cell_type": "markdown",
      "metadata": {
        "id": "Sj6BiOKfiI7R"
      },
      "source": [
        "The training takes about 10 minutes to run.\n",
        "\n",
        "<br>\n",
        "\n",
        "In the introduction, we outlined two approaches to training using the skipgram architecture. In this tutorial, we implemented the negative sampling training approach. While waiting for the training to complete, read this article http://mccormickml.com/2016/04/19/word2vec-tutorial-the-skip-gram-model/. It contains the skipgram model with softmax training. \n",
        "\n",
        "<br>\n",
        "\n",
        "After reading the article, answer the following questions:  \n",
        "●\tWhat would the inputs and outputs to the model be?\n",
        "\n",
        "●\tHow would you use the Keras framework to create this architecture?\n",
        "\n",
        "●\tWhat are the reasons this training approach is \n",
        "considered inefficient?\n"
      ]
    },
    {
      "cell_type": "markdown",
      "metadata": {
        "id": "Bwz_8kTZ6UVF"
      },
      "source": [
        "###**7. Getting the Word Embeddings**\n",
        "\n",
        "The word embeddings are the weights of the target word embedding layer.\n"
      ]
    },
    {
      "cell_type": "code",
      "execution_count": null,
      "metadata": {
        "colab": {
          "base_uri": "https://localhost:8080/"
        },
        "id": "kiQTO6VgcN90",
        "outputId": "0fc196dc-e3d9-48a5-95f7-90a435a6a5dc"
      },
      "outputs": [
        {
          "output_type": "stream",
          "name": "stdout",
          "text": [
            "(10285, 100)\n"
          ]
        }
      ],
      "source": [
        "word_embeddings = model.get_layer('target_embed_layer').get_weights()[0] \n",
        "\n",
        "# should return (VOCAB_SIZE, EMBED_SIZE)\n",
        "print(word_embeddings.shape)"
      ]
    },
    {
      "cell_type": "markdown",
      "metadata": {
        "id": "33-QRJFv6v5t"
      },
      "source": [
        "Print out a few words and their embeddings using the next block of code. Your output may not be exactly as above but the command should print 10 words and their respective vectors."
      ]
    },
    {
      "cell_type": "code",
      "execution_count": null,
      "metadata": {
        "colab": {
          "base_uri": "https://localhost:8080/"
        },
        "id": "HffZwwLUcXb1",
        "outputId": "e69df72a-d8d9-4ff1-b678-99b120c7f3ea"
      },
      "outputs": [
        {
          "output_type": "stream",
          "name": "stdout",
          "text": [
            "                   0         1         2         3         4         5   \\\n",
            "sense        0.011421 -0.014969  0.010833 -0.014109 -0.011458 -0.022278   \n",
            "sensibility  0.026893  0.019133 -0.010789  0.005050 -0.037341 -0.020763   \n",
            "jane        -0.025423  0.016799 -0.006891 -0.036728 -0.027626 -0.021483   \n",
            "austen      -0.005710 -0.023441 -0.006604 -0.010186 -0.019812 -0.000386   \n",
            "family      -0.020713 -0.020265  0.009221  0.012659  0.001446 -0.009731   \n",
            "dashwood    -0.011390  0.011597  0.004675 -0.010362  0.002304  0.001367   \n",
            "long        -0.017342  0.012111 -0.015062  0.015229  0.013776 -0.000436   \n",
            "settled     -0.004241 -0.015434 -0.020345 -0.008194 -0.015890  0.003723   \n",
            "sussex      -0.009207  0.005251 -0.017988  0.000976  0.021763 -0.001083   \n",
            "estate       0.003426  0.008277  0.009064  0.001862  0.017115 -0.007849   \n",
            "\n",
            "                   6         7         8         9   ...        90        91  \\\n",
            "sense       -0.016098 -0.004706  0.022191  0.009888  ...  0.015120  0.007817   \n",
            "sensibility -0.021511 -0.010876 -0.021492 -0.021791  ...  0.026239 -0.029278   \n",
            "jane        -0.011140  0.029163  0.000469  0.011607  ... -0.027268 -0.025377   \n",
            "austen       0.023650  0.016155  0.026603 -0.025344  ...  0.004194 -0.003936   \n",
            "family       0.023887  0.004627 -0.007519 -0.021781  ... -0.020493  0.022704   \n",
            "dashwood    -0.023812 -0.010837 -0.010242 -0.021865  ...  0.005448  0.006056   \n",
            "long         0.019080  0.003322  0.020337 -0.010475  ...  0.013311 -0.007459   \n",
            "settled      0.001590  0.007797 -0.010429  0.008049  ... -0.008180 -0.011171   \n",
            "sussex       0.000832  0.015407  0.013137  0.001244  ...  0.002441  0.020551   \n",
            "estate       0.014170 -0.022671  0.004014  0.003264  ...  0.004591 -0.022537   \n",
            "\n",
            "                   92        93        94        95        96        97  \\\n",
            "sense       -0.000025 -0.007100  0.020506 -0.002781 -0.020601 -0.010991   \n",
            "sensibility  0.019793  0.016487 -0.002518 -0.028056  0.030725  0.012661   \n",
            "jane        -0.013829  0.019149 -0.034874  0.021220 -0.031124  0.012931   \n",
            "austen      -0.031051  0.029627 -0.026625  0.009824  0.026641 -0.015338   \n",
            "family       0.011963 -0.002346 -0.020900  0.022921  0.001527 -0.014461   \n",
            "dashwood     0.002269 -0.014208  0.003064  0.019958  0.017818 -0.004027   \n",
            "long         0.015315  0.005988 -0.005215 -0.006880  0.009919 -0.004892   \n",
            "settled     -0.000041 -0.019852 -0.007536 -0.002754 -0.018901  0.010092   \n",
            "sussex      -0.002566  0.016856  0.004802  0.015068  0.013016 -0.004050   \n",
            "estate       0.000188  0.003197  0.014845  0.004400  0.001815  0.001969   \n",
            "\n",
            "                   98        99  \n",
            "sense        0.014706 -0.001632  \n",
            "sensibility -0.005744 -0.036705  \n",
            "jane        -0.008172  0.020275  \n",
            "austen       0.014900  0.014343  \n",
            "family      -0.018600  0.021308  \n",
            "dashwood     0.017823 -0.010482  \n",
            "long        -0.012376 -0.001740  \n",
            "settled     -0.024030 -0.004367  \n",
            "sussex      -0.012983 -0.018987  \n",
            "estate       0.015431  0.018490  \n",
            "\n",
            "[10 rows x 100 columns]\n"
          ]
        }
      ],
      "source": [
        "from pandas import DataFrame\n",
        "\n",
        "print(DataFrame(word_embeddings, index=idx2word.values()).head(10))"
      ]
    },
    {
      "cell_type": "code",
      "source": [
        "word_df=DataFrame(word_embeddings, index=idx2word.values())\n",
        "word_df"
      ],
      "metadata": {
        "colab": {
          "base_uri": "https://localhost:8080/",
          "height": 487
        },
        "id": "d1XOSz59_6n0",
        "outputId": "02ef979e-aab7-4d23-faad-9e95fcc08c9b"
      },
      "execution_count": null,
      "outputs": [
        {
          "output_type": "execute_result",
          "data": {
            "text/plain": [
              "                   0         1         2         3         4         5   \\\n",
              "sense        0.011421 -0.014969  0.010833 -0.014109 -0.011458 -0.022278   \n",
              "sensibility  0.026893  0.019133 -0.010789  0.005050 -0.037341 -0.020763   \n",
              "jane        -0.025423  0.016799 -0.006891 -0.036728 -0.027626 -0.021483   \n",
              "austen      -0.005710 -0.023441 -0.006604 -0.010186 -0.019812 -0.000386   \n",
              "family      -0.020713 -0.020265  0.009221  0.012659  0.001446 -0.009731   \n",
              "...               ...       ...       ...       ...       ...       ...   \n",
              "depriving    0.005735 -0.000271  0.016626  0.015267 -0.003449 -0.010014   \n",
              "requited     0.000546  0.011585  0.009229 -0.009010  0.002357  0.006917   \n",
              "supplies     0.023791  0.000309 -0.007642  0.006409 -0.006066 -0.003926   \n",
              "accessions  -0.015418  0.002031 -0.019518 -0.021644  0.011509 -0.015024   \n",
              "national    -0.003307  0.006839  0.023635  0.016531 -0.021248  0.015303   \n",
              "\n",
              "                   6         7         8         9   ...        90        91  \\\n",
              "sense       -0.016098 -0.004706  0.022191  0.009888  ...  0.015120  0.007817   \n",
              "sensibility -0.021511 -0.010876 -0.021492 -0.021791  ...  0.026239 -0.029278   \n",
              "jane        -0.011140  0.029163  0.000469  0.011607  ... -0.027268 -0.025377   \n",
              "austen       0.023650  0.016155  0.026603 -0.025344  ...  0.004194 -0.003936   \n",
              "family       0.023887  0.004627 -0.007519 -0.021781  ... -0.020493  0.022704   \n",
              "...               ...       ...       ...       ...  ...       ...       ...   \n",
              "depriving    0.010958 -0.015334  0.000005  0.021348  ...  0.016769  0.017322   \n",
              "requited    -0.009854 -0.000806 -0.008544 -0.006800  ...  0.019124  0.009250   \n",
              "supplies     0.013844  0.009408  0.021634 -0.004767  ... -0.020727 -0.021149   \n",
              "accessions  -0.011472  0.015115 -0.022306  0.006589  ... -0.012950 -0.015341   \n",
              "national    -0.018532 -0.007529 -0.013235 -0.012244  ...  0.012245  0.009625   \n",
              "\n",
              "                   92        93        94        95        96        97  \\\n",
              "sense       -0.000025 -0.007100  0.020506 -0.002781 -0.020601 -0.010991   \n",
              "sensibility  0.019793  0.016487 -0.002518 -0.028056  0.030725  0.012661   \n",
              "jane        -0.013829  0.019149 -0.034874  0.021220 -0.031124  0.012931   \n",
              "austen      -0.031051  0.029627 -0.026625  0.009824  0.026641 -0.015338   \n",
              "family       0.011963 -0.002346 -0.020900  0.022921  0.001527 -0.014461   \n",
              "...               ...       ...       ...       ...       ...       ...   \n",
              "depriving   -0.022789  0.007582 -0.014869 -0.006077  0.015942  0.018623   \n",
              "requited    -0.019691  0.008051  0.021526 -0.004634  0.001648  0.008214   \n",
              "supplies    -0.004513 -0.019734 -0.020098  0.003801  0.020931  0.006039   \n",
              "accessions  -0.002836 -0.020590  0.012014 -0.010508 -0.018682 -0.016913   \n",
              "national     0.017901 -0.016998  0.015799 -0.017933  0.013863  0.011131   \n",
              "\n",
              "                   98        99  \n",
              "sense        0.014706 -0.001632  \n",
              "sensibility -0.005744 -0.036705  \n",
              "jane        -0.008172  0.020275  \n",
              "austen       0.014900  0.014343  \n",
              "family      -0.018600  0.021308  \n",
              "...               ...       ...  \n",
              "depriving   -0.000392 -0.022566  \n",
              "requited    -0.008878  0.001802  \n",
              "supplies     0.018451 -0.015784  \n",
              "accessions  -0.002214  0.011073  \n",
              "national    -0.007157  0.008070  \n",
              "\n",
              "[10285 rows x 100 columns]"
            ],
            "text/html": [
              "\n",
              "  <div id=\"df-5ba1b9a4-dc87-481f-9ef8-2e7015606073\">\n",
              "    <div class=\"colab-df-container\">\n",
              "      <div>\n",
              "<style scoped>\n",
              "    .dataframe tbody tr th:only-of-type {\n",
              "        vertical-align: middle;\n",
              "    }\n",
              "\n",
              "    .dataframe tbody tr th {\n",
              "        vertical-align: top;\n",
              "    }\n",
              "\n",
              "    .dataframe thead th {\n",
              "        text-align: right;\n",
              "    }\n",
              "</style>\n",
              "<table border=\"1\" class=\"dataframe\">\n",
              "  <thead>\n",
              "    <tr style=\"text-align: right;\">\n",
              "      <th></th>\n",
              "      <th>0</th>\n",
              "      <th>1</th>\n",
              "      <th>2</th>\n",
              "      <th>3</th>\n",
              "      <th>4</th>\n",
              "      <th>5</th>\n",
              "      <th>6</th>\n",
              "      <th>7</th>\n",
              "      <th>8</th>\n",
              "      <th>9</th>\n",
              "      <th>...</th>\n",
              "      <th>90</th>\n",
              "      <th>91</th>\n",
              "      <th>92</th>\n",
              "      <th>93</th>\n",
              "      <th>94</th>\n",
              "      <th>95</th>\n",
              "      <th>96</th>\n",
              "      <th>97</th>\n",
              "      <th>98</th>\n",
              "      <th>99</th>\n",
              "    </tr>\n",
              "  </thead>\n",
              "  <tbody>\n",
              "    <tr>\n",
              "      <th>sense</th>\n",
              "      <td>0.011421</td>\n",
              "      <td>-0.014969</td>\n",
              "      <td>0.010833</td>\n",
              "      <td>-0.014109</td>\n",
              "      <td>-0.011458</td>\n",
              "      <td>-0.022278</td>\n",
              "      <td>-0.016098</td>\n",
              "      <td>-0.004706</td>\n",
              "      <td>0.022191</td>\n",
              "      <td>0.009888</td>\n",
              "      <td>...</td>\n",
              "      <td>0.015120</td>\n",
              "      <td>0.007817</td>\n",
              "      <td>-0.000025</td>\n",
              "      <td>-0.007100</td>\n",
              "      <td>0.020506</td>\n",
              "      <td>-0.002781</td>\n",
              "      <td>-0.020601</td>\n",
              "      <td>-0.010991</td>\n",
              "      <td>0.014706</td>\n",
              "      <td>-0.001632</td>\n",
              "    </tr>\n",
              "    <tr>\n",
              "      <th>sensibility</th>\n",
              "      <td>0.026893</td>\n",
              "      <td>0.019133</td>\n",
              "      <td>-0.010789</td>\n",
              "      <td>0.005050</td>\n",
              "      <td>-0.037341</td>\n",
              "      <td>-0.020763</td>\n",
              "      <td>-0.021511</td>\n",
              "      <td>-0.010876</td>\n",
              "      <td>-0.021492</td>\n",
              "      <td>-0.021791</td>\n",
              "      <td>...</td>\n",
              "      <td>0.026239</td>\n",
              "      <td>-0.029278</td>\n",
              "      <td>0.019793</td>\n",
              "      <td>0.016487</td>\n",
              "      <td>-0.002518</td>\n",
              "      <td>-0.028056</td>\n",
              "      <td>0.030725</td>\n",
              "      <td>0.012661</td>\n",
              "      <td>-0.005744</td>\n",
              "      <td>-0.036705</td>\n",
              "    </tr>\n",
              "    <tr>\n",
              "      <th>jane</th>\n",
              "      <td>-0.025423</td>\n",
              "      <td>0.016799</td>\n",
              "      <td>-0.006891</td>\n",
              "      <td>-0.036728</td>\n",
              "      <td>-0.027626</td>\n",
              "      <td>-0.021483</td>\n",
              "      <td>-0.011140</td>\n",
              "      <td>0.029163</td>\n",
              "      <td>0.000469</td>\n",
              "      <td>0.011607</td>\n",
              "      <td>...</td>\n",
              "      <td>-0.027268</td>\n",
              "      <td>-0.025377</td>\n",
              "      <td>-0.013829</td>\n",
              "      <td>0.019149</td>\n",
              "      <td>-0.034874</td>\n",
              "      <td>0.021220</td>\n",
              "      <td>-0.031124</td>\n",
              "      <td>0.012931</td>\n",
              "      <td>-0.008172</td>\n",
              "      <td>0.020275</td>\n",
              "    </tr>\n",
              "    <tr>\n",
              "      <th>austen</th>\n",
              "      <td>-0.005710</td>\n",
              "      <td>-0.023441</td>\n",
              "      <td>-0.006604</td>\n",
              "      <td>-0.010186</td>\n",
              "      <td>-0.019812</td>\n",
              "      <td>-0.000386</td>\n",
              "      <td>0.023650</td>\n",
              "      <td>0.016155</td>\n",
              "      <td>0.026603</td>\n",
              "      <td>-0.025344</td>\n",
              "      <td>...</td>\n",
              "      <td>0.004194</td>\n",
              "      <td>-0.003936</td>\n",
              "      <td>-0.031051</td>\n",
              "      <td>0.029627</td>\n",
              "      <td>-0.026625</td>\n",
              "      <td>0.009824</td>\n",
              "      <td>0.026641</td>\n",
              "      <td>-0.015338</td>\n",
              "      <td>0.014900</td>\n",
              "      <td>0.014343</td>\n",
              "    </tr>\n",
              "    <tr>\n",
              "      <th>family</th>\n",
              "      <td>-0.020713</td>\n",
              "      <td>-0.020265</td>\n",
              "      <td>0.009221</td>\n",
              "      <td>0.012659</td>\n",
              "      <td>0.001446</td>\n",
              "      <td>-0.009731</td>\n",
              "      <td>0.023887</td>\n",
              "      <td>0.004627</td>\n",
              "      <td>-0.007519</td>\n",
              "      <td>-0.021781</td>\n",
              "      <td>...</td>\n",
              "      <td>-0.020493</td>\n",
              "      <td>0.022704</td>\n",
              "      <td>0.011963</td>\n",
              "      <td>-0.002346</td>\n",
              "      <td>-0.020900</td>\n",
              "      <td>0.022921</td>\n",
              "      <td>0.001527</td>\n",
              "      <td>-0.014461</td>\n",
              "      <td>-0.018600</td>\n",
              "      <td>0.021308</td>\n",
              "    </tr>\n",
              "    <tr>\n",
              "      <th>...</th>\n",
              "      <td>...</td>\n",
              "      <td>...</td>\n",
              "      <td>...</td>\n",
              "      <td>...</td>\n",
              "      <td>...</td>\n",
              "      <td>...</td>\n",
              "      <td>...</td>\n",
              "      <td>...</td>\n",
              "      <td>...</td>\n",
              "      <td>...</td>\n",
              "      <td>...</td>\n",
              "      <td>...</td>\n",
              "      <td>...</td>\n",
              "      <td>...</td>\n",
              "      <td>...</td>\n",
              "      <td>...</td>\n",
              "      <td>...</td>\n",
              "      <td>...</td>\n",
              "      <td>...</td>\n",
              "      <td>...</td>\n",
              "      <td>...</td>\n",
              "    </tr>\n",
              "    <tr>\n",
              "      <th>depriving</th>\n",
              "      <td>0.005735</td>\n",
              "      <td>-0.000271</td>\n",
              "      <td>0.016626</td>\n",
              "      <td>0.015267</td>\n",
              "      <td>-0.003449</td>\n",
              "      <td>-0.010014</td>\n",
              "      <td>0.010958</td>\n",
              "      <td>-0.015334</td>\n",
              "      <td>0.000005</td>\n",
              "      <td>0.021348</td>\n",
              "      <td>...</td>\n",
              "      <td>0.016769</td>\n",
              "      <td>0.017322</td>\n",
              "      <td>-0.022789</td>\n",
              "      <td>0.007582</td>\n",
              "      <td>-0.014869</td>\n",
              "      <td>-0.006077</td>\n",
              "      <td>0.015942</td>\n",
              "      <td>0.018623</td>\n",
              "      <td>-0.000392</td>\n",
              "      <td>-0.022566</td>\n",
              "    </tr>\n",
              "    <tr>\n",
              "      <th>requited</th>\n",
              "      <td>0.000546</td>\n",
              "      <td>0.011585</td>\n",
              "      <td>0.009229</td>\n",
              "      <td>-0.009010</td>\n",
              "      <td>0.002357</td>\n",
              "      <td>0.006917</td>\n",
              "      <td>-0.009854</td>\n",
              "      <td>-0.000806</td>\n",
              "      <td>-0.008544</td>\n",
              "      <td>-0.006800</td>\n",
              "      <td>...</td>\n",
              "      <td>0.019124</td>\n",
              "      <td>0.009250</td>\n",
              "      <td>-0.019691</td>\n",
              "      <td>0.008051</td>\n",
              "      <td>0.021526</td>\n",
              "      <td>-0.004634</td>\n",
              "      <td>0.001648</td>\n",
              "      <td>0.008214</td>\n",
              "      <td>-0.008878</td>\n",
              "      <td>0.001802</td>\n",
              "    </tr>\n",
              "    <tr>\n",
              "      <th>supplies</th>\n",
              "      <td>0.023791</td>\n",
              "      <td>0.000309</td>\n",
              "      <td>-0.007642</td>\n",
              "      <td>0.006409</td>\n",
              "      <td>-0.006066</td>\n",
              "      <td>-0.003926</td>\n",
              "      <td>0.013844</td>\n",
              "      <td>0.009408</td>\n",
              "      <td>0.021634</td>\n",
              "      <td>-0.004767</td>\n",
              "      <td>...</td>\n",
              "      <td>-0.020727</td>\n",
              "      <td>-0.021149</td>\n",
              "      <td>-0.004513</td>\n",
              "      <td>-0.019734</td>\n",
              "      <td>-0.020098</td>\n",
              "      <td>0.003801</td>\n",
              "      <td>0.020931</td>\n",
              "      <td>0.006039</td>\n",
              "      <td>0.018451</td>\n",
              "      <td>-0.015784</td>\n",
              "    </tr>\n",
              "    <tr>\n",
              "      <th>accessions</th>\n",
              "      <td>-0.015418</td>\n",
              "      <td>0.002031</td>\n",
              "      <td>-0.019518</td>\n",
              "      <td>-0.021644</td>\n",
              "      <td>0.011509</td>\n",
              "      <td>-0.015024</td>\n",
              "      <td>-0.011472</td>\n",
              "      <td>0.015115</td>\n",
              "      <td>-0.022306</td>\n",
              "      <td>0.006589</td>\n",
              "      <td>...</td>\n",
              "      <td>-0.012950</td>\n",
              "      <td>-0.015341</td>\n",
              "      <td>-0.002836</td>\n",
              "      <td>-0.020590</td>\n",
              "      <td>0.012014</td>\n",
              "      <td>-0.010508</td>\n",
              "      <td>-0.018682</td>\n",
              "      <td>-0.016913</td>\n",
              "      <td>-0.002214</td>\n",
              "      <td>0.011073</td>\n",
              "    </tr>\n",
              "    <tr>\n",
              "      <th>national</th>\n",
              "      <td>-0.003307</td>\n",
              "      <td>0.006839</td>\n",
              "      <td>0.023635</td>\n",
              "      <td>0.016531</td>\n",
              "      <td>-0.021248</td>\n",
              "      <td>0.015303</td>\n",
              "      <td>-0.018532</td>\n",
              "      <td>-0.007529</td>\n",
              "      <td>-0.013235</td>\n",
              "      <td>-0.012244</td>\n",
              "      <td>...</td>\n",
              "      <td>0.012245</td>\n",
              "      <td>0.009625</td>\n",
              "      <td>0.017901</td>\n",
              "      <td>-0.016998</td>\n",
              "      <td>0.015799</td>\n",
              "      <td>-0.017933</td>\n",
              "      <td>0.013863</td>\n",
              "      <td>0.011131</td>\n",
              "      <td>-0.007157</td>\n",
              "      <td>0.008070</td>\n",
              "    </tr>\n",
              "  </tbody>\n",
              "</table>\n",
              "<p>10285 rows × 100 columns</p>\n",
              "</div>\n",
              "      <button class=\"colab-df-convert\" onclick=\"convertToInteractive('df-5ba1b9a4-dc87-481f-9ef8-2e7015606073')\"\n",
              "              title=\"Convert this dataframe to an interactive table.\"\n",
              "              style=\"display:none;\">\n",
              "        \n",
              "  <svg xmlns=\"http://www.w3.org/2000/svg\" height=\"24px\"viewBox=\"0 0 24 24\"\n",
              "       width=\"24px\">\n",
              "    <path d=\"M0 0h24v24H0V0z\" fill=\"none\"/>\n",
              "    <path d=\"M18.56 5.44l.94 2.06.94-2.06 2.06-.94-2.06-.94-.94-2.06-.94 2.06-2.06.94zm-11 1L8.5 8.5l.94-2.06 2.06-.94-2.06-.94L8.5 2.5l-.94 2.06-2.06.94zm10 10l.94 2.06.94-2.06 2.06-.94-2.06-.94-.94-2.06-.94 2.06-2.06.94z\"/><path d=\"M17.41 7.96l-1.37-1.37c-.4-.4-.92-.59-1.43-.59-.52 0-1.04.2-1.43.59L10.3 9.45l-7.72 7.72c-.78.78-.78 2.05 0 2.83L4 21.41c.39.39.9.59 1.41.59.51 0 1.02-.2 1.41-.59l7.78-7.78 2.81-2.81c.8-.78.8-2.07 0-2.86zM5.41 20L4 18.59l7.72-7.72 1.47 1.35L5.41 20z\"/>\n",
              "  </svg>\n",
              "      </button>\n",
              "      \n",
              "  <style>\n",
              "    .colab-df-container {\n",
              "      display:flex;\n",
              "      flex-wrap:wrap;\n",
              "      gap: 12px;\n",
              "    }\n",
              "\n",
              "    .colab-df-convert {\n",
              "      background-color: #E8F0FE;\n",
              "      border: none;\n",
              "      border-radius: 50%;\n",
              "      cursor: pointer;\n",
              "      display: none;\n",
              "      fill: #1967D2;\n",
              "      height: 32px;\n",
              "      padding: 0 0 0 0;\n",
              "      width: 32px;\n",
              "    }\n",
              "\n",
              "    .colab-df-convert:hover {\n",
              "      background-color: #E2EBFA;\n",
              "      box-shadow: 0px 1px 2px rgba(60, 64, 67, 0.3), 0px 1px 3px 1px rgba(60, 64, 67, 0.15);\n",
              "      fill: #174EA6;\n",
              "    }\n",
              "\n",
              "    [theme=dark] .colab-df-convert {\n",
              "      background-color: #3B4455;\n",
              "      fill: #D2E3FC;\n",
              "    }\n",
              "\n",
              "    [theme=dark] .colab-df-convert:hover {\n",
              "      background-color: #434B5C;\n",
              "      box-shadow: 0px 1px 3px 1px rgba(0, 0, 0, 0.15);\n",
              "      filter: drop-shadow(0px 1px 2px rgba(0, 0, 0, 0.3));\n",
              "      fill: #FFFFFF;\n",
              "    }\n",
              "  </style>\n",
              "\n",
              "      <script>\n",
              "        const buttonEl =\n",
              "          document.querySelector('#df-5ba1b9a4-dc87-481f-9ef8-2e7015606073 button.colab-df-convert');\n",
              "        buttonEl.style.display =\n",
              "          google.colab.kernel.accessAllowed ? 'block' : 'none';\n",
              "\n",
              "        async function convertToInteractive(key) {\n",
              "          const element = document.querySelector('#df-5ba1b9a4-dc87-481f-9ef8-2e7015606073');\n",
              "          const dataTable =\n",
              "            await google.colab.kernel.invokeFunction('convertToInteractive',\n",
              "                                                     [key], {});\n",
              "          if (!dataTable) return;\n",
              "\n",
              "          const docLinkHtml = 'Like what you see? Visit the ' +\n",
              "            '<a target=\"_blank\" href=https://colab.research.google.com/notebooks/data_table.ipynb>data table notebook</a>'\n",
              "            + ' to learn more about interactive tables.';\n",
              "          element.innerHTML = '';\n",
              "          dataTable['output_type'] = 'display_data';\n",
              "          await google.colab.output.renderOutput(dataTable, element);\n",
              "          const docLink = document.createElement('div');\n",
              "          docLink.innerHTML = docLinkHtml;\n",
              "          element.appendChild(docLink);\n",
              "        }\n",
              "      </script>\n",
              "    </div>\n",
              "  </div>\n",
              "  "
            ]
          },
          "metadata": {},
          "execution_count": 35
        }
      ]
    },
    {
      "cell_type": "markdown",
      "metadata": {
        "id": "-Ki8NtrS7ezr"
      },
      "source": [
        "###**8.  Measuring Similarity Between Word Pairs**\n",
        "\n"
      ]
    },
    {
      "cell_type": "code",
      "execution_count": null,
      "metadata": {
        "id": "dbb-uoe666oV",
        "colab": {
          "base_uri": "https://localhost:8080/"
        },
        "outputId": "fd53fc3f-133c-4b7a-cf88-90202c4f40d9"
      },
      "outputs": [
        {
          "output_type": "stream",
          "name": "stdout",
          "text": [
            "(10285, 10285)\n"
          ]
        }
      ],
      "source": [
        "from sklearn.metrics.pairwise import cosine_similarity\n",
        "\n",
        "similarity_matrix = cosine_similarity(word_embeddings)\n",
        "\n",
        "# should print(VOCAB_SIZE, VOCAB_SIZE)\n",
        "print(similarity_matrix.shape)   "
      ]
    },
    {
      "cell_type": "markdown",
      "metadata": {
        "id": "k0fyfgvB90G5"
      },
      "source": [
        "###**9. Exploring and Visualizing your Word Embeddings using t-SNE**\n",
        "\n",
        "**A.\tGet the most similar words to the search items in the list below**\n",
        "\n",
        "search_terms = ['family', 'love', 'equality', 'wisdom', 'justice',  'humour', 'rejection']\n",
        "\n",
        "\n",
        "**Sanity check:**\n",
        "The similar words obtained would depend on your training but the above command should print a dictionary. Each key is a search term and each value is a list of the 5 words the model predicts to be most similar to the key word. \n"
      ]
    },
    {
      "cell_type": "code",
      "source": [
        "search_terms = ['think', 'thought', 'mr', 'friend', 'love', 'disdain']\n",
        "\n",
        "similar_words = {search_term: [idx2word[idx] for\n",
        "                 idx in similarity_matrix[word2idx[search_term]-1].argsort()[1:6]+1]\n",
        "                  for search_term in search_terms}\n",
        "\n",
        "print(similar_words)"
      ],
      "metadata": {
        "colab": {
          "base_uri": "https://localhost:8080/"
        },
        "id": "hi_1bXQ31A4K",
        "outputId": "96ce2b08-2063-488f-e959-26ff72e18e1e"
      },
      "execution_count": null,
      "outputs": [
        {
          "output_type": "stream",
          "name": "stdout",
          "text": [
            "{'think': ['uncommon', 'clearly', 'campbells', 'vision', 'shrubberies'], 'thought': ['control', 'passionate', 'umbrella', 'chained', 'presumption'], 'mr': ['formidable', 'dropped', 'reclaim', 'another', 'courted'], 'friend': ['interpret', 'destroyed', 'nature', 'feeling', 'relics'], 'love': ['mortified', 'made', 'confederacy', 'unfinished', 'commission'], 'disdain': ['relish', 'judgment', 'boys', 'wrist', 'cavil']}\n"
          ]
        }
      ]
    },
    {
      "cell_type": "code",
      "execution_count": null,
      "metadata": {
        "colab": {
          "base_uri": "https://localhost:8080/"
        },
        "id": "hWbSfqYschRs",
        "outputId": "ed9a75a6-3960-473d-afbf-ac430e659e69"
      },
      "outputs": [
        {
          "name": "stdout",
          "output_type": "stream",
          "text": [
            "{'think': ['assist', 'mean', 'possible', 'made', 'neglect'], 'thought': ['upon', 'honour', 'restriction', 'every', 'specimen'], 'mr': ['connexions', 'unexceptionable', 'gain', 'woodhouse', 'suffer'], 'friend': ['woodhouse', 'specimen', 'gain', 'subjects', 'excellent'], 'love': ['made', 'paid', 'offended', 'subjects', 'differed'], 'disdain': ['unprepared', 'confiding', 'splendidly', 'unkindness', 'extinguished']}\n"
          ]
        }
      ],
      "source": [
        "search_terms = ['think', 'thought', 'mr', 'friend', 'love', 'disdain']\n",
        "\n",
        "similar_words = {search_term: [idx2word[idx] for\n",
        "                 idx in similarity_matrix[word2idx[search_term]-1].argsort()[1:6]+1]\n",
        "                  for search_term in search_terms}\n",
        "\n",
        "print(similar_words)"
      ]
    },
    {
      "cell_type": "markdown",
      "metadata": {
        "id": "5I_X9W-vGXiZ"
      },
      "source": [
        "**B. Plot the words in the dictionary above using t-SN**E \n",
        "\n",
        "1.   List item\n",
        "\n",
        "1.   List item\n",
        "2.   List item\n",
        "\n",
        "\n",
        "2.   List item\n",
        "\n",
        "https://lvdmaaten.github.io/tsne/ \n",
        "\n",
        "Plot 50 of the word embeddings using the code snippets below:\n",
        "\n",
        "\n",
        "\n",
        "\n",
        "\n",
        "\n",
        "\n",
        "\n",
        "\n",
        "\n",
        "\n",
        "\n"
      ]
    },
    {
      "cell_type": "code",
      "source": [
        "from sklearn.manifold import TSNE\n",
        "import matplotlib.pyplot as plt\n",
        "\n",
        "tsne = TSNE(perplexity=3, n_components=2, init='pca', n_iter=5000, method='exact')\n",
        "np.set_printoptions(suppress=True)\n",
        "plot_only = 50 \n",
        "\n",
        "T = tsne.fit_transform(word_embeddings[:plot_only, :])\n",
        "labels = [idx2word[i+1] for i in range(plot_only)]\n",
        "plt.figure(figsize=(14, 8))\n",
        "plt.scatter(T[:, 0], T[:, 1])\n",
        "for label, x, y in zip(labels, T[:, 0], T[:, 1]):\n",
        "    plt.annotate(label, xy=(x+1, y+1), xytext=(0, 0), textcoords='offset points', ha='right', va='bottom')                      \t                        \n"
      ],
      "metadata": {
        "id": "UT74_S0CYiEJ",
        "colab": {
          "base_uri": "https://localhost:8080/",
          "height": 576
        },
        "outputId": "51805689-5ddf-48e0-c9e4-be5c6a2b278e"
      },
      "execution_count": null,
      "outputs": [
        {
          "output_type": "stream",
          "name": "stderr",
          "text": [
            "/usr/local/lib/python3.7/dist-packages/sklearn/manifold/_t_sne.py:793: FutureWarning: The default learning rate in TSNE will change from 200.0 to 'auto' in 1.2.\n",
            "  FutureWarning,\n",
            "/usr/local/lib/python3.7/dist-packages/sklearn/manifold/_t_sne.py:986: FutureWarning: The PCA initialization in TSNE will change to have the standard deviation of PC1 equal to 1e-4 in 1.2. This will ensure better convergence.\n",
            "  FutureWarning,\n"
          ]
        },
        {
          "output_type": "display_data",
          "data": {
            "text/plain": [
              "<Figure size 1008x576 with 1 Axes>"
            ],
            "image/png": "[encoded data removed]"
          },
          "metadata": {
            "needs_background": "light"
          }
        }
      ]
    },
    {
      "cell_type": "code",
      "source": [
        ""
      ],
      "metadata": {
        "id": "tS8vqkdYXDQD"
      },
      "execution_count": null,
      "outputs": []
    },
    {
      "cell_type": "markdown",
      "metadata": {
        "id": "OsCVTRUMP1qi"
      },
      "source": [
        "**10. Resources used**\n",
        "\n",
        "http://jalammar.github.io/illustrated-word2vec/\n",
        "https://adventuresinmachinelearning.com/word2vec-tutorial-tensorflow/ \n",
        "https://towardsdatascience.com/understanding-feature-engineering-part-4-deep-learning-methods-for-text-data-96c44370bbfa \n",
        "https://adventuresinmachinelearning.com/word2vec-keras-tutorial/ \n",
        "https://www.tensorflow.org/tutorials/representation/word2vec#the_skip-gram_model \n",
        "https://github.com/tensorflow/tensorflow/blob/master/tensorflow/examples/tutorials/word2vec/word2vec_basic.py \n",
        "\n"
      ]
    },
    {
      "cell_type": "code",
      "source": [
        ""
      ],
      "metadata": {
        "id": "KyO2aPYi5jmk"
      },
      "execution_count": null,
      "outputs": []
    }
  ],
  "metadata": {
    "colab": {
      "collapsed_sections": [],
      "name": "7001_2021_22_lab1_wordEmbeddings_without_answers.ipynb",
      "provenance": []
    },
    "kernelspec": {
      "display_name": "Python 3",
      "language": "python",
      "name": "python3"
    },
    "language_info": {
      "codemirror_mode": {
        "name": "ipython",
        "version": 3
      },
      "file_extension": ".py",
      "mimetype": "text/x-python",
      "name": "python",
      "nbconvert_exporter": "python",
      "pygments_lexer": "ipython3",
      "version": "3.7.1"
    }
  },
  "nbformat": 4,
  "nbformat_minor": 0
}