{
  "cells": [
    {
      "cell_type": "markdown",
      "metadata": {
        "id": "hExKCzh6doIW"
      },
      "source": [
        "# Lab 3 - Comparing Classification Models\n",
        "\n",
        "\n",
        "\n",
        "---\n",
        "\n",
        "\n",
        "\n",
        "\n",
        "\n",
        "\n",
        "\n",
        "\n",
        "\n",
        "\n",
        "\n",
        "\n",
        "\n"
      ]
    },
    {
      "cell_type": "markdown",
      "metadata": {
        "id": "HixoFOoCIJ7V"
      },
      "source": [
        "In this session, we demonstrate how to solve a text classification task using simple \n",
        "feedforward neural network classifier. We will use IMDB Large Movie Review Dataset to train a binary classification model, able to predict whether a review is positive or negative. First, our network takes one-hot word vectors as input, averages them to make one vector and trains a \n",
        "fully-connected layer to predict the output. In the second part, we replace the one-hot vectors with the word embeddings and add a layer to see how much that improves the performance.\n",
        "\n",
        "We are going to use Keras Sequential API in this session. The Sequential API allows you to make models layer-by-layer. But it is not straightforward to define models where layers connect to more than just the previous and next layers. "
      ]
    },
    {
      "cell_type": "code",
      "execution_count": null,
      "metadata": {
        "id": "L9DowZWxEoPk",
        "colab": {
          "base_uri": "https://localhost:8080/"
        },
        "outputId": "bb45a840-5ed9-4cd7-a13f-924cc8dd5b97"
      },
      "outputs": [
        {
          "output_type": "stream",
          "name": "stdout",
          "text": [
            "Requirement already satisfied: tensorflow in /usr/local/lib/python3.7/dist-packages (2.8.0)\n",
            "Requirement already satisfied: grpcio<2.0,>=1.24.3 in /usr/local/lib/python3.7/dist-packages (from tensorflow) (1.44.0)\n",
            "Requirement already satisfied: absl-py>=0.4.0 in /usr/local/lib/python3.7/dist-packages (from tensorflow) (1.0.0)\n",
            "Requirement already satisfied: numpy>=1.20 in /usr/local/lib/python3.7/dist-packages (from tensorflow) (1.21.5)\n",
            "Requirement already satisfied: libclang>=9.0.1 in /usr/local/lib/python3.7/dist-packages (from tensorflow) (13.0.0)\n",
            "Requirement already satisfied: tf-estimator-nightly==2.8.0.dev2021122109 in /usr/local/lib/python3.7/dist-packages (from tensorflow) (2.8.0.dev2021122109)\n",
            "Requirement already satisfied: astunparse>=1.6.0 in /usr/local/lib/python3.7/dist-packages (from tensorflow) (1.6.3)\n",
            "Requirement already satisfied: six>=1.12.0 in /usr/local/lib/python3.7/dist-packages (from tensorflow) (1.15.0)\n",
            "Requirement already satisfied: keras-preprocessing>=1.1.1 in /usr/local/lib/python3.7/dist-packages (from tensorflow) (1.1.2)\n",
            "Requirement already satisfied: keras<2.9,>=2.8.0rc0 in /usr/local/lib/python3.7/dist-packages (from tensorflow) (2.8.0)\n",
            "Requirement already satisfied: protobuf>=3.9.2 in /usr/local/lib/python3.7/dist-packages (from tensorflow) (3.17.3)\n",
            "Requirement already satisfied: wrapt>=1.11.0 in /usr/local/lib/python3.7/dist-packages (from tensorflow) (1.13.3)\n",
            "Requirement already satisfied: opt-einsum>=2.3.2 in /usr/local/lib/python3.7/dist-packages (from tensorflow) (3.3.0)\n",
            "Requirement already satisfied: gast>=0.2.1 in /usr/local/lib/python3.7/dist-packages (from tensorflow) (0.5.3)\n",
            "Requirement already satisfied: google-pasta>=0.1.1 in /usr/local/lib/python3.7/dist-packages (from tensorflow) (0.2.0)\n",
            "Requirement already satisfied: termcolor>=1.1.0 in /usr/local/lib/python3.7/dist-packages (from tensorflow) (1.1.0)\n",
            "Requirement already satisfied: typing-extensions>=3.6.6 in /usr/local/lib/python3.7/dist-packages (from tensorflow) (3.10.0.2)\n",
            "Requirement already satisfied: setuptools in /usr/local/lib/python3.7/dist-packages (from tensorflow) (57.4.0)\n",
            "Requirement already satisfied: h5py>=2.9.0 in /usr/local/lib/python3.7/dist-packages (from tensorflow) (3.1.0)\n",
            "Requirement already satisfied: tensorboard<2.9,>=2.8 in /usr/local/lib/python3.7/dist-packages (from tensorflow) (2.8.0)\n",
            "Requirement already satisfied: flatbuffers>=1.12 in /usr/local/lib/python3.7/dist-packages (from tensorflow) (2.0)\n",
            "Requirement already satisfied: tensorflow-io-gcs-filesystem>=0.23.1 in /usr/local/lib/python3.7/dist-packages (from tensorflow) (0.24.0)\n",
            "Requirement already satisfied: wheel<1.0,>=0.23.0 in /usr/local/lib/python3.7/dist-packages (from astunparse>=1.6.0->tensorflow) (0.37.1)\n",
            "Requirement already satisfied: cached-property in /usr/local/lib/python3.7/dist-packages (from h5py>=2.9.0->tensorflow) (1.5.2)\n",
            "Requirement already satisfied: tensorboard-plugin-wit>=1.6.0 in /usr/local/lib/python3.7/dist-packages (from tensorboard<2.9,>=2.8->tensorflow) (1.8.1)\n",
            "Requirement already satisfied: google-auth<3,>=1.6.3 in /usr/local/lib/python3.7/dist-packages (from tensorboard<2.9,>=2.8->tensorflow) (1.35.0)\n",
            "Requirement already satisfied: google-auth-oauthlib<0.5,>=0.4.1 in /usr/local/lib/python3.7/dist-packages (from tensorboard<2.9,>=2.8->tensorflow) (0.4.6)\n",
            "Requirement already satisfied: requests<3,>=2.21.0 in /usr/local/lib/python3.7/dist-packages (from tensorboard<2.9,>=2.8->tensorflow) (2.23.0)\n",
            "Requirement already satisfied: tensorboard-data-server<0.7.0,>=0.6.0 in /usr/local/lib/python3.7/dist-packages (from tensorboard<2.9,>=2.8->tensorflow) (0.6.1)\n",
            "Requirement already satisfied: werkzeug>=0.11.15 in /usr/local/lib/python3.7/dist-packages (from tensorboard<2.9,>=2.8->tensorflow) (1.0.1)\n",
            "Requirement already satisfied: markdown>=2.6.8 in /usr/local/lib/python3.7/dist-packages (from tensorboard<2.9,>=2.8->tensorflow) (3.3.6)\n",
            "Requirement already satisfied: rsa<5,>=3.1.4 in /usr/local/lib/python3.7/dist-packages (from google-auth<3,>=1.6.3->tensorboard<2.9,>=2.8->tensorflow) (4.8)\n",
            "Requirement already satisfied: pyasn1-modules>=0.2.1 in /usr/local/lib/python3.7/dist-packages (from google-auth<3,>=1.6.3->tensorboard<2.9,>=2.8->tensorflow) (0.2.8)\n",
            "Requirement already satisfied: cachetools<5.0,>=2.0.0 in /usr/local/lib/python3.7/dist-packages (from google-auth<3,>=1.6.3->tensorboard<2.9,>=2.8->tensorflow) (4.2.4)\n",
            "Requirement already satisfied: requests-oauthlib>=0.7.0 in /usr/local/lib/python3.7/dist-packages (from google-auth-oauthlib<0.5,>=0.4.1->tensorboard<2.9,>=2.8->tensorflow) (1.3.1)\n",
            "Requirement already satisfied: importlib-metadata>=4.4 in /usr/local/lib/python3.7/dist-packages (from markdown>=2.6.8->tensorboard<2.9,>=2.8->tensorflow) (4.11.2)\n",
            "Requirement already satisfied: zipp>=0.5 in /usr/local/lib/python3.7/dist-packages (from importlib-metadata>=4.4->markdown>=2.6.8->tensorboard<2.9,>=2.8->tensorflow) (3.7.0)\n",
            "Requirement already satisfied: pyasn1<0.5.0,>=0.4.6 in /usr/local/lib/python3.7/dist-packages (from pyasn1-modules>=0.2.1->google-auth<3,>=1.6.3->tensorboard<2.9,>=2.8->tensorflow) (0.4.8)\n",
            "Requirement already satisfied: urllib3!=1.25.0,!=1.25.1,<1.26,>=1.21.1 in /usr/local/lib/python3.7/dist-packages (from requests<3,>=2.21.0->tensorboard<2.9,>=2.8->tensorflow) (1.24.3)\n",
            "Requirement already satisfied: certifi>=2017.4.17 in /usr/local/lib/python3.7/dist-packages (from requests<3,>=2.21.0->tensorboard<2.9,>=2.8->tensorflow) (2021.10.8)\n",
            "Requirement already satisfied: idna<3,>=2.5 in /usr/local/lib/python3.7/dist-packages (from requests<3,>=2.21.0->tensorboard<2.9,>=2.8->tensorflow) (2.10)\n",
            "Requirement already satisfied: chardet<4,>=3.0.2 in /usr/local/lib/python3.7/dist-packages (from requests<3,>=2.21.0->tensorboard<2.9,>=2.8->tensorflow) (3.0.4)\n",
            "Requirement already satisfied: oauthlib>=3.0.0 in /usr/local/lib/python3.7/dist-packages (from requests-oauthlib>=0.7.0->google-auth-oauthlib<0.5,>=0.4.1->tensorboard<2.9,>=2.8->tensorflow) (3.2.0)\n"
          ]
        }
      ],
      "source": [
        "!pip install tensorflow"
      ]
    },
    {
      "cell_type": "code",
      "execution_count": null,
      "metadata": {
        "id": "m8fpBfhBpupy"
      },
      "outputs": [],
      "source": [
        "import tensorflow.keras as tk\n",
        "import numpy as np\n",
        "from keras.layers import Lambda, GlobalAveragePooling1D, Dense, Embedding\n",
        "from keras import backend as K\n",
        "from keras.models import Sequential\n",
        "import matplotlib.pyplot as plt\n"
      ]
    },
    {
      "cell_type": "markdown",
      "metadata": {
        "id": "cqvPQvgvPv1W"
      },
      "source": [
        "### Downloading data"
      ]
    },
    {
      "cell_type": "markdown",
      "metadata": {
        "id": "EundMtGPpCdf"
      },
      "source": [
        "The dataset we will be using is the IMDB Large Movie Review Dataset, which consists of 50000 labeled movie reviews. These are split into 25,000 reviews for training and 25,000 reviews for testing. The  dataset contains an even number of positive and negative reviews, so randomly guessing yields 50% accuracy. The data is preprocessed. For text classification, it is ususal to limit the size of the vocabulary to stop the dataset from becoming too sparse, creating possible overfitting. We keep the top 10,000 most frequently occurring words in the training data.\n"
      ]
    },
    {
      "cell_type": "code",
      "execution_count": null,
      "metadata": {
        "id": "NyuSzkafqNca"
      },
      "outputs": [],
      "source": [
        "imdb = tk.datasets.imdb\n",
        "(X_train, y_train), (X_test, y_test) = imdb.load_data(num_words=10000,seed=113)"
      ]
    },
    {
      "cell_type": "markdown",
      "metadata": {
        "id": "6U4iCV9-rmay"
      },
      "source": [
        "We now can start playing around with the data, let’s first see the length:"
      ]
    },
    {
      "cell_type": "code",
      "execution_count": null,
      "metadata": {
        "id": "h-gjWRAuqg5s",
        "colab": {
          "base_uri": "https://localhost:8080/"
        },
        "outputId": "3ec31303-1477-495f-83fb-e78dcb013224"
      },
      "outputs": [
        {
          "output_type": "stream",
          "name": "stdout",
          "text": [
            "Training entries: 25000, labels: 25000\n"
          ]
        }
      ],
      "source": [
        "print(\"Training entries: {}, labels: {}\".format(len(X_train), len(y_train)))"
      ]
    },
    {
      "cell_type": "markdown",
      "metadata": {
        "id": "MTRZrpcyr-4x"
      },
      "source": [
        "The  reviews have been converted to integers and each integer represents a  word in a dictionary. "
      ]
    },
    {
      "cell_type": "code",
      "execution_count": null,
      "metadata": {
        "id": "79Ev72Kgq4XL",
        "colab": {
          "base_uri": "https://localhost:8080/"
        },
        "outputId": "456ebcc3-a6b3-47fa-d35c-157051fcfe8c"
      },
      "outputs": [
        {
          "output_type": "execute_result",
          "data": {
            "text/plain": [
              "[1, 14, 22, 16, 43, 530, 973, 1622, 1385, 65]"
            ]
          },
          "metadata": {},
          "execution_count": 5
        }
      ],
      "source": [
        "X_train[0][:10]"
      ]
    },
    {
      "cell_type": "markdown",
      "metadata": {
        "id": "Tvuu4KhStqei"
      },
      "source": [
        "We can convert integers back to words by querying a dictionary object that contains the integer to string mapping:"
      ]
    },
    {
      "cell_type": "code",
      "execution_count": null,
      "metadata": {
        "id": "gMCH1OoDrSNR"
      },
      "outputs": [],
      "source": [
        "word_index = imdb.get_word_index()"
      ]
    },
    {
      "cell_type": "markdown",
      "metadata": {
        "id": "5IreFXgruZot"
      },
      "source": [
        "Index 1 represents the beginning of the sentence and the index 2 is assigned to all unknown tokens. Index 0 will be used for padding."
      ]
    },
    {
      "cell_type": "code",
      "source": [
        "word_index"
      ],
      "metadata": {
        "id": "5UP90hSSR0Nh"
      },
      "execution_count": null,
      "outputs": []
    },
    {
      "cell_type": "code",
      "execution_count": null,
      "metadata": {
        "id": "abIb7Fe5u3GQ"
      },
      "outputs": [],
      "source": [
        "word_index = {k:(v+3) for k,v in word_index.items()}\n",
        "word_index[\"<PAD>\"] = 0\n",
        "word_index[\"<START>\"] = 1\n",
        "word_index[\"<UNK>\"] = 2  \n",
        "word_index[\"<UNUSED>\"] = 3"
      ]
    },
    {
      "cell_type": "code",
      "source": [
        "word_index"
      ],
      "metadata": {
        "id": "OOWbWTCMR5iq"
      },
      "execution_count": null,
      "outputs": []
    },
    {
      "cell_type": "markdown",
      "metadata": {
        "id": "9TnnSuspvC5b"
      },
      "source": [
        "To reverse key and values in a dictionary:"
      ]
    },
    {
      "cell_type": "code",
      "execution_count": null,
      "metadata": {
        "id": "nKOiVVXQu-_I"
      },
      "outputs": [],
      "source": [
        "reverse_word_index = dict([(value, key) for (key, value) in word_index.items()])"
      ]
    },
    {
      "cell_type": "markdown",
      "metadata": {
        "id": "ZmTJEm8xvUvW"
      },
      "source": [
        "To view a word:"
      ]
    },
    {
      "cell_type": "code",
      "execution_count": null,
      "metadata": {
        "id": "SqN5jgVKvJJZ",
        "colab": {
          "base_uri": "https://localhost:8080/",
          "height": 36
        },
        "outputId": "fca2aecb-7d95-4c0e-b659-5e014e01943a"
      },
      "outputs": [
        {
          "output_type": "execute_result",
          "data": {
            "text/plain": [
              "'you'"
            ],
            "application/vnd.google.colaboratory.intrinsic+json": {
              "type": "string"
            }
          },
          "metadata": {},
          "execution_count": 8
        }
      ],
      "source": [
        "reverse_word_index[25]"
      ]
    },
    {
      "cell_type": "markdown",
      "metadata": {
        "id": "Q6QjrzgVvrYn"
      },
      "source": [
        "And to recreate the whole sentence from our training data we define decode_review:\n"
      ]
    },
    {
      "cell_type": "code",
      "execution_count": null,
      "metadata": {
        "id": "wvrKeMgxvWlv"
      },
      "outputs": [],
      "source": [
        "def decode_review(text):\n",
        "    return ' '.join([reverse_word_index.get(i, '?') for i in text])"
      ]
    },
    {
      "cell_type": "code",
      "execution_count": null,
      "metadata": {
        "id": "Sxg4YA_NvdRg",
        "colab": {
          "base_uri": "https://localhost:8080/",
          "height": 108
        },
        "outputId": "dd2599f6-69c3-4406-ba7d-bc6f59482d9b"
      },
      "outputs": [
        {
          "output_type": "execute_result",
          "data": {
            "text/plain": [
              "\"<START> french horror cinema has seen something of a revival over the last couple of years with great films such as inside and <UNK> romance <UNK> on to the scene <UNK> <UNK> the revival just slightly but stands head and shoulders over most modern horror titles and is surely one of the best french horror films ever made <UNK> was obviously shot on a low budget but this is made up for in far more ways than one by the originality of the film and this in turn is <UNK> by the excellent writing and acting that ensure the film is a winner the plot focuses on two main ideas prison and black magic the central character is a man named <UNK> sent to prison for fraud he is put in a cell with three others the quietly insane <UNK> body building <UNK> marcus and his retarded boyfriend daisy after a short while in the cell together they stumble upon a hiding place in the wall that contains an old <UNK> after <UNK> part of it they soon realise its magical powers and realise they may be able to use it to break through the prison walls br br black magic is a very interesting topic and i'm actually quite surprised that there aren't more films based on it as there's so much scope for things to do with it it's fair to say that <UNK> makes the best of it's <UNK> as despite it's <UNK> the film never actually feels restrained and manages to flow well throughout director eric <UNK> provides a great atmosphere for the film the fact that most of it takes place inside the central prison cell <UNK> that the film feels very claustrophobic and this immensely benefits the central idea of the prisoners wanting to use magic to break out of the cell it's very easy to get behind them it's often said that the unknown is the thing that really <UNK> people and this film proves that as the director <UNK> that we can never really be sure of exactly what is round the corner and this helps to ensure that <UNK> actually does manage to be quite frightening the film is memorable for a lot of reasons outside the central plot the characters are all very interesting in their own way and the fact that the book itself almost takes on its own character is very well done anyone worried that the film won't deliver by the end won't be disappointed either as the ending both makes sense and manages to be quite horrifying overall <UNK> is a truly great horror film and one of the best of the decade highly recommended viewing\""
            ],
            "application/vnd.google.colaboratory.intrinsic+json": {
              "type": "string"
            }
          },
          "metadata": {},
          "execution_count": 10
        }
      ],
      "source": [
        "decode_review(X_train[10])"
      ]
    },
    {
      "cell_type": "markdown",
      "metadata": {
        "id": "c8gIzXncfaJK"
      },
      "source": [
        "### Creating One-hot word vectors"
      ]
    },
    {
      "cell_type": "markdown",
      "metadata": {
        "id": "B9W4yb3rv_E0"
      },
      "source": [
        "It is  common to use one-hot representation as input in Natural Language Processing tasks. In Keras, the Embedding layer takes an index as an input and convert it to one-hot vector with the length of the vocabulary size. Then multiplies these vectors by a normal weight matrix. But there is no way to only get a one-hot vector as the output of a layer in Keras. To solve this we use Lambda() layer and a function that creates the one-hot layer. "
      ]
    },
    {
      "cell_type": "code",
      "execution_count": null,
      "metadata": {
        "id": "RPO_pK9zH4C5"
      },
      "outputs": [],
      "source": [
        "def OneHot(input_dim=None, input_length=None):\n",
        "    \n",
        "    if input_dim is None or input_length is None:\n",
        "        raise TypeError(\"input_dim or input_length is not set\")\n",
        "\n",
        "    \n",
        "    def _one_hot(x, num_classes):\n",
        "        return K.one_hot(K.cast(x, 'uint8'),\n",
        "                          num_classes=num_classes)\n",
        "\n",
        "    return Lambda(_one_hot,\n",
        "                  arguments={'num_classes': input_dim},\n",
        "                  input_shape=(input_length,))"
      ]
    },
    {
      "cell_type": "markdown",
      "metadata": {
        "id": "364d3MAw0ez9"
      },
      "source": [
        "input_dim refers to the length of the one-hot vector and input_length refers to the length of the input sequence. Since the input to K.one_hot should be an integer tensor, we cast x to one (Keras passes around float tensors by default).\n",
        "\n"
      ]
    },
    {
      "cell_type": "markdown",
      "metadata": {
        "id": "VHz76GNA2M4r"
      },
      "source": [
        " Each text sequence has in most cases different length of words. Here, we fill sequences with a pad token (0) to fit the size. This special tokens is then masked not to be accounted in averaging, loss calculation etc. We set the maximum length to 256."
      ]
    },
    {
      "cell_type": "markdown",
      "metadata": {
        "id": "9G_o7PsvgSFt"
      },
      "source": [
        "### Preparing input data"
      ]
    },
    {
      "cell_type": "code",
      "execution_count": null,
      "metadata": {
        "id": "jiFn7sd_wF5j"
      },
      "outputs": [],
      "source": [
        "VOCAB_SIZE = 10000\n",
        "MAX_SEQUENCE_LENGTH = 256\n",
        "\n",
        "X_train_enc = tk.preprocessing.sequence.pad_sequences(X_train,\n",
        "                                                        value=word_index[\"<PAD>\"],\n",
        "                                                        padding='post',\n",
        "                                                        maxlen=256)\n",
        "\n",
        "X_test_enc = tk.preprocessing.sequence.pad_sequences(X_test,\n",
        "                                                       value=word_index[\"<PAD>\"],\n",
        "                                                       padding='post',\n",
        "                                                       maxlen=256)"
      ]
    },
    {
      "cell_type": "markdown",
      "metadata": {
        "id": "kcjFH1wKF_7d"
      },
      "source": [
        "And to view a padded review:"
      ]
    },
    {
      "cell_type": "code",
      "execution_count": null,
      "metadata": {
        "id": "zwH4dcfW_a18",
        "colab": {
          "base_uri": "https://localhost:8080/"
        },
        "outputId": "558af97b-381a-4fac-d0bc-94c4ee4dec25"
      },
      "outputs": [
        {
          "output_type": "stream",
          "name": "stdout",
          "text": [
            "[   1  194 1153  194 8255   78  228    5    6 1463 4369 5012  134   26\n",
            "    4  715    8  118 1634   14  394   20   13  119  954  189  102    5\n",
            "  207  110 3103   21   14   69  188    8   30   23    7    4  249  126\n",
            "   93    4  114    9 2300 1523    5  647    4  116    9   35 8163    4\n",
            "  229    9  340 1322    4  118    9    4  130 4901   19    4 1002    5\n",
            "   89   29  952   46   37    4  455    9   45   43   38 1543 1905  398\n",
            "    4 1649   26 6853    5  163   11 3215    2    4 1153    9  194  775\n",
            "    7 8255    2  349 2637  148  605    2 8003   15  123  125   68    2\n",
            " 6853   15  349  165 4362   98    5    4  228    9   43    2 1157   15\n",
            "  299  120    5  120  174   11  220  175  136   50    9 4373  228 8255\n",
            "    5    2  656  245 2350    5    4 9837  131  152  491   18    2   32\n",
            " 7464 1212   14    9    6  371   78   22  625   64 1382    9    8  168\n",
            "  145   23    4 1690   15   16    4 1355    5   28    6   52  154  462\n",
            "   33   89   78  285   16  145   95    0    0    0    0    0    0    0\n",
            "    0    0    0    0    0    0    0    0    0    0    0    0    0    0\n",
            "    0    0    0    0    0    0    0    0    0    0    0    0    0    0\n",
            "    0    0    0    0    0    0    0    0    0    0    0    0    0    0\n",
            "    0    0    0    0    0    0    0    0    0    0    0    0    0    0\n",
            "    0    0    0    0]\n",
            "\n",
            "Length:  25000\n"
          ]
        }
      ],
      "source": [
        "print(X_train_enc[1])\n",
        "print('\\nLength: ',len(X_train_enc))"
      ]
    },
    {
      "cell_type": "markdown",
      "metadata": {
        "id": "F1zcxFwNGepA"
      },
      "source": [
        "Now we want to build the neural network model. We  are going to have a hidden layer with 16 hidden units. \n",
        "\n",
        "First, we want to transform each index to an embedded vector and then average all vectors to a single one. It has been showed that unweighted average of word vectors outperforms many complicated networks that model semantic and syntactic compositionality. As an example you can take a look at this: (http://anthology.aclweb.org/P/P15/P15-1162.pdf)\n",
        "\n",
        "To average we need to ignore padded zeros:"
      ]
    },
    {
      "cell_type": "code",
      "execution_count": null,
      "metadata": {
        "id": "Yi04MLIvJOGZ"
      },
      "outputs": [],
      "source": [
        "class GlobalAveragePooling1DMasked(GlobalAveragePooling1D):\n",
        "    def call(self, x, mask=None):\n",
        "        if mask != None:\n",
        "            return K.sum(x, axis=1) / K.sum(mask, axis=1)\n",
        "        else:\n",
        "            return super().call(x)\n"
      ]
    },
    {
      "cell_type": "markdown",
      "metadata": {
        "id": "whgIIB5ggjna"
      },
      "source": [
        "# Model 1: Neural averaging network using one-hot vectors"
      ]
    },
    {
      "cell_type": "markdown",
      "metadata": {
        "id": "jlOLnlnSJgrU"
      },
      "source": [
        "The first layer is an one-hot layer. The second layer is to compute average on all word vectors in a sentence without considering padding. The  output vector is piped through a fully-connected layer. The last layer is connected with a single output node with the sigmoid activation function. The final value is a float between 0 and 1. \n",
        "The vocabulary count of the movie reviews (10000) is used as the input shape. At the end we visualize the model summary."
      ]
    },
    {
      "cell_type": "code",
      "source": [
        "from keras.layers import Input, Embedding, Dense, LSTM,Reshape\n",
        "target_word = Input((256,), dtype='int32')"
      ],
      "metadata": {
        "id": "XS8VCAJeQrGn"
      },
      "execution_count": null,
      "outputs": []
    },
    {
      "cell_type": "code",
      "source": [
        "X_train_enc.shape"
      ],
      "metadata": {
        "colab": {
          "base_uri": "https://localhost:8080/"
        },
        "id": "hUtqGt3FWEMm",
        "outputId": "3975bb52-5318-4eb7-9217-a38d20ac7591"
      },
      "execution_count": null,
      "outputs": [
        {
          "output_type": "execute_result",
          "data": {
            "text/plain": [
              "(25000, 256)"
            ]
          },
          "metadata": {},
          "execution_count": 16
        }
      ]
    },
    {
      "cell_type": "code",
      "source": [
        "len(X_train_enc)"
      ],
      "metadata": {
        "colab": {
          "base_uri": "https://localhost:8080/"
        },
        "id": "TjIVLiSnWaPt",
        "outputId": "91c360ee-4b5d-4f95-a08b-fe2ea94f6f2e"
      },
      "execution_count": null,
      "outputs": [
        {
          "output_type": "execute_result",
          "data": {
            "text/plain": [
              "25000"
            ]
          },
          "metadata": {},
          "execution_count": 17
        }
      ]
    },
    {
      "cell_type": "code",
      "source": [
        "import tensorflow as tf\n",
        "from keras.models import Model\n",
        "model_one_hot=OneHot(VOCAB_SIZE,MAX_SEQUENCE_LENGTH)(target_word)\n",
        "model_second=GlobalAveragePooling1DMasked()(model_one_hot)\n",
        "output_layer = Dense(16,activation = 'sigmoid')(model_second)\n",
        "output_layer_1 = Dense(1,activation = 'sigmoid')(output_layer)\n",
        "model = Model(inputs=[target_word], outputs=output_layer_1)\n",
        "model.compile(loss='binary_crossentropy', optimizer = 'adam', metrics = ['accuracy'])\n",
        "model.summary()"
      ],
      "metadata": {
        "id": "4CHbnsgPafvv",
        "colab": {
          "base_uri": "https://localhost:8080/"
        },
        "outputId": "21b95b6c-1d6f-4596-db93-e05a177e2329"
      },
      "execution_count": null,
      "outputs": [
        {
          "output_type": "stream",
          "name": "stdout",
          "text": [
            "Model: \"model\"\n",
            "_________________________________________________________________\n",
            " Layer (type)                Output Shape              Param #   \n",
            "=================================================================\n",
            " input_1 (InputLayer)        [(None, 256)]             0         \n",
            "                                                                 \n",
            " lambda (Lambda)             (None, 256, 10000)        0         \n",
            "                                                                 \n",
            " global_average_pooling1d_ma  (None, 10000)            0         \n",
            " sked (GlobalAveragePooling1                                     \n",
            " DMasked)                                                        \n",
            "                                                                 \n",
            " dense (Dense)               (None, 16)                160016    \n",
            "                                                                 \n",
            " dense_1 (Dense)             (None, 1)                 17        \n",
            "                                                                 \n",
            "=================================================================\n",
            "Total params: 160,033\n",
            "Trainable params: 160,033\n",
            "Non-trainable params: 0\n",
            "_________________________________________________________________\n"
          ]
        }
      ]
    },
    {
      "cell_type": "code",
      "source": [
        "model.summary()"
      ],
      "metadata": {
        "colab": {
          "base_uri": "https://localhost:8080/"
        },
        "id": "S5sj9hSEFUnF",
        "outputId": "0ce956cc-b6c5-4731-972b-6471fa16cdbc"
      },
      "execution_count": null,
      "outputs": [
        {
          "output_type": "stream",
          "name": "stdout",
          "text": [
            "Model: \"model\"\n",
            "_________________________________________________________________\n",
            " Layer (type)                Output Shape              Param #   \n",
            "=================================================================\n",
            " input_1 (InputLayer)        [(None, 256)]             0         \n",
            "                                                                 \n",
            " lambda (Lambda)             (None, 256, 10000)        0         \n",
            "                                                                 \n",
            " global_average_pooling1d_ma  (None, 10000)            0         \n",
            " sked (GlobalAveragePooling1                                     \n",
            " DMasked)                                                        \n",
            "                                                                 \n",
            " dense (Dense)               (None, 16)                160016    \n",
            "                                                                 \n",
            " dense_1 (Dense)             (None, 1)                 17        \n",
            "                                                                 \n",
            "=================================================================\n",
            "Total params: 160,033\n",
            "Trainable params: 160,033\n",
            "Non-trainable params: 0\n",
            "_________________________________________________________________\n"
          ]
        }
      ]
    },
    {
      "cell_type": "code",
      "source": [
        "from IPython.display import SVG\n",
        "from keras.utils import vis_utils\n",
        "SVG(vis_utils.model_to_dot(model, show_shapes=True, show_layer_names=True, dpi=60).create(prog='dot', format='svg'))  "
      ],
      "metadata": {
        "colab": {
          "base_uri": "https://localhost:8080/",
          "height": 451
        },
        "id": "fPy2pbvSGoat",
        "outputId": "71caffb4-e7d5-46e6-d7ee-d52157f3bf7c"
      },
      "execution_count": null,
      "outputs": [
        {
          "output_type": "execute_result",
          "data": {
            "text/plain": [
              "<IPython.core.display.SVG object>"
            ],
            "image/svg+xml": "<svg height=\"322pt\" viewBox=\"0.00 0.00 522.00 387.00\" width=\"435pt\" xmlns=\"http://www.w3.org/2000/svg\" xmlns:xlink=\"http://www.w3.org/1999/xlink\">\n<g class=\"graph\" id=\"graph0\" transform=\"scale(.8333 .8333) rotate(0) translate(4 383)\">\n<title>G</title>\n<polygon fill=\"#ffffff\" points=\"-4,4 -4,-383 518,-383 518,4 -4,4\" stroke=\"transparent\"/>\n<!-- 139847067679376 -->\n<g class=\"node\" id=\"node1\">\n<title>139847067679376</title>\n<polygon fill=\"none\" points=\"92,-332.5 92,-378.5 422,-378.5 422,-332.5 92,-332.5\" stroke=\"#000000\"/>\n<text fill=\"#000000\" font-family=\"Times,serif\" font-size=\"14.00\" text-anchor=\"middle\" x=\"132\" y=\"-363.3\">input_1</text>\n<polyline fill=\"none\" points=\"92,-355.5 172,-355.5 \" stroke=\"#000000\"/>\n<text fill=\"#000000\" font-family=\"Times,serif\" font-size=\"14.00\" text-anchor=\"middle\" x=\"132\" y=\"-340.3\">InputLayer</text>\n<polyline fill=\"none\" points=\"172,-332.5 172,-378.5 \" stroke=\"#000000\"/>\n<text fill=\"#000000\" font-family=\"Times,serif\" font-size=\"14.00\" text-anchor=\"middle\" x=\"201\" y=\"-363.3\">input:</text>\n<polyline fill=\"none\" points=\"172,-355.5 230,-355.5 \" stroke=\"#000000\"/>\n<text fill=\"#000000\" font-family=\"Times,serif\" font-size=\"14.00\" text-anchor=\"middle\" x=\"201\" y=\"-340.3\">output:</text>\n<polyline fill=\"none\" points=\"230,-332.5 230,-378.5 \" stroke=\"#000000\"/>\n<text fill=\"#000000\" font-family=\"Times,serif\" font-size=\"14.00\" text-anchor=\"middle\" x=\"278\" y=\"-351.8\">[(None, 256)]</text>\n<polyline fill=\"none\" points=\"326,-332.5 326,-378.5 \" stroke=\"#000000\"/>\n<text fill=\"#000000\" font-family=\"Times,serif\" font-size=\"14.00\" text-anchor=\"middle\" x=\"374\" y=\"-351.8\">[(None, 256)]</text>\n</g>\n<!-- 139847027884624 -->\n<g class=\"node\" id=\"node2\">\n<title>139847027884624</title>\n<polygon fill=\"none\" points=\"86.5,-249.5 86.5,-295.5 427.5,-295.5 427.5,-249.5 86.5,-249.5\" stroke=\"#000000\"/>\n<text fill=\"#000000\" font-family=\"Times,serif\" font-size=\"14.00\" text-anchor=\"middle\" x=\"118.5\" y=\"-280.3\">lambda</text>\n<polyline fill=\"none\" points=\"86.5,-272.5 150.5,-272.5 \" stroke=\"#000000\"/>\n<text fill=\"#000000\" font-family=\"Times,serif\" font-size=\"14.00\" text-anchor=\"middle\" x=\"118.5\" y=\"-257.3\">Lambda</text>\n<polyline fill=\"none\" points=\"150.5,-249.5 150.5,-295.5 \" stroke=\"#000000\"/>\n<text fill=\"#000000\" font-family=\"Times,serif\" font-size=\"14.00\" text-anchor=\"middle\" x=\"179.5\" y=\"-280.3\">input:</text>\n<polyline fill=\"none\" points=\"150.5,-272.5 208.5,-272.5 \" stroke=\"#000000\"/>\n<text fill=\"#000000\" font-family=\"Times,serif\" font-size=\"14.00\" text-anchor=\"middle\" x=\"179.5\" y=\"-257.3\">output:</text>\n<polyline fill=\"none\" points=\"208.5,-249.5 208.5,-295.5 \" stroke=\"#000000\"/>\n<text fill=\"#000000\" font-family=\"Times,serif\" font-size=\"14.00\" text-anchor=\"middle\" x=\"252\" y=\"-268.8\">(None, 256)</text>\n<polyline fill=\"none\" points=\"295.5,-249.5 295.5,-295.5 \" stroke=\"#000000\"/>\n<text fill=\"#000000\" font-family=\"Times,serif\" font-size=\"14.00\" text-anchor=\"middle\" x=\"361.5\" y=\"-268.8\">(None, 256, 10000)</text>\n</g>\n<!-- 139847067679376&#45;&gt;139847027884624 -->\n<g class=\"edge\" id=\"edge1\">\n<title>139847067679376-&gt;139847027884624</title>\n<path d=\"M257,-332.3799C257,-324.1745 257,-314.7679 257,-305.8786\" fill=\"none\" stroke=\"#000000\"/>\n<polygon fill=\"#000000\" points=\"260.5001,-305.784 257,-295.784 253.5001,-305.784 260.5001,-305.784\" stroke=\"#000000\"/>\n</g>\n<!-- 139847067704144 -->\n<g class=\"node\" id=\"node3\">\n<title>139847067704144</title>\n<polygon fill=\"none\" points=\"0,-166.5 0,-212.5 514,-212.5 514,-166.5 0,-166.5\" stroke=\"#000000\"/>\n<text fill=\"#000000\" font-family=\"Times,serif\" font-size=\"14.00\" text-anchor=\"middle\" x=\"111\" y=\"-197.3\">global_average_pooling1d_masked</text>\n<polyline fill=\"none\" points=\"0,-189.5 222,-189.5 \" stroke=\"#000000\"/>\n<text fill=\"#000000\" font-family=\"Times,serif\" font-size=\"14.00\" text-anchor=\"middle\" x=\"111\" y=\"-174.3\">GlobalAveragePooling1DMasked</text>\n<polyline fill=\"none\" points=\"222,-166.5 222,-212.5 \" stroke=\"#000000\"/>\n<text fill=\"#000000\" font-family=\"Times,serif\" font-size=\"14.00\" text-anchor=\"middle\" x=\"251\" y=\"-197.3\">input:</text>\n<polyline fill=\"none\" points=\"222,-189.5 280,-189.5 \" stroke=\"#000000\"/>\n<text fill=\"#000000\" font-family=\"Times,serif\" font-size=\"14.00\" text-anchor=\"middle\" x=\"251\" y=\"-174.3\">output:</text>\n<polyline fill=\"none\" points=\"280,-166.5 280,-212.5 \" stroke=\"#000000\"/>\n<text fill=\"#000000\" font-family=\"Times,serif\" font-size=\"14.00\" text-anchor=\"middle\" x=\"346\" y=\"-185.8\">(None, 256, 10000)</text>\n<polyline fill=\"none\" points=\"412,-166.5 412,-212.5 \" stroke=\"#000000\"/>\n<text fill=\"#000000\" font-family=\"Times,serif\" font-size=\"14.00\" text-anchor=\"middle\" x=\"463\" y=\"-185.8\">(None, 10000)</text>\n</g>\n<!-- 139847027884624&#45;&gt;139847067704144 -->\n<g class=\"edge\" id=\"edge2\">\n<title>139847027884624-&gt;139847067704144</title>\n<path d=\"M257,-249.3799C257,-241.1745 257,-231.7679 257,-222.8786\" fill=\"none\" stroke=\"#000000\"/>\n<polygon fill=\"#000000\" points=\"260.5001,-222.784 257,-212.784 253.5001,-222.784 260.5001,-222.784\" stroke=\"#000000\"/>\n</g>\n<!-- 139847001266512 -->\n<g class=\"node\" id=\"node4\">\n<title>139847001266512</title>\n<polygon fill=\"none\" points=\"111,-83.5 111,-129.5 403,-129.5 403,-83.5 111,-83.5\" stroke=\"#000000\"/>\n<text fill=\"#000000\" font-family=\"Times,serif\" font-size=\"14.00\" text-anchor=\"middle\" x=\"137\" y=\"-114.3\">dense</text>\n<polyline fill=\"none\" points=\"111,-106.5 163,-106.5 \" stroke=\"#000000\"/>\n<text fill=\"#000000\" font-family=\"Times,serif\" font-size=\"14.00\" text-anchor=\"middle\" x=\"137\" y=\"-91.3\">Dense</text>\n<polyline fill=\"none\" points=\"163,-83.5 163,-129.5 \" stroke=\"#000000\"/>\n<text fill=\"#000000\" font-family=\"Times,serif\" font-size=\"14.00\" text-anchor=\"middle\" x=\"192\" y=\"-114.3\">input:</text>\n<polyline fill=\"none\" points=\"163,-106.5 221,-106.5 \" stroke=\"#000000\"/>\n<text fill=\"#000000\" font-family=\"Times,serif\" font-size=\"14.00\" text-anchor=\"middle\" x=\"192\" y=\"-91.3\">output:</text>\n<polyline fill=\"none\" points=\"221,-83.5 221,-129.5 \" stroke=\"#000000\"/>\n<text fill=\"#000000\" font-family=\"Times,serif\" font-size=\"14.00\" text-anchor=\"middle\" x=\"272\" y=\"-102.8\">(None, 10000)</text>\n<polyline fill=\"none\" points=\"323,-83.5 323,-129.5 \" stroke=\"#000000\"/>\n<text fill=\"#000000\" font-family=\"Times,serif\" font-size=\"14.00\" text-anchor=\"middle\" x=\"363\" y=\"-102.8\">(None, 16)</text>\n</g>\n<!-- 139847067704144&#45;&gt;139847001266512 -->\n<g class=\"edge\" id=\"edge3\">\n<title>139847067704144-&gt;139847001266512</title>\n<path d=\"M257,-166.3799C257,-158.1745 257,-148.7679 257,-139.8786\" fill=\"none\" stroke=\"#000000\"/>\n<polygon fill=\"#000000\" points=\"260.5001,-139.784 257,-129.784 253.5001,-139.784 260.5001,-139.784\" stroke=\"#000000\"/>\n</g>\n<!-- 139849389208592 -->\n<g class=\"node\" id=\"node5\">\n<title>139849389208592</title>\n<polygon fill=\"none\" points=\"120,-.5 120,-46.5 394,-46.5 394,-.5 120,-.5\" stroke=\"#000000\"/>\n<text fill=\"#000000\" font-family=\"Times,serif\" font-size=\"14.00\" text-anchor=\"middle\" x=\"152\" y=\"-31.3\">dense_1</text>\n<polyline fill=\"none\" points=\"120,-23.5 184,-23.5 \" stroke=\"#000000\"/>\n<text fill=\"#000000\" font-family=\"Times,serif\" font-size=\"14.00\" text-anchor=\"middle\" x=\"152\" y=\"-8.3\">Dense</text>\n<polyline fill=\"none\" points=\"184,-.5 184,-46.5 \" stroke=\"#000000\"/>\n<text fill=\"#000000\" font-family=\"Times,serif\" font-size=\"14.00\" text-anchor=\"middle\" x=\"213\" y=\"-31.3\">input:</text>\n<polyline fill=\"none\" points=\"184,-23.5 242,-23.5 \" stroke=\"#000000\"/>\n<text fill=\"#000000\" font-family=\"Times,serif\" font-size=\"14.00\" text-anchor=\"middle\" x=\"213\" y=\"-8.3\">output:</text>\n<polyline fill=\"none\" points=\"242,-.5 242,-46.5 \" stroke=\"#000000\"/>\n<text fill=\"#000000\" font-family=\"Times,serif\" font-size=\"14.00\" text-anchor=\"middle\" x=\"282\" y=\"-19.8\">(None, 16)</text>\n<polyline fill=\"none\" points=\"322,-.5 322,-46.5 \" stroke=\"#000000\"/>\n<text fill=\"#000000\" font-family=\"Times,serif\" font-size=\"14.00\" text-anchor=\"middle\" x=\"358\" y=\"-19.8\">(None, 1)</text>\n</g>\n<!-- 139847001266512&#45;&gt;139849389208592 -->\n<g class=\"edge\" id=\"edge4\">\n<title>139847001266512-&gt;139849389208592</title>\n<path d=\"M257,-83.3799C257,-75.1745 257,-65.7679 257,-56.8786\" fill=\"none\" stroke=\"#000000\"/>\n<polygon fill=\"#000000\" points=\"260.5001,-56.784 257,-46.784 253.5001,-56.784 260.5001,-56.784\" stroke=\"#000000\"/>\n</g>\n</g>\n</svg>"
          },
          "metadata": {},
          "execution_count": 19
        }
      ]
    },
    {
      "cell_type": "markdown",
      "metadata": {
        "id": "_Mz96xpCgvTj"
      },
      "source": [
        "### Training the model"
      ]
    },
    {
      "cell_type": "markdown",
      "metadata": {
        "id": "F3HbW_IKLqwT"
      },
      "source": [
        "To compile the model we need a loss function and an optimizer. We use binary_crossentropy loss function which is just a special case of categorical cross entropy. We also use Adam optimizer that can be used instead of the classical stochastic gradient descent procedure to update network weights iterative based in training data. You can read more about it here:\n",
        "(https://arxiv.org/abs/1412.6980v8\n",
        ")\n"
      ]
    },
    {
      "cell_type": "markdown",
      "metadata": {
        "id": "E1jwQQqCN5Ia"
      },
      "source": [
        "When training, we want to check the accuracy of the model on data it hasn't seen before. So we create a validation set:"
      ]
    },
    {
      "cell_type": "code",
      "execution_count": null,
      "metadata": {
        "id": "f5lAqzQlxjSM"
      },
      "outputs": [],
      "source": [
        "X_val = np.array(X_train_enc[:10000])\n",
        "partial_X_train = np.array(X_train_enc[10000:])\n",
        "\n",
        "y_val = np.array(y_train[:10000])\n",
        "partial_y_train = np.array(y_train[10000:])"
      ]
    },
    {
      "cell_type": "markdown",
      "metadata": {
        "id": "E8Kpo5G3OJEY"
      },
      "source": [
        "Then we start to train the model for 40 epochs in mini-batches of 512 samples and monitor the model's loss and accuracy on the validation set."
      ]
    },
    {
      "cell_type": "code",
      "source": [
        "print(partial_X_train.shape)\n",
        "print(partial_y_train.shape)"
      ],
      "metadata": {
        "colab": {
          "base_uri": "https://localhost:8080/"
        },
        "id": "VL854wQEe7BS",
        "outputId": "2238a3ab-5f01-4c7f-d19c-2f87a9dd7a07"
      },
      "execution_count": null,
      "outputs": [
        {
          "output_type": "stream",
          "name": "stdout",
          "text": [
            "(15000, 256)\n",
            "(15000,)\n"
          ]
        }
      ]
    },
    {
      "cell_type": "code",
      "source": [
        "print(X_val.shape)\n",
        "print(y_val.shape)"
      ],
      "metadata": {
        "colab": {
          "base_uri": "https://localhost:8080/"
        },
        "id": "5848Frz-e_pC",
        "outputId": "ccb0d9f8-8080-4049-a582-d01d66af3644"
      },
      "execution_count": null,
      "outputs": [
        {
          "output_type": "stream",
          "name": "stdout",
          "text": [
            "(10000, 256)\n",
            "(10000,)\n"
          ]
        }
      ]
    },
    {
      "cell_type": "code",
      "execution_count": null,
      "metadata": {
        "id": "99_z39KAxjPi",
        "colab": {
          "base_uri": "https://localhost:8080/"
        },
        "outputId": "b4f86731-5cc3-4e58-ded2-6f3a1bb2c93f"
      },
      "outputs": [
        {
          "output_type": "stream",
          "name": "stdout",
          "text": [
            "Epoch 1/40\n",
            "30/30 [==============================] - 4s 105ms/step - loss: 0.7559 - accuracy: 0.5035 - val_loss: 0.7343 - val_accuracy: 0.4947\n",
            "Epoch 2/40\n",
            "30/30 [==============================] - 3s 99ms/step - loss: 0.7149 - accuracy: 0.5035 - val_loss: 0.7057 - val_accuracy: 0.4947\n",
            "Epoch 3/40\n",
            "30/30 [==============================] - 3s 99ms/step - loss: 0.6981 - accuracy: 0.5035 - val_loss: 0.6958 - val_accuracy: 0.4947\n",
            "Epoch 4/40\n",
            "30/30 [==============================] - 3s 100ms/step - loss: 0.6935 - accuracy: 0.5035 - val_loss: 0.6932 - val_accuracy: 0.4947\n",
            "Epoch 5/40\n",
            "30/30 [==============================] - 3s 99ms/step - loss: 0.6925 - accuracy: 0.5035 - val_loss: 0.6925 - val_accuracy: 0.4947\n",
            "Epoch 6/40\n",
            "30/30 [==============================] - 3s 99ms/step - loss: 0.6921 - accuracy: 0.5035 - val_loss: 0.6921 - val_accuracy: 0.4947\n",
            "Epoch 7/40\n",
            "30/30 [==============================] - 3s 100ms/step - loss: 0.6917 - accuracy: 0.5061 - val_loss: 0.6917 - val_accuracy: 0.4957\n",
            "Epoch 8/40\n",
            "30/30 [==============================] - 3s 99ms/step - loss: 0.6913 - accuracy: 0.5195 - val_loss: 0.6914 - val_accuracy: 0.5270\n",
            "Epoch 9/40\n",
            "30/30 [==============================] - 3s 99ms/step - loss: 0.6910 - accuracy: 0.5950 - val_loss: 0.6910 - val_accuracy: 0.5730\n",
            "Epoch 10/40\n",
            "30/30 [==============================] - 3s 99ms/step - loss: 0.6906 - accuracy: 0.5461 - val_loss: 0.6906 - val_accuracy: 0.5772\n",
            "Epoch 11/40\n",
            "30/30 [==============================] - 3s 99ms/step - loss: 0.6902 - accuracy: 0.6416 - val_loss: 0.6903 - val_accuracy: 0.6161\n",
            "Epoch 12/40\n",
            "30/30 [==============================] - 3s 99ms/step - loss: 0.6898 - accuracy: 0.6177 - val_loss: 0.6899 - val_accuracy: 0.5934\n",
            "Epoch 13/40\n",
            "30/30 [==============================] - 3s 99ms/step - loss: 0.6894 - accuracy: 0.5713 - val_loss: 0.6896 - val_accuracy: 0.5950\n",
            "Epoch 14/40\n",
            "30/30 [==============================] - 3s 100ms/step - loss: 0.6890 - accuracy: 0.6525 - val_loss: 0.6891 - val_accuracy: 0.6555\n",
            "Epoch 15/40\n",
            "30/30 [==============================] - 3s 99ms/step - loss: 0.6886 - accuracy: 0.6165 - val_loss: 0.6888 - val_accuracy: 0.6193\n",
            "Epoch 16/40\n",
            "30/30 [==============================] - 3s 99ms/step - loss: 0.6882 - accuracy: 0.6535 - val_loss: 0.6883 - val_accuracy: 0.6537\n",
            "Epoch 17/40\n",
            "30/30 [==============================] - 3s 99ms/step - loss: 0.6877 - accuracy: 0.6534 - val_loss: 0.6880 - val_accuracy: 0.6354\n",
            "Epoch 18/40\n",
            "30/30 [==============================] - 3s 99ms/step - loss: 0.6873 - accuracy: 0.6447 - val_loss: 0.6876 - val_accuracy: 0.6255\n",
            "Epoch 19/40\n",
            "30/30 [==============================] - 3s 99ms/step - loss: 0.6869 - accuracy: 0.6249 - val_loss: 0.6871 - val_accuracy: 0.6522\n",
            "Epoch 20/40\n",
            "30/30 [==============================] - 3s 100ms/step - loss: 0.6864 - accuracy: 0.6668 - val_loss: 0.6867 - val_accuracy: 0.6522\n",
            "Epoch 21/40\n",
            "30/30 [==============================] - 3s 99ms/step - loss: 0.6860 - accuracy: 0.6592 - val_loss: 0.6862 - val_accuracy: 0.6670\n",
            "Epoch 22/40\n",
            "30/30 [==============================] - 3s 102ms/step - loss: 0.6855 - accuracy: 0.6735 - val_loss: 0.6858 - val_accuracy: 0.6653\n",
            "Epoch 23/40\n",
            "30/30 [==============================] - 3s 99ms/step - loss: 0.6850 - accuracy: 0.6755 - val_loss: 0.6853 - val_accuracy: 0.6594\n",
            "Epoch 24/40\n",
            "30/30 [==============================] - 3s 99ms/step - loss: 0.6845 - accuracy: 0.6481 - val_loss: 0.6849 - val_accuracy: 0.6557\n",
            "Epoch 25/40\n",
            "30/30 [==============================] - 3s 99ms/step - loss: 0.6840 - accuracy: 0.6771 - val_loss: 0.6843 - val_accuracy: 0.6743\n",
            "Epoch 26/40\n",
            "30/30 [==============================] - 3s 99ms/step - loss: 0.6835 - accuracy: 0.6767 - val_loss: 0.6838 - val_accuracy: 0.6732\n",
            "Epoch 27/40\n",
            "30/30 [==============================] - 3s 99ms/step - loss: 0.6829 - accuracy: 0.6823 - val_loss: 0.6833 - val_accuracy: 0.6682\n",
            "Epoch 28/40\n",
            "30/30 [==============================] - 3s 99ms/step - loss: 0.6824 - accuracy: 0.6747 - val_loss: 0.6828 - val_accuracy: 0.6741\n",
            "Epoch 29/40\n",
            "30/30 [==============================] - 3s 99ms/step - loss: 0.6818 - accuracy: 0.6828 - val_loss: 0.6822 - val_accuracy: 0.6724\n",
            "Epoch 30/40\n",
            "30/30 [==============================] - 3s 99ms/step - loss: 0.6812 - accuracy: 0.6771 - val_loss: 0.6818 - val_accuracy: 0.6638\n",
            "Epoch 31/40\n",
            "30/30 [==============================] - 3s 99ms/step - loss: 0.6806 - accuracy: 0.6734 - val_loss: 0.6811 - val_accuracy: 0.6739\n",
            "Epoch 32/40\n",
            "30/30 [==============================] - 3s 99ms/step - loss: 0.6800 - accuracy: 0.6835 - val_loss: 0.6805 - val_accuracy: 0.6771\n",
            "Epoch 33/40\n",
            "30/30 [==============================] - 3s 99ms/step - loss: 0.6793 - accuracy: 0.6788 - val_loss: 0.6800 - val_accuracy: 0.6720\n",
            "Epoch 34/40\n",
            "30/30 [==============================] - 3s 100ms/step - loss: 0.6787 - accuracy: 0.6829 - val_loss: 0.6792 - val_accuracy: 0.6781\n",
            "Epoch 35/40\n",
            "30/30 [==============================] - 3s 100ms/step - loss: 0.6780 - accuracy: 0.6836 - val_loss: 0.6787 - val_accuracy: 0.6738\n",
            "Epoch 36/40\n",
            "30/30 [==============================] - 3s 100ms/step - loss: 0.6773 - accuracy: 0.6854 - val_loss: 0.6780 - val_accuracy: 0.6751\n",
            "Epoch 37/40\n",
            "30/30 [==============================] - 3s 100ms/step - loss: 0.6766 - accuracy: 0.6872 - val_loss: 0.6773 - val_accuracy: 0.6766\n",
            "Epoch 38/40\n",
            "30/30 [==============================] - 3s 99ms/step - loss: 0.6758 - accuracy: 0.6872 - val_loss: 0.6766 - val_accuracy: 0.6780\n",
            "Epoch 39/40\n",
            "30/30 [==============================] - 3s 99ms/step - loss: 0.6751 - accuracy: 0.6825 - val_loss: 0.6759 - val_accuracy: 0.6769\n",
            "Epoch 40/40\n",
            "30/30 [==============================] - 3s 100ms/step - loss: 0.6743 - accuracy: 0.6887 - val_loss: 0.6751 - val_accuracy: 0.6780\n"
          ]
        }
      ],
      "source": [
        "history = model.fit(partial_X_train,\n",
        "                    partial_y_train,\n",
        "                    epochs=40,\n",
        "                    batch_size=512,\n",
        "                    validation_data=(X_val, y_val),\n",
        "                    verbose=1)"
      ]
    },
    {
      "cell_type": "markdown",
      "metadata": {
        "id": "i_9a_rybhG5J"
      },
      "source": [
        "### Evaluating the model"
      ]
    },
    {
      "cell_type": "markdown",
      "metadata": {
        "id": "EYLH8kOgOo9W"
      },
      "source": [
        "To evaulate the model on test data:"
      ]
    },
    {
      "cell_type": "code",
      "execution_count": null,
      "metadata": {
        "id": "CFMt2Q7b3taP",
        "colab": {
          "base_uri": "https://localhost:8080/"
        },
        "outputId": "3d22cc5d-9f46-4d52-ff9d-af654035362e"
      },
      "outputs": [
        {
          "output_type": "stream",
          "name": "stdout",
          "text": [
            "782/782 [==============================] - 4s 5ms/step - loss: 0.6701 - accuracy: 0.6823\n"
          ]
        }
      ],
      "source": [
        "results = model.evaluate(X_test_enc, y_test)"
      ]
    },
    {
      "cell_type": "code",
      "source": [
        "results = model.evaluate(X_test_enc, y_test)"
      ],
      "metadata": {
        "colab": {
          "base_uri": "https://localhost:8080/"
        },
        "id": "QvAa46YJssyw",
        "outputId": "bd504eac-0f28-4887-a887-ab3738e11a14"
      },
      "execution_count": null,
      "outputs": [
        {
          "output_type": "stream",
          "name": "stdout",
          "text": [
            "782/782 [==============================] - 4s 5ms/step - loss: 0.6748 - accuracy: 0.6804\n"
          ]
        }
      ]
    },
    {
      "cell_type": "code",
      "execution_count": null,
      "metadata": {
        "id": "9RrKiPHcAmQU",
        "colab": {
          "base_uri": "https://localhost:8080/"
        },
        "outputId": "89e8c4f8-953d-4fac-b480-9e846e04d7d8"
      },
      "outputs": [
        {
          "output_type": "stream",
          "name": "stdout",
          "text": [
            "[0.6699800491333008, 0.6779599785804749]\n"
          ]
        }
      ],
      "source": [
        "print(results)\n",
        "# loss, accuracay "
      ]
    },
    {
      "cell_type": "markdown",
      "metadata": {
        "id": "pW7IpHxMO6qp"
      },
      "source": [
        "Our first model accuracy using one-hot vectors is ~68%\n",
        "\n",
        "\n",
        "\n",
        "\n",
        "\n"
      ]
    },
    {
      "cell_type": "markdown",
      "metadata": {
        "id": "OwZk_yoWhPJB"
      },
      "source": [
        "### Plotting the accuracy graph"
      ]
    },
    {
      "cell_type": "markdown",
      "metadata": {
        "id": "JIDPH1J7PMzN"
      },
      "source": [
        "To plot a graph of accuracy and loss over time we can use Matplotlib:"
      ]
    },
    {
      "cell_type": "code",
      "source": [
        "pip install plot_keras_history"
      ],
      "metadata": {
        "colab": {
          "base_uri": "https://localhost:8080/"
        },
        "id": "7FdGiNC5JI8w",
        "outputId": "c61988b5-9b4e-4d12-92cb-a4f7f48dd218"
      },
      "execution_count": null,
      "outputs": [
        {
          "output_type": "stream",
          "name": "stdout",
          "text": [
            "Collecting plot_keras_history\n",
            "  Downloading plot_keras_history-1.1.30.tar.gz (8.6 kB)\n",
            "Requirement already satisfied: matplotlib in /usr/local/lib/python3.7/dist-packages (from plot_keras_history) (3.2.2)\n",
            "Requirement already satisfied: pandas in /usr/local/lib/python3.7/dist-packages (from plot_keras_history) (1.3.5)\n",
            "Requirement already satisfied: scipy in /usr/local/lib/python3.7/dist-packages (from plot_keras_history) (1.4.1)\n",
            "Collecting sanitize_ml_labels>=1.0.28\n",
            "  Downloading sanitize_ml_labels-1.0.29.tar.gz (7.4 kB)\n",
            "Collecting compress_json\n",
            "  Downloading compress_json-1.0.4.tar.gz (4.7 kB)\n",
            "Requirement already satisfied: cycler>=0.10 in /usr/local/lib/python3.7/dist-packages (from matplotlib->plot_keras_history) (0.11.0)\n",
            "Requirement already satisfied: pyparsing!=2.0.4,!=2.1.2,!=2.1.6,>=2.0.1 in /usr/local/lib/python3.7/dist-packages (from matplotlib->plot_keras_history) (3.0.7)\n",
            "Requirement already satisfied: python-dateutil>=2.1 in /usr/local/lib/python3.7/dist-packages (from matplotlib->plot_keras_history) (2.8.2)\n",
            "Requirement already satisfied: numpy>=1.11 in /usr/local/lib/python3.7/dist-packages (from matplotlib->plot_keras_history) (1.21.5)\n",
            "Requirement already satisfied: kiwisolver>=1.0.1 in /usr/local/lib/python3.7/dist-packages (from matplotlib->plot_keras_history) (1.3.2)\n",
            "Requirement already satisfied: six>=1.5 in /usr/local/lib/python3.7/dist-packages (from python-dateutil>=2.1->matplotlib->plot_keras_history) (1.15.0)\n",
            "Requirement already satisfied: pytz>=2017.3 in /usr/local/lib/python3.7/dist-packages (from pandas->plot_keras_history) (2018.9)\n",
            "Building wheels for collected packages: plot-keras-history, sanitize-ml-labels, compress-json\n",
            "  Building wheel for plot-keras-history (setup.py) ... \u001b[?25l\u001b[?25hdone\n",
            "  Created wheel for plot-keras-history: filename=plot_keras_history-1.1.30-py3-none-any.whl size=8794 sha256=3ee03fa9a85db37508d4053482853e7e602d0a9cb45cd7a4960699071ed16716\n",
            "  Stored in directory: /root/.cache/pip/wheels/b0/60/47/8c5aa37c06be5e97879ec467bc2e6a30b315d95f662c63a503\n",
            "  Building wheel for sanitize-ml-labels (setup.py) ... \u001b[?25l\u001b[?25hdone\n",
            "  Created wheel for sanitize-ml-labels: filename=sanitize_ml_labels-1.0.29-py3-none-any.whl size=7878 sha256=940066fd6f4e6323c3fb913344c95e2397468dfc0b2d7f791e7033238c837d39\n",
            "  Stored in directory: /root/.cache/pip/wheels/c2/f5/71/d1c459da10abec864a1979b449edbf37d4a82ab3e38a3625a8\n",
            "  Building wheel for compress-json (setup.py) ... \u001b[?25l\u001b[?25hdone\n",
            "  Created wheel for compress-json: filename=compress_json-1.0.4-py3-none-any.whl size=4588 sha256=403e498c1806ebf03057c11070c0907af5d452af49f5c85c94fb2f74e6fe3423\n",
            "  Stored in directory: /root/.cache/pip/wheels/1e/ef/1e/5d403c5632b0462471a8d26049d0c138134d0255ec60ce4c14\n",
            "Successfully built plot-keras-history sanitize-ml-labels compress-json\n",
            "Installing collected packages: compress-json, sanitize-ml-labels, plot-keras-history\n",
            "Successfully installed compress-json-1.0.4 plot-keras-history-1.1.30 sanitize-ml-labels-1.0.29\n"
          ]
        }
      ]
    },
    {
      "cell_type": "code",
      "execution_count": null,
      "metadata": {
        "id": "LS9k2vvSAqB7"
      },
      "outputs": [],
      "source": [
        "# your code goes here\n",
        "from plot_keras_history import plot_history\n",
        "import matplotlib.pyplot as plt"
      ]
    },
    {
      "cell_type": "code",
      "source": [
        "plot_history(history.history, path=\"standard.png\")\n",
        "plt.show()"
      ],
      "metadata": {
        "colab": {
          "base_uri": "https://localhost:8080/",
          "height": 385
        },
        "id": "xB2S48wrIB58",
        "outputId": "1033ad8f-3d76-4974-baf1-01bb28a8d43b"
      },
      "execution_count": null,
      "outputs": [
        {
          "output_type": "display_data",
          "data": {
            "text/plain": [
              "<Figure size 720x360 with 2 Axes>"
            ],
            "image/png": "[encoded data removed]"
          },
          "metadata": {
            "needs_background": "light"
          }
        }
      ]
    },
    {
      "cell_type": "markdown",
      "metadata": {
        "id": "a7OwOQw4h8RX"
      },
      "source": [
        "# Model 2: Neural averaging network using embedding layer"
      ]
    },
    {
      "cell_type": "markdown",
      "metadata": {
        "id": "l-QzOMO_P4jc"
      },
      "source": [
        "Now instead of one-hot vectors, we want to use embedding. We change our first layer in model1 to an Embedding layer. This layer takes the integer-encoded vocabulary and looks up the embedding vector for each word-index. These vectors are learned as the model trains. The vectors add a dimension to the output array. The resulting dimensions are: (batch, sequence, embedding)."
      ]
    },
    {
      "cell_type": "code",
      "source": [
        "VOCAB_SIZE"
      ],
      "metadata": {
        "colab": {
          "base_uri": "https://localhost:8080/"
        },
        "id": "BD1vrOK_LK-s",
        "outputId": "fb74ed2b-5cb4-409c-8a5f-1d209a36f9f3"
      },
      "execution_count": null,
      "outputs": [
        {
          "output_type": "execute_result",
          "data": {
            "text/plain": [
              "10000"
            ]
          },
          "metadata": {},
          "execution_count": 38
        }
      ]
    },
    {
      "cell_type": "code",
      "source": [
        "EMBED_SIZE=100\n",
        "target_word = Input((256,), dtype='int32')\n",
        "target_embedding = Embedding(VOCAB_SIZE, EMBED_SIZE, name='target_embed_layer',\n",
        "                        \tembeddings_initializer='glorot_uniform',\n",
        "                         \tinput_length=256)(target_word)\n",
        "#target_input = Reshape((EMBED_SIZE, ))(target_embedding)"
      ],
      "metadata": {
        "id": "6ivdEFOxJztF"
      },
      "execution_count": null,
      "outputs": []
    },
    {
      "cell_type": "code",
      "source": [
        "target_embedding.shape"
      ],
      "metadata": {
        "colab": {
          "base_uri": "https://localhost:8080/"
        },
        "id": "t3QqE726Ltlf",
        "outputId": "fb7e5396-55fb-4f92-eafb-baa1c048c4c1"
      },
      "execution_count": null,
      "outputs": [
        {
          "output_type": "execute_result",
          "data": {
            "text/plain": [
              "TensorShape([None, 256, 100])"
            ]
          },
          "metadata": {},
          "execution_count": 40
        }
      ]
    },
    {
      "cell_type": "code",
      "execution_count": null,
      "metadata": {
        "id": "MFrCsL-NBFVL",
        "colab": {
          "base_uri": "https://localhost:8080/"
        },
        "outputId": "7702ac07-3b91-469b-aad3-690c09a0e215"
      },
      "outputs": [
        {
          "output_type": "stream",
          "name": "stdout",
          "text": [
            "Model: \"model_1\"\n",
            "_________________________________________________________________\n",
            " Layer (type)                Output Shape              Param #   \n",
            "=================================================================\n",
            " input_2 (InputLayer)        [(None, 256)]             0         \n",
            "                                                                 \n",
            " target_embed_layer (Embeddi  (None, 256, 100)         1000000   \n",
            " ng)                                                             \n",
            "                                                                 \n",
            " global_average_pooling1d_ma  (None, 100)              0         \n",
            " sked_1 (GlobalAveragePoolin                                     \n",
            " g1DMasked)                                                      \n",
            "                                                                 \n",
            " dense_2 (Dense)             (None, 16)                1616      \n",
            "                                                                 \n",
            " dense_3 (Dense)             (None, 1)                 17        \n",
            "                                                                 \n",
            "=================================================================\n",
            "Total params: 1,001,633\n",
            "Trainable params: 1,001,633\n",
            "Non-trainable params: 0\n",
            "_________________________________________________________________\n"
          ]
        }
      ],
      "source": [
        "# your code goes here\n",
        "import tensorflow as tf\n",
        "from keras.models import Model\n",
        "#model_one_hot=OneHot(VOCAB_SIZE,MAX_SEQUENCE_LENGTH)(target_word)\n",
        "model_second=GlobalAveragePooling1DMasked()(target_embedding)\n",
        "output_layer = Dense(16,activation = 'sigmoid')(model_second)\n",
        "output_layer_1 = Dense(1,activation = 'sigmoid')(output_layer)\n",
        "model2 = Model(inputs=[target_word], outputs=output_layer_1)\n",
        "model2.compile(loss='binary_crossentropy', optimizer = 'adam', metrics = ['accuracy'])\n",
        "model2.summary()\n"
      ]
    },
    {
      "cell_type": "code",
      "source": [
        "history = model2.fit(partial_X_train,\n",
        "                    partial_y_train,\n",
        "                    epochs=40,\n",
        "                    batch_size=512,\n",
        "                    validation_data=(X_val, y_val),\n",
        "                    verbose=1)"
      ],
      "metadata": {
        "colab": {
          "base_uri": "https://localhost:8080/"
        },
        "id": "AtxP8v95O9u1",
        "outputId": "55c1d6b2-bda7-4765-cacb-8b941956ac38"
      },
      "execution_count": null,
      "outputs": [
        {
          "output_type": "stream",
          "name": "stdout",
          "text": [
            "Epoch 1/40\n",
            "30/30 [==============================] - 1s 14ms/step - loss: 0.6933 - accuracy: 0.5286 - val_loss: 0.6904 - val_accuracy: 0.6165\n",
            "Epoch 2/40\n",
            "30/30 [==============================] - 0s 9ms/step - loss: 0.6869 - accuracy: 0.6565 - val_loss: 0.6824 - val_accuracy: 0.6858\n",
            "Epoch 3/40\n",
            "30/30 [==============================] - 0s 9ms/step - loss: 0.6733 - accuracy: 0.7273 - val_loss: 0.6644 - val_accuracy: 0.7247\n",
            "Epoch 4/40\n",
            "30/30 [==============================] - 0s 9ms/step - loss: 0.6487 - accuracy: 0.7351 - val_loss: 0.6368 - val_accuracy: 0.7435\n",
            "Epoch 5/40\n",
            "30/30 [==============================] - 0s 9ms/step - loss: 0.6135 - accuracy: 0.7632 - val_loss: 0.6011 - val_accuracy: 0.7594\n",
            "Epoch 6/40\n",
            "30/30 [==============================] - 0s 9ms/step - loss: 0.5706 - accuracy: 0.7837 - val_loss: 0.5586 - val_accuracy: 0.7838\n",
            "Epoch 7/40\n",
            "30/30 [==============================] - 0s 9ms/step - loss: 0.5233 - accuracy: 0.8103 - val_loss: 0.5149 - val_accuracy: 0.8068\n",
            "Epoch 8/40\n",
            "30/30 [==============================] - 0s 9ms/step - loss: 0.4756 - accuracy: 0.8347 - val_loss: 0.4728 - val_accuracy: 0.8244\n",
            "Epoch 9/40\n",
            "30/30 [==============================] - 0s 9ms/step - loss: 0.4315 - accuracy: 0.8507 - val_loss: 0.4366 - val_accuracy: 0.8386\n",
            "Epoch 10/40\n",
            "30/30 [==============================] - 0s 9ms/step - loss: 0.3929 - accuracy: 0.8669 - val_loss: 0.4051 - val_accuracy: 0.8470\n",
            "Epoch 11/40\n",
            "30/30 [==============================] - 0s 9ms/step - loss: 0.3601 - accuracy: 0.8782 - val_loss: 0.3803 - val_accuracy: 0.8553\n",
            "Epoch 12/40\n",
            "30/30 [==============================] - 0s 9ms/step - loss: 0.3324 - accuracy: 0.8863 - val_loss: 0.3616 - val_accuracy: 0.8608\n",
            "Epoch 13/40\n",
            "30/30 [==============================] - 0s 9ms/step - loss: 0.3094 - accuracy: 0.8945 - val_loss: 0.3447 - val_accuracy: 0.8688\n",
            "Epoch 14/40\n",
            "30/30 [==============================] - 0s 9ms/step - loss: 0.2889 - accuracy: 0.9007 - val_loss: 0.3324 - val_accuracy: 0.8709\n",
            "Epoch 15/40\n",
            "30/30 [==============================] - 0s 9ms/step - loss: 0.2714 - accuracy: 0.9055 - val_loss: 0.3219 - val_accuracy: 0.8742\n",
            "Epoch 16/40\n",
            "30/30 [==============================] - 0s 9ms/step - loss: 0.2554 - accuracy: 0.9119 - val_loss: 0.3133 - val_accuracy: 0.8765\n",
            "Epoch 17/40\n",
            "30/30 [==============================] - 0s 9ms/step - loss: 0.2410 - accuracy: 0.9173 - val_loss: 0.3065 - val_accuracy: 0.8789\n",
            "Epoch 18/40\n",
            "30/30 [==============================] - 0s 9ms/step - loss: 0.2278 - accuracy: 0.9227 - val_loss: 0.3006 - val_accuracy: 0.8798\n",
            "Epoch 19/40\n",
            "30/30 [==============================] - 0s 9ms/step - loss: 0.2158 - accuracy: 0.9265 - val_loss: 0.2962 - val_accuracy: 0.8822\n",
            "Epoch 20/40\n",
            "30/30 [==============================] - 0s 9ms/step - loss: 0.2046 - accuracy: 0.9314 - val_loss: 0.2932 - val_accuracy: 0.8814\n",
            "Epoch 21/40\n",
            "30/30 [==============================] - 0s 9ms/step - loss: 0.1942 - accuracy: 0.9354 - val_loss: 0.2903 - val_accuracy: 0.8830\n",
            "Epoch 22/40\n",
            "30/30 [==============================] - 0s 9ms/step - loss: 0.1848 - accuracy: 0.9395 - val_loss: 0.2886 - val_accuracy: 0.8837\n",
            "Epoch 23/40\n",
            "30/30 [==============================] - 0s 9ms/step - loss: 0.1761 - accuracy: 0.9441 - val_loss: 0.2865 - val_accuracy: 0.8841\n",
            "Epoch 24/40\n",
            "30/30 [==============================] - 0s 9ms/step - loss: 0.1676 - accuracy: 0.9475 - val_loss: 0.2872 - val_accuracy: 0.8830\n",
            "Epoch 25/40\n",
            "30/30 [==============================] - 0s 9ms/step - loss: 0.1601 - accuracy: 0.9499 - val_loss: 0.2860 - val_accuracy: 0.8859\n",
            "Epoch 26/40\n",
            "30/30 [==============================] - 0s 9ms/step - loss: 0.1521 - accuracy: 0.9535 - val_loss: 0.2866 - val_accuracy: 0.8851\n",
            "Epoch 27/40\n",
            "30/30 [==============================] - 0s 9ms/step - loss: 0.1448 - accuracy: 0.9571 - val_loss: 0.2870 - val_accuracy: 0.8856\n",
            "Epoch 28/40\n",
            "30/30 [==============================] - 0s 9ms/step - loss: 0.1381 - accuracy: 0.9599 - val_loss: 0.2880 - val_accuracy: 0.8853\n",
            "Epoch 29/40\n",
            "30/30 [==============================] - 0s 9ms/step - loss: 0.1321 - accuracy: 0.9623 - val_loss: 0.2920 - val_accuracy: 0.8849\n",
            "Epoch 30/40\n",
            "30/30 [==============================] - 0s 9ms/step - loss: 0.1258 - accuracy: 0.9645 - val_loss: 0.2917 - val_accuracy: 0.8850\n",
            "Epoch 31/40\n",
            "30/30 [==============================] - 0s 9ms/step - loss: 0.1205 - accuracy: 0.9659 - val_loss: 0.2946 - val_accuracy: 0.8842\n",
            "Epoch 32/40\n",
            "30/30 [==============================] - 0s 9ms/step - loss: 0.1154 - accuracy: 0.9680 - val_loss: 0.2956 - val_accuracy: 0.8845\n",
            "Epoch 33/40\n",
            "30/30 [==============================] - 0s 9ms/step - loss: 0.1097 - accuracy: 0.9707 - val_loss: 0.2991 - val_accuracy: 0.8824\n",
            "Epoch 34/40\n",
            "30/30 [==============================] - 0s 9ms/step - loss: 0.1055 - accuracy: 0.9715 - val_loss: 0.3016 - val_accuracy: 0.8828\n",
            "Epoch 35/40\n",
            "30/30 [==============================] - 0s 9ms/step - loss: 0.1002 - accuracy: 0.9742 - val_loss: 0.3056 - val_accuracy: 0.8819\n",
            "Epoch 36/40\n",
            "30/30 [==============================] - 0s 9ms/step - loss: 0.0960 - accuracy: 0.9770 - val_loss: 0.3082 - val_accuracy: 0.8811\n",
            "Epoch 37/40\n",
            "30/30 [==============================] - 0s 9ms/step - loss: 0.0917 - accuracy: 0.9781 - val_loss: 0.3115 - val_accuracy: 0.8816\n",
            "Epoch 38/40\n",
            "30/30 [==============================] - 0s 9ms/step - loss: 0.0872 - accuracy: 0.9794 - val_loss: 0.3158 - val_accuracy: 0.8810\n",
            "Epoch 39/40\n",
            "30/30 [==============================] - 0s 9ms/step - loss: 0.0834 - accuracy: 0.9815 - val_loss: 0.3204 - val_accuracy: 0.8792\n",
            "Epoch 40/40\n",
            "30/30 [==============================] - 0s 9ms/step - loss: 0.0802 - accuracy: 0.9819 - val_loss: 0.3230 - val_accuracy: 0.8804\n"
          ]
        }
      ]
    },
    {
      "cell_type": "code",
      "execution_count": null,
      "metadata": {
        "id": "I4zIPJDcTPq3",
        "colab": {
          "base_uri": "https://localhost:8080/"
        },
        "outputId": "a2ba7405-f2d4-4bd7-ef8a-77571fb5034f"
      },
      "outputs": [
        {
          "output_type": "stream",
          "name": "stdout",
          "text": [
            "782/782 [==============================] - 2s 3ms/step - loss: 0.3445 - accuracy: 0.8701\n"
          ]
        }
      ],
      "source": [
        "results = model2.evaluate(X_test_enc, y_test)"
      ]
    },
    {
      "cell_type": "code",
      "execution_count": null,
      "metadata": {
        "id": "waS96edDTRyL",
        "colab": {
          "base_uri": "https://localhost:8080/"
        },
        "outputId": "15f4fe70-7b8a-41b3-f943-763a6f44d4bd"
      },
      "outputs": [
        {
          "output_type": "stream",
          "name": "stdout",
          "text": [
            "[0.34454700350761414, 0.8700799942016602]\n"
          ]
        }
      ],
      "source": [
        "print (results)"
      ]
    },
    {
      "cell_type": "markdown",
      "metadata": {
        "id": "7FBpTc_rXGvQ"
      },
      "source": [
        "The accuracy of model2 is 87%. Using Embedding layer instead of one-hot layer improved the performance."
      ]
    },
    {
      "cell_type": "code",
      "source": [
        "plot_history(history.history, path=\"standard.png\")\n",
        "plt.show()"
      ],
      "metadata": {
        "colab": {
          "base_uri": "https://localhost:8080/",
          "height": 385
        },
        "id": "K_rus8zDTQpy",
        "outputId": "451a19b1-86df-49c8-935a-ac1f21553e33"
      },
      "execution_count": null,
      "outputs": [
        {
          "output_type": "display_data",
          "data": {
            "text/plain": [
              "<Figure size 720x360 with 2 Axes>"
            ],
            "image/png": "[encoded data removed]"
          },
          "metadata": {
            "needs_background": "light"
          }
        }
      ]
    },
    {
      "cell_type": "markdown",
      "metadata": {
        "id": "--020hfG6rN2"
      },
      "source": [
        "# Model 3: Using pre-trained word embeddings"
      ]
    },
    {
      "cell_type": "markdown",
      "metadata": {
        "id": "7GdY2-64YG1B"
      },
      "source": [
        "### Preparing pre-trained word embeddings (GLOVE)"
      ]
    },
    {
      "cell_type": "markdown",
      "metadata": {
        "id": "J4gBeOyi4gkM"
      },
      "source": [
        "The Embedding layer can be used to load a pre-trained word embedding model. We are going to use GloVe embeddings, which you can read about it here (https://nlp.stanford.edu/projects/glove/). GloVe stands for \"Global Vectors for Word Representation\". It's a somewhat popular embedding technique based on factorizing a matrix of word co-occurence statistics. You can download GloVe and we can seed the Keras Embedding layer with weights from the pre-trained embedding for the words in your dataset.\n",
        "First, we need to read GloVe and map words to GloVe:\n"
      ]
    },
    {
      "cell_type": "code",
      "execution_count": null,
      "metadata": {
        "id": "f_PypdqG9Iis"
      },
      "outputs": [],
      "source": [
        "def readGloveFile(gloveFile):\n",
        "    with open(gloveFile, 'r') as f:\n",
        "        wordToGlove = {}  \n",
        "        wordToIndex = {}  \n",
        "        indexToWord = {}  \n",
        "\n",
        "        for line in f:\n",
        "            record = line.strip().split()\n",
        "            token = record[0] \n",
        "            wordToGlove[token] = np.array(record[1:], dtype=np.float64) \n",
        "            \n",
        "        tokens = sorted(wordToGlove.keys())\n",
        "        for idx, tok in enumerate(tokens):\n",
        "            kerasIdx = idx + 1  \n",
        "            wordToIndex[tok] = kerasIdx \n",
        "            indexToWord[kerasIdx] = tok \n",
        "\n",
        "    return wordToIndex, indexToWord, wordToGlove"
      ]
    },
    {
      "cell_type": "markdown",
      "metadata": {
        "id": "ZcIZ3dq59bCh"
      },
      "source": [
        "Now, we create our pre-trained Embedding layer:"
      ]
    },
    {
      "cell_type": "code",
      "execution_count": null,
      "metadata": {
        "id": "gembn7VM3ex8"
      },
      "outputs": [],
      "source": [
        "from keras.initializers import Constant\n",
        "\n",
        "def createPretrainedEmbeddingLayer(wordToGlove, wordToIndex, isTrainable):\n",
        "    vocabLen = len(wordToIndex) + 1  \n",
        "    embDim = next(iter(wordToGlove.values())).shape[0]  \n",
        "   \n",
        "    embeddingMatrix = np.zeros((vocabLen, embDim))  \n",
        "    for word, index in wordToIndex.items():\n",
        "        embeddingMatrix[index, :] = wordToGlove[word] \n",
        "\n",
        "    embeddingLayer = Embedding(vocabLen, embDim, embeddings_initializer=Constant(embeddingMatrix), trainable=isTrainable, name='GloVe_Embeddings')\n",
        "    return embeddingLayer"
      ]
    },
    {
      "cell_type": "code",
      "execution_count": null,
      "metadata": {
        "colab": {
          "base_uri": "https://localhost:8080/"
        },
        "id": "8OC1wuctdFvA",
        "outputId": "37df7ae2-46eb-4b4b-8b73-fae9d34d0271"
      },
      "outputs": [
        {
          "output_type": "stream",
          "name": "stdout",
          "text": [
            "--2022-03-14 12:01:57--  http://nlp.stanford.edu/data/glove.6B.zip\n",
            "Resolving nlp.stanford.edu (nlp.stanford.edu)... 171.64.67.140\n",
            "Connecting to nlp.stanford.edu (nlp.stanford.edu)|171.64.67.140|:80... connected.\n",
            "HTTP request sent, awaiting response... 302 Found\n",
            "Location: https://nlp.stanford.edu/data/glove.6B.zip [following]\n",
            "--2022-03-14 12:01:57--  https://nlp.stanford.edu/data/glove.6B.zip\n",
            "Connecting to nlp.stanford.edu (nlp.stanford.edu)|171.64.67.140|:443... connected.\n",
            "HTTP request sent, awaiting response... 301 Moved Permanently\n",
            "Location: http://downloads.cs.stanford.edu/nlp/data/glove.6B.zip [following]\n",
            "--2022-03-14 12:01:57--  http://downloads.cs.stanford.edu/nlp/data/glove.6B.zip\n",
            "Resolving downloads.cs.stanford.edu (downloads.cs.stanford.edu)... 171.64.64.22\n",
            "Connecting to downloads.cs.stanford.edu (downloads.cs.stanford.edu)|171.64.64.22|:80... connected.\n",
            "HTTP request sent, awaiting response... 200 OK\n",
            "Length: 862182613 (822M) [application/zip]\n",
            "Saving to: ‘glove.6B.zip’\n",
            "\n",
            "glove.6B.zip        100%[===================>] 822.24M  5.09MB/s    in 2m 40s  \n",
            "\n",
            "2022-03-14 12:04:38 (5.12 MB/s) - ‘glove.6B.zip’ saved [862182613/862182613]\n",
            "\n",
            "Archive:  /content/glove.6B.zip\n",
            "  inflating: glove.6B.50d.txt        \n",
            "  inflating: glove.6B.100d.txt       \n",
            "  inflating: glove.6B.200d.txt       \n",
            "  inflating: glove.6B.300d.txt       \n"
          ]
        }
      ],
      "source": [
        "!wget http://nlp.stanford.edu/data/glove.6B.zip\n",
        "!unzip '/content/glove.6B.zip'"
      ]
    },
    {
      "cell_type": "markdown",
      "metadata": {
        "id": "HGxciLK4-xOr"
      },
      "source": [
        "We freeze the weights. To create the model: "
      ]
    },
    {
      "cell_type": "code",
      "execution_count": null,
      "metadata": {
        "colab": {
          "base_uri": "https://localhost:8080/"
        },
        "id": "PZCPUM0W_Drc",
        "outputId": "c7bd98ef-32c4-400f-e219-5aba790dca4d"
      },
      "outputs": [
        {
          "output_type": "stream",
          "name": "stdout",
          "text": [
            "Size of Embedding:  300\n"
          ]
        }
      ],
      "source": [
        "# wordToIndex,indexToWord,wordToGlove=readGloveFile('/content/glove.6B.50d.txt')\n",
        "# wordToIndex,indexToWord,wordToGlove=readGloveFile('/content/glove.6B.100d.txt')\n",
        "wordToIndex,indexToWord,wordToGlove=readGloveFile('/content/glove.6B.300d.txt')\n",
        "\n",
        "# vocabLen = len(wordToIndex) + 1 \n",
        "\n",
        "EMBED_SIZE = next(iter(wordToGlove.values())).shape[0]\n",
        "print('Size of Embedding: ',EMBED_SIZE)\n",
        "\n",
        "embeddingLayer=createPretrainedEmbeddingLayer(wordToGlove,wordToIndex,isTrainable=False)"
      ]
    },
    {
      "cell_type": "markdown",
      "metadata": {
        "id": "vdZ4nl08vp9A"
      },
      "source": [
        "## Model 3-1: Neural bag of words using pre-trained word embeddings"
      ]
    },
    {
      "cell_type": "markdown",
      "metadata": {
        "id": "2gyCwXFj_R5w"
      },
      "source": [
        "Now we change our model to use GloVe:"
      ]
    },
    {
      "cell_type": "code",
      "source": [
        "# your code goes here\n",
        "import tensorflow as tf\n",
        "from keras.models import Model\n",
        "#model_one_hot=OneHot(VOCAB_SIZE,MAX_SEQUENCE_LENGTH)(target_word)\n",
        "embeddingLayer=createPretrainedEmbeddingLayer(wordToGlove,wordToIndex,isTrainable=False)(target_word)\n",
        "model_second=GlobalAveragePooling1DMasked()(embeddingLayer)\n",
        "output_layer = Dense(16,activation = 'sigmoid')(model_second)\n",
        "output_layer_1 = Dense(1,activation = 'sigmoid')(output_layer)\n",
        "model3 = Model(inputs=[target_word], outputs=output_layer_1)\n",
        "model3.compile(loss='binary_crossentropy', optimizer = 'adam', metrics = ['accuracy'])\n",
        "model3.summary()"
      ],
      "metadata": {
        "colab": {
          "base_uri": "https://localhost:8080/"
        },
        "id": "vdRSEblCPPjM",
        "outputId": "82320c5f-06fe-4305-d7e4-bdb1b455c1b2"
      },
      "execution_count": null,
      "outputs": [
        {
          "output_type": "stream",
          "name": "stdout",
          "text": [
            "Model: \"model_2\"\n",
            "_________________________________________________________________\n",
            " Layer (type)                Output Shape              Param #   \n",
            "=================================================================\n",
            " input_2 (InputLayer)        [(None, 256)]             0         \n",
            "                                                                 \n",
            " GloVe_Embeddings (Embedding  (None, 256, 300)         120000300 \n",
            " )                                                               \n",
            "                                                                 \n",
            " global_average_pooling1d_ma  (None, 300)              0         \n",
            " sked_2 (GlobalAveragePoolin                                     \n",
            " g1DMasked)                                                      \n",
            "                                                                 \n",
            " dense_4 (Dense)             (None, 16)                4816      \n",
            "                                                                 \n",
            " dense_5 (Dense)             (None, 1)                 17        \n",
            "                                                                 \n",
            "=================================================================\n",
            "Total params: 120,005,133\n",
            "Trainable params: 4,833\n",
            "Non-trainable params: 120,000,300\n",
            "_________________________________________________________________\n"
          ]
        }
      ]
    },
    {
      "cell_type": "code",
      "execution_count": null,
      "metadata": {
        "id": "r6sj_FnOD9Sb",
        "colab": {
          "base_uri": "https://localhost:8080/"
        },
        "outputId": "7dad90e5-d58e-4913-d1c3-e26ae2b7c3f5"
      },
      "outputs": [
        {
          "output_type": "stream",
          "name": "stdout",
          "text": [
            "Epoch 1/40\n",
            "30/30 [==============================] - 1s 12ms/step - loss: 0.6911 - accuracy: 0.5261 - val_loss: 0.6906 - val_accuracy: 0.5060\n",
            "Epoch 2/40\n",
            "30/30 [==============================] - 0s 6ms/step - loss: 0.6878 - accuracy: 0.5749 - val_loss: 0.6865 - val_accuracy: 0.5839\n",
            "Epoch 3/40\n",
            "30/30 [==============================] - 0s 6ms/step - loss: 0.6846 - accuracy: 0.5883 - val_loss: 0.6837 - val_accuracy: 0.5861\n",
            "Epoch 4/40\n",
            "30/30 [==============================] - 0s 6ms/step - loss: 0.6817 - accuracy: 0.5892 - val_loss: 0.6814 - val_accuracy: 0.5883\n",
            "Epoch 5/40\n",
            "30/30 [==============================] - 0s 7ms/step - loss: 0.6792 - accuracy: 0.5963 - val_loss: 0.6787 - val_accuracy: 0.5930\n",
            "Epoch 6/40\n",
            "30/30 [==============================] - 0s 6ms/step - loss: 0.6770 - accuracy: 0.5927 - val_loss: 0.6764 - val_accuracy: 0.5954\n",
            "Epoch 7/40\n",
            "30/30 [==============================] - 0s 6ms/step - loss: 0.6746 - accuracy: 0.6009 - val_loss: 0.6743 - val_accuracy: 0.5966\n",
            "Epoch 8/40\n",
            "30/30 [==============================] - 0s 6ms/step - loss: 0.6723 - accuracy: 0.6063 - val_loss: 0.6723 - val_accuracy: 0.5998\n",
            "Epoch 9/40\n",
            "30/30 [==============================] - 0s 6ms/step - loss: 0.6700 - accuracy: 0.6091 - val_loss: 0.6704 - val_accuracy: 0.6020\n",
            "Epoch 10/40\n",
            "30/30 [==============================] - 0s 6ms/step - loss: 0.6678 - accuracy: 0.6119 - val_loss: 0.6682 - val_accuracy: 0.6046\n",
            "Epoch 11/40\n",
            "30/30 [==============================] - 0s 6ms/step - loss: 0.6657 - accuracy: 0.6165 - val_loss: 0.6661 - val_accuracy: 0.6084\n",
            "Epoch 12/40\n",
            "30/30 [==============================] - 0s 6ms/step - loss: 0.6635 - accuracy: 0.6169 - val_loss: 0.6643 - val_accuracy: 0.6122\n",
            "Epoch 13/40\n",
            "30/30 [==============================] - 0s 6ms/step - loss: 0.6613 - accuracy: 0.6209 - val_loss: 0.6626 - val_accuracy: 0.6165\n",
            "Epoch 14/40\n",
            "30/30 [==============================] - 0s 7ms/step - loss: 0.6590 - accuracy: 0.6273 - val_loss: 0.6599 - val_accuracy: 0.6194\n",
            "Epoch 15/40\n",
            "30/30 [==============================] - 0s 6ms/step - loss: 0.6570 - accuracy: 0.6284 - val_loss: 0.6576 - val_accuracy: 0.6229\n",
            "Epoch 16/40\n",
            "30/30 [==============================] - 0s 7ms/step - loss: 0.6543 - accuracy: 0.6327 - val_loss: 0.6569 - val_accuracy: 0.6260\n",
            "Epoch 17/40\n",
            "30/30 [==============================] - 0s 6ms/step - loss: 0.6521 - accuracy: 0.6361 - val_loss: 0.6531 - val_accuracy: 0.6297\n",
            "Epoch 18/40\n",
            "30/30 [==============================] - 0s 6ms/step - loss: 0.6495 - accuracy: 0.6407 - val_loss: 0.6520 - val_accuracy: 0.6329\n",
            "Epoch 19/40\n",
            "30/30 [==============================] - 0s 6ms/step - loss: 0.6475 - accuracy: 0.6444 - val_loss: 0.6490 - val_accuracy: 0.6396\n",
            "Epoch 20/40\n",
            "30/30 [==============================] - 0s 6ms/step - loss: 0.6450 - accuracy: 0.6469 - val_loss: 0.6465 - val_accuracy: 0.6420\n",
            "Epoch 21/40\n",
            "30/30 [==============================] - 0s 6ms/step - loss: 0.6424 - accuracy: 0.6525 - val_loss: 0.6438 - val_accuracy: 0.6446\n",
            "Epoch 22/40\n",
            "30/30 [==============================] - 0s 7ms/step - loss: 0.6399 - accuracy: 0.6556 - val_loss: 0.6415 - val_accuracy: 0.6485\n",
            "Epoch 23/40\n",
            "30/30 [==============================] - 0s 6ms/step - loss: 0.6375 - accuracy: 0.6586 - val_loss: 0.6392 - val_accuracy: 0.6491\n",
            "Epoch 24/40\n",
            "30/30 [==============================] - 0s 6ms/step - loss: 0.6348 - accuracy: 0.6604 - val_loss: 0.6375 - val_accuracy: 0.6530\n",
            "Epoch 25/40\n",
            "30/30 [==============================] - 0s 6ms/step - loss: 0.6323 - accuracy: 0.6645 - val_loss: 0.6348 - val_accuracy: 0.6558\n",
            "Epoch 26/40\n",
            "30/30 [==============================] - 0s 6ms/step - loss: 0.6300 - accuracy: 0.6650 - val_loss: 0.6324 - val_accuracy: 0.6598\n",
            "Epoch 27/40\n",
            "30/30 [==============================] - 0s 6ms/step - loss: 0.6275 - accuracy: 0.6713 - val_loss: 0.6304 - val_accuracy: 0.6622\n",
            "Epoch 28/40\n",
            "30/30 [==============================] - 0s 6ms/step - loss: 0.6252 - accuracy: 0.6701 - val_loss: 0.6282 - val_accuracy: 0.6650\n",
            "Epoch 29/40\n",
            "30/30 [==============================] - 0s 6ms/step - loss: 0.6227 - accuracy: 0.6725 - val_loss: 0.6264 - val_accuracy: 0.6638\n",
            "Epoch 30/40\n",
            "30/30 [==============================] - 0s 6ms/step - loss: 0.6208 - accuracy: 0.6751 - val_loss: 0.6240 - val_accuracy: 0.6683\n",
            "Epoch 31/40\n",
            "30/30 [==============================] - 0s 7ms/step - loss: 0.6180 - accuracy: 0.6775 - val_loss: 0.6221 - val_accuracy: 0.6695\n",
            "Epoch 32/40\n",
            "30/30 [==============================] - 0s 6ms/step - loss: 0.6164 - accuracy: 0.6801 - val_loss: 0.6201 - val_accuracy: 0.6711\n",
            "Epoch 33/40\n",
            "30/30 [==============================] - 0s 6ms/step - loss: 0.6138 - accuracy: 0.6816 - val_loss: 0.6180 - val_accuracy: 0.6735\n",
            "Epoch 34/40\n",
            "30/30 [==============================] - 0s 6ms/step - loss: 0.6121 - accuracy: 0.6814 - val_loss: 0.6183 - val_accuracy: 0.6688\n",
            "Epoch 35/40\n",
            "30/30 [==============================] - 0s 6ms/step - loss: 0.6096 - accuracy: 0.6864 - val_loss: 0.6145 - val_accuracy: 0.6761\n",
            "Epoch 36/40\n",
            "30/30 [==============================] - 0s 7ms/step - loss: 0.6076 - accuracy: 0.6885 - val_loss: 0.6124 - val_accuracy: 0.6800\n",
            "Epoch 37/40\n",
            "30/30 [==============================] - 0s 6ms/step - loss: 0.6063 - accuracy: 0.6881 - val_loss: 0.6111 - val_accuracy: 0.6783\n",
            "Epoch 38/40\n",
            "30/30 [==============================] - 0s 6ms/step - loss: 0.6038 - accuracy: 0.6930 - val_loss: 0.6101 - val_accuracy: 0.6766\n",
            "Epoch 39/40\n",
            "30/30 [==============================] - 0s 6ms/step - loss: 0.6026 - accuracy: 0.6924 - val_loss: 0.6075 - val_accuracy: 0.6838\n",
            "Epoch 40/40\n",
            "30/30 [==============================] - 0s 6ms/step - loss: 0.6009 - accuracy: 0.6927 - val_loss: 0.6065 - val_accuracy: 0.6841\n"
          ]
        }
      ],
      "source": [
        "# Train and test the model\n",
        "history = model3.fit(partial_X_train,\n",
        "                    partial_y_train,\n",
        "                    epochs=40,\n",
        "                    batch_size=512,\n",
        "                    validation_data=(X_val, y_val),\n",
        "                    verbose=1)\n"
      ]
    },
    {
      "cell_type": "markdown",
      "source": [
        ""
      ],
      "metadata": {
        "id": "2513RqqVQecf"
      }
    },
    {
      "cell_type": "code",
      "source": [
        "results = model3.evaluate(X_test_enc, y_test)"
      ],
      "metadata": {
        "colab": {
          "base_uri": "https://localhost:8080/"
        },
        "id": "4no0g4-lP6Cb",
        "outputId": "5248c246-91ec-4738-a52e-834475d047fc"
      },
      "execution_count": null,
      "outputs": [
        {
          "output_type": "stream",
          "name": "stdout",
          "text": [
            "782/782 [==============================] - 2s 3ms/step - loss: 0.6073 - accuracy: 0.6798\n"
          ]
        }
      ]
    },
    {
      "cell_type": "code",
      "source": [
        "plot_history(history.history, path=\"standard.png\")\n",
        "plt.show()"
      ],
      "metadata": {
        "colab": {
          "base_uri": "https://localhost:8080/",
          "height": 385
        },
        "id": "uHMkOrfLUj5-",
        "outputId": "ea611303-035a-4fef-be66-babf5c3995dc"
      },
      "execution_count": null,
      "outputs": [
        {
          "output_type": "display_data",
          "data": {
            "text/plain": [
              "<Figure size 720x360 with 2 Axes>"
            ],
            "image/png": "[encoded data removed]"
          },
          "metadata": {
            "needs_background": "light"
          }
        }
      ]
    },
    {
      "cell_type": "markdown",
      "metadata": {
        "id": "wxJhlT3whoDE"
      },
      "source": [
        "To compare freezing and fine-tuning the pre-train embedding weights, we fine-tune the weights here:"
      ]
    },
    {
      "cell_type": "code",
      "source": [
        "# your code goes here\n",
        "import tensorflow as tf\n",
        "from keras.models import Model\n",
        "#model_one_hot=OneHot(VOCAB_SIZE,MAX_SEQUENCE_LENGTH)(target_word)\n",
        "embeddingLayer=createPretrainedEmbeddingLayer(wordToGlove,wordToIndex,isTrainable=True)(target_word)\n",
        "model_second=GlobalAveragePooling1DMasked()(embeddingLayer)\n",
        "output_layer = Dense(16,activation = 'sigmoid')(model_second)\n",
        "output_layer_1 = Dense(1,activation = 'sigmoid')(output_layer)\n",
        "model3 = Model(inputs=[target_word], outputs=output_layer_1)\n",
        "model3.compile(loss='binary_crossentropy', optimizer = 'adam', metrics = ['accuracy'])\n",
        "model3.summary()"
      ],
      "metadata": {
        "colab": {
          "base_uri": "https://localhost:8080/"
        },
        "id": "wAzDHaAoQz16",
        "outputId": "17335c63-d136-40ff-d973-c3aa7ba61eab"
      },
      "execution_count": null,
      "outputs": [
        {
          "output_type": "stream",
          "name": "stdout",
          "text": [
            "Model: \"model_3\"\n",
            "_________________________________________________________________\n",
            " Layer (type)                Output Shape              Param #   \n",
            "=================================================================\n",
            " input_2 (InputLayer)        [(None, 256)]             0         \n",
            "                                                                 \n",
            " GloVe_Embeddings (Embedding  (None, 256, 300)         120000300 \n",
            " )                                                               \n",
            "                                                                 \n",
            " global_average_pooling1d_ma  (None, 300)              0         \n",
            " sked_3 (GlobalAveragePoolin                                     \n",
            " g1DMasked)                                                      \n",
            "                                                                 \n",
            " dense_6 (Dense)             (None, 16)                4816      \n",
            "                                                                 \n",
            " dense_7 (Dense)             (None, 1)                 17        \n",
            "                                                                 \n",
            "=================================================================\n",
            "Total params: 120,005,133\n",
            "Trainable params: 120,005,133\n",
            "Non-trainable params: 0\n",
            "_________________________________________________________________\n"
          ]
        }
      ]
    },
    {
      "cell_type": "code",
      "source": [
        "# Train and test the model\n",
        "history = model3.fit(partial_X_train,\n",
        "                    partial_y_train,\n",
        "                    epochs=40,\n",
        "                    batch_size=512,\n",
        "                    validation_data=(X_val, y_val),\n",
        "                    verbose=1)"
      ],
      "metadata": {
        "colab": {
          "base_uri": "https://localhost:8080/"
        },
        "id": "G_n-IIGvQ98O",
        "outputId": "33250421-6393-41c8-cacd-365b1303b3e3"
      },
      "execution_count": null,
      "outputs": [
        {
          "output_type": "stream",
          "name": "stdout",
          "text": [
            "Epoch 1/40\n",
            "30/30 [==============================] - 2s 46ms/step - loss: 0.6907 - accuracy: 0.5244 - val_loss: 0.6863 - val_accuracy: 0.6120\n",
            "Epoch 2/40\n",
            "30/30 [==============================] - 1s 40ms/step - loss: 0.6807 - accuracy: 0.6246 - val_loss: 0.6755 - val_accuracy: 0.6319\n",
            "Epoch 3/40\n",
            "30/30 [==============================] - 1s 41ms/step - loss: 0.6648 - accuracy: 0.6572 - val_loss: 0.6550 - val_accuracy: 0.6652\n",
            "Epoch 4/40\n",
            "30/30 [==============================] - 1s 40ms/step - loss: 0.6376 - accuracy: 0.6934 - val_loss: 0.6238 - val_accuracy: 0.7020\n",
            "Epoch 5/40\n",
            "30/30 [==============================] - 1s 40ms/step - loss: 0.5977 - accuracy: 0.7327 - val_loss: 0.5814 - val_accuracy: 0.7448\n",
            "Epoch 6/40\n",
            "30/30 [==============================] - 1s 40ms/step - loss: 0.5469 - accuracy: 0.7723 - val_loss: 0.5305 - val_accuracy: 0.7801\n",
            "Epoch 7/40\n",
            "30/30 [==============================] - 1s 44ms/step - loss: 0.4908 - accuracy: 0.8114 - val_loss: 0.4789 - val_accuracy: 0.8133\n",
            "Epoch 8/40\n",
            "30/30 [==============================] - 1s 42ms/step - loss: 0.4368 - accuracy: 0.8395 - val_loss: 0.4331 - val_accuracy: 0.8340\n",
            "Epoch 9/40\n",
            "30/30 [==============================] - 1s 40ms/step - loss: 0.3906 - accuracy: 0.8611 - val_loss: 0.3973 - val_accuracy: 0.8469\n",
            "Epoch 10/40\n",
            "30/30 [==============================] - 1s 40ms/step - loss: 0.3528 - accuracy: 0.8749 - val_loss: 0.3705 - val_accuracy: 0.8573\n",
            "Epoch 11/40\n",
            "30/30 [==============================] - 1s 44ms/step - loss: 0.3231 - accuracy: 0.8856 - val_loss: 0.3503 - val_accuracy: 0.8643\n",
            "Epoch 12/40\n",
            "30/30 [==============================] - 1s 41ms/step - loss: 0.2967 - accuracy: 0.8935 - val_loss: 0.3354 - val_accuracy: 0.8664\n",
            "Epoch 13/40\n",
            "30/30 [==============================] - 1s 41ms/step - loss: 0.2756 - accuracy: 0.9011 - val_loss: 0.3231 - val_accuracy: 0.8726\n",
            "Epoch 14/40\n",
            "30/30 [==============================] - 1s 40ms/step - loss: 0.2568 - accuracy: 0.9095 - val_loss: 0.3122 - val_accuracy: 0.8749\n",
            "Epoch 15/40\n",
            "30/30 [==============================] - 1s 40ms/step - loss: 0.2392 - accuracy: 0.9175 - val_loss: 0.3046 - val_accuracy: 0.8782\n",
            "Epoch 16/40\n",
            "30/30 [==============================] - 1s 40ms/step - loss: 0.2236 - accuracy: 0.9227 - val_loss: 0.2981 - val_accuracy: 0.8813\n",
            "Epoch 17/40\n",
            "30/30 [==============================] - 1s 40ms/step - loss: 0.2097 - accuracy: 0.9294 - val_loss: 0.2940 - val_accuracy: 0.8818\n",
            "Epoch 18/40\n",
            "30/30 [==============================] - 1s 41ms/step - loss: 0.1968 - accuracy: 0.9337 - val_loss: 0.2907 - val_accuracy: 0.8838\n",
            "Epoch 19/40\n",
            "30/30 [==============================] - 1s 42ms/step - loss: 0.1852 - accuracy: 0.9393 - val_loss: 0.2896 - val_accuracy: 0.8838\n",
            "Epoch 20/40\n",
            "30/30 [==============================] - 1s 41ms/step - loss: 0.1748 - accuracy: 0.9435 - val_loss: 0.2867 - val_accuracy: 0.8837\n",
            "Epoch 21/40\n",
            "30/30 [==============================] - 1s 40ms/step - loss: 0.1641 - accuracy: 0.9491 - val_loss: 0.2872 - val_accuracy: 0.8849\n",
            "Epoch 22/40\n",
            "30/30 [==============================] - 1s 40ms/step - loss: 0.1553 - accuracy: 0.9523 - val_loss: 0.2867 - val_accuracy: 0.8845\n",
            "Epoch 23/40\n",
            "30/30 [==============================] - 1s 41ms/step - loss: 0.1464 - accuracy: 0.9563 - val_loss: 0.2875 - val_accuracy: 0.8843\n",
            "Epoch 24/40\n",
            "30/30 [==============================] - 1s 41ms/step - loss: 0.1382 - accuracy: 0.9601 - val_loss: 0.2911 - val_accuracy: 0.8834\n",
            "Epoch 25/40\n",
            "30/30 [==============================] - 1s 40ms/step - loss: 0.1318 - accuracy: 0.9617 - val_loss: 0.2942 - val_accuracy: 0.8831\n",
            "Epoch 26/40\n",
            "30/30 [==============================] - 1s 40ms/step - loss: 0.1245 - accuracy: 0.9641 - val_loss: 0.2934 - val_accuracy: 0.8832\n",
            "Epoch 27/40\n",
            "30/30 [==============================] - 1s 40ms/step - loss: 0.1168 - accuracy: 0.9679 - val_loss: 0.2972 - val_accuracy: 0.8832\n",
            "Epoch 28/40\n",
            "30/30 [==============================] - 1s 41ms/step - loss: 0.1107 - accuracy: 0.9698 - val_loss: 0.2991 - val_accuracy: 0.8822\n",
            "Epoch 29/40\n",
            "30/30 [==============================] - 1s 40ms/step - loss: 0.1053 - accuracy: 0.9730 - val_loss: 0.3026 - val_accuracy: 0.8806\n",
            "Epoch 30/40\n",
            "30/30 [==============================] - 1s 40ms/step - loss: 0.1002 - accuracy: 0.9739 - val_loss: 0.3065 - val_accuracy: 0.8811\n",
            "Epoch 31/40\n",
            "30/30 [==============================] - 1s 40ms/step - loss: 0.0939 - accuracy: 0.9776 - val_loss: 0.3110 - val_accuracy: 0.8793\n",
            "Epoch 32/40\n",
            "30/30 [==============================] - 1s 40ms/step - loss: 0.0897 - accuracy: 0.9787 - val_loss: 0.3157 - val_accuracy: 0.8784\n",
            "Epoch 33/40\n",
            "30/30 [==============================] - 1s 41ms/step - loss: 0.0846 - accuracy: 0.9807 - val_loss: 0.3192 - val_accuracy: 0.8791\n",
            "Epoch 34/40\n",
            "30/30 [==============================] - 1s 41ms/step - loss: 0.0802 - accuracy: 0.9819 - val_loss: 0.3242 - val_accuracy: 0.8791\n",
            "Epoch 35/40\n",
            "30/30 [==============================] - 1s 40ms/step - loss: 0.0759 - accuracy: 0.9844 - val_loss: 0.3296 - val_accuracy: 0.8771\n",
            "Epoch 36/40\n",
            "30/30 [==============================] - 1s 40ms/step - loss: 0.0721 - accuracy: 0.9855 - val_loss: 0.3344 - val_accuracy: 0.8774\n",
            "Epoch 37/40\n",
            "30/30 [==============================] - 1s 40ms/step - loss: 0.0684 - accuracy: 0.9862 - val_loss: 0.3397 - val_accuracy: 0.8764\n",
            "Epoch 38/40\n",
            "30/30 [==============================] - 1s 40ms/step - loss: 0.0647 - accuracy: 0.9877 - val_loss: 0.3454 - val_accuracy: 0.8760\n",
            "Epoch 39/40\n",
            "30/30 [==============================] - 1s 40ms/step - loss: 0.0613 - accuracy: 0.9889 - val_loss: 0.3514 - val_accuracy: 0.8765\n",
            "Epoch 40/40\n",
            "30/30 [==============================] - 1s 40ms/step - loss: 0.0582 - accuracy: 0.9895 - val_loss: 0.3568 - val_accuracy: 0.8755\n"
          ]
        }
      ]
    },
    {
      "cell_type": "code",
      "execution_count": null,
      "metadata": {
        "id": "3rz8MEm6iHj6",
        "colab": {
          "base_uri": "https://localhost:8080/"
        },
        "outputId": "8d51fbf2-d5e9-49c1-8b5c-828f25812fc0"
      },
      "outputs": [
        {
          "output_type": "stream",
          "name": "stdout",
          "text": [
            "782/782 [==============================] - 2s 3ms/step - loss: 0.3830 - accuracy: 0.8650\n"
          ]
        }
      ],
      "source": [
        "# Train and test the model\n",
        "results = model3.evaluate(X_test_enc, y_test)"
      ]
    },
    {
      "cell_type": "code",
      "source": [
        "plot_history(history.history, path=\"standard.png\")\n",
        "plt.show()"
      ],
      "metadata": {
        "colab": {
          "base_uri": "https://localhost:8080/",
          "height": 385
        },
        "id": "xwyeZw2TVDn4",
        "outputId": "8d1edf1b-58f7-460d-c518-b85b41efea0e"
      },
      "execution_count": null,
      "outputs": [
        {
          "output_type": "display_data",
          "data": {
            "text/plain": [
              "<Figure size 720x360 with 2 Axes>"
            ],
            "image/png": "[encoded data removed]"
          },
          "metadata": {
            "needs_background": "light"
          }
        }
      ]
    },
    {
      "cell_type": "markdown",
      "metadata": {
        "id": "cAdOh2IHnKuT"
      },
      "source": [
        "Experiments here show that fine-tuning the pre-trained embeddings would obtain better accuracy.\n",
        "\n",
        "Note that although fine-tuning the pre-trained embeddings is better here, we do not fine-tune it in other models. You could conduct extra experiments to compare the results."
      ]
    },
    {
      "cell_type": "markdown",
      "metadata": {
        "id": "xZ1KWFKvcagS"
      },
      "source": [
        "##  Model 3-2: LSTM with pre-trained word embeddings"
      ]
    },
    {
      "cell_type": "markdown",
      "metadata": {
        "id": "S1lKisy3kb60"
      },
      "source": [
        "In previous labs, we have conducted an experiment based on LSTM. Now, we replace its embeddings with the GloVe pre-trained embeddings."
      ]
    },
    {
      "cell_type": "code",
      "source": [
        "LSTM_layer=LSTM(units=100,activation='tanh',return_sequences=False)(embeddingLayer)\n",
        "output_layer = Dense(1,activation = 'relu')(LSTM_layer)\n",
        "model7 = Model(inputs=[target_word], outputs=output_layer)\n",
        "model7.compile(loss='binary_crossentropy', optimizer = 'adam', metrics = ['accuracy'])"
      ],
      "metadata": {
        "id": "la3PI9fpR4PT"
      },
      "execution_count": null,
      "outputs": []
    },
    {
      "cell_type": "code",
      "source": [
        "model7.summary()"
      ],
      "metadata": {
        "colab": {
          "base_uri": "https://localhost:8080/"
        },
        "id": "O9oerm-rSMw1",
        "outputId": "f2813c17-998f-4a91-8c5f-34a77d3567c1"
      },
      "execution_count": null,
      "outputs": [
        {
          "output_type": "stream",
          "name": "stdout",
          "text": [
            "Model: \"model_4\"\n",
            "_________________________________________________________________\n",
            " Layer (type)                Output Shape              Param #   \n",
            "=================================================================\n",
            " input_2 (InputLayer)        [(None, 256)]             0         \n",
            "                                                                 \n",
            " GloVe_Embeddings (Embedding  (None, 256, 300)         120000300 \n",
            " )                                                               \n",
            "                                                                 \n",
            " lstm (LSTM)                 (None, 100)               160400    \n",
            "                                                                 \n",
            " dense_8 (Dense)             (None, 1)                 101       \n",
            "                                                                 \n",
            "=================================================================\n",
            "Total params: 120,160,801\n",
            "Trainable params: 120,160,801\n",
            "Non-trainable params: 0\n",
            "_________________________________________________________________\n"
          ]
        }
      ]
    },
    {
      "cell_type": "code",
      "execution_count": null,
      "metadata": {
        "id": "EqyL_rhaUElx",
        "colab": {
          "base_uri": "https://localhost:8080/"
        },
        "outputId": "5c65a9cc-8104-4610-d333-8321d43e80c8"
      },
      "outputs": [
        {
          "output_type": "stream",
          "name": "stdout",
          "text": [
            "Epoch 1/40\n",
            "30/30 [==============================] - 8s 111ms/step - loss: 1.3544 - accuracy: 0.5547 - val_loss: 1.5730 - val_accuracy: 0.5325\n",
            "Epoch 2/40\n",
            "30/30 [==============================] - 3s 93ms/step - loss: 1.1972 - accuracy: 0.5582 - val_loss: 0.9356 - val_accuracy: 0.5610\n",
            "Epoch 3/40\n",
            "30/30 [==============================] - 3s 92ms/step - loss: 1.3333 - accuracy: 0.5489 - val_loss: 1.2767 - val_accuracy: 0.5565\n",
            "Epoch 4/40\n",
            "30/30 [==============================] - 3s 92ms/step - loss: 1.0146 - accuracy: 0.5693 - val_loss: 0.8938 - val_accuracy: 0.5720\n",
            "Epoch 5/40\n",
            "30/30 [==============================] - 3s 92ms/step - loss: 1.0635 - accuracy: 0.5543 - val_loss: 1.2036 - val_accuracy: 0.5163\n",
            "Epoch 6/40\n",
            "30/30 [==============================] - 3s 92ms/step - loss: 0.8113 - accuracy: 0.5442 - val_loss: 0.7040 - val_accuracy: 0.5282\n",
            "Epoch 7/40\n",
            "30/30 [==============================] - 3s 92ms/step - loss: 0.6725 - accuracy: 0.5671 - val_loss: 0.6811 - val_accuracy: 0.5552\n",
            "Epoch 8/40\n",
            "30/30 [==============================] - 3s 92ms/step - loss: 0.6511 - accuracy: 0.5951 - val_loss: 0.6817 - val_accuracy: 0.5680\n",
            "Epoch 9/40\n",
            "30/30 [==============================] - 3s 93ms/step - loss: 0.6383 - accuracy: 0.6036 - val_loss: 0.6808 - val_accuracy: 0.5658\n",
            "Epoch 10/40\n",
            "30/30 [==============================] - 3s 93ms/step - loss: 0.6280 - accuracy: 0.6049 - val_loss: 0.6816 - val_accuracy: 0.5703\n",
            "Epoch 11/40\n",
            "30/30 [==============================] - 3s 93ms/step - loss: 0.6173 - accuracy: 0.6167 - val_loss: 0.6833 - val_accuracy: 0.5843\n",
            "Epoch 12/40\n",
            "30/30 [==============================] - 3s 92ms/step - loss: 0.6039 - accuracy: 0.6491 - val_loss: 0.6818 - val_accuracy: 0.6171\n",
            "Epoch 13/40\n",
            "30/30 [==============================] - 3s 93ms/step - loss: 0.4973 - accuracy: 0.7795 - val_loss: 0.5120 - val_accuracy: 0.8172\n",
            "Epoch 14/40\n",
            "30/30 [==============================] - 3s 93ms/step - loss: 0.3373 - accuracy: 0.8959 - val_loss: 2.9265 - val_accuracy: 0.7397\n",
            "Epoch 15/40\n",
            "30/30 [==============================] - 3s 93ms/step - loss: 0.9114 - accuracy: 0.8442 - val_loss: 0.6102 - val_accuracy: 0.8100\n",
            "Epoch 16/40\n",
            "30/30 [==============================] - 3s 93ms/step - loss: 0.3129 - accuracy: 0.9031 - val_loss: 0.5693 - val_accuracy: 0.8208\n",
            "Epoch 17/40\n",
            "30/30 [==============================] - 3s 92ms/step - loss: 0.3256 - accuracy: 0.8905 - val_loss: 0.5854 - val_accuracy: 0.8246\n",
            "Epoch 18/40\n",
            "30/30 [==============================] - 3s 92ms/step - loss: 0.2743 - accuracy: 0.9157 - val_loss: 0.6370 - val_accuracy: 0.8259\n",
            "Epoch 19/40\n",
            "30/30 [==============================] - 3s 93ms/step - loss: 0.4441 - accuracy: 0.8125 - val_loss: 0.5921 - val_accuracy: 0.5792\n",
            "Epoch 20/40\n",
            "30/30 [==============================] - 3s 93ms/step - loss: 0.3271 - accuracy: 0.8759 - val_loss: 0.5224 - val_accuracy: 0.8277\n",
            "Epoch 21/40\n",
            "30/30 [==============================] - 3s 93ms/step - loss: 0.2656 - accuracy: 0.9255 - val_loss: 0.5408 - val_accuracy: 0.8292\n",
            "Epoch 22/40\n",
            "30/30 [==============================] - 3s 92ms/step - loss: 0.2751 - accuracy: 0.9161 - val_loss: 0.8579 - val_accuracy: 0.7437\n",
            "Epoch 23/40\n",
            "30/30 [==============================] - 3s 102ms/step - loss: 0.4409 - accuracy: 0.9199 - val_loss: 0.8217 - val_accuracy: 0.8368\n",
            "Epoch 24/40\n",
            "30/30 [==============================] - 3s 92ms/step - loss: 0.8473 - accuracy: 0.5814 - val_loss: 0.8113 - val_accuracy: 0.5157\n",
            "Epoch 25/40\n",
            "30/30 [==============================] - 3s 93ms/step - loss: 0.6390 - accuracy: 0.5883 - val_loss: 0.6988 - val_accuracy: 0.5432\n",
            "Epoch 26/40\n",
            "30/30 [==============================] - 3s 92ms/step - loss: 0.5978 - accuracy: 0.6143 - val_loss: 0.6991 - val_accuracy: 0.5605\n",
            "Epoch 27/40\n",
            "30/30 [==============================] - 3s 92ms/step - loss: 0.5694 - accuracy: 0.6225 - val_loss: 0.6949 - val_accuracy: 0.5770\n",
            "Epoch 28/40\n",
            "30/30 [==============================] - 3s 93ms/step - loss: 0.5342 - accuracy: 0.6443 - val_loss: 0.7076 - val_accuracy: 0.6221\n",
            "Epoch 29/40\n",
            "30/30 [==============================] - 3s 92ms/step - loss: 0.9071 - accuracy: 0.7628 - val_loss: 4.3515 - val_accuracy: 0.6044\n",
            "Epoch 30/40\n",
            "30/30 [==============================] - 3s 93ms/step - loss: 1.6932 - accuracy: 0.6071 - val_loss: 0.7021 - val_accuracy: 0.5583\n",
            "Epoch 31/40\n",
            "30/30 [==============================] - 3s 93ms/step - loss: 0.5725 - accuracy: 0.6754 - val_loss: 0.7385 - val_accuracy: 0.6363\n",
            "Epoch 32/40\n",
            "30/30 [==============================] - 3s 93ms/step - loss: 0.5761 - accuracy: 0.7178 - val_loss: 0.8773 - val_accuracy: 0.6869\n",
            "Epoch 33/40\n",
            "30/30 [==============================] - 3s 93ms/step - loss: 0.8132 - accuracy: 0.6840 - val_loss: 1.2384 - val_accuracy: 0.5159\n",
            "Epoch 34/40\n",
            "30/30 [==============================] - 3s 93ms/step - loss: 0.7717 - accuracy: 0.5576 - val_loss: 0.6948 - val_accuracy: 0.5418\n",
            "Epoch 35/40\n",
            "30/30 [==============================] - 3s 93ms/step - loss: 0.6184 - accuracy: 0.5984 - val_loss: 0.6811 - val_accuracy: 0.5609\n",
            "Epoch 36/40\n",
            "30/30 [==============================] - 3s 92ms/step - loss: 0.5958 - accuracy: 0.6135 - val_loss: 0.6840 - val_accuracy: 0.5708\n",
            "Epoch 37/40\n",
            "30/30 [==============================] - 3s 93ms/step - loss: 0.5768 - accuracy: 0.6224 - val_loss: 0.6952 - val_accuracy: 0.5813\n",
            "Epoch 38/40\n",
            "30/30 [==============================] - 3s 92ms/step - loss: 0.5491 - accuracy: 0.6404 - val_loss: 0.6825 - val_accuracy: 0.6134\n",
            "Epoch 39/40\n",
            "30/30 [==============================] - 3s 93ms/step - loss: 0.5062 - accuracy: 0.6907 - val_loss: 0.7143 - val_accuracy: 0.6401\n",
            "Epoch 40/40\n",
            "30/30 [==============================] - 3s 92ms/step - loss: 0.3459 - accuracy: 0.8847 - val_loss: 0.5597 - val_accuracy: 0.8184\n"
          ]
        }
      ],
      "source": [
        "# Train and test the model\n",
        "history = model7.fit(partial_X_train,\n",
        "                    partial_y_train,\n",
        "                    epochs=40,\n",
        "                    batch_size=512,\n",
        "                    validation_data=(X_val, y_val),\n",
        "                    verbose=1)\n"
      ]
    },
    {
      "cell_type": "code",
      "source": [
        "results = model7.evaluate(X_test_enc, y_test)"
      ],
      "metadata": {
        "colab": {
          "base_uri": "https://localhost:8080/"
        },
        "id": "fI6bvsTNSoDX",
        "outputId": "61137174-3dc3-4b3c-9e1d-f4b49ae226bb"
      },
      "execution_count": null,
      "outputs": [
        {
          "output_type": "stream",
          "name": "stdout",
          "text": [
            "782/782 [==============================] - 6s 8ms/step - loss: 0.6153 - accuracy: 0.7982\n"
          ]
        }
      ]
    },
    {
      "cell_type": "code",
      "source": [
        "plot_history(history.history, path=\"standard.png\")\n",
        "plt.show()"
      ],
      "metadata": {
        "colab": {
          "base_uri": "https://localhost:8080/",
          "height": 385
        },
        "id": "tmXdA7s7Vvpv",
        "outputId": "e087daa6-7deb-405b-dca2-86552c548103"
      },
      "execution_count": null,
      "outputs": [
        {
          "output_type": "display_data",
          "data": {
            "text/plain": [
              "<Figure size 720x360 with 2 Axes>"
            ],
            "image/png": "[encoded data removed]"
          },
          "metadata": {
            "needs_background": "light"
          }
        }
      ]
    },
    {
      "cell_type": "markdown",
      "metadata": {
        "id": "XOqePi5-I1Xq"
      },
      "source": [
        "Experiment show that simply replacing the lab 2 model embeddings with pre-trained word embeddings (GloVe) will cause performance to drop significantly. \n",
        "What can you do to improve the situation?"
      ]
    },
    {
      "cell_type": "markdown",
      "metadata": {
        "id": "M-bZ5SCHiIMl"
      },
      "source": [
        "#  Model 4: Adding extra dense layer into Neural averaging network model"
      ]
    },
    {
      "cell_type": "markdown",
      "metadata": {
        "id": "G85QM3lSV7qp"
      },
      "source": [
        "We add extra dense layers into model 3-1 (neural network model) to evaluate extra dense layers' contribution. We start by adding one layer, then add two. All parameters are the same as model 3-1."
      ]
    },
    {
      "cell_type": "markdown",
      "metadata": {
        "id": "ExgX8bxpVgps"
      },
      "source": [
        "### Adding one extra dense layer"
      ]
    },
    {
      "cell_type": "code",
      "source": [
        "embeddingLayer=createPretrainedEmbeddingLayer(wordToGlove,wordToIndex,isTrainable=True)(target_word)\n",
        "model_second=GlobalAveragePooling1DMasked()(embeddingLayer)\n",
        "output_layer_first = Dense(100,activation = 'sigmoid')(model_second)\n",
        "output_layer = Dense(16,activation = 'sigmoid')(output_layer_first)\n",
        "output_layer_1 = Dense(1,activation = 'sigmoid')(output_layer)\n",
        "model3_dense = Model(inputs=[target_word], outputs=output_layer_1)\n",
        "model3_dense.compile(loss='binary_crossentropy', optimizer = 'adam', metrics = ['accuracy'])\n",
        "model3_dense.summary()"
      ],
      "metadata": {
        "colab": {
          "base_uri": "https://localhost:8080/"
        },
        "id": "Ztkl4PR-T5wr",
        "outputId": "10b61b2b-baab-4afd-feba-b9e218b4e631"
      },
      "execution_count": null,
      "outputs": [
        {
          "output_type": "stream",
          "name": "stdout",
          "text": [
            "Model: \"model_5\"\n",
            "_________________________________________________________________\n",
            " Layer (type)                Output Shape              Param #   \n",
            "=================================================================\n",
            " input_2 (InputLayer)        [(None, 256)]             0         \n",
            "                                                                 \n",
            " GloVe_Embeddings (Embedding  (None, 256, 300)         120000300 \n",
            " )                                                               \n",
            "                                                                 \n",
            " global_average_pooling1d_ma  (None, 300)              0         \n",
            " sked_4 (GlobalAveragePoolin                                     \n",
            " g1DMasked)                                                      \n",
            "                                                                 \n",
            " dense_9 (Dense)             (None, 100)               30100     \n",
            "                                                                 \n",
            " dense_10 (Dense)            (None, 16)                1616      \n",
            "                                                                 \n",
            " dense_11 (Dense)            (None, 1)                 17        \n",
            "                                                                 \n",
            "=================================================================\n",
            "Total params: 120,032,033\n",
            "Trainable params: 120,032,033\n",
            "Non-trainable params: 0\n",
            "_________________________________________________________________\n"
          ]
        }
      ]
    },
    {
      "cell_type": "code",
      "source": [
        "history = model3_dense.fit(partial_X_train,\n",
        "                    partial_y_train,\n",
        "                    epochs=40,\n",
        "                    batch_size=512,\n",
        "                    validation_data=(X_val, y_val),\n",
        "                    verbose=1)"
      ],
      "metadata": {
        "colab": {
          "base_uri": "https://localhost:8080/"
        },
        "id": "mJwVyEnQUkEu",
        "outputId": "1875ad02-a875-45de-96a1-5e473c929ae5"
      },
      "execution_count": null,
      "outputs": [
        {
          "output_type": "stream",
          "name": "stdout",
          "text": [
            "Epoch 1/40\n",
            "30/30 [==============================] - 2s 46ms/step - loss: 0.7213 - accuracy: 0.4984 - val_loss: 0.6942 - val_accuracy: 0.4986\n",
            "Epoch 2/40\n",
            "30/30 [==============================] - 1s 41ms/step - loss: 0.6924 - accuracy: 0.5167 - val_loss: 0.6895 - val_accuracy: 0.5370\n",
            "Epoch 3/40\n",
            "30/30 [==============================] - 1s 41ms/step - loss: 0.6868 - accuracy: 0.5759 - val_loss: 0.6833 - val_accuracy: 0.6128\n",
            "Epoch 4/40\n",
            "30/30 [==============================] - 1s 41ms/step - loss: 0.6770 - accuracy: 0.6454 - val_loss: 0.6704 - val_accuracy: 0.6666\n",
            "Epoch 5/40\n",
            "30/30 [==============================] - 1s 41ms/step - loss: 0.6572 - accuracy: 0.6857 - val_loss: 0.6447 - val_accuracy: 0.6891\n",
            "Epoch 6/40\n",
            "30/30 [==============================] - 1s 41ms/step - loss: 0.6188 - accuracy: 0.7177 - val_loss: 0.5973 - val_accuracy: 0.7271\n",
            "Epoch 7/40\n",
            "30/30 [==============================] - 1s 40ms/step - loss: 0.5561 - accuracy: 0.7597 - val_loss: 0.5290 - val_accuracy: 0.7761\n",
            "Epoch 8/40\n",
            "30/30 [==============================] - 1s 41ms/step - loss: 0.4757 - accuracy: 0.8108 - val_loss: 0.4533 - val_accuracy: 0.8186\n",
            "Epoch 9/40\n",
            "30/30 [==============================] - 1s 40ms/step - loss: 0.3991 - accuracy: 0.8489 - val_loss: 0.3931 - val_accuracy: 0.8443\n",
            "Epoch 10/40\n",
            "30/30 [==============================] - 1s 41ms/step - loss: 0.3420 - accuracy: 0.8735 - val_loss: 0.3582 - val_accuracy: 0.8559\n",
            "Epoch 11/40\n",
            "30/30 [==============================] - 1s 41ms/step - loss: 0.3020 - accuracy: 0.8900 - val_loss: 0.3340 - val_accuracy: 0.8665\n",
            "Epoch 12/40\n",
            "30/30 [==============================] - 1s 41ms/step - loss: 0.2700 - accuracy: 0.9024 - val_loss: 0.3182 - val_accuracy: 0.8724\n",
            "Epoch 13/40\n",
            "30/30 [==============================] - 1s 40ms/step - loss: 0.2435 - accuracy: 0.9153 - val_loss: 0.3074 - val_accuracy: 0.8737\n",
            "Epoch 14/40\n",
            "30/30 [==============================] - 1s 41ms/step - loss: 0.2207 - accuracy: 0.9252 - val_loss: 0.3015 - val_accuracy: 0.8777\n",
            "Epoch 15/40\n",
            "30/30 [==============================] - 1s 41ms/step - loss: 0.2012 - accuracy: 0.9321 - val_loss: 0.2960 - val_accuracy: 0.8806\n",
            "Epoch 16/40\n",
            "30/30 [==============================] - 1s 41ms/step - loss: 0.1860 - accuracy: 0.9382 - val_loss: 0.2962 - val_accuracy: 0.8788\n",
            "Epoch 17/40\n",
            "30/30 [==============================] - 1s 41ms/step - loss: 0.1671 - accuracy: 0.9490 - val_loss: 0.2961 - val_accuracy: 0.8807\n",
            "Epoch 18/40\n",
            "30/30 [==============================] - 1s 41ms/step - loss: 0.1531 - accuracy: 0.9542 - val_loss: 0.2979 - val_accuracy: 0.8816\n",
            "Epoch 19/40\n",
            "30/30 [==============================] - 1s 41ms/step - loss: 0.1388 - accuracy: 0.9607 - val_loss: 0.2990 - val_accuracy: 0.8810\n",
            "Epoch 20/40\n",
            "30/30 [==============================] - 1s 41ms/step - loss: 0.1269 - accuracy: 0.9650 - val_loss: 0.3045 - val_accuracy: 0.8801\n",
            "Epoch 21/40\n",
            "30/30 [==============================] - 1s 41ms/step - loss: 0.1157 - accuracy: 0.9685 - val_loss: 0.3110 - val_accuracy: 0.8823\n",
            "Epoch 22/40\n",
            "30/30 [==============================] - 1s 41ms/step - loss: 0.1061 - accuracy: 0.9732 - val_loss: 0.3154 - val_accuracy: 0.8804\n",
            "Epoch 23/40\n",
            "30/30 [==============================] - 1s 40ms/step - loss: 0.0968 - accuracy: 0.9779 - val_loss: 0.3224 - val_accuracy: 0.8802\n",
            "Epoch 24/40\n",
            "30/30 [==============================] - 1s 41ms/step - loss: 0.0890 - accuracy: 0.9797 - val_loss: 0.3305 - val_accuracy: 0.8786\n",
            "Epoch 25/40\n",
            "30/30 [==============================] - 1s 40ms/step - loss: 0.0814 - accuracy: 0.9822 - val_loss: 0.3404 - val_accuracy: 0.8770\n",
            "Epoch 26/40\n",
            "30/30 [==============================] - 1s 41ms/step - loss: 0.0757 - accuracy: 0.9847 - val_loss: 0.3478 - val_accuracy: 0.8777\n",
            "Epoch 27/40\n",
            "30/30 [==============================] - 1s 40ms/step - loss: 0.0688 - accuracy: 0.9876 - val_loss: 0.3544 - val_accuracy: 0.8767\n",
            "Epoch 28/40\n",
            "30/30 [==============================] - 1s 40ms/step - loss: 0.0648 - accuracy: 0.9883 - val_loss: 0.3642 - val_accuracy: 0.8755\n",
            "Epoch 29/40\n",
            "30/30 [==============================] - 1s 41ms/step - loss: 0.0592 - accuracy: 0.9902 - val_loss: 0.3715 - val_accuracy: 0.8746\n",
            "Epoch 30/40\n",
            "30/30 [==============================] - 1s 40ms/step - loss: 0.0550 - accuracy: 0.9915 - val_loss: 0.3807 - val_accuracy: 0.8730\n",
            "Epoch 31/40\n",
            "30/30 [==============================] - 1s 40ms/step - loss: 0.0512 - accuracy: 0.9921 - val_loss: 0.3902 - val_accuracy: 0.8726\n",
            "Epoch 32/40\n",
            "30/30 [==============================] - 1s 41ms/step - loss: 0.0479 - accuracy: 0.9931 - val_loss: 0.3993 - val_accuracy: 0.8723\n",
            "Epoch 33/40\n",
            "30/30 [==============================] - 1s 40ms/step - loss: 0.0448 - accuracy: 0.9937 - val_loss: 0.4078 - val_accuracy: 0.8724\n",
            "Epoch 34/40\n",
            "30/30 [==============================] - 1s 41ms/step - loss: 0.0420 - accuracy: 0.9941 - val_loss: 0.4160 - val_accuracy: 0.8709\n",
            "Epoch 35/40\n",
            "30/30 [==============================] - 1s 41ms/step - loss: 0.0397 - accuracy: 0.9947 - val_loss: 0.4257 - val_accuracy: 0.8699\n",
            "Epoch 36/40\n",
            "30/30 [==============================] - 1s 41ms/step - loss: 0.0369 - accuracy: 0.9954 - val_loss: 0.4329 - val_accuracy: 0.8687\n",
            "Epoch 37/40\n",
            "30/30 [==============================] - 1s 40ms/step - loss: 0.0355 - accuracy: 0.9957 - val_loss: 0.4417 - val_accuracy: 0.8695\n",
            "Epoch 38/40\n",
            "30/30 [==============================] - 1s 41ms/step - loss: 0.0328 - accuracy: 0.9959 - val_loss: 0.4494 - val_accuracy: 0.8692\n",
            "Epoch 39/40\n",
            "30/30 [==============================] - 1s 40ms/step - loss: 0.0312 - accuracy: 0.9961 - val_loss: 0.4591 - val_accuracy: 0.8681\n",
            "Epoch 40/40\n",
            "30/30 [==============================] - 1s 41ms/step - loss: 0.0292 - accuracy: 0.9967 - val_loss: 0.4657 - val_accuracy: 0.8691\n"
          ]
        }
      ]
    },
    {
      "cell_type": "code",
      "source": [
        "results = model3_dense.evaluate(X_test_enc, y_test)"
      ],
      "metadata": {
        "colab": {
          "base_uri": "https://localhost:8080/"
        },
        "id": "ZPWxX2foUpZ1",
        "outputId": "8c20f1f3-8b5e-402c-b56b-009d435868ae"
      },
      "execution_count": null,
      "outputs": [
        {
          "output_type": "stream",
          "name": "stdout",
          "text": [
            "782/782 [==============================] - 2s 3ms/step - loss: 0.4949 - accuracy: 0.8578\n"
          ]
        }
      ]
    },
    {
      "cell_type": "code",
      "source": [
        "plot_history(history.history, path=\"standard.png\")\n",
        "plt.show()"
      ],
      "metadata": {
        "colab": {
          "base_uri": "https://localhost:8080/",
          "height": 385
        },
        "id": "hCgl7JoxWbPc",
        "outputId": "5894cca7-2358-45f5-db6d-aa9b7713ac7c"
      },
      "execution_count": null,
      "outputs": [
        {
          "output_type": "display_data",
          "data": {
            "text/plain": [
              "<Figure size 720x360 with 2 Axes>"
            ],
            "image/png": "[encoded data removed]"
          },
          "metadata": {
            "needs_background": "light"
          }
        }
      ]
    },
    {
      "cell_type": "markdown",
      "metadata": {
        "id": "K0npTvFuVt5R"
      },
      "source": [
        "### Adding two extra dense layers"
      ]
    },
    {
      "cell_type": "code",
      "source": [
        "embeddingLayer=createPretrainedEmbeddingLayer(wordToGlove,wordToIndex,isTrainable=True)(target_word)\n",
        "model_second=GlobalAveragePooling1DMasked()(embeddingLayer)\n",
        "output_layer_zero = Dense(300,activation = 'relu')(model_second)\n",
        "output_layer_first = Dense(100,activation = 'relu')(output_layer_zero)\n",
        "output_layer = Dense(16,activation = 'relu')(output_layer_first)\n",
        "output_layer_1 = Dense(1,activation = 'sigmoid')(output_layer)\n",
        "model3_dense_2 = Model(inputs=[target_word], outputs=output_layer_1)\n",
        "model3_dense_2.compile(loss='binary_crossentropy', optimizer = 'adam', metrics = ['accuracy'])\n",
        "model3_dense_2.summary()"
      ],
      "metadata": {
        "colab": {
          "base_uri": "https://localhost:8080/"
        },
        "id": "vbmx7JZFULHe",
        "outputId": "4774ff23-68c5-402f-cd7e-0a615641acfc"
      },
      "execution_count": null,
      "outputs": [
        {
          "output_type": "stream",
          "name": "stdout",
          "text": [
            "Model: \"model_6\"\n",
            "_________________________________________________________________\n",
            " Layer (type)                Output Shape              Param #   \n",
            "=================================================================\n",
            " input_2 (InputLayer)        [(None, 256)]             0         \n",
            "                                                                 \n",
            " GloVe_Embeddings (Embedding  (None, 256, 300)         120000300 \n",
            " )                                                               \n",
            "                                                                 \n",
            " global_average_pooling1d_ma  (None, 300)              0         \n",
            " sked_5 (GlobalAveragePoolin                                     \n",
            " g1DMasked)                                                      \n",
            "                                                                 \n",
            " dense_12 (Dense)            (None, 300)               90300     \n",
            "                                                                 \n",
            " dense_13 (Dense)            (None, 100)               30100     \n",
            "                                                                 \n",
            " dense_14 (Dense)            (None, 16)                1616      \n",
            "                                                                 \n",
            " dense_15 (Dense)            (None, 1)                 17        \n",
            "                                                                 \n",
            "=================================================================\n",
            "Total params: 120,122,333\n",
            "Trainable params: 120,122,333\n",
            "Non-trainable params: 0\n",
            "_________________________________________________________________\n"
          ]
        }
      ]
    },
    {
      "cell_type": "code",
      "source": [
        "history = model3_dense_2.fit(partial_X_train,\n",
        "                    partial_y_train,\n",
        "                    epochs=40,\n",
        "                    batch_size=512,\n",
        "                    validation_data=(X_val, y_val),\n",
        "                    verbose=1)"
      ],
      "metadata": {
        "colab": {
          "base_uri": "https://localhost:8080/"
        },
        "id": "GOmSUa5dU03Q",
        "outputId": "d3ae47f0-4029-4dad-c933-6dff51670b24"
      },
      "execution_count": null,
      "outputs": [
        {
          "output_type": "stream",
          "name": "stdout",
          "text": [
            "Epoch 1/40\n",
            "30/30 [==============================] - 2s 46ms/step - loss: 0.6848 - accuracy: 0.5632 - val_loss: 0.6688 - val_accuracy: 0.6059\n",
            "Epoch 2/40\n",
            "30/30 [==============================] - 1s 41ms/step - loss: 0.6293 - accuracy: 0.6571 - val_loss: 0.5680 - val_accuracy: 0.7309\n",
            "Epoch 3/40\n",
            "30/30 [==============================] - 1s 41ms/step - loss: 0.4643 - accuracy: 0.7967 - val_loss: 0.4031 - val_accuracy: 0.8227\n",
            "Epoch 4/40\n",
            "30/30 [==============================] - 1s 41ms/step - loss: 0.3297 - accuracy: 0.8605 - val_loss: 0.3354 - val_accuracy: 0.8632\n",
            "Epoch 5/40\n",
            "30/30 [==============================] - 1s 41ms/step - loss: 0.2543 - accuracy: 0.8983 - val_loss: 0.3116 - val_accuracy: 0.8732\n",
            "Epoch 6/40\n",
            "30/30 [==============================] - 1s 40ms/step - loss: 0.2144 - accuracy: 0.9157 - val_loss: 0.3081 - val_accuracy: 0.8799\n",
            "Epoch 7/40\n",
            "30/30 [==============================] - 1s 40ms/step - loss: 0.1715 - accuracy: 0.9369 - val_loss: 0.3125 - val_accuracy: 0.8796\n",
            "Epoch 8/40\n",
            "30/30 [==============================] - 1s 41ms/step - loss: 0.1429 - accuracy: 0.9499 - val_loss: 0.3211 - val_accuracy: 0.8810\n",
            "Epoch 9/40\n",
            "30/30 [==============================] - 1s 41ms/step - loss: 0.1162 - accuracy: 0.9637 - val_loss: 0.3437 - val_accuracy: 0.8769\n",
            "Epoch 10/40\n",
            "30/30 [==============================] - 1s 41ms/step - loss: 0.0943 - accuracy: 0.9713 - val_loss: 0.4148 - val_accuracy: 0.8655\n",
            "Epoch 11/40\n",
            "30/30 [==============================] - 1s 40ms/step - loss: 0.0794 - accuracy: 0.9765 - val_loss: 0.4030 - val_accuracy: 0.8744\n",
            "Epoch 12/40\n",
            "30/30 [==============================] - 1s 41ms/step - loss: 0.0663 - accuracy: 0.9819 - val_loss: 0.4306 - val_accuracy: 0.8711\n",
            "Epoch 13/40\n",
            "30/30 [==============================] - 1s 42ms/step - loss: 0.0497 - accuracy: 0.9887 - val_loss: 0.4601 - val_accuracy: 0.8717\n",
            "Epoch 14/40\n",
            "30/30 [==============================] - 1s 42ms/step - loss: 0.0393 - accuracy: 0.9927 - val_loss: 0.4972 - val_accuracy: 0.8711\n",
            "Epoch 15/40\n",
            "30/30 [==============================] - 1s 41ms/step - loss: 0.0330 - accuracy: 0.9942 - val_loss: 0.5306 - val_accuracy: 0.8683\n",
            "Epoch 16/40\n",
            "30/30 [==============================] - 1s 41ms/step - loss: 0.0261 - accuracy: 0.9963 - val_loss: 0.5694 - val_accuracy: 0.8661\n",
            "Epoch 17/40\n",
            "30/30 [==============================] - 1s 41ms/step - loss: 0.0224 - accuracy: 0.9970 - val_loss: 0.5962 - val_accuracy: 0.8627\n",
            "Epoch 18/40\n",
            "30/30 [==============================] - 1s 41ms/step - loss: 0.0246 - accuracy: 0.9961 - val_loss: 0.6243 - val_accuracy: 0.8651\n",
            "Epoch 19/40\n",
            "30/30 [==============================] - 1s 41ms/step - loss: 0.0172 - accuracy: 0.9980 - val_loss: 0.6461 - val_accuracy: 0.8652\n",
            "Epoch 20/40\n",
            "30/30 [==============================] - 1s 41ms/step - loss: 0.0125 - accuracy: 0.9986 - val_loss: 0.6694 - val_accuracy: 0.8648\n",
            "Epoch 21/40\n",
            "30/30 [==============================] - 1s 41ms/step - loss: 0.0105 - accuracy: 0.9989 - val_loss: 0.6970 - val_accuracy: 0.8638\n",
            "Epoch 22/40\n",
            "30/30 [==============================] - 1s 41ms/step - loss: 0.0097 - accuracy: 0.9991 - val_loss: 0.7552 - val_accuracy: 0.8596\n",
            "Epoch 23/40\n",
            "30/30 [==============================] - 1s 41ms/step - loss: 0.0074 - accuracy: 0.9993 - val_loss: 0.7502 - val_accuracy: 0.8613\n",
            "Epoch 24/40\n",
            "30/30 [==============================] - 1s 41ms/step - loss: 0.0062 - accuracy: 0.9995 - val_loss: 0.7724 - val_accuracy: 0.8618\n",
            "Epoch 25/40\n",
            "30/30 [==============================] - 1s 41ms/step - loss: 0.0058 - accuracy: 0.9993 - val_loss: 0.7882 - val_accuracy: 0.8606\n",
            "Epoch 26/40\n",
            "30/30 [==============================] - 1s 41ms/step - loss: 0.0052 - accuracy: 0.9995 - val_loss: 0.8056 - val_accuracy: 0.8609\n",
            "Epoch 27/40\n",
            "30/30 [==============================] - 1s 40ms/step - loss: 0.0045 - accuracy: 0.9995 - val_loss: 0.8210 - val_accuracy: 0.8601\n",
            "Epoch 28/40\n",
            "30/30 [==============================] - 1s 40ms/step - loss: 0.0038 - accuracy: 0.9996 - val_loss: 0.8423 - val_accuracy: 0.8599\n",
            "Epoch 29/40\n",
            "30/30 [==============================] - 1s 41ms/step - loss: 0.0029 - accuracy: 0.9996 - val_loss: 0.8747 - val_accuracy: 0.8603\n",
            "Epoch 30/40\n",
            "30/30 [==============================] - 1s 41ms/step - loss: 0.0021 - accuracy: 0.9999 - val_loss: 0.8913 - val_accuracy: 0.8605\n",
            "Epoch 31/40\n",
            "30/30 [==============================] - 1s 41ms/step - loss: 0.0016 - accuracy: 1.0000 - val_loss: 0.9200 - val_accuracy: 0.8599\n",
            "Epoch 32/40\n",
            "30/30 [==============================] - 1s 41ms/step - loss: 0.0012 - accuracy: 0.9999 - val_loss: 0.9379 - val_accuracy: 0.8605\n",
            "Epoch 33/40\n",
            "30/30 [==============================] - 1s 41ms/step - loss: 0.0011 - accuracy: 1.0000 - val_loss: 0.9668 - val_accuracy: 0.8599\n",
            "Epoch 34/40\n",
            "30/30 [==============================] - 1s 41ms/step - loss: 9.5173e-04 - accuracy: 0.9999 - val_loss: 0.9766 - val_accuracy: 0.8602\n",
            "Epoch 35/40\n",
            "30/30 [==============================] - 1s 41ms/step - loss: 8.3410e-04 - accuracy: 1.0000 - val_loss: 0.9942 - val_accuracy: 0.8602\n",
            "Epoch 36/40\n",
            "30/30 [==============================] - 1s 40ms/step - loss: 7.4775e-04 - accuracy: 1.0000 - val_loss: 1.0091 - val_accuracy: 0.8596\n",
            "Epoch 37/40\n",
            "30/30 [==============================] - 1s 41ms/step - loss: 6.4932e-04 - accuracy: 1.0000 - val_loss: 1.0314 - val_accuracy: 0.8589\n",
            "Epoch 38/40\n",
            "30/30 [==============================] - 1s 41ms/step - loss: 6.0379e-04 - accuracy: 1.0000 - val_loss: 1.0530 - val_accuracy: 0.8597\n",
            "Epoch 39/40\n",
            "30/30 [==============================] - 1s 41ms/step - loss: 5.5022e-04 - accuracy: 1.0000 - val_loss: 1.0675 - val_accuracy: 0.8584\n",
            "Epoch 40/40\n",
            "30/30 [==============================] - 1s 41ms/step - loss: 5.2740e-04 - accuracy: 1.0000 - val_loss: 1.0808 - val_accuracy: 0.8590\n"
          ]
        }
      ]
    },
    {
      "cell_type": "code",
      "source": [
        "results = model3_dense_2.evaluate(X_test_enc, y_test)"
      ],
      "metadata": {
        "colab": {
          "base_uri": "https://localhost:8080/"
        },
        "id": "WD0WXqPuU1WS",
        "outputId": "97b4b6ef-7262-4dce-9dd8-cf749358d1f5"
      },
      "execution_count": null,
      "outputs": [
        {
          "output_type": "stream",
          "name": "stdout",
          "text": [
            "782/782 [==============================] - 2s 3ms/step - loss: 1.1788 - accuracy: 0.8438\n"
          ]
        }
      ]
    },
    {
      "cell_type": "markdown",
      "metadata": {
        "id": "XisS32PaTATf"
      },
      "source": [
        "These two experiments show that adding extra dense layers can slightly improve accuracy over model 3-1.\n",
        "\n",
        "---\n",
        "\n"
      ]
    },
    {
      "cell_type": "code",
      "source": [
        "plot_history(history.history, path=\"standard.png\")\n",
        "plt.show()"
      ],
      "metadata": {
        "colab": {
          "base_uri": "https://localhost:8080/",
          "height": 385
        },
        "id": "NNuK-RTIXJ3I",
        "outputId": "0c0f2e21-d3b0-45d4-98d3-26ed324d77d1"
      },
      "execution_count": null,
      "outputs": [
        {
          "output_type": "display_data",
          "data": {
            "text/plain": [
              "<Figure size 720x360 with 2 Axes>"
            ],
            "image/png": "[encoded data removed]"
          },
          "metadata": {
            "needs_background": "light"
          }
        }
      ]
    },
    {
      "cell_type": "markdown",
      "metadata": {
        "id": "CrfC9Mu-RHID"
      },
      "source": [
        "#  Model 5: CNN for Text Classification"
      ]
    },
    {
      "cell_type": "markdown",
      "metadata": {
        "id": "EPaFmFk1BMFf"
      },
      "source": [
        "In this section, we build a Convolutional Neural Network (CNN) for text classification. We start by using one CNN layer and then adding another layer. You could use embeddings from pre-trained or scratch."
      ]
    },
    {
      "cell_type": "markdown",
      "metadata": {
        "id": "zjOJrGCzwGM5"
      },
      "source": [
        "##  Model 5-1: Basic CNN model for Text Classification "
      ]
    },
    {
      "cell_type": "code",
      "source": [
        "target_word = Input((256,), dtype='int32')\n",
        "target_embedding = Embedding(VOCAB_SIZE, EMBED_SIZE, name='target_embed_layer',\n",
        "                        \tembeddings_initializer='glorot_uniform',\n",
        "                         \tinput_length=256)(target_word)"
      ],
      "metadata": {
        "id": "ENMwOJZLZ72K"
      },
      "execution_count": null,
      "outputs": []
    },
    {
      "cell_type": "code",
      "source": [
        "#embeddingLayer=createPretrainedEmbeddingLayer(wordToGlove,wordToIndex,isTrainable=True)(target_word)\n",
        "#model_second=GlobalAveragePooling1DMasked()(target_embedding)\n",
        "from keras.layers.convolutional import Conv1D   \n",
        "#embeddingLayer=createPretrainedEmbeddingLayer(wordToGlove,wordToIndex,isTrainable=True)(target_word)\n",
        "conv_layer=Conv1D(100,6)(target_embedding)\n",
        "model_second=GlobalAveragePooling1DMasked()(conv_layer)\n",
        "# output_layer_zero = Dense(300,activation = 'sigmoid')(conv_layer)\n",
        "# output_layer_first = Dense(100,activation = 'sigmoid')(output_layer_zero)\n",
        "# output_layer = Dense(16,activation = 'sigmoid')(output_layer_first)\n",
        "output_layer_1 = Dense(1,activation = 'sigmoid')(model_second)\n",
        "model4 = Model(inputs=[target_word], outputs=output_layer_1)\n",
        "model4.compile(loss='binary_crossentropy', optimizer = 'adam', metrics = ['accuracy'])\n",
        "model4.summary()"
      ],
      "metadata": {
        "colab": {
          "base_uri": "https://localhost:8080/"
        },
        "id": "kRohcuCaWLq8",
        "outputId": "77d0cc11-a5fa-421d-b611-ddeba473a103"
      },
      "execution_count": null,
      "outputs": [
        {
          "output_type": "stream",
          "name": "stdout",
          "text": [
            "Model: \"model_7\"\n",
            "_________________________________________________________________\n",
            " Layer (type)                Output Shape              Param #   \n",
            "=================================================================\n",
            " input_3 (InputLayer)        [(None, 256)]             0         \n",
            "                                                                 \n",
            " target_embed_layer (Embeddi  (None, 256, 300)         3000000   \n",
            " ng)                                                             \n",
            "                                                                 \n",
            " conv1d (Conv1D)             (None, 251, 100)          180100    \n",
            "                                                                 \n",
            " global_average_pooling1d_ma  (None, 100)              0         \n",
            " sked_6 (GlobalAveragePoolin                                     \n",
            " g1DMasked)                                                      \n",
            "                                                                 \n",
            " dense_16 (Dense)            (None, 1)                 101       \n",
            "                                                                 \n",
            "=================================================================\n",
            "Total params: 3,180,201\n",
            "Trainable params: 3,180,201\n",
            "Non-trainable params: 0\n",
            "_________________________________________________________________\n"
          ]
        }
      ]
    },
    {
      "cell_type": "code",
      "execution_count": null,
      "metadata": {
        "id": "-G5MrDPJFBzK",
        "colab": {
          "base_uri": "https://localhost:8080/"
        },
        "outputId": "fae7d05d-9ecc-41f5-fbcc-abea6bfa56c9"
      },
      "outputs": [
        {
          "output_type": "stream",
          "name": "stdout",
          "text": [
            "Epoch 1/40\n",
            "30/30 [==============================] - 8s 47ms/step - loss: 0.6347 - accuracy: 0.6497 - val_loss: 0.5041 - val_accuracy: 0.7763\n",
            "Epoch 2/40\n",
            "30/30 [==============================] - 1s 40ms/step - loss: 0.3645 - accuracy: 0.8545 - val_loss: 0.3320 - val_accuracy: 0.8600\n",
            "Epoch 3/40\n",
            "30/30 [==============================] - 1s 40ms/step - loss: 0.2325 - accuracy: 0.9090 - val_loss: 0.2983 - val_accuracy: 0.8797\n",
            "Epoch 4/40\n",
            "30/30 [==============================] - 1s 39ms/step - loss: 0.1624 - accuracy: 0.9441 - val_loss: 0.3070 - val_accuracy: 0.8816\n",
            "Epoch 5/40\n",
            "30/30 [==============================] - 1s 39ms/step - loss: 0.1183 - accuracy: 0.9613 - val_loss: 0.3497 - val_accuracy: 0.8730\n",
            "Epoch 6/40\n",
            "30/30 [==============================] - 1s 40ms/step - loss: 0.0864 - accuracy: 0.9748 - val_loss: 0.3832 - val_accuracy: 0.8751\n",
            "Epoch 7/40\n",
            "30/30 [==============================] - 1s 40ms/step - loss: 0.0622 - accuracy: 0.9833 - val_loss: 0.4468 - val_accuracy: 0.8653\n",
            "Epoch 8/40\n",
            "30/30 [==============================] - 1s 40ms/step - loss: 0.0441 - accuracy: 0.9891 - val_loss: 0.4991 - val_accuracy: 0.8649\n",
            "Epoch 9/40\n",
            "30/30 [==============================] - 1s 40ms/step - loss: 0.0300 - accuracy: 0.9946 - val_loss: 0.5614 - val_accuracy: 0.8632\n",
            "Epoch 10/40\n",
            "30/30 [==============================] - 1s 40ms/step - loss: 0.0207 - accuracy: 0.9967 - val_loss: 0.6147 - val_accuracy: 0.8631\n",
            "Epoch 11/40\n",
            "30/30 [==============================] - 1s 40ms/step - loss: 0.0147 - accuracy: 0.9979 - val_loss: 0.6750 - val_accuracy: 0.8612\n",
            "Epoch 12/40\n",
            "30/30 [==============================] - 1s 40ms/step - loss: 0.0106 - accuracy: 0.9989 - val_loss: 0.7313 - val_accuracy: 0.8591\n",
            "Epoch 13/40\n",
            "30/30 [==============================] - 1s 40ms/step - loss: 0.0074 - accuracy: 0.9995 - val_loss: 0.7664 - val_accuracy: 0.8604\n",
            "Epoch 14/40\n",
            "30/30 [==============================] - 1s 40ms/step - loss: 0.0053 - accuracy: 0.9997 - val_loss: 0.8062 - val_accuracy: 0.8584\n",
            "Epoch 15/40\n",
            "30/30 [==============================] - 1s 40ms/step - loss: 0.0043 - accuracy: 0.9999 - val_loss: 0.8361 - val_accuracy: 0.8587\n",
            "Epoch 16/40\n",
            "30/30 [==============================] - 1s 40ms/step - loss: 0.0033 - accuracy: 0.9999 - val_loss: 0.8751 - val_accuracy: 0.8571\n",
            "Epoch 17/40\n",
            "30/30 [==============================] - 1s 40ms/step - loss: 0.0029 - accuracy: 0.9998 - val_loss: 0.8956 - val_accuracy: 0.8589\n",
            "Epoch 18/40\n",
            "30/30 [==============================] - 1s 40ms/step - loss: 0.0025 - accuracy: 0.9999 - val_loss: 0.9339 - val_accuracy: 0.8556\n",
            "Epoch 19/40\n",
            "30/30 [==============================] - 1s 40ms/step - loss: 0.0022 - accuracy: 1.0000 - val_loss: 0.9501 - val_accuracy: 0.8576\n",
            "Epoch 20/40\n",
            "30/30 [==============================] - 1s 40ms/step - loss: 0.0018 - accuracy: 0.9999 - val_loss: 0.9727 - val_accuracy: 0.8568\n",
            "Epoch 21/40\n",
            "30/30 [==============================] - 1s 40ms/step - loss: 0.0018 - accuracy: 0.9999 - val_loss: 0.9973 - val_accuracy: 0.8574\n",
            "Epoch 22/40\n",
            "30/30 [==============================] - 1s 40ms/step - loss: 0.0013 - accuracy: 0.9999 - val_loss: 1.0166 - val_accuracy: 0.8556\n",
            "Epoch 23/40\n",
            "30/30 [==============================] - 1s 40ms/step - loss: 0.0012 - accuracy: 0.9999 - val_loss: 1.0368 - val_accuracy: 0.8557\n",
            "Epoch 24/40\n",
            "30/30 [==============================] - 1s 40ms/step - loss: 0.0010 - accuracy: 0.9999 - val_loss: 1.0554 - val_accuracy: 0.8544\n",
            "Epoch 25/40\n",
            "30/30 [==============================] - 1s 40ms/step - loss: 9.6146e-04 - accuracy: 1.0000 - val_loss: 1.0692 - val_accuracy: 0.8556\n",
            "Epoch 26/40\n",
            "30/30 [==============================] - 1s 40ms/step - loss: 8.5412e-04 - accuracy: 1.0000 - val_loss: 1.0877 - val_accuracy: 0.8554\n",
            "Epoch 27/40\n",
            "30/30 [==============================] - 1s 40ms/step - loss: 7.9023e-04 - accuracy: 1.0000 - val_loss: 1.1138 - val_accuracy: 0.8544\n",
            "Epoch 28/40\n",
            "30/30 [==============================] - 1s 40ms/step - loss: 7.9488e-04 - accuracy: 0.9999 - val_loss: 1.1212 - val_accuracy: 0.8548\n",
            "Epoch 29/40\n",
            "30/30 [==============================] - 1s 40ms/step - loss: 6.1778e-04 - accuracy: 1.0000 - val_loss: 1.1330 - val_accuracy: 0.8551\n",
            "Epoch 30/40\n",
            "30/30 [==============================] - 1s 40ms/step - loss: 5.5643e-04 - accuracy: 1.0000 - val_loss: 1.1465 - val_accuracy: 0.8548\n",
            "Epoch 31/40\n",
            "30/30 [==============================] - 1s 40ms/step - loss: 5.1515e-04 - accuracy: 1.0000 - val_loss: 1.1575 - val_accuracy: 0.8555\n",
            "Epoch 32/40\n",
            "30/30 [==============================] - 1s 40ms/step - loss: 4.8847e-04 - accuracy: 1.0000 - val_loss: 1.1718 - val_accuracy: 0.8546\n",
            "Epoch 33/40\n",
            "30/30 [==============================] - 1s 40ms/step - loss: 4.3613e-04 - accuracy: 1.0000 - val_loss: 1.1820 - val_accuracy: 0.8553\n",
            "Epoch 34/40\n",
            "30/30 [==============================] - 1s 40ms/step - loss: 4.1525e-04 - accuracy: 1.0000 - val_loss: 1.1947 - val_accuracy: 0.8548\n",
            "Epoch 35/40\n",
            "30/30 [==============================] - 1s 40ms/step - loss: 3.8798e-04 - accuracy: 1.0000 - val_loss: 1.2062 - val_accuracy: 0.8548\n",
            "Epoch 36/40\n",
            "30/30 [==============================] - 1s 40ms/step - loss: 3.5604e-04 - accuracy: 1.0000 - val_loss: 1.2163 - val_accuracy: 0.8550\n",
            "Epoch 37/40\n",
            "30/30 [==============================] - 1s 40ms/step - loss: 3.7323e-04 - accuracy: 1.0000 - val_loss: 1.2286 - val_accuracy: 0.8550\n",
            "Epoch 38/40\n",
            "30/30 [==============================] - 1s 40ms/step - loss: 3.1458e-04 - accuracy: 1.0000 - val_loss: 1.2417 - val_accuracy: 0.8533\n",
            "Epoch 39/40\n",
            "30/30 [==============================] - 1s 40ms/step - loss: 2.9318e-04 - accuracy: 1.0000 - val_loss: 1.2482 - val_accuracy: 0.8549\n",
            "Epoch 40/40\n",
            "30/30 [==============================] - 1s 40ms/step - loss: 3.1194e-04 - accuracy: 1.0000 - val_loss: 1.2594 - val_accuracy: 0.8548\n"
          ]
        }
      ],
      "source": [
        "# Train and test the model\n",
        "\n",
        "# your code goes here\n",
        "history = model4.fit(partial_X_train,\n",
        "                    partial_y_train,\n",
        "                    epochs=40,\n",
        "                    batch_size=512,\n",
        "                    validation_data=(X_val, y_val),\n",
        "                    verbose=1)"
      ]
    },
    {
      "cell_type": "code",
      "source": [
        "results = model4.evaluate(X_test_enc, y_test)"
      ],
      "metadata": {
        "colab": {
          "base_uri": "https://localhost:8080/"
        },
        "id": "BMpwQyCqa7W3",
        "outputId": "4600c829-fd57-4698-86f9-7c8e3b6a2d56"
      },
      "execution_count": null,
      "outputs": [
        {
          "output_type": "stream",
          "name": "stdout",
          "text": [
            "782/782 [==============================] - 2s 3ms/step - loss: 1.3514 - accuracy: 0.8404\n"
          ]
        }
      ]
    },
    {
      "cell_type": "code",
      "source": [
        "pip install plot_keras_history"
      ],
      "metadata": {
        "colab": {
          "base_uri": "https://localhost:8080/"
        },
        "id": "ONM2CZJgbBqR",
        "outputId": "a41da8d4-2956-431d-eac8-a30cf27ed3df"
      },
      "execution_count": null,
      "outputs": [
        {
          "output_type": "stream",
          "name": "stdout",
          "text": [
            "Requirement already satisfied: plot_keras_history in /usr/local/lib/python3.7/dist-packages (1.1.30)\n",
            "Requirement already satisfied: sanitize-ml-labels>=1.0.28 in /usr/local/lib/python3.7/dist-packages (from plot_keras_history) (1.0.29)\n",
            "Requirement already satisfied: scipy in /usr/local/lib/python3.7/dist-packages (from plot_keras_history) (1.4.1)\n",
            "Requirement already satisfied: matplotlib in /usr/local/lib/python3.7/dist-packages (from plot_keras_history) (3.2.2)\n",
            "Requirement already satisfied: pandas in /usr/local/lib/python3.7/dist-packages (from plot_keras_history) (1.3.5)\n",
            "Requirement already satisfied: compress-json in /usr/local/lib/python3.7/dist-packages (from sanitize-ml-labels>=1.0.28->plot_keras_history) (1.0.4)\n",
            "Requirement already satisfied: numpy>=1.11 in /usr/local/lib/python3.7/dist-packages (from matplotlib->plot_keras_history) (1.21.5)\n",
            "Requirement already satisfied: kiwisolver>=1.0.1 in /usr/local/lib/python3.7/dist-packages (from matplotlib->plot_keras_history) (1.3.2)\n",
            "Requirement already satisfied: python-dateutil>=2.1 in /usr/local/lib/python3.7/dist-packages (from matplotlib->plot_keras_history) (2.8.2)\n",
            "Requirement already satisfied: cycler>=0.10 in /usr/local/lib/python3.7/dist-packages (from matplotlib->plot_keras_history) (0.11.0)\n",
            "Requirement already satisfied: pyparsing!=2.0.4,!=2.1.2,!=2.1.6,>=2.0.1 in /usr/local/lib/python3.7/dist-packages (from matplotlib->plot_keras_history) (3.0.7)\n",
            "Requirement already satisfied: six>=1.5 in /usr/local/lib/python3.7/dist-packages (from python-dateutil>=2.1->matplotlib->plot_keras_history) (1.15.0)\n",
            "Requirement already satisfied: pytz>=2017.3 in /usr/local/lib/python3.7/dist-packages (from pandas->plot_keras_history) (2018.9)\n"
          ]
        }
      ]
    },
    {
      "cell_type": "code",
      "source": [
        "from plot_keras_history import plot_history\n",
        "import matplotlib.pyplot as plt\n"
      ],
      "metadata": {
        "id": "OHy0Jd2qbEKD"
      },
      "execution_count": null,
      "outputs": []
    },
    {
      "cell_type": "code",
      "source": [
        "plot_history(history.history, path=\"standard.png\")\n",
        "plt.show()"
      ],
      "metadata": {
        "colab": {
          "base_uri": "https://localhost:8080/",
          "height": 385
        },
        "id": "EIS8pGsIbGED",
        "outputId": "b1db558e-1ec5-4908-fc83-020b1397bfc7"
      },
      "execution_count": null,
      "outputs": [
        {
          "output_type": "display_data",
          "data": {
            "text/plain": [
              "<Figure size 720x360 with 2 Axes>"
            ],
            "image/png": "[encoded data removed]"
          },
          "metadata": {
            "needs_background": "light"
          }
        }
      ]
    },
    {
      "cell_type": "code",
      "source": [
        "plt.plot(history.history['loss'],color='blue', linewidth=3,linestyle=(0, (1, 10)),markersize=10,dash_capstyle='round')\n",
        "plt.legend(['Training loss']);"
      ],
      "metadata": {
        "colab": {
          "base_uri": "https://localhost:8080/",
          "height": 265
        },
        "id": "qRFuQMjuZEhH",
        "outputId": "d696dd3b-45f5-4462-8778-a43c2f714f4a"
      },
      "execution_count": null,
      "outputs": [
        {
          "output_type": "display_data",
          "data": {
            "text/plain": [
              "<Figure size 432x288 with 1 Axes>"
            ],
            "image/png": "[encoded data removed]"
          },
          "metadata": {
            "needs_background": "light"
          }
        }
      ]
    },
    {
      "cell_type": "markdown",
      "metadata": {
        "id": "XkQMLxw-wWG6"
      },
      "source": [
        "## Model 5-2: Adding extra convolutional layer"
      ]
    },
    {
      "cell_type": "code",
      "source": [
        "conv_layer=Conv1D(100,6)(target_embedding)\n",
        "conv_layer_2=Conv1D(100,6)(conv_layer)\n",
        "model_second=GlobalAveragePooling1DMasked()(conv_layer_2)\n",
        "output_layer_1 = Dense(1,activation = 'sigmoid')(model_second)\n",
        "model6 = Model(inputs=[target_word], outputs=output_layer_1)\n",
        "model6.compile(loss='binary_crossentropy', optimizer = 'adam', metrics = ['accuracy'])\n",
        "model6.summary()"
      ],
      "metadata": {
        "colab": {
          "base_uri": "https://localhost:8080/"
        },
        "id": "w8-8MJnZbLRN",
        "outputId": "fdc92919-a6e3-48f7-f177-9556934ee70a"
      },
      "execution_count": null,
      "outputs": [
        {
          "output_type": "stream",
          "name": "stdout",
          "text": [
            "Model: \"model_8\"\n",
            "_________________________________________________________________\n",
            " Layer (type)                Output Shape              Param #   \n",
            "=================================================================\n",
            " input_3 (InputLayer)        [(None, 256)]             0         \n",
            "                                                                 \n",
            " target_embed_layer (Embeddi  (None, 256, 300)         3000000   \n",
            " ng)                                                             \n",
            "                                                                 \n",
            " conv1d_1 (Conv1D)           (None, 251, 100)          180100    \n",
            "                                                                 \n",
            " conv1d_2 (Conv1D)           (None, 246, 100)          60100     \n",
            "                                                                 \n",
            " global_average_pooling1d_ma  (None, 100)              0         \n",
            " sked_7 (GlobalAveragePoolin                                     \n",
            " g1DMasked)                                                      \n",
            "                                                                 \n",
            " dense_17 (Dense)            (None, 1)                 101       \n",
            "                                                                 \n",
            "=================================================================\n",
            "Total params: 3,240,301\n",
            "Trainable params: 3,240,301\n",
            "Non-trainable params: 0\n",
            "_________________________________________________________________\n"
          ]
        }
      ]
    },
    {
      "cell_type": "code",
      "execution_count": null,
      "metadata": {
        "id": "hx8JLl4xPlua",
        "colab": {
          "base_uri": "https://localhost:8080/"
        },
        "outputId": "f949d6c9-6073-4e76-e908-e678278c46a3"
      },
      "outputs": [
        {
          "output_type": "stream",
          "name": "stdout",
          "text": [
            "Epoch 1/40\n",
            "30/30 [==============================] - 3s 58ms/step - loss: 0.1757 - accuracy: 0.9702 - val_loss: 0.9150 - val_accuracy: 0.8612\n",
            "Epoch 2/40\n",
            "30/30 [==============================] - 2s 51ms/step - loss: 0.0046 - accuracy: 0.9989 - val_loss: 1.2882 - val_accuracy: 0.8546\n",
            "Epoch 3/40\n",
            "30/30 [==============================] - 2s 52ms/step - loss: 0.0022 - accuracy: 0.9998 - val_loss: 1.3929 - val_accuracy: 0.8540\n",
            "Epoch 4/40\n",
            "30/30 [==============================] - 2s 52ms/step - loss: 5.2449e-04 - accuracy: 1.0000 - val_loss: 1.4663 - val_accuracy: 0.8546\n",
            "Epoch 5/40\n",
            "30/30 [==============================] - 2s 51ms/step - loss: 2.6333e-04 - accuracy: 1.0000 - val_loss: 1.5114 - val_accuracy: 0.8544\n",
            "Epoch 6/40\n",
            "30/30 [==============================] - 2s 51ms/step - loss: 2.2116e-04 - accuracy: 1.0000 - val_loss: 1.5492 - val_accuracy: 0.8530\n",
            "Epoch 7/40\n",
            "30/30 [==============================] - 2s 52ms/step - loss: 2.2202e-04 - accuracy: 1.0000 - val_loss: 1.5871 - val_accuracy: 0.8531\n",
            "Epoch 8/40\n",
            "30/30 [==============================] - 2s 51ms/step - loss: 1.5535e-04 - accuracy: 1.0000 - val_loss: 1.6264 - val_accuracy: 0.8547\n",
            "Epoch 9/40\n",
            "30/30 [==============================] - 2s 52ms/step - loss: 1.0742e-04 - accuracy: 1.0000 - val_loss: 1.6496 - val_accuracy: 0.8533\n",
            "Epoch 10/40\n",
            "30/30 [==============================] - 2s 51ms/step - loss: 1.0257e-04 - accuracy: 1.0000 - val_loss: 1.6837 - val_accuracy: 0.8543\n",
            "Epoch 11/40\n",
            "30/30 [==============================] - 2s 51ms/step - loss: 8.0103e-05 - accuracy: 1.0000 - val_loss: 1.7056 - val_accuracy: 0.8536\n",
            "Epoch 12/40\n",
            "30/30 [==============================] - 2s 51ms/step - loss: 6.3149e-05 - accuracy: 1.0000 - val_loss: 1.7258 - val_accuracy: 0.8539\n",
            "Epoch 13/40\n",
            "30/30 [==============================] - 2s 52ms/step - loss: 5.6227e-05 - accuracy: 1.0000 - val_loss: 1.7510 - val_accuracy: 0.8540\n",
            "Epoch 14/40\n",
            "30/30 [==============================] - 2s 52ms/step - loss: 7.8987e-05 - accuracy: 1.0000 - val_loss: 1.7721 - val_accuracy: 0.8538\n",
            "Epoch 15/40\n",
            "30/30 [==============================] - 2s 52ms/step - loss: 4.3553e-05 - accuracy: 1.0000 - val_loss: 1.7911 - val_accuracy: 0.8533\n",
            "Epoch 16/40\n",
            "30/30 [==============================] - 2s 52ms/step - loss: 4.1066e-05 - accuracy: 1.0000 - val_loss: 1.8101 - val_accuracy: 0.8534\n",
            "Epoch 17/40\n",
            "30/30 [==============================] - 2s 52ms/step - loss: 3.6456e-05 - accuracy: 1.0000 - val_loss: 1.8284 - val_accuracy: 0.8535\n",
            "Epoch 18/40\n",
            "30/30 [==============================] - 2s 51ms/step - loss: 3.4494e-05 - accuracy: 1.0000 - val_loss: 1.8458 - val_accuracy: 0.8536\n",
            "Epoch 19/40\n",
            "30/30 [==============================] - 2s 52ms/step - loss: 3.3567e-05 - accuracy: 1.0000 - val_loss: 1.8614 - val_accuracy: 0.8535\n",
            "Epoch 20/40\n",
            "30/30 [==============================] - 2s 52ms/step - loss: 2.7474e-05 - accuracy: 1.0000 - val_loss: 1.8768 - val_accuracy: 0.8536\n",
            "Epoch 21/40\n",
            "30/30 [==============================] - 2s 52ms/step - loss: 2.6364e-05 - accuracy: 1.0000 - val_loss: 1.8943 - val_accuracy: 0.8539\n",
            "Epoch 22/40\n",
            "30/30 [==============================] - 2s 51ms/step - loss: 2.3477e-05 - accuracy: 1.0000 - val_loss: 1.9074 - val_accuracy: 0.8534\n",
            "Epoch 23/40\n",
            "30/30 [==============================] - 2s 52ms/step - loss: 2.1241e-05 - accuracy: 1.0000 - val_loss: 1.9235 - val_accuracy: 0.8537\n",
            "Epoch 24/40\n",
            "30/30 [==============================] - 2s 51ms/step - loss: 1.9972e-05 - accuracy: 1.0000 - val_loss: 1.9349 - val_accuracy: 0.8534\n",
            "Epoch 25/40\n",
            "30/30 [==============================] - 2s 52ms/step - loss: 1.9586e-05 - accuracy: 1.0000 - val_loss: 1.9490 - val_accuracy: 0.8531\n",
            "Epoch 26/40\n",
            "30/30 [==============================] - 2s 52ms/step - loss: 2.1722e-05 - accuracy: 1.0000 - val_loss: 1.9700 - val_accuracy: 0.8532\n",
            "Epoch 27/40\n",
            "30/30 [==============================] - 2s 52ms/step - loss: 1.7489e-05 - accuracy: 1.0000 - val_loss: 1.9772 - val_accuracy: 0.8530\n",
            "Epoch 28/40\n",
            "30/30 [==============================] - 2s 51ms/step - loss: 1.5162e-05 - accuracy: 1.0000 - val_loss: 1.9906 - val_accuracy: 0.8532\n",
            "Epoch 29/40\n",
            "30/30 [==============================] - 2s 52ms/step - loss: 1.4230e-05 - accuracy: 1.0000 - val_loss: 2.0010 - val_accuracy: 0.8533\n",
            "Epoch 30/40\n",
            "30/30 [==============================] - 2s 52ms/step - loss: 1.3250e-05 - accuracy: 1.0000 - val_loss: 2.0144 - val_accuracy: 0.8536\n",
            "Epoch 31/40\n",
            "30/30 [==============================] - 2s 52ms/step - loss: 1.2784e-05 - accuracy: 1.0000 - val_loss: 2.0265 - val_accuracy: 0.8535\n",
            "Epoch 32/40\n",
            "30/30 [==============================] - 2s 52ms/step - loss: 1.1618e-05 - accuracy: 1.0000 - val_loss: 2.0351 - val_accuracy: 0.8533\n",
            "Epoch 33/40\n",
            "30/30 [==============================] - 2s 52ms/step - loss: 1.0976e-05 - accuracy: 1.0000 - val_loss: 2.0459 - val_accuracy: 0.8529\n",
            "Epoch 34/40\n",
            "30/30 [==============================] - 2s 52ms/step - loss: 1.0350e-05 - accuracy: 1.0000 - val_loss: 2.0573 - val_accuracy: 0.8529\n",
            "Epoch 35/40\n",
            "30/30 [==============================] - 2s 52ms/step - loss: 1.0210e-05 - accuracy: 1.0000 - val_loss: 2.0712 - val_accuracy: 0.8535\n",
            "Epoch 36/40\n",
            "30/30 [==============================] - 2s 52ms/step - loss: 9.5272e-06 - accuracy: 1.0000 - val_loss: 2.0794 - val_accuracy: 0.8532\n",
            "Epoch 37/40\n",
            "30/30 [==============================] - 2s 52ms/step - loss: 9.0488e-06 - accuracy: 1.0000 - val_loss: 2.0895 - val_accuracy: 0.8530\n",
            "Epoch 38/40\n",
            "30/30 [==============================] - 2s 52ms/step - loss: 8.4801e-06 - accuracy: 1.0000 - val_loss: 2.0986 - val_accuracy: 0.8529\n",
            "Epoch 39/40\n",
            "30/30 [==============================] - 2s 51ms/step - loss: 7.8875e-06 - accuracy: 1.0000 - val_loss: 2.1086 - val_accuracy: 0.8531\n",
            "Epoch 40/40\n",
            "30/30 [==============================] - 2s 51ms/step - loss: 7.6626e-06 - accuracy: 1.0000 - val_loss: 2.1165 - val_accuracy: 0.8529\n"
          ]
        }
      ],
      "source": [
        "# Train and test the model\n",
        "\n",
        "history = model6.fit(partial_X_train,\n",
        "                    partial_y_train,\n",
        "                    epochs=40,\n",
        "                    batch_size=512,\n",
        "                    validation_data=(X_val, y_val),\n",
        "                    verbose=1)"
      ]
    },
    {
      "cell_type": "code",
      "source": [
        "results = model6.evaluate(X_test_enc, y_test)"
      ],
      "metadata": {
        "colab": {
          "base_uri": "https://localhost:8080/"
        },
        "id": "NEeziLJLbhAd",
        "outputId": "deb543e4-5ab1-4d3d-bf2b-7c81a5a04bd8"
      },
      "execution_count": null,
      "outputs": [
        {
          "output_type": "stream",
          "name": "stdout",
          "text": [
            "782/782 [==============================] - 3s 3ms/step - loss: 2.2815 - accuracy: 0.8379\n"
          ]
        }
      ]
    },
    {
      "cell_type": "code",
      "source": [
        "plot_history(history.history, path=\"standard.png\")\n",
        "plt.show()"
      ],
      "metadata": {
        "colab": {
          "base_uri": "https://localhost:8080/",
          "height": 385
        },
        "id": "FLTBmxqXb1yM",
        "outputId": "78c2365e-b8b1-48b1-dc30-e9e46e206088"
      },
      "execution_count": null,
      "outputs": [
        {
          "output_type": "display_data",
          "data": {
            "text/plain": [
              "<Figure size 720x360 with 2 Axes>"
            ],
            "image/png": "[encoded data removed]"
          },
          "metadata": {
            "needs_background": "light"
          }
        }
      ]
    },
    {
      "cell_type": "markdown",
      "metadata": {
        "id": "Kx--Ytk3ZbLo"
      },
      "source": [
        "Although adding layer here reduces the training loss, the evaluation accuracy is worse than the model without the extra convolutional layer.\n",
        "\n",
        "Adding more layers can help you to extract more features. But we can do that up to a certain extent. After some point, instead of extracting features, we tend to overfit the data. Overfitting can lead to errors in on form or another, such as false positives. It is not easy to choose the number of units in a hidden layer or the number of hidden layers in a neural network. For many applications, one hidden layer is enough. As a general rule, the number of units in that hidden layer is between the number of inputs and the number of outputs.\n",
        " The best way to decide on the number of units and hidden layers is to try various parameters. Train several neural networks with different numbers of hidden layers and neurons, and monitor the performance of them. You will have to experiment using a series of different architectures. \n",
        "\n",
        "\n",
        "\n"
      ]
    },
    {
      "cell_type": "markdown",
      "metadata": {
        "id": "gn2GSV4ioyO2"
      },
      "source": [
        "\n",
        "\n",
        "---\n",
        "\n"
      ]
    }
  ],
  "metadata": {
    "accelerator": "GPU",
    "colab": {
      "collapsed_sections": [],
      "machine_shape": "hm",
      "name": "7001_2021_22_lab3_Text_Classification_FFNNCNNLSTM_without_answers.ipynb",
      "provenance": []
    },
    "kernelspec": {
      "display_name": "Python 3",
      "language": "python",
      "name": "python3"
    },
    "language_info": {
      "codemirror_mode": {
        "name": "ipython",
        "version": 3
      },
      "file_extension": ".py",
      "mimetype": "text/x-python",
      "name": "python",
      "nbconvert_exporter": "python",
      "pygments_lexer": "ipython3",
      "version": "3.7.1"
    }
  },
  "nbformat": 4,
  "nbformat_minor": 0
}